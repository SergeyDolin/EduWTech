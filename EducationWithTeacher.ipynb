{
 "cells": [
  {
   "cell_type": "markdown",
   "metadata": {
    "toc": true
   },
   "source": [
    "<h1>Содержание<span class=\"tocSkip\"></span></h1>\n",
    "<div class=\"toc\"><ul class=\"toc-item\"><li><span><a href=\"#Подготовка-данных\" data-toc-modified-id=\"Подготовка-данных-1\"><span class=\"toc-item-num\">1&nbsp;&nbsp;</span>Подготовка данных</a></span><ul class=\"toc-item\"><li><span><a href=\"#Импорты\" data-toc-modified-id=\"Импорты-1.1\"><span class=\"toc-item-num\">1.1&nbsp;&nbsp;</span>Импорты</a></span></li><li><span><a href=\"#Обзор-данных\" data-toc-modified-id=\"Обзор-данных-1.2\"><span class=\"toc-item-num\">1.2&nbsp;&nbsp;</span>Обзор данных</a></span></li><li><span><a href=\"#Подготовка-признаков-и-выборок\" data-toc-modified-id=\"Подготовка-признаков-и-выборок-1.3\"><span class=\"toc-item-num\">1.3&nbsp;&nbsp;</span>Подготовка признаков и выборок</a></span></li></ul></li><li><span><a href=\"#Исследование-задачи\" data-toc-modified-id=\"Исследование-задачи-2\"><span class=\"toc-item-num\">2&nbsp;&nbsp;</span>Исследование задачи</a></span><ul class=\"toc-item\"><li><span><a href=\"#Обучение-моделей-на-несбалансированных-данных\" data-toc-modified-id=\"Обучение-моделей-на-несбалансированных-данных-2.1\"><span class=\"toc-item-num\">2.1&nbsp;&nbsp;</span>Обучение моделей на несбалансированных данных</a></span></li><li><span><a href=\"#Анализ-метрик\" data-toc-modified-id=\"Анализ-метрик-2.2\"><span class=\"toc-item-num\">2.2&nbsp;&nbsp;</span>Анализ метрик</a></span><ul class=\"toc-item\"><li><span><a href=\"#Подготовка-функции-для-метрик\" data-toc-modified-id=\"Подготовка-функции-для-метрик-2.2.1\"><span class=\"toc-item-num\">2.2.1&nbsp;&nbsp;</span>Подготовка функции для метрик</a></span></li><li><span><a href=\"#LogisticRegression\" data-toc-modified-id=\"LogisticRegression-2.2.2\"><span class=\"toc-item-num\">2.2.2&nbsp;&nbsp;</span>LogisticRegression</a></span></li><li><span><a href=\"#DecisionTreeClassifier\" data-toc-modified-id=\"DecisionTreeClassifier-2.2.3\"><span class=\"toc-item-num\">2.2.3&nbsp;&nbsp;</span>DecisionTreeClassifier</a></span></li><li><span><a href=\"#RandomForestClassifier\" data-toc-modified-id=\"RandomForestClassifier-2.2.4\"><span class=\"toc-item-num\">2.2.4&nbsp;&nbsp;</span>RandomForestClassifier</a></span></li></ul></li></ul></li><li><span><a href=\"#Борьба-с-дисбалансом\" data-toc-modified-id=\"Борьба-с-дисбалансом-3\"><span class=\"toc-item-num\">3&nbsp;&nbsp;</span>Борьба с дисбалансом</a></span><ul class=\"toc-item\"><li><span><a href=\"#Балансировка\" data-toc-modified-id=\"Балансировка-3.1\"><span class=\"toc-item-num\">3.1&nbsp;&nbsp;</span>Балансировка</a></span><ul class=\"toc-item\"><li><span><a href=\"#Анализ-метрик\" data-toc-modified-id=\"Анализ-метрик-3.1.1\"><span class=\"toc-item-num\">3.1.1&nbsp;&nbsp;</span>Анализ метрик</a></span><ul class=\"toc-item\"><li><span><a href=\"#LogisticRegression\" data-toc-modified-id=\"LogisticRegression-3.1.1.1\"><span class=\"toc-item-num\">3.1.1.1&nbsp;&nbsp;</span>LogisticRegression</a></span></li><li><span><a href=\"#DecisionTreeClassifier\" data-toc-modified-id=\"DecisionTreeClassifier-3.1.1.2\"><span class=\"toc-item-num\">3.1.1.2&nbsp;&nbsp;</span>DecisionTreeClassifier</a></span></li><li><span><a href=\"#RandomForestClassifier\" data-toc-modified-id=\"RandomForestClassifier-3.1.1.3\"><span class=\"toc-item-num\">3.1.1.3&nbsp;&nbsp;</span>RandomForestClassifier</a></span></li></ul></li></ul></li><li><span><a href=\"#Вариации-выборки\" data-toc-modified-id=\"Вариации-выборки-3.2\"><span class=\"toc-item-num\">3.2&nbsp;&nbsp;</span>Вариации выборки</a></span><ul class=\"toc-item\"><li><span><a href=\"#Анализ-метрик\" data-toc-modified-id=\"Анализ-метрик-3.2.1\"><span class=\"toc-item-num\">3.2.1&nbsp;&nbsp;</span>Анализ метрик</a></span><ul class=\"toc-item\"><li><span><a href=\"#LogisticRegression\" data-toc-modified-id=\"LogisticRegression-3.2.1.1\"><span class=\"toc-item-num\">3.2.1.1&nbsp;&nbsp;</span>LogisticRegression</a></span></li><li><span><a href=\"#DecisionTreeClassifier\" data-toc-modified-id=\"DecisionTreeClassifier-3.2.1.2\"><span class=\"toc-item-num\">3.2.1.2&nbsp;&nbsp;</span>DecisionTreeClassifier</a></span></li><li><span><a href=\"#RandomForestClassifier\" data-toc-modified-id=\"RandomForestClassifier-3.2.1.3\"><span class=\"toc-item-num\">3.2.1.3&nbsp;&nbsp;</span>RandomForestClassifier</a></span></li></ul></li></ul></li></ul></li><li><span><a href=\"#Тестирование-модели\" data-toc-modified-id=\"Тестирование-модели-4\"><span class=\"toc-item-num\">4&nbsp;&nbsp;</span>Тестирование модели</a></span></li><li><span><a href=\"#Заключение\" data-toc-modified-id=\"Заключение-5\"><span class=\"toc-item-num\">5&nbsp;&nbsp;</span>Заключение</a></span></li><li><span><a href=\"#Чек-лист-готовности-проекта\" data-toc-modified-id=\"Чек-лист-готовности-проекта-6\"><span class=\"toc-item-num\">6&nbsp;&nbsp;</span>Чек-лист готовности проекта</a></span></li></ul></div>"
   ]
  },
  {
   "cell_type": "markdown",
   "metadata": {},
   "source": [
    "# Отток клиентов"
   ]
  },
  {
   "cell_type": "markdown",
   "metadata": {},
   "source": [
    "**Цель:** обучить модель для прогнозирования, уйдёт клиент из банка в ближайшее время или нет.\n",
    "\n",
    "**Задачи:**\n",
    "\n",
    "- предобработка данных\n",
    "- исследовать баланс классов\n",
    "- изучить модели без учета дисбаланса\n",
    "- применить методы балансировки данных\n",
    "- достичь значения F1-меры 0.59"
   ]
  },
  {
   "cell_type": "markdown",
   "metadata": {},
   "source": [
    "## Подготовка данных"
   ]
  },
  {
   "cell_type": "markdown",
   "metadata": {},
   "source": [
    "### Импорты"
   ]
  },
  {
   "cell_type": "code",
   "execution_count": 245,
   "metadata": {},
   "outputs": [
    {
     "name": "stdout",
     "output_type": "stream",
     "text": [
      "Requirement already satisfied: scikit-learn==1.1.3 in /opt/conda/lib/python3.9/site-packages (1.1.3)\n",
      "Requirement already satisfied: threadpoolctl>=2.0.0 in /opt/conda/lib/python3.9/site-packages (from scikit-learn==1.1.3) (3.1.0)\n",
      "Requirement already satisfied: joblib>=1.0.0 in /opt/conda/lib/python3.9/site-packages (from scikit-learn==1.1.3) (1.3.1)\n",
      "Requirement already satisfied: scipy>=1.3.2 in /opt/conda/lib/python3.9/site-packages (from scikit-learn==1.1.3) (1.9.1)\n",
      "Requirement already satisfied: numpy>=1.17.3 in /opt/conda/lib/python3.9/site-packages (from scikit-learn==1.1.3) (1.21.1)\n",
      "Requirement already satisfied: imblearn in /opt/conda/lib/python3.9/site-packages (0.0)\n",
      "Requirement already satisfied: imbalanced-learn in /opt/conda/lib/python3.9/site-packages (from imblearn) (0.11.0)\n",
      "Requirement already satisfied: scipy>=1.5.0 in /opt/conda/lib/python3.9/site-packages (from imbalanced-learn->imblearn) (1.9.1)\n",
      "Requirement already satisfied: scikit-learn>=1.0.2 in /opt/conda/lib/python3.9/site-packages (from imbalanced-learn->imblearn) (1.1.3)\n",
      "Requirement already satisfied: threadpoolctl>=2.0.0 in /opt/conda/lib/python3.9/site-packages (from imbalanced-learn->imblearn) (3.1.0)\n",
      "Requirement already satisfied: joblib>=1.1.1 in /opt/conda/lib/python3.9/site-packages (from imbalanced-learn->imblearn) (1.3.1)\n",
      "Requirement already satisfied: numpy>=1.17.3 in /opt/conda/lib/python3.9/site-packages (from imbalanced-learn->imblearn) (1.21.1)\n"
     ]
    }
   ],
   "source": [
    "!pip install scikit-learn==1.1.3\n",
    "!pip install imblearn"
   ]
  },
  {
   "cell_type": "code",
   "execution_count": 275,
   "metadata": {},
   "outputs": [],
   "source": [
    "import pandas as pd\n",
    "import matplotlib.pyplot as plt\n",
    "import string\n",
    "\n",
    "from imblearn.over_sampling import SMOTE\n",
    "from imblearn.under_sampling import RandomUnderSampler\n",
    "\n",
    "from sklearn.model_selection import train_test_split\n",
    "from sklearn.preprocessing import (\n",
    "    OneHotEncoder,\n",
    "    StandardScaler\n",
    ")\n",
    "from sklearn.metrics import (\n",
    "    confusion_matrix,\n",
    "    f1_score,\n",
    "    roc_auc_score,\n",
    "    roc_curve\n",
    ")\n",
    "from sklearn.utils import shuffle\n",
    "\n",
    "from tqdm import tqdm\n",
    "\n",
    "from sklearn.linear_model import LogisticRegression\n",
    "from sklearn.tree import DecisionTreeClassifier\n",
    "from sklearn.ensemble import RandomForestClassifier\n",
    "\n",
    "RANDOM_STATE = 7010\n",
    "pd.options.mode.chained_assignment = None"
   ]
  },
  {
   "cell_type": "markdown",
   "metadata": {},
   "source": [
    "### Обзор данных"
   ]
  },
  {
   "cell_type": "code",
   "execution_count": 247,
   "metadata": {},
   "outputs": [],
   "source": [
    "\n",
    "\n",
    "try:\n",
    "    df = pd.read_csv('/datasets/Churn.csv')\n",
    "except:\n",
    "    df = pd.read_csv('https://code.s3.yandex.net/datasets/Churn.csv')"
   ]
  },
  {
   "cell_type": "markdown",
   "metadata": {},
   "source": [
    "**Общая информация о датасете**"
   ]
  },
  {
   "cell_type": "code",
   "execution_count": 248,
   "metadata": {},
   "outputs": [
    {
     "name": "stdout",
     "output_type": "stream",
     "text": [
      "<class 'pandas.core.frame.DataFrame'>\n",
      "RangeIndex: 10000 entries, 0 to 9999\n",
      "Data columns (total 14 columns):\n",
      " #   Column           Non-Null Count  Dtype  \n",
      "---  ------           --------------  -----  \n",
      " 0   RowNumber        10000 non-null  int64  \n",
      " 1   CustomerId       10000 non-null  int64  \n",
      " 2   Surname          10000 non-null  object \n",
      " 3   CreditScore      10000 non-null  int64  \n",
      " 4   Geography        10000 non-null  object \n",
      " 5   Gender           10000 non-null  object \n",
      " 6   Age              10000 non-null  int64  \n",
      " 7   Tenure           9091 non-null   float64\n",
      " 8   Balance          10000 non-null  float64\n",
      " 9   NumOfProducts    10000 non-null  int64  \n",
      " 10  HasCrCard        10000 non-null  int64  \n",
      " 11  IsActiveMember   10000 non-null  int64  \n",
      " 12  EstimatedSalary  10000 non-null  float64\n",
      " 13  Exited           10000 non-null  int64  \n",
      "dtypes: float64(3), int64(8), object(3)\n",
      "memory usage: 1.1+ MB\n"
     ]
    }
   ],
   "source": [
    "df.info()"
   ]
  },
  {
   "cell_type": "markdown",
   "metadata": {},
   "source": [
    "**Наличие явных дубликатов**"
   ]
  },
  {
   "cell_type": "code",
   "execution_count": 249,
   "metadata": {
    "scrolled": true
   },
   "outputs": [
    {
     "data": {
      "text/plain": [
       "0"
      ]
     },
     "execution_count": 249,
     "metadata": {},
     "output_type": "execute_result"
    }
   ],
   "source": [
    "df.duplicated().sum()"
   ]
  },
  {
   "cell_type": "markdown",
   "metadata": {},
   "source": [
    "**Поиск неявных дубликатов**"
   ]
  },
  {
   "cell_type": "code",
   "execution_count": 250,
   "metadata": {},
   "outputs": [
    {
     "data": {
      "text/plain": [
       "0"
      ]
     },
     "execution_count": 250,
     "metadata": {},
     "output_type": "execute_result"
    }
   ],
   "source": [
    "df['Surname'] = df['Surname'].str.lower()\n",
    "df.duplicated().sum()"
   ]
  },
  {
   "cell_type": "markdown",
   "metadata": {},
   "source": [
    "**Пропуски данных**"
   ]
  },
  {
   "cell_type": "code",
   "execution_count": 251,
   "metadata": {},
   "outputs": [
    {
     "data": {
      "text/plain": [
       "RowNumber            0\n",
       "CustomerId           0\n",
       "Surname              0\n",
       "CreditScore          0\n",
       "Geography            0\n",
       "Gender               0\n",
       "Age                  0\n",
       "Tenure             909\n",
       "Balance              0\n",
       "NumOfProducts        0\n",
       "HasCrCard            0\n",
       "IsActiveMember       0\n",
       "EstimatedSalary      0\n",
       "Exited               0\n",
       "dtype: int64"
      ]
     },
     "execution_count": 251,
     "metadata": {},
     "output_type": "execute_result"
    }
   ],
   "source": [
    "df.isna().sum()"
   ]
  },
  {
   "cell_type": "markdown",
   "metadata": {},
   "source": [
    "Найдёсм сренднее и медианное значение из столбца `Tenure`, чтобы заполнить пропуски данных"
   ]
  },
  {
   "cell_type": "code",
   "execution_count": 252,
   "metadata": {},
   "outputs": [
    {
     "name": "stdout",
     "output_type": "stream",
     "text": [
      "count    9091.000000\n",
      "mean        4.997690\n",
      "std         2.894723\n",
      "min         0.000000\n",
      "25%         2.000000\n",
      "50%         5.000000\n",
      "75%         7.000000\n",
      "max        10.000000\n",
      "Name: Tenure, dtype: float64\n"
     ]
    },
    {
     "data": {
      "image/png": "[encoded data removed]",
      "text/plain": [
       "<Figure size 432x288 with 1 Axes>"
      ]
     },
     "metadata": {
      "needs_background": "light"
     },
     "output_type": "display_data"
    }
   ],
   "source": [
    "print(df['Tenure'].describe())\n",
    "df['Tenure'].hist();"
   ]
  },
  {
   "cell_type": "markdown",
   "metadata": {},
   "source": [
    "Среднее и медианное значение практически равнозначны. Видно как выделяются два экстремума. Рассмотрим корреляцию срока пользования банком с другими параметрами."
   ]
  },
  {
   "cell_type": "code",
   "execution_count": 253,
   "metadata": {},
   "outputs": [
    {
     "data": {
      "text/html": [
       "<div>\n",
       "<style scoped>\n",
       "    .dataframe tbody tr th:only-of-type {\n",
       "        vertical-align: middle;\n",
       "    }\n",
       "\n",
       "    .dataframe tbody tr th {\n",
       "        vertical-align: top;\n",
       "    }\n",
       "\n",
       "    .dataframe thead th {\n",
       "        text-align: right;\n",
       "    }\n",
       "</style>\n",
       "<table border=\"1\" class=\"dataframe\">\n",
       "  <thead>\n",
       "    <tr style=\"text-align: right;\">\n",
       "      <th></th>\n",
       "      <th>RowNumber</th>\n",
       "      <th>CustomerId</th>\n",
       "      <th>CreditScore</th>\n",
       "      <th>Age</th>\n",
       "      <th>Tenure</th>\n",
       "      <th>Balance</th>\n",
       "      <th>NumOfProducts</th>\n",
       "      <th>HasCrCard</th>\n",
       "      <th>IsActiveMember</th>\n",
       "      <th>EstimatedSalary</th>\n",
       "      <th>Exited</th>\n",
       "    </tr>\n",
       "  </thead>\n",
       "  <tbody>\n",
       "    <tr>\n",
       "      <th>RowNumber</th>\n",
       "      <td>1.000000</td>\n",
       "      <td>0.004202</td>\n",
       "      <td>0.005840</td>\n",
       "      <td>0.000783</td>\n",
       "      <td>-0.007322</td>\n",
       "      <td>-0.009067</td>\n",
       "      <td>0.007246</td>\n",
       "      <td>0.000599</td>\n",
       "      <td>0.012044</td>\n",
       "      <td>-0.005988</td>\n",
       "      <td>-0.016571</td>\n",
       "    </tr>\n",
       "    <tr>\n",
       "      <th>CustomerId</th>\n",
       "      <td>0.004202</td>\n",
       "      <td>1.000000</td>\n",
       "      <td>0.005308</td>\n",
       "      <td>0.009497</td>\n",
       "      <td>-0.021418</td>\n",
       "      <td>-0.012419</td>\n",
       "      <td>0.016972</td>\n",
       "      <td>-0.014025</td>\n",
       "      <td>0.001665</td>\n",
       "      <td>0.015271</td>\n",
       "      <td>-0.006248</td>\n",
       "    </tr>\n",
       "    <tr>\n",
       "      <th>CreditScore</th>\n",
       "      <td>0.005840</td>\n",
       "      <td>0.005308</td>\n",
       "      <td>1.000000</td>\n",
       "      <td>-0.003965</td>\n",
       "      <td>-0.000062</td>\n",
       "      <td>0.006268</td>\n",
       "      <td>0.012238</td>\n",
       "      <td>-0.005458</td>\n",
       "      <td>0.025651</td>\n",
       "      <td>-0.001384</td>\n",
       "      <td>-0.027094</td>\n",
       "    </tr>\n",
       "    <tr>\n",
       "      <th>Age</th>\n",
       "      <td>0.000783</td>\n",
       "      <td>0.009497</td>\n",
       "      <td>-0.003965</td>\n",
       "      <td>1.000000</td>\n",
       "      <td>-0.013134</td>\n",
       "      <td>0.028308</td>\n",
       "      <td>-0.030680</td>\n",
       "      <td>-0.011721</td>\n",
       "      <td>0.085472</td>\n",
       "      <td>-0.007201</td>\n",
       "      <td>0.285323</td>\n",
       "    </tr>\n",
       "    <tr>\n",
       "      <th>Tenure</th>\n",
       "      <td>-0.007322</td>\n",
       "      <td>-0.021418</td>\n",
       "      <td>-0.000062</td>\n",
       "      <td>-0.013134</td>\n",
       "      <td>1.000000</td>\n",
       "      <td>-0.007911</td>\n",
       "      <td>0.011979</td>\n",
       "      <td>0.027232</td>\n",
       "      <td>-0.032178</td>\n",
       "      <td>0.010520</td>\n",
       "      <td>-0.016761</td>\n",
       "    </tr>\n",
       "    <tr>\n",
       "      <th>Balance</th>\n",
       "      <td>-0.009067</td>\n",
       "      <td>-0.012419</td>\n",
       "      <td>0.006268</td>\n",
       "      <td>0.028308</td>\n",
       "      <td>-0.007911</td>\n",
       "      <td>1.000000</td>\n",
       "      <td>-0.304180</td>\n",
       "      <td>-0.014858</td>\n",
       "      <td>-0.010084</td>\n",
       "      <td>0.012797</td>\n",
       "      <td>0.118533</td>\n",
       "    </tr>\n",
       "    <tr>\n",
       "      <th>NumOfProducts</th>\n",
       "      <td>0.007246</td>\n",
       "      <td>0.016972</td>\n",
       "      <td>0.012238</td>\n",
       "      <td>-0.030680</td>\n",
       "      <td>0.011979</td>\n",
       "      <td>-0.304180</td>\n",
       "      <td>1.000000</td>\n",
       "      <td>0.003183</td>\n",
       "      <td>0.009612</td>\n",
       "      <td>0.014204</td>\n",
       "      <td>-0.047820</td>\n",
       "    </tr>\n",
       "    <tr>\n",
       "      <th>HasCrCard</th>\n",
       "      <td>0.000599</td>\n",
       "      <td>-0.014025</td>\n",
       "      <td>-0.005458</td>\n",
       "      <td>-0.011721</td>\n",
       "      <td>0.027232</td>\n",
       "      <td>-0.014858</td>\n",
       "      <td>0.003183</td>\n",
       "      <td>1.000000</td>\n",
       "      <td>-0.011866</td>\n",
       "      <td>-0.009933</td>\n",
       "      <td>-0.007138</td>\n",
       "    </tr>\n",
       "    <tr>\n",
       "      <th>IsActiveMember</th>\n",
       "      <td>0.012044</td>\n",
       "      <td>0.001665</td>\n",
       "      <td>0.025651</td>\n",
       "      <td>0.085472</td>\n",
       "      <td>-0.032178</td>\n",
       "      <td>-0.010084</td>\n",
       "      <td>0.009612</td>\n",
       "      <td>-0.011866</td>\n",
       "      <td>1.000000</td>\n",
       "      <td>-0.011421</td>\n",
       "      <td>-0.156128</td>\n",
       "    </tr>\n",
       "    <tr>\n",
       "      <th>EstimatedSalary</th>\n",
       "      <td>-0.005988</td>\n",
       "      <td>0.015271</td>\n",
       "      <td>-0.001384</td>\n",
       "      <td>-0.007201</td>\n",
       "      <td>0.010520</td>\n",
       "      <td>0.012797</td>\n",
       "      <td>0.014204</td>\n",
       "      <td>-0.009933</td>\n",
       "      <td>-0.011421</td>\n",
       "      <td>1.000000</td>\n",
       "      <td>0.012097</td>\n",
       "    </tr>\n",
       "    <tr>\n",
       "      <th>Exited</th>\n",
       "      <td>-0.016571</td>\n",
       "      <td>-0.006248</td>\n",
       "      <td>-0.027094</td>\n",
       "      <td>0.285323</td>\n",
       "      <td>-0.016761</td>\n",
       "      <td>0.118533</td>\n",
       "      <td>-0.047820</td>\n",
       "      <td>-0.007138</td>\n",
       "      <td>-0.156128</td>\n",
       "      <td>0.012097</td>\n",
       "      <td>1.000000</td>\n",
       "    </tr>\n",
       "  </tbody>\n",
       "</table>\n",
       "</div>"
      ],
      "text/plain": [
       "                 RowNumber  CustomerId  CreditScore       Age    Tenure  \\\n",
       "RowNumber         1.000000    0.004202     0.005840  0.000783 -0.007322   \n",
       "CustomerId        0.004202    1.000000     0.005308  0.009497 -0.021418   \n",
       "CreditScore       0.005840    0.005308     1.000000 -0.003965 -0.000062   \n",
       "Age               0.000783    0.009497    -0.003965  1.000000 -0.013134   \n",
       "Tenure           -0.007322   -0.021418    -0.000062 -0.013134  1.000000   \n",
       "Balance          -0.009067   -0.012419     0.006268  0.028308 -0.007911   \n",
       "NumOfProducts     0.007246    0.016972     0.012238 -0.030680  0.011979   \n",
       "HasCrCard         0.000599   -0.014025    -0.005458 -0.011721  0.027232   \n",
       "IsActiveMember    0.012044    0.001665     0.025651  0.085472 -0.032178   \n",
       "EstimatedSalary  -0.005988    0.015271    -0.001384 -0.007201  0.010520   \n",
       "Exited           -0.016571   -0.006248    -0.027094  0.285323 -0.016761   \n",
       "\n",
       "                  Balance  NumOfProducts  HasCrCard  IsActiveMember  \\\n",
       "RowNumber       -0.009067       0.007246   0.000599        0.012044   \n",
       "CustomerId      -0.012419       0.016972  -0.014025        0.001665   \n",
       "CreditScore      0.006268       0.012238  -0.005458        0.025651   \n",
       "Age              0.028308      -0.030680  -0.011721        0.085472   \n",
       "Tenure          -0.007911       0.011979   0.027232       -0.032178   \n",
       "Balance          1.000000      -0.304180  -0.014858       -0.010084   \n",
       "NumOfProducts   -0.304180       1.000000   0.003183        0.009612   \n",
       "HasCrCard       -0.014858       0.003183   1.000000       -0.011866   \n",
       "IsActiveMember  -0.010084       0.009612  -0.011866        1.000000   \n",
       "EstimatedSalary  0.012797       0.014204  -0.009933       -0.011421   \n",
       "Exited           0.118533      -0.047820  -0.007138       -0.156128   \n",
       "\n",
       "                 EstimatedSalary    Exited  \n",
       "RowNumber              -0.005988 -0.016571  \n",
       "CustomerId              0.015271 -0.006248  \n",
       "CreditScore            -0.001384 -0.027094  \n",
       "Age                    -0.007201  0.285323  \n",
       "Tenure                  0.010520 -0.016761  \n",
       "Balance                 0.012797  0.118533  \n",
       "NumOfProducts           0.014204 -0.047820  \n",
       "HasCrCard              -0.009933 -0.007138  \n",
       "IsActiveMember         -0.011421 -0.156128  \n",
       "EstimatedSalary         1.000000  0.012097  \n",
       "Exited                  0.012097  1.000000  "
      ]
     },
     "execution_count": 253,
     "metadata": {},
     "output_type": "execute_result"
    }
   ],
   "source": [
    "df.corr()"
   ]
  },
  {
   "cell_type": "markdown",
   "metadata": {},
   "source": [
    "Делаем вывод, что срок пользования банком особо не коррелирует (линейно) с другими данными, принимаем решение о заполнении пропусков средним значением. "
   ]
  },
  {
   "cell_type": "code",
   "execution_count": 254,
   "metadata": {},
   "outputs": [
    {
     "data": {
      "text/plain": [
       "RowNumber          0\n",
       "CustomerId         0\n",
       "Surname            0\n",
       "CreditScore        0\n",
       "Geography          0\n",
       "Gender             0\n",
       "Age                0\n",
       "Tenure             0\n",
       "Balance            0\n",
       "NumOfProducts      0\n",
       "HasCrCard          0\n",
       "IsActiveMember     0\n",
       "EstimatedSalary    0\n",
       "Exited             0\n",
       "dtype: int64"
      ]
     },
     "execution_count": 254,
     "metadata": {},
     "output_type": "execute_result"
    }
   ],
   "source": [
    "df['Tenure'] = df['Tenure'].fillna(value=df['Tenure'].median())\n",
    "df.isna().sum()"
   ]
  },
  {
   "cell_type": "markdown",
   "metadata": {},
   "source": [
    "**Расспределение данных**"
   ]
  },
  {
   "cell_type": "code",
   "execution_count": 255,
   "metadata": {},
   "outputs": [
    {
     "data": {
      "text/html": [
       "<div>\n",
       "<style scoped>\n",
       "    .dataframe tbody tr th:only-of-type {\n",
       "        vertical-align: middle;\n",
       "    }\n",
       "\n",
       "    .dataframe tbody tr th {\n",
       "        vertical-align: top;\n",
       "    }\n",
       "\n",
       "    .dataframe thead th {\n",
       "        text-align: right;\n",
       "    }\n",
       "</style>\n",
       "<table border=\"1\" class=\"dataframe\">\n",
       "  <thead>\n",
       "    <tr style=\"text-align: right;\">\n",
       "      <th></th>\n",
       "      <th>RowNumber</th>\n",
       "      <th>CustomerId</th>\n",
       "      <th>Surname</th>\n",
       "      <th>CreditScore</th>\n",
       "      <th>Geography</th>\n",
       "      <th>Gender</th>\n",
       "      <th>Age</th>\n",
       "      <th>Tenure</th>\n",
       "      <th>Balance</th>\n",
       "      <th>NumOfProducts</th>\n",
       "      <th>HasCrCard</th>\n",
       "      <th>IsActiveMember</th>\n",
       "      <th>EstimatedSalary</th>\n",
       "      <th>Exited</th>\n",
       "    </tr>\n",
       "  </thead>\n",
       "  <tbody>\n",
       "    <tr>\n",
       "      <th>0</th>\n",
       "      <td>1</td>\n",
       "      <td>15634602</td>\n",
       "      <td>hargrave</td>\n",
       "      <td>619</td>\n",
       "      <td>France</td>\n",
       "      <td>Female</td>\n",
       "      <td>42</td>\n",
       "      <td>2.0</td>\n",
       "      <td>0.00</td>\n",
       "      <td>1</td>\n",
       "      <td>1</td>\n",
       "      <td>1</td>\n",
       "      <td>101348.88</td>\n",
       "      <td>1</td>\n",
       "    </tr>\n",
       "    <tr>\n",
       "      <th>1</th>\n",
       "      <td>2</td>\n",
       "      <td>15647311</td>\n",
       "      <td>hill</td>\n",
       "      <td>608</td>\n",
       "      <td>Spain</td>\n",
       "      <td>Female</td>\n",
       "      <td>41</td>\n",
       "      <td>1.0</td>\n",
       "      <td>83807.86</td>\n",
       "      <td>1</td>\n",
       "      <td>0</td>\n",
       "      <td>1</td>\n",
       "      <td>112542.58</td>\n",
       "      <td>0</td>\n",
       "    </tr>\n",
       "    <tr>\n",
       "      <th>2</th>\n",
       "      <td>3</td>\n",
       "      <td>15619304</td>\n",
       "      <td>onio</td>\n",
       "      <td>502</td>\n",
       "      <td>France</td>\n",
       "      <td>Female</td>\n",
       "      <td>42</td>\n",
       "      <td>8.0</td>\n",
       "      <td>159660.80</td>\n",
       "      <td>3</td>\n",
       "      <td>1</td>\n",
       "      <td>0</td>\n",
       "      <td>113931.57</td>\n",
       "      <td>1</td>\n",
       "    </tr>\n",
       "    <tr>\n",
       "      <th>3</th>\n",
       "      <td>4</td>\n",
       "      <td>15701354</td>\n",
       "      <td>boni</td>\n",
       "      <td>699</td>\n",
       "      <td>France</td>\n",
       "      <td>Female</td>\n",
       "      <td>39</td>\n",
       "      <td>1.0</td>\n",
       "      <td>0.00</td>\n",
       "      <td>2</td>\n",
       "      <td>0</td>\n",
       "      <td>0</td>\n",
       "      <td>93826.63</td>\n",
       "      <td>0</td>\n",
       "    </tr>\n",
       "    <tr>\n",
       "      <th>4</th>\n",
       "      <td>5</td>\n",
       "      <td>15737888</td>\n",
       "      <td>mitchell</td>\n",
       "      <td>850</td>\n",
       "      <td>Spain</td>\n",
       "      <td>Female</td>\n",
       "      <td>43</td>\n",
       "      <td>2.0</td>\n",
       "      <td>125510.82</td>\n",
       "      <td>1</td>\n",
       "      <td>1</td>\n",
       "      <td>1</td>\n",
       "      <td>79084.10</td>\n",
       "      <td>0</td>\n",
       "    </tr>\n",
       "    <tr>\n",
       "      <th>5</th>\n",
       "      <td>6</td>\n",
       "      <td>15574012</td>\n",
       "      <td>chu</td>\n",
       "      <td>645</td>\n",
       "      <td>Spain</td>\n",
       "      <td>Male</td>\n",
       "      <td>44</td>\n",
       "      <td>8.0</td>\n",
       "      <td>113755.78</td>\n",
       "      <td>2</td>\n",
       "      <td>1</td>\n",
       "      <td>0</td>\n",
       "      <td>149756.71</td>\n",
       "      <td>1</td>\n",
       "    </tr>\n",
       "    <tr>\n",
       "      <th>6</th>\n",
       "      <td>7</td>\n",
       "      <td>15592531</td>\n",
       "      <td>bartlett</td>\n",
       "      <td>822</td>\n",
       "      <td>France</td>\n",
       "      <td>Male</td>\n",
       "      <td>50</td>\n",
       "      <td>7.0</td>\n",
       "      <td>0.00</td>\n",
       "      <td>2</td>\n",
       "      <td>1</td>\n",
       "      <td>1</td>\n",
       "      <td>10062.80</td>\n",
       "      <td>0</td>\n",
       "    </tr>\n",
       "    <tr>\n",
       "      <th>7</th>\n",
       "      <td>8</td>\n",
       "      <td>15656148</td>\n",
       "      <td>obinna</td>\n",
       "      <td>376</td>\n",
       "      <td>Germany</td>\n",
       "      <td>Female</td>\n",
       "      <td>29</td>\n",
       "      <td>4.0</td>\n",
       "      <td>115046.74</td>\n",
       "      <td>4</td>\n",
       "      <td>1</td>\n",
       "      <td>0</td>\n",
       "      <td>119346.88</td>\n",
       "      <td>1</td>\n",
       "    </tr>\n",
       "    <tr>\n",
       "      <th>8</th>\n",
       "      <td>9</td>\n",
       "      <td>15792365</td>\n",
       "      <td>he</td>\n",
       "      <td>501</td>\n",
       "      <td>France</td>\n",
       "      <td>Male</td>\n",
       "      <td>44</td>\n",
       "      <td>4.0</td>\n",
       "      <td>142051.07</td>\n",
       "      <td>2</td>\n",
       "      <td>0</td>\n",
       "      <td>1</td>\n",
       "      <td>74940.50</td>\n",
       "      <td>0</td>\n",
       "    </tr>\n",
       "    <tr>\n",
       "      <th>9</th>\n",
       "      <td>10</td>\n",
       "      <td>15592389</td>\n",
       "      <td>h?</td>\n",
       "      <td>684</td>\n",
       "      <td>France</td>\n",
       "      <td>Male</td>\n",
       "      <td>27</td>\n",
       "      <td>2.0</td>\n",
       "      <td>134603.88</td>\n",
       "      <td>1</td>\n",
       "      <td>1</td>\n",
       "      <td>1</td>\n",
       "      <td>71725.73</td>\n",
       "      <td>0</td>\n",
       "    </tr>\n",
       "  </tbody>\n",
       "</table>\n",
       "</div>"
      ],
      "text/plain": [
       "   RowNumber  CustomerId   Surname  CreditScore Geography  Gender  Age  \\\n",
       "0          1    15634602  hargrave          619    France  Female   42   \n",
       "1          2    15647311      hill          608     Spain  Female   41   \n",
       "2          3    15619304      onio          502    France  Female   42   \n",
       "3          4    15701354      boni          699    France  Female   39   \n",
       "4          5    15737888  mitchell          850     Spain  Female   43   \n",
       "5          6    15574012       chu          645     Spain    Male   44   \n",
       "6          7    15592531  bartlett          822    France    Male   50   \n",
       "7          8    15656148    obinna          376   Germany  Female   29   \n",
       "8          9    15792365        he          501    France    Male   44   \n",
       "9         10    15592389        h?          684    France    Male   27   \n",
       "\n",
       "   Tenure    Balance  NumOfProducts  HasCrCard  IsActiveMember  \\\n",
       "0     2.0       0.00              1          1               1   \n",
       "1     1.0   83807.86              1          0               1   \n",
       "2     8.0  159660.80              3          1               0   \n",
       "3     1.0       0.00              2          0               0   \n",
       "4     2.0  125510.82              1          1               1   \n",
       "5     8.0  113755.78              2          1               0   \n",
       "6     7.0       0.00              2          1               1   \n",
       "7     4.0  115046.74              4          1               0   \n",
       "8     4.0  142051.07              2          0               1   \n",
       "9     2.0  134603.88              1          1               1   \n",
       "\n",
       "   EstimatedSalary  Exited  \n",
       "0        101348.88       1  \n",
       "1        112542.58       0  \n",
       "2        113931.57       1  \n",
       "3         93826.63       0  \n",
       "4         79084.10       0  \n",
       "5        149756.71       1  \n",
       "6         10062.80       0  \n",
       "7        119346.88       1  \n",
       "8         74940.50       0  \n",
       "9         71725.73       0  "
      ]
     },
     "execution_count": 255,
     "metadata": {},
     "output_type": "execute_result"
    }
   ],
   "source": [
    "df.head(10)"
   ]
  },
  {
   "cell_type": "code",
   "execution_count": 256,
   "metadata": {
    "scrolled": false
   },
   "outputs": [
    {
     "data": {
      "image/png": "[encoded data removed]",
      "text/plain": [
       "<Figure size 1080x1080 with 12 Axes>"
      ]
     },
     "metadata": {
      "needs_background": "light"
     },
     "output_type": "display_data"
    }
   ],
   "source": [
    "df.hist(figsize=(15,15));"
   ]
  },
  {
   "cell_type": "markdown",
   "metadata": {},
   "source": [
    "Видно, что имеется сильный дисбаланс признаков в данных, для колонок `NumOfProducts`, `HasCrCard` и для ключевого признака `Exited`."
   ]
  },
  {
   "cell_type": "markdown",
   "metadata": {},
   "source": [
    "**Ошибки в записи `Surname`**"
   ]
  },
  {
   "cell_type": "markdown",
   "metadata": {},
   "source": [
    "Просмотрев первые десять записей сверху датафрейма было замечено, что в 10 строке запись `Surname` содержит знак вопроса. Проверим все записи `Surname` на наличие знаков препинания и уберем их."
   ]
  },
  {
   "cell_type": "code",
   "execution_count": 257,
   "metadata": {},
   "outputs": [
    {
     "data": {
      "text/html": [
       "<div>\n",
       "<style scoped>\n",
       "    .dataframe tbody tr th:only-of-type {\n",
       "        vertical-align: middle;\n",
       "    }\n",
       "\n",
       "    .dataframe tbody tr th {\n",
       "        vertical-align: top;\n",
       "    }\n",
       "\n",
       "    .dataframe thead th {\n",
       "        text-align: right;\n",
       "    }\n",
       "</style>\n",
       "<table border=\"1\" class=\"dataframe\">\n",
       "  <thead>\n",
       "    <tr style=\"text-align: right;\">\n",
       "      <th></th>\n",
       "      <th>RowNumber</th>\n",
       "      <th>CustomerId</th>\n",
       "      <th>Surname</th>\n",
       "      <th>CreditScore</th>\n",
       "      <th>Geography</th>\n",
       "      <th>Gender</th>\n",
       "      <th>Age</th>\n",
       "      <th>Tenure</th>\n",
       "      <th>Balance</th>\n",
       "      <th>NumOfProducts</th>\n",
       "      <th>HasCrCard</th>\n",
       "      <th>IsActiveMember</th>\n",
       "      <th>EstimatedSalary</th>\n",
       "      <th>Exited</th>\n",
       "    </tr>\n",
       "  </thead>\n",
       "  <tbody>\n",
       "    <tr>\n",
       "      <th>0</th>\n",
       "      <td>1</td>\n",
       "      <td>15634602</td>\n",
       "      <td>hargrave</td>\n",
       "      <td>619</td>\n",
       "      <td>France</td>\n",
       "      <td>Female</td>\n",
       "      <td>42</td>\n",
       "      <td>2.0</td>\n",
       "      <td>0.00</td>\n",
       "      <td>1</td>\n",
       "      <td>1</td>\n",
       "      <td>1</td>\n",
       "      <td>101348.88</td>\n",
       "      <td>1</td>\n",
       "    </tr>\n",
       "    <tr>\n",
       "      <th>1</th>\n",
       "      <td>2</td>\n",
       "      <td>15647311</td>\n",
       "      <td>hill</td>\n",
       "      <td>608</td>\n",
       "      <td>Spain</td>\n",
       "      <td>Female</td>\n",
       "      <td>41</td>\n",
       "      <td>1.0</td>\n",
       "      <td>83807.86</td>\n",
       "      <td>1</td>\n",
       "      <td>0</td>\n",
       "      <td>1</td>\n",
       "      <td>112542.58</td>\n",
       "      <td>0</td>\n",
       "    </tr>\n",
       "    <tr>\n",
       "      <th>2</th>\n",
       "      <td>3</td>\n",
       "      <td>15619304</td>\n",
       "      <td>onio</td>\n",
       "      <td>502</td>\n",
       "      <td>France</td>\n",
       "      <td>Female</td>\n",
       "      <td>42</td>\n",
       "      <td>8.0</td>\n",
       "      <td>159660.80</td>\n",
       "      <td>3</td>\n",
       "      <td>1</td>\n",
       "      <td>0</td>\n",
       "      <td>113931.57</td>\n",
       "      <td>1</td>\n",
       "    </tr>\n",
       "    <tr>\n",
       "      <th>3</th>\n",
       "      <td>4</td>\n",
       "      <td>15701354</td>\n",
       "      <td>boni</td>\n",
       "      <td>699</td>\n",
       "      <td>France</td>\n",
       "      <td>Female</td>\n",
       "      <td>39</td>\n",
       "      <td>1.0</td>\n",
       "      <td>0.00</td>\n",
       "      <td>2</td>\n",
       "      <td>0</td>\n",
       "      <td>0</td>\n",
       "      <td>93826.63</td>\n",
       "      <td>0</td>\n",
       "    </tr>\n",
       "    <tr>\n",
       "      <th>4</th>\n",
       "      <td>5</td>\n",
       "      <td>15737888</td>\n",
       "      <td>mitchell</td>\n",
       "      <td>850</td>\n",
       "      <td>Spain</td>\n",
       "      <td>Female</td>\n",
       "      <td>43</td>\n",
       "      <td>2.0</td>\n",
       "      <td>125510.82</td>\n",
       "      <td>1</td>\n",
       "      <td>1</td>\n",
       "      <td>1</td>\n",
       "      <td>79084.10</td>\n",
       "      <td>0</td>\n",
       "    </tr>\n",
       "    <tr>\n",
       "      <th>5</th>\n",
       "      <td>6</td>\n",
       "      <td>15574012</td>\n",
       "      <td>chu</td>\n",
       "      <td>645</td>\n",
       "      <td>Spain</td>\n",
       "      <td>Male</td>\n",
       "      <td>44</td>\n",
       "      <td>8.0</td>\n",
       "      <td>113755.78</td>\n",
       "      <td>2</td>\n",
       "      <td>1</td>\n",
       "      <td>0</td>\n",
       "      <td>149756.71</td>\n",
       "      <td>1</td>\n",
       "    </tr>\n",
       "    <tr>\n",
       "      <th>6</th>\n",
       "      <td>7</td>\n",
       "      <td>15592531</td>\n",
       "      <td>bartlett</td>\n",
       "      <td>822</td>\n",
       "      <td>France</td>\n",
       "      <td>Male</td>\n",
       "      <td>50</td>\n",
       "      <td>7.0</td>\n",
       "      <td>0.00</td>\n",
       "      <td>2</td>\n",
       "      <td>1</td>\n",
       "      <td>1</td>\n",
       "      <td>10062.80</td>\n",
       "      <td>0</td>\n",
       "    </tr>\n",
       "    <tr>\n",
       "      <th>7</th>\n",
       "      <td>8</td>\n",
       "      <td>15656148</td>\n",
       "      <td>obinna</td>\n",
       "      <td>376</td>\n",
       "      <td>Germany</td>\n",
       "      <td>Female</td>\n",
       "      <td>29</td>\n",
       "      <td>4.0</td>\n",
       "      <td>115046.74</td>\n",
       "      <td>4</td>\n",
       "      <td>1</td>\n",
       "      <td>0</td>\n",
       "      <td>119346.88</td>\n",
       "      <td>1</td>\n",
       "    </tr>\n",
       "    <tr>\n",
       "      <th>8</th>\n",
       "      <td>9</td>\n",
       "      <td>15792365</td>\n",
       "      <td>he</td>\n",
       "      <td>501</td>\n",
       "      <td>France</td>\n",
       "      <td>Male</td>\n",
       "      <td>44</td>\n",
       "      <td>4.0</td>\n",
       "      <td>142051.07</td>\n",
       "      <td>2</td>\n",
       "      <td>0</td>\n",
       "      <td>1</td>\n",
       "      <td>74940.50</td>\n",
       "      <td>0</td>\n",
       "    </tr>\n",
       "    <tr>\n",
       "      <th>9</th>\n",
       "      <td>10</td>\n",
       "      <td>15592389</td>\n",
       "      <td>h</td>\n",
       "      <td>684</td>\n",
       "      <td>France</td>\n",
       "      <td>Male</td>\n",
       "      <td>27</td>\n",
       "      <td>2.0</td>\n",
       "      <td>134603.88</td>\n",
       "      <td>1</td>\n",
       "      <td>1</td>\n",
       "      <td>1</td>\n",
       "      <td>71725.73</td>\n",
       "      <td>0</td>\n",
       "    </tr>\n",
       "  </tbody>\n",
       "</table>\n",
       "</div>"
      ],
      "text/plain": [
       "   RowNumber  CustomerId   Surname  CreditScore Geography  Gender  Age  \\\n",
       "0          1    15634602  hargrave          619    France  Female   42   \n",
       "1          2    15647311      hill          608     Spain  Female   41   \n",
       "2          3    15619304      onio          502    France  Female   42   \n",
       "3          4    15701354      boni          699    France  Female   39   \n",
       "4          5    15737888  mitchell          850     Spain  Female   43   \n",
       "5          6    15574012       chu          645     Spain    Male   44   \n",
       "6          7    15592531  bartlett          822    France    Male   50   \n",
       "7          8    15656148    obinna          376   Germany  Female   29   \n",
       "8          9    15792365        he          501    France    Male   44   \n",
       "9         10    15592389         h          684    France    Male   27   \n",
       "\n",
       "   Tenure    Balance  NumOfProducts  HasCrCard  IsActiveMember  \\\n",
       "0     2.0       0.00              1          1               1   \n",
       "1     1.0   83807.86              1          0               1   \n",
       "2     8.0  159660.80              3          1               0   \n",
       "3     1.0       0.00              2          0               0   \n",
       "4     2.0  125510.82              1          1               1   \n",
       "5     8.0  113755.78              2          1               0   \n",
       "6     7.0       0.00              2          1               1   \n",
       "7     4.0  115046.74              4          1               0   \n",
       "8     4.0  142051.07              2          0               1   \n",
       "9     2.0  134603.88              1          1               1   \n",
       "\n",
       "   EstimatedSalary  Exited  \n",
       "0        101348.88       1  \n",
       "1        112542.58       0  \n",
       "2        113931.57       1  \n",
       "3         93826.63       0  \n",
       "4         79084.10       0  \n",
       "5        149756.71       1  \n",
       "6         10062.80       0  \n",
       "7        119346.88       1  \n",
       "8         74940.50       0  \n",
       "9         71725.73       0  "
      ]
     },
     "execution_count": 257,
     "metadata": {},
     "output_type": "execute_result"
    }
   ],
   "source": [
    "df[\"Surname\"] = df['Surname'].str.replace('[^\\w\\s]','', regex=True)\n",
    "df.head(10)"
   ]
  },
  {
   "cell_type": "markdown",
   "metadata": {},
   "source": [
    "### Подготовка признаков и выборок"
   ]
  },
  {
   "cell_type": "markdown",
   "metadata": {},
   "source": [
    "Подготовим выборки по соотношению 3:1:1, так как у нас нет зарание готовой тестовой выборки. Для категориальных данных выполним прямое кодирование. Уберем из датасета лишнюю информацию, такую как номер строки, уникальный номер пользователя и его фамилию."
   ]
  },
  {
   "cell_type": "code",
   "execution_count": 258,
   "metadata": {
    "scrolled": false
   },
   "outputs": [],
   "source": [
    "df = df.drop(['RowNumber','CustomerId','Surname'], axis = 1)"
   ]
  },
  {
   "cell_type": "markdown",
   "metadata": {},
   "source": [
    "Приведем данные о количестве продуктов банка, используемых клиентом, наличие кредитной карты, активность клиента и сколько лет человек является клиентом банка к типу `object` для прямого кодирования. Так как масштабировать такие данные будеть не корректно"
   ]
  },
  {
   "cell_type": "code",
   "execution_count": 259,
   "metadata": {},
   "outputs": [],
   "source": [
    "df[['NumOfProducts','HasCrCard','IsActiveMember']] = df[['NumOfProducts','HasCrCard','IsActiveMember']].astype('str')"
   ]
  },
  {
   "cell_type": "code",
   "execution_count": 260,
   "metadata": {},
   "outputs": [],
   "source": [
    "# df_ohe = pd.get_dummies(df, drop_first=True)\n",
    "features = df_ohe.drop('Exited', axis = 1)\n",
    "target = df_ohe['Exited']"
   ]
  },
  {
   "cell_type": "markdown",
   "metadata": {},
   "source": [
    "**Тестовая выборка**"
   ]
  },
  {
   "cell_type": "code",
   "execution_count": 261,
   "metadata": {},
   "outputs": [],
   "source": [
    "features_, features_test, target_, target_test \\\n",
    "= train_test_split(features, target, test_size = 0.2, random_state = RANDOM_STATE, stratify=target)"
   ]
  },
  {
   "cell_type": "markdown",
   "metadata": {},
   "source": [
    "**Обучающая и валидационная выборака**"
   ]
  },
  {
   "cell_type": "code",
   "execution_count": 262,
   "metadata": {},
   "outputs": [],
   "source": [
    "features_train, features_valid, target_train, target_valid \\\n",
    "= train_test_split(features_, target_, test_size = 0.25, random_state = RANDOM_STATE, stratify=target_)"
   ]
  },
  {
   "cell_type": "markdown",
   "metadata": {},
   "source": [
    "**Прямое кодирование**"
   ]
  },
  {
   "cell_type": "code",
   "execution_count": 263,
   "metadata": {},
   "outputs": [
    {
     "data": {
      "text/html": [
       "<div>\n",
       "<style scoped>\n",
       "    .dataframe tbody tr th:only-of-type {\n",
       "        vertical-align: middle;\n",
       "    }\n",
       "\n",
       "    .dataframe tbody tr th {\n",
       "        vertical-align: top;\n",
       "    }\n",
       "\n",
       "    .dataframe thead th {\n",
       "        text-align: right;\n",
       "    }\n",
       "</style>\n",
       "<table border=\"1\" class=\"dataframe\">\n",
       "  <thead>\n",
       "    <tr style=\"text-align: right;\">\n",
       "      <th></th>\n",
       "      <th>CreditScore</th>\n",
       "      <th>Age</th>\n",
       "      <th>Tenure</th>\n",
       "      <th>Balance</th>\n",
       "      <th>EstimatedSalary</th>\n",
       "      <th>Geography_Germany</th>\n",
       "      <th>Geography_Spain</th>\n",
       "      <th>Gender_Male</th>\n",
       "      <th>NumOfProducts_2</th>\n",
       "      <th>NumOfProducts_3</th>\n",
       "      <th>NumOfProducts_4</th>\n",
       "      <th>HasCrCard_1</th>\n",
       "      <th>IsActiveMember_1</th>\n",
       "    </tr>\n",
       "  </thead>\n",
       "  <tbody>\n",
       "    <tr>\n",
       "      <th>9016</th>\n",
       "      <td>577</td>\n",
       "      <td>31</td>\n",
       "      <td>6.0</td>\n",
       "      <td>0.00</td>\n",
       "      <td>196395.25</td>\n",
       "      <td>0</td>\n",
       "      <td>1</td>\n",
       "      <td>1</td>\n",
       "      <td>0</td>\n",
       "      <td>0</td>\n",
       "      <td>0</td>\n",
       "      <td>1</td>\n",
       "      <td>1</td>\n",
       "    </tr>\n",
       "    <tr>\n",
       "      <th>789</th>\n",
       "      <td>704</td>\n",
       "      <td>48</td>\n",
       "      <td>8.0</td>\n",
       "      <td>167997.60</td>\n",
       "      <td>173498.45</td>\n",
       "      <td>0</td>\n",
       "      <td>1</td>\n",
       "      <td>1</td>\n",
       "      <td>0</td>\n",
       "      <td>0</td>\n",
       "      <td>0</td>\n",
       "      <td>1</td>\n",
       "      <td>1</td>\n",
       "    </tr>\n",
       "    <tr>\n",
       "      <th>3703</th>\n",
       "      <td>739</td>\n",
       "      <td>40</td>\n",
       "      <td>5.0</td>\n",
       "      <td>149131.03</td>\n",
       "      <td>60036.99</td>\n",
       "      <td>1</td>\n",
       "      <td>0</td>\n",
       "      <td>1</td>\n",
       "      <td>0</td>\n",
       "      <td>1</td>\n",
       "      <td>0</td>\n",
       "      <td>1</td>\n",
       "      <td>1</td>\n",
       "    </tr>\n",
       "    <tr>\n",
       "      <th>7892</th>\n",
       "      <td>648</td>\n",
       "      <td>31</td>\n",
       "      <td>5.0</td>\n",
       "      <td>0.00</td>\n",
       "      <td>5199.02</td>\n",
       "      <td>0</td>\n",
       "      <td>1</td>\n",
       "      <td>0</td>\n",
       "      <td>1</td>\n",
       "      <td>0</td>\n",
       "      <td>0</td>\n",
       "      <td>1</td>\n",
       "      <td>1</td>\n",
       "    </tr>\n",
       "    <tr>\n",
       "      <th>4206</th>\n",
       "      <td>604</td>\n",
       "      <td>47</td>\n",
       "      <td>8.0</td>\n",
       "      <td>62094.71</td>\n",
       "      <td>9308.10</td>\n",
       "      <td>0</td>\n",
       "      <td>0</td>\n",
       "      <td>0</td>\n",
       "      <td>0</td>\n",
       "      <td>1</td>\n",
       "      <td>0</td>\n",
       "      <td>0</td>\n",
       "      <td>0</td>\n",
       "    </tr>\n",
       "  </tbody>\n",
       "</table>\n",
       "</div>"
      ],
      "text/plain": [
       "      CreditScore  Age  Tenure    Balance  EstimatedSalary  Geography_Germany  \\\n",
       "9016          577   31     6.0       0.00        196395.25                  0   \n",
       "789           704   48     8.0  167997.60        173498.45                  0   \n",
       "3703          739   40     5.0  149131.03         60036.99                  1   \n",
       "7892          648   31     5.0       0.00          5199.02                  0   \n",
       "4206          604   47     8.0   62094.71          9308.10                  0   \n",
       "\n",
       "      Geography_Spain  Gender_Male  NumOfProducts_2  NumOfProducts_3  \\\n",
       "9016                1            1                0                0   \n",
       "789                 1            1                0                0   \n",
       "3703                0            1                0                1   \n",
       "7892                1            0                1                0   \n",
       "4206                0            0                0                1   \n",
       "\n",
       "      NumOfProducts_4  HasCrCard_1  IsActiveMember_1  \n",
       "9016                0            1                 1  \n",
       "789                 0            1                 1  \n",
       "3703                0            1                 1  \n",
       "7892                0            1                 1  \n",
       "4206                0            0                 0  "
      ]
     },
     "execution_count": 263,
     "metadata": {},
     "output_type": "execute_result"
    }
   ],
   "source": [
    "features_train.head()"
   ]
  },
  {
   "cell_type": "markdown",
   "metadata": {},
   "source": [
    "**Масштабирование признаков**"
   ]
  },
  {
   "cell_type": "code",
   "execution_count": 268,
   "metadata": {
    "scrolled": true
   },
   "outputs": [
    {
     "data": {
      "text/html": [
       "<div>\n",
       "<style scoped>\n",
       "    .dataframe tbody tr th:only-of-type {\n",
       "        vertical-align: middle;\n",
       "    }\n",
       "\n",
       "    .dataframe tbody tr th {\n",
       "        vertical-align: top;\n",
       "    }\n",
       "\n",
       "    .dataframe thead th {\n",
       "        text-align: right;\n",
       "    }\n",
       "</style>\n",
       "<table border=\"1\" class=\"dataframe\">\n",
       "  <thead>\n",
       "    <tr style=\"text-align: right;\">\n",
       "      <th></th>\n",
       "      <th>CreditScore</th>\n",
       "      <th>Age</th>\n",
       "      <th>Tenure</th>\n",
       "      <th>Balance</th>\n",
       "      <th>EstimatedSalary</th>\n",
       "      <th>Geography_Germany</th>\n",
       "      <th>Geography_Spain</th>\n",
       "      <th>Gender_Male</th>\n",
       "      <th>NumOfProducts_2</th>\n",
       "      <th>NumOfProducts_3</th>\n",
       "      <th>NumOfProducts_4</th>\n",
       "      <th>HasCrCard_1</th>\n",
       "      <th>IsActiveMember_1</th>\n",
       "    </tr>\n",
       "  </thead>\n",
       "  <tbody>\n",
       "    <tr>\n",
       "      <th>9016</th>\n",
       "      <td>577</td>\n",
       "      <td>31</td>\n",
       "      <td>6.0</td>\n",
       "      <td>0.00</td>\n",
       "      <td>196395.25</td>\n",
       "      <td>0</td>\n",
       "      <td>1</td>\n",
       "      <td>1</td>\n",
       "      <td>0</td>\n",
       "      <td>0</td>\n",
       "      <td>0</td>\n",
       "      <td>1</td>\n",
       "      <td>1</td>\n",
       "    </tr>\n",
       "    <tr>\n",
       "      <th>789</th>\n",
       "      <td>704</td>\n",
       "      <td>48</td>\n",
       "      <td>8.0</td>\n",
       "      <td>167997.60</td>\n",
       "      <td>173498.45</td>\n",
       "      <td>0</td>\n",
       "      <td>1</td>\n",
       "      <td>1</td>\n",
       "      <td>0</td>\n",
       "      <td>0</td>\n",
       "      <td>0</td>\n",
       "      <td>1</td>\n",
       "      <td>1</td>\n",
       "    </tr>\n",
       "    <tr>\n",
       "      <th>3703</th>\n",
       "      <td>739</td>\n",
       "      <td>40</td>\n",
       "      <td>5.0</td>\n",
       "      <td>149131.03</td>\n",
       "      <td>60036.99</td>\n",
       "      <td>1</td>\n",
       "      <td>0</td>\n",
       "      <td>1</td>\n",
       "      <td>0</td>\n",
       "      <td>1</td>\n",
       "      <td>0</td>\n",
       "      <td>1</td>\n",
       "      <td>1</td>\n",
       "    </tr>\n",
       "    <tr>\n",
       "      <th>7892</th>\n",
       "      <td>648</td>\n",
       "      <td>31</td>\n",
       "      <td>5.0</td>\n",
       "      <td>0.00</td>\n",
       "      <td>5199.02</td>\n",
       "      <td>0</td>\n",
       "      <td>1</td>\n",
       "      <td>0</td>\n",
       "      <td>1</td>\n",
       "      <td>0</td>\n",
       "      <td>0</td>\n",
       "      <td>1</td>\n",
       "      <td>1</td>\n",
       "    </tr>\n",
       "    <tr>\n",
       "      <th>4206</th>\n",
       "      <td>604</td>\n",
       "      <td>47</td>\n",
       "      <td>8.0</td>\n",
       "      <td>62094.71</td>\n",
       "      <td>9308.10</td>\n",
       "      <td>0</td>\n",
       "      <td>0</td>\n",
       "      <td>0</td>\n",
       "      <td>0</td>\n",
       "      <td>1</td>\n",
       "      <td>0</td>\n",
       "      <td>0</td>\n",
       "      <td>0</td>\n",
       "    </tr>\n",
       "    <tr>\n",
       "      <th>1661</th>\n",
       "      <td>690</td>\n",
       "      <td>32</td>\n",
       "      <td>0.0</td>\n",
       "      <td>106683.52</td>\n",
       "      <td>137916.49</td>\n",
       "      <td>1</td>\n",
       "      <td>0</td>\n",
       "      <td>1</td>\n",
       "      <td>1</td>\n",
       "      <td>0</td>\n",
       "      <td>0</td>\n",
       "      <td>1</td>\n",
       "      <td>1</td>\n",
       "    </tr>\n",
       "    <tr>\n",
       "      <th>9046</th>\n",
       "      <td>630</td>\n",
       "      <td>23</td>\n",
       "      <td>4.0</td>\n",
       "      <td>137964.51</td>\n",
       "      <td>174570.55</td>\n",
       "      <td>1</td>\n",
       "      <td>0</td>\n",
       "      <td>0</td>\n",
       "      <td>0</td>\n",
       "      <td>0</td>\n",
       "      <td>0</td>\n",
       "      <td>0</td>\n",
       "      <td>1</td>\n",
       "    </tr>\n",
       "    <tr>\n",
       "      <th>7436</th>\n",
       "      <td>646</td>\n",
       "      <td>57</td>\n",
       "      <td>6.0</td>\n",
       "      <td>90212.00</td>\n",
       "      <td>13911.27</td>\n",
       "      <td>1</td>\n",
       "      <td>0</td>\n",
       "      <td>0</td>\n",
       "      <td>0</td>\n",
       "      <td>0</td>\n",
       "      <td>0</td>\n",
       "      <td>1</td>\n",
       "      <td>0</td>\n",
       "    </tr>\n",
       "    <tr>\n",
       "      <th>5512</th>\n",
       "      <td>627</td>\n",
       "      <td>37</td>\n",
       "      <td>2.0</td>\n",
       "      <td>125190.86</td>\n",
       "      <td>84584.69</td>\n",
       "      <td>0</td>\n",
       "      <td>0</td>\n",
       "      <td>1</td>\n",
       "      <td>0</td>\n",
       "      <td>0</td>\n",
       "      <td>0</td>\n",
       "      <td>0</td>\n",
       "      <td>1</td>\n",
       "    </tr>\n",
       "    <tr>\n",
       "      <th>511</th>\n",
       "      <td>632</td>\n",
       "      <td>38</td>\n",
       "      <td>6.0</td>\n",
       "      <td>86569.76</td>\n",
       "      <td>98090.91</td>\n",
       "      <td>1</td>\n",
       "      <td>0</td>\n",
       "      <td>0</td>\n",
       "      <td>1</td>\n",
       "      <td>0</td>\n",
       "      <td>0</td>\n",
       "      <td>1</td>\n",
       "      <td>0</td>\n",
       "    </tr>\n",
       "  </tbody>\n",
       "</table>\n",
       "</div>"
      ],
      "text/plain": [
       "      CreditScore  Age  Tenure    Balance  EstimatedSalary  Geography_Germany  \\\n",
       "9016          577   31     6.0       0.00        196395.25                  0   \n",
       "789           704   48     8.0  167997.60        173498.45                  0   \n",
       "3703          739   40     5.0  149131.03         60036.99                  1   \n",
       "7892          648   31     5.0       0.00          5199.02                  0   \n",
       "4206          604   47     8.0   62094.71          9308.10                  0   \n",
       "1661          690   32     0.0  106683.52        137916.49                  1   \n",
       "9046          630   23     4.0  137964.51        174570.55                  1   \n",
       "7436          646   57     6.0   90212.00         13911.27                  1   \n",
       "5512          627   37     2.0  125190.86         84584.69                  0   \n",
       "511           632   38     6.0   86569.76         98090.91                  1   \n",
       "\n",
       "      Geography_Spain  Gender_Male  NumOfProducts_2  NumOfProducts_3  \\\n",
       "9016                1            1                0                0   \n",
       "789                 1            1                0                0   \n",
       "3703                0            1                0                1   \n",
       "7892                1            0                1                0   \n",
       "4206                0            0                0                1   \n",
       "1661                0            1                1                0   \n",
       "9046                0            0                0                0   \n",
       "7436                0            0                0                0   \n",
       "5512                0            1                0                0   \n",
       "511                 0            0                1                0   \n",
       "\n",
       "      NumOfProducts_4  HasCrCard_1  IsActiveMember_1  \n",
       "9016                0            1                 1  \n",
       "789                 0            1                 1  \n",
       "3703                0            1                 1  \n",
       "7892                0            1                 1  \n",
       "4206                0            0                 0  \n",
       "1661                0            1                 1  \n",
       "9046                0            0                 1  \n",
       "7436                0            1                 0  \n",
       "5512                0            0                 1  \n",
       "511                 0            1                 0  "
      ]
     },
     "execution_count": 268,
     "metadata": {},
     "output_type": "execute_result"
    }
   ],
   "source": [
    "features_train.head(10)"
   ]
  },
  {
   "cell_type": "code",
   "execution_count": 269,
   "metadata": {},
   "outputs": [],
   "source": [
    "num_features = ['CreditScore', 'Age', 'Tenure', 'Balance','EstimatedSalary']"
   ]
  },
  {
   "cell_type": "code",
   "execution_count": 270,
   "metadata": {},
   "outputs": [
    {
     "data": {
      "text/html": [
       "<style>#sk-container-id-23 {color: black;background-color: white;}#sk-container-id-23 pre{padding: 0;}#sk-container-id-23 div.sk-toggleable {background-color: white;}#sk-container-id-23 label.sk-toggleable__label {cursor: pointer;display: block;width: 100%;margin-bottom: 0;padding: 0.3em;box-sizing: border-box;text-align: center;}#sk-container-id-23 label.sk-toggleable__label-arrow:before {content: \"▸\";float: left;margin-right: 0.25em;color: #696969;}#sk-container-id-23 label.sk-toggleable__label-arrow:hover:before {color: black;}#sk-container-id-23 div.sk-estimator:hover label.sk-toggleable__label-arrow:before {color: black;}#sk-container-id-23 div.sk-toggleable__content {max-height: 0;max-width: 0;overflow: hidden;text-align: left;background-color: #f0f8ff;}#sk-container-id-23 div.sk-toggleable__content pre {margin: 0.2em;color: black;border-radius: 0.25em;background-color: #f0f8ff;}#sk-container-id-23 input.sk-toggleable__control:checked~div.sk-toggleable__content {max-height: 200px;max-width: 100%;overflow: auto;}#sk-container-id-23 input.sk-toggleable__control:checked~label.sk-toggleable__label-arrow:before {content: \"▾\";}#sk-container-id-23 div.sk-estimator input.sk-toggleable__control:checked~label.sk-toggleable__label {background-color: #d4ebff;}#sk-container-id-23 div.sk-label input.sk-toggleable__control:checked~label.sk-toggleable__label {background-color: #d4ebff;}#sk-container-id-23 input.sk-hidden--visually {border: 0;clip: rect(1px 1px 1px 1px);clip: rect(1px, 1px, 1px, 1px);height: 1px;margin: -1px;overflow: hidden;padding: 0;position: absolute;width: 1px;}#sk-container-id-23 div.sk-estimator {font-family: monospace;background-color: #f0f8ff;border: 1px dotted black;border-radius: 0.25em;box-sizing: border-box;margin-bottom: 0.5em;}#sk-container-id-23 div.sk-estimator:hover {background-color: #d4ebff;}#sk-container-id-23 div.sk-parallel-item::after {content: \"\";width: 100%;border-bottom: 1px solid gray;flex-grow: 1;}#sk-container-id-23 div.sk-label:hover label.sk-toggleable__label {background-color: #d4ebff;}#sk-container-id-23 div.sk-serial::before {content: \"\";position: absolute;border-left: 1px solid gray;box-sizing: border-box;top: 0;bottom: 0;left: 50%;z-index: 0;}#sk-container-id-23 div.sk-serial {display: flex;flex-direction: column;align-items: center;background-color: white;padding-right: 0.2em;padding-left: 0.2em;position: relative;}#sk-container-id-23 div.sk-item {position: relative;z-index: 1;}#sk-container-id-23 div.sk-parallel {display: flex;align-items: stretch;justify-content: center;background-color: white;position: relative;}#sk-container-id-23 div.sk-item::before, #sk-container-id-23 div.sk-parallel-item::before {content: \"\";position: absolute;border-left: 1px solid gray;box-sizing: border-box;top: 0;bottom: 0;left: 50%;z-index: -1;}#sk-container-id-23 div.sk-parallel-item {display: flex;flex-direction: column;z-index: 1;position: relative;background-color: white;}#sk-container-id-23 div.sk-parallel-item:first-child::after {align-self: flex-end;width: 50%;}#sk-container-id-23 div.sk-parallel-item:last-child::after {align-self: flex-start;width: 50%;}#sk-container-id-23 div.sk-parallel-item:only-child::after {width: 0;}#sk-container-id-23 div.sk-dashed-wrapped {border: 1px dashed gray;margin: 0 0.4em 0.5em 0.4em;box-sizing: border-box;padding-bottom: 0.4em;background-color: white;}#sk-container-id-23 div.sk-label label {font-family: monospace;font-weight: bold;display: inline-block;line-height: 1.2em;}#sk-container-id-23 div.sk-label-container {text-align: center;}#sk-container-id-23 div.sk-container {/* jupyter's `normalize.less` sets `[hidden] { display: none; }` but bootstrap.min.css set `[hidden] { display: none !important; }` so we also need the `!important` here to be able to override the default hidden behavior on the sphinx rendered scikit-learn.org. See: https://github.com/scikit-learn/scikit-learn/issues/21755 */display: inline-block !important;position: relative;}#sk-container-id-23 div.sk-text-repr-fallback {display: none;}</style><div id=\"sk-container-id-23\" class=\"sk-top-container\"><div class=\"sk-text-repr-fallback\"><pre>StandardScaler()</pre><b>In a Jupyter environment, please rerun this cell to show the HTML representation or trust the notebook. <br />On GitHub, the HTML representation is unable to render, please try loading this page with nbviewer.org.</b></div><div class=\"sk-container\" hidden><div class=\"sk-item\"><div class=\"sk-estimator sk-toggleable\"><input class=\"sk-toggleable__control sk-hidden--visually\" id=\"sk-estimator-id-23\" type=\"checkbox\" checked><label for=\"sk-estimator-id-23\" class=\"sk-toggleable__label sk-toggleable__label-arrow\">StandardScaler</label><div class=\"sk-toggleable__content\"><pre>StandardScaler()</pre></div></div></div></div></div>"
      ],
      "text/plain": [
       "StandardScaler()"
      ]
     },
     "execution_count": 270,
     "metadata": {},
     "output_type": "execute_result"
    }
   ],
   "source": [
    "scaler = StandardScaler()\n",
    "scaler.fit(features_train[num_features])"
   ]
  },
  {
   "cell_type": "code",
   "execution_count": 243,
   "metadata": {},
   "outputs": [],
   "source": [
    "features_train[num_features] = scaler.transform(features_train[num_features])\n",
    "features_valid[num_features] = scaler.transform(features_valid[num_features])\n",
    "features_test[num_features] = scaler.transform(features_test[num_features])"
   ]
  },
  {
   "cell_type": "code",
   "execution_count": 271,
   "metadata": {
    "scrolled": true
   },
   "outputs": [
    {
     "data": {
      "text/html": [
       "<div>\n",
       "<style scoped>\n",
       "    .dataframe tbody tr th:only-of-type {\n",
       "        vertical-align: middle;\n",
       "    }\n",
       "\n",
       "    .dataframe tbody tr th {\n",
       "        vertical-align: top;\n",
       "    }\n",
       "\n",
       "    .dataframe thead th {\n",
       "        text-align: right;\n",
       "    }\n",
       "</style>\n",
       "<table border=\"1\" class=\"dataframe\">\n",
       "  <thead>\n",
       "    <tr style=\"text-align: right;\">\n",
       "      <th></th>\n",
       "      <th>CreditScore</th>\n",
       "      <th>Age</th>\n",
       "      <th>Tenure</th>\n",
       "      <th>Balance</th>\n",
       "      <th>EstimatedSalary</th>\n",
       "      <th>Geography_Germany</th>\n",
       "      <th>Geography_Spain</th>\n",
       "      <th>Gender_Male</th>\n",
       "      <th>NumOfProducts_2</th>\n",
       "      <th>NumOfProducts_3</th>\n",
       "      <th>NumOfProducts_4</th>\n",
       "      <th>HasCrCard_1</th>\n",
       "      <th>IsActiveMember_1</th>\n",
       "    </tr>\n",
       "  </thead>\n",
       "  <tbody>\n",
       "    <tr>\n",
       "      <th>9016</th>\n",
       "      <td>577</td>\n",
       "      <td>31</td>\n",
       "      <td>6.0</td>\n",
       "      <td>0.00</td>\n",
       "      <td>196395.25</td>\n",
       "      <td>0</td>\n",
       "      <td>1</td>\n",
       "      <td>1</td>\n",
       "      <td>0</td>\n",
       "      <td>0</td>\n",
       "      <td>0</td>\n",
       "      <td>1</td>\n",
       "      <td>1</td>\n",
       "    </tr>\n",
       "    <tr>\n",
       "      <th>789</th>\n",
       "      <td>704</td>\n",
       "      <td>48</td>\n",
       "      <td>8.0</td>\n",
       "      <td>167997.60</td>\n",
       "      <td>173498.45</td>\n",
       "      <td>0</td>\n",
       "      <td>1</td>\n",
       "      <td>1</td>\n",
       "      <td>0</td>\n",
       "      <td>0</td>\n",
       "      <td>0</td>\n",
       "      <td>1</td>\n",
       "      <td>1</td>\n",
       "    </tr>\n",
       "    <tr>\n",
       "      <th>3703</th>\n",
       "      <td>739</td>\n",
       "      <td>40</td>\n",
       "      <td>5.0</td>\n",
       "      <td>149131.03</td>\n",
       "      <td>60036.99</td>\n",
       "      <td>1</td>\n",
       "      <td>0</td>\n",
       "      <td>1</td>\n",
       "      <td>0</td>\n",
       "      <td>1</td>\n",
       "      <td>0</td>\n",
       "      <td>1</td>\n",
       "      <td>1</td>\n",
       "    </tr>\n",
       "    <tr>\n",
       "      <th>7892</th>\n",
       "      <td>648</td>\n",
       "      <td>31</td>\n",
       "      <td>5.0</td>\n",
       "      <td>0.00</td>\n",
       "      <td>5199.02</td>\n",
       "      <td>0</td>\n",
       "      <td>1</td>\n",
       "      <td>0</td>\n",
       "      <td>1</td>\n",
       "      <td>0</td>\n",
       "      <td>0</td>\n",
       "      <td>1</td>\n",
       "      <td>1</td>\n",
       "    </tr>\n",
       "    <tr>\n",
       "      <th>4206</th>\n",
       "      <td>604</td>\n",
       "      <td>47</td>\n",
       "      <td>8.0</td>\n",
       "      <td>62094.71</td>\n",
       "      <td>9308.10</td>\n",
       "      <td>0</td>\n",
       "      <td>0</td>\n",
       "      <td>0</td>\n",
       "      <td>0</td>\n",
       "      <td>1</td>\n",
       "      <td>0</td>\n",
       "      <td>0</td>\n",
       "      <td>0</td>\n",
       "    </tr>\n",
       "    <tr>\n",
       "      <th>1661</th>\n",
       "      <td>690</td>\n",
       "      <td>32</td>\n",
       "      <td>0.0</td>\n",
       "      <td>106683.52</td>\n",
       "      <td>137916.49</td>\n",
       "      <td>1</td>\n",
       "      <td>0</td>\n",
       "      <td>1</td>\n",
       "      <td>1</td>\n",
       "      <td>0</td>\n",
       "      <td>0</td>\n",
       "      <td>1</td>\n",
       "      <td>1</td>\n",
       "    </tr>\n",
       "    <tr>\n",
       "      <th>9046</th>\n",
       "      <td>630</td>\n",
       "      <td>23</td>\n",
       "      <td>4.0</td>\n",
       "      <td>137964.51</td>\n",
       "      <td>174570.55</td>\n",
       "      <td>1</td>\n",
       "      <td>0</td>\n",
       "      <td>0</td>\n",
       "      <td>0</td>\n",
       "      <td>0</td>\n",
       "      <td>0</td>\n",
       "      <td>0</td>\n",
       "      <td>1</td>\n",
       "    </tr>\n",
       "    <tr>\n",
       "      <th>7436</th>\n",
       "      <td>646</td>\n",
       "      <td>57</td>\n",
       "      <td>6.0</td>\n",
       "      <td>90212.00</td>\n",
       "      <td>13911.27</td>\n",
       "      <td>1</td>\n",
       "      <td>0</td>\n",
       "      <td>0</td>\n",
       "      <td>0</td>\n",
       "      <td>0</td>\n",
       "      <td>0</td>\n",
       "      <td>1</td>\n",
       "      <td>0</td>\n",
       "    </tr>\n",
       "    <tr>\n",
       "      <th>5512</th>\n",
       "      <td>627</td>\n",
       "      <td>37</td>\n",
       "      <td>2.0</td>\n",
       "      <td>125190.86</td>\n",
       "      <td>84584.69</td>\n",
       "      <td>0</td>\n",
       "      <td>0</td>\n",
       "      <td>1</td>\n",
       "      <td>0</td>\n",
       "      <td>0</td>\n",
       "      <td>0</td>\n",
       "      <td>0</td>\n",
       "      <td>1</td>\n",
       "    </tr>\n",
       "    <tr>\n",
       "      <th>511</th>\n",
       "      <td>632</td>\n",
       "      <td>38</td>\n",
       "      <td>6.0</td>\n",
       "      <td>86569.76</td>\n",
       "      <td>98090.91</td>\n",
       "      <td>1</td>\n",
       "      <td>0</td>\n",
       "      <td>0</td>\n",
       "      <td>1</td>\n",
       "      <td>0</td>\n",
       "      <td>0</td>\n",
       "      <td>1</td>\n",
       "      <td>0</td>\n",
       "    </tr>\n",
       "  </tbody>\n",
       "</table>\n",
       "</div>"
      ],
      "text/plain": [
       "      CreditScore  Age  Tenure    Balance  EstimatedSalary  Geography_Germany  \\\n",
       "9016          577   31     6.0       0.00        196395.25                  0   \n",
       "789           704   48     8.0  167997.60        173498.45                  0   \n",
       "3703          739   40     5.0  149131.03         60036.99                  1   \n",
       "7892          648   31     5.0       0.00          5199.02                  0   \n",
       "4206          604   47     8.0   62094.71          9308.10                  0   \n",
       "1661          690   32     0.0  106683.52        137916.49                  1   \n",
       "9046          630   23     4.0  137964.51        174570.55                  1   \n",
       "7436          646   57     6.0   90212.00         13911.27                  1   \n",
       "5512          627   37     2.0  125190.86         84584.69                  0   \n",
       "511           632   38     6.0   86569.76         98090.91                  1   \n",
       "\n",
       "      Geography_Spain  Gender_Male  NumOfProducts_2  NumOfProducts_3  \\\n",
       "9016                1            1                0                0   \n",
       "789                 1            1                0                0   \n",
       "3703                0            1                0                1   \n",
       "7892                1            0                1                0   \n",
       "4206                0            0                0                1   \n",
       "1661                0            1                1                0   \n",
       "9046                0            0                0                0   \n",
       "7436                0            0                0                0   \n",
       "5512                0            1                0                0   \n",
       "511                 0            0                1                0   \n",
       "\n",
       "      NumOfProducts_4  HasCrCard_1  IsActiveMember_1  \n",
       "9016                0            1                 1  \n",
       "789                 0            1                 1  \n",
       "3703                0            1                 1  \n",
       "7892                0            1                 1  \n",
       "4206                0            0                 0  \n",
       "1661                0            1                 1  \n",
       "9046                0            0                 1  \n",
       "7436                0            1                 0  \n",
       "5512                0            0                 1  \n",
       "511                 0            1                 0  "
      ]
     },
     "execution_count": 271,
     "metadata": {},
     "output_type": "execute_result"
    }
   ],
   "source": [
    "features_train.head(10)"
   ]
  },
  {
   "cell_type": "markdown",
   "metadata": {},
   "source": [
    "## Исследование задачи"
   ]
  },
  {
   "cell_type": "markdown",
   "metadata": {},
   "source": [
    "### Обучение моделей на несбалансированных данных"
   ]
  },
  {
   "cell_type": "markdown",
   "metadata": {},
   "source": [
    "Исследуем три модели `DecisionTreeClassifier`, `RandomForestClassifier` и `LogisticRegression`. Наилучшие варианты моделей сохраним."
   ]
  },
  {
   "cell_type": "code",
   "execution_count": 272,
   "metadata": {
    "scrolled": false
   },
   "outputs": [
    {
     "name": "stdout",
     "output_type": "stream",
     "text": [
      "CPU times: user 25.2 ms, sys: 4 ms, total: 29.2 ms\n",
      "Wall time: 27.6 ms\n"
     ]
    },
    {
     "data": {
      "text/html": [
       "<style>#sk-container-id-24 {color: black;background-color: white;}#sk-container-id-24 pre{padding: 0;}#sk-container-id-24 div.sk-toggleable {background-color: white;}#sk-container-id-24 label.sk-toggleable__label {cursor: pointer;display: block;width: 100%;margin-bottom: 0;padding: 0.3em;box-sizing: border-box;text-align: center;}#sk-container-id-24 label.sk-toggleable__label-arrow:before {content: \"▸\";float: left;margin-right: 0.25em;color: #696969;}#sk-container-id-24 label.sk-toggleable__label-arrow:hover:before {color: black;}#sk-container-id-24 div.sk-estimator:hover label.sk-toggleable__label-arrow:before {color: black;}#sk-container-id-24 div.sk-toggleable__content {max-height: 0;max-width: 0;overflow: hidden;text-align: left;background-color: #f0f8ff;}#sk-container-id-24 div.sk-toggleable__content pre {margin: 0.2em;color: black;border-radius: 0.25em;background-color: #f0f8ff;}#sk-container-id-24 input.sk-toggleable__control:checked~div.sk-toggleable__content {max-height: 200px;max-width: 100%;overflow: auto;}#sk-container-id-24 input.sk-toggleable__control:checked~label.sk-toggleable__label-arrow:before {content: \"▾\";}#sk-container-id-24 div.sk-estimator input.sk-toggleable__control:checked~label.sk-toggleable__label {background-color: #d4ebff;}#sk-container-id-24 div.sk-label input.sk-toggleable__control:checked~label.sk-toggleable__label {background-color: #d4ebff;}#sk-container-id-24 input.sk-hidden--visually {border: 0;clip: rect(1px 1px 1px 1px);clip: rect(1px, 1px, 1px, 1px);height: 1px;margin: -1px;overflow: hidden;padding: 0;position: absolute;width: 1px;}#sk-container-id-24 div.sk-estimator {font-family: monospace;background-color: #f0f8ff;border: 1px dotted black;border-radius: 0.25em;box-sizing: border-box;margin-bottom: 0.5em;}#sk-container-id-24 div.sk-estimator:hover {background-color: #d4ebff;}#sk-container-id-24 div.sk-parallel-item::after {content: \"\";width: 100%;border-bottom: 1px solid gray;flex-grow: 1;}#sk-container-id-24 div.sk-label:hover label.sk-toggleable__label {background-color: #d4ebff;}#sk-container-id-24 div.sk-serial::before {content: \"\";position: absolute;border-left: 1px solid gray;box-sizing: border-box;top: 0;bottom: 0;left: 50%;z-index: 0;}#sk-container-id-24 div.sk-serial {display: flex;flex-direction: column;align-items: center;background-color: white;padding-right: 0.2em;padding-left: 0.2em;position: relative;}#sk-container-id-24 div.sk-item {position: relative;z-index: 1;}#sk-container-id-24 div.sk-parallel {display: flex;align-items: stretch;justify-content: center;background-color: white;position: relative;}#sk-container-id-24 div.sk-item::before, #sk-container-id-24 div.sk-parallel-item::before {content: \"\";position: absolute;border-left: 1px solid gray;box-sizing: border-box;top: 0;bottom: 0;left: 50%;z-index: -1;}#sk-container-id-24 div.sk-parallel-item {display: flex;flex-direction: column;z-index: 1;position: relative;background-color: white;}#sk-container-id-24 div.sk-parallel-item:first-child::after {align-self: flex-end;width: 50%;}#sk-container-id-24 div.sk-parallel-item:last-child::after {align-self: flex-start;width: 50%;}#sk-container-id-24 div.sk-parallel-item:only-child::after {width: 0;}#sk-container-id-24 div.sk-dashed-wrapped {border: 1px dashed gray;margin: 0 0.4em 0.5em 0.4em;box-sizing: border-box;padding-bottom: 0.4em;background-color: white;}#sk-container-id-24 div.sk-label label {font-family: monospace;font-weight: bold;display: inline-block;line-height: 1.2em;}#sk-container-id-24 div.sk-label-container {text-align: center;}#sk-container-id-24 div.sk-container {/* jupyter's `normalize.less` sets `[hidden] { display: none; }` but bootstrap.min.css set `[hidden] { display: none !important; }` so we also need the `!important` here to be able to override the default hidden behavior on the sphinx rendered scikit-learn.org. See: https://github.com/scikit-learn/scikit-learn/issues/21755 */display: inline-block !important;position: relative;}#sk-container-id-24 div.sk-text-repr-fallback {display: none;}</style><div id=\"sk-container-id-24\" class=\"sk-top-container\"><div class=\"sk-text-repr-fallback\"><pre>LogisticRegression(random_state=7010, solver=&#x27;liblinear&#x27;)</pre><b>In a Jupyter environment, please rerun this cell to show the HTML representation or trust the notebook. <br />On GitHub, the HTML representation is unable to render, please try loading this page with nbviewer.org.</b></div><div class=\"sk-container\" hidden><div class=\"sk-item\"><div class=\"sk-estimator sk-toggleable\"><input class=\"sk-toggleable__control sk-hidden--visually\" id=\"sk-estimator-id-24\" type=\"checkbox\" checked><label for=\"sk-estimator-id-24\" class=\"sk-toggleable__label sk-toggleable__label-arrow\">LogisticRegression</label><div class=\"sk-toggleable__content\"><pre>LogisticRegression(random_state=7010, solver=&#x27;liblinear&#x27;)</pre></div></div></div></div></div>"
      ],
      "text/plain": [
       "LogisticRegression(random_state=7010, solver='liblinear')"
      ]
     },
     "execution_count": 272,
     "metadata": {},
     "output_type": "execute_result"
    }
   ],
   "source": [
    "%%time\n",
    "\n",
    "LogisticRegression_model = LogisticRegression(random_state = RANDOM_STATE, solver='liblinear')\n",
    "LogisticRegression_model.fit(features_train, target_train)"
   ]
  },
  {
   "cell_type": "code",
   "execution_count": 283,
   "metadata": {},
   "outputs": [
    {
     "name": "stderr",
     "output_type": "stream",
     "text": [
      "100%|██████████| 100/100 [00:03<00:00, 29.05it/s]"
     ]
    },
    {
     "name": "stdout",
     "output_type": "stream",
     "text": [
      "Гипперпараметр max_depth: 6\n",
      "CPU times: user 3.37 s, sys: 23.9 ms, total: 3.4 s\n",
      "Wall time: 3.45 s\n"
     ]
    },
    {
     "name": "stderr",
     "output_type": "stream",
     "text": [
      "\n"
     ]
    }
   ],
   "source": [
    "%%time\n",
    "\n",
    "DecisionTreeClassifier_model = None\n",
    "DecisionTreeClassifier_result = 0\n",
    "de = 0\n",
    "for depth in tqdm(range(1, 101)):\n",
    "    model = DecisionTreeClassifier(random_state=RANDOM_STATE, max_depth=depth) \n",
    "    model.fit(features_train, target_train)\n",
    "    result = f1_score(target_valid, model.predict(features_valid))\n",
    "    if result > DecisionTreeClassifier_result:\n",
    "        de = depth\n",
    "        DecisionTreeClassifier_model = model\n",
    "        DecisionTreeClassifier_result = result\n",
    "print(f'Гипперпараметр max_depth: {de}')"
   ]
  },
  {
   "cell_type": "code",
   "execution_count": 274,
   "metadata": {
    "scrolled": false
   },
   "outputs": [
    {
     "name": "stderr",
     "output_type": "stream",
     "text": [
      "100%|██████████| 20/20 [11:11<00:00, 33.58s/it]"
     ]
    },
    {
     "name": "stdout",
     "output_type": "stream",
     "text": [
      "Гипперпараметры n_estimators: 270; max_depth: 13\n",
      "CPU times: user 11min 6s, sys: 2.73 s, total: 11min 9s\n",
      "Wall time: 11min 11s\n"
     ]
    },
    {
     "name": "stderr",
     "output_type": "stream",
     "text": [
      "\n"
     ]
    }
   ],
   "source": [
    "%%time\n",
    "\n",
    "RandomForestClassifier_model = None\n",
    "RandomForestClassifier_result = 0\n",
    "es = 0\n",
    "de = 0\n",
    "for est in tqdm(range(100, 300, 10)):\n",
    "    for depth in range(2, 32, 1):\n",
    "        model = RandomForestClassifier(random_state=RANDOM_STATE, n_estimators=est,max_depth=depth)\n",
    "        model.fit(features_train, target_train)\n",
    "        result = f1_score(target_valid, model.predict(features_valid))\n",
    "        if result > RandomForestClassifier_result:\n",
    "            es = est\n",
    "            de = depth\n",
    "            RandomForestClassifier_model = model\n",
    "            RandomForestClassifier_result = result\n",
    "print(f'Гипперпараметры n_estimators: {es}; max_depth: {de}')"
   ]
  },
  {
   "cell_type": "markdown",
   "metadata": {},
   "source": [
    "### Анализ метрик"
   ]
  },
  {
   "cell_type": "markdown",
   "metadata": {},
   "source": [
    "Построим матрицы ошибок для каждой из моделей, а также взглянем на F1-меру и кривую ошибок"
   ]
  },
  {
   "cell_type": "markdown",
   "metadata": {},
   "source": [
    "#### Подготовка функции для метрик"
   ]
  },
  {
   "cell_type": "markdown",
   "metadata": {},
   "source": [
    "Подготовим функцию для вывода на экран информации о моделе по метрикам F1-score, AUC-ROC и матрице ошибок"
   ]
  },
  {
   "cell_type": "code",
   "execution_count": 276,
   "metadata": {},
   "outputs": [],
   "source": [
    "def metrics(target, model):\n",
    "    print(\"Матрица ошибок\")\n",
    "    print(confusion_matrix(target, model.predict(features_valid)))\n",
    "    print(\"F1-score:\",f1_score(target, model.predict(features_valid)))\n",
    "    probabilities_valid = model.predict_proba(features_valid)\n",
    "    probabilities_one_valid = probabilities_valid[:, 1]\n",
    "    print(\"AUC-ROC:\", roc_auc_score(target, probabilities_one_valid))\n",
    "    fpr, tpr, thresholds = roc_curve(target, probabilities_one_valid)\n",
    "    plt.figure()\n",
    "    plt.plot([0, 1], [0, 1], linestyle='--')\n",
    "    plt.plot(fpr, tpr)\n",
    "    plt.xlim([0.0, 1.0])\n",
    "    plt.ylim([0.0, 1.0])\n",
    "    plt.xlabel('False Positive Rate')\n",
    "    plt.ylabel('True Positive Rate')\n",
    "    plt.title('ROC-кривая')\n",
    "    plt.show()"
   ]
  },
  {
   "cell_type": "markdown",
   "metadata": {},
   "source": [
    "#### LogisticRegression"
   ]
  },
  {
   "cell_type": "code",
   "execution_count": 277,
   "metadata": {},
   "outputs": [
    {
     "name": "stdout",
     "output_type": "stream",
     "text": [
      "Матрица ошибок\n",
      "[[1552   40]\n",
      " [ 387   21]]\n",
      "F1-score: 0.08955223880597014\n",
      "AUC-ROC: 0.6917599640358657\n"
     ]
    },
    {
     "data": {
      "image/png": "[encoded data removed]",
      "text/plain": [
       "<Figure size 432x288 with 1 Axes>"
      ]
     },
     "metadata": {
      "needs_background": "light"
     },
     "output_type": "display_data"
    }
   ],
   "source": [
    "metrics(target_valid, LogisticRegression_model)"
   ]
  },
  {
   "cell_type": "markdown",
   "metadata": {},
   "source": [
    "#### DecisionTreeClassifier"
   ]
  },
  {
   "cell_type": "code",
   "execution_count": 278,
   "metadata": {},
   "outputs": [
    {
     "name": "stdout",
     "output_type": "stream",
     "text": [
      "Матрица ошибок\n",
      "[[1493   99]\n",
      " [ 202  206]]\n",
      "F1-score: 0.5778401122019635\n",
      "AUC-ROC: 0.8257332926889349\n"
     ]
    },
    {
     "data": {
      "image/png": "[encoded data removed]",
      "text/plain": [
       "<Figure size 432x288 with 1 Axes>"
      ]
     },
     "metadata": {
      "needs_background": "light"
     },
     "output_type": "display_data"
    }
   ],
   "source": [
    "metrics(target_valid, DecisionTreeClassifier_model)"
   ]
  },
  {
   "cell_type": "markdown",
   "metadata": {},
   "source": [
    "#### RandomForestClassifier"
   ]
  },
  {
   "cell_type": "code",
   "execution_count": 279,
   "metadata": {},
   "outputs": [
    {
     "name": "stdout",
     "output_type": "stream",
     "text": [
      "Матрица ошибок\n",
      "[[1526   66]\n",
      " [ 189  219]]\n",
      "F1-score: 0.632034632034632\n",
      "AUC-ROC: 0.8687724775839986\n"
     ]
    },
    {
     "data": {
      "image/png": "[encoded data removed]",
      "text/plain": [
       "<Figure size 432x288 with 1 Axes>"
      ]
     },
     "metadata": {
      "needs_background": "light"
     },
     "output_type": "display_data"
    }
   ],
   "source": [
    "metrics(target_valid, RandomForestClassifier_model)"
   ]
  },
  {
   "cell_type": "markdown",
   "metadata": {},
   "source": [
    "**Вывод**"
   ]
  },
  {
   "cell_type": "markdown",
   "metadata": {},
   "source": [
    "Из матриц ошибок видно на сколько данные несбалансированны. Из значений F1-меры можно сказать, что на несбалансированных данных требуемого порога в 0.59, достигает только `RandomForestClassifier`, она же и качественнее справляется с задачей (AUC-ROC: 0.86)."
   ]
  },
  {
   "cell_type": "markdown",
   "metadata": {},
   "source": [
    "## Борьба с дисбалансом"
   ]
  },
  {
   "cell_type": "markdown",
   "metadata": {},
   "source": [
    "### Балансировка"
   ]
  },
  {
   "cell_type": "markdown",
   "metadata": {},
   "source": [
    "Придадим объектам редкого класса больший вес"
   ]
  },
  {
   "cell_type": "code",
   "execution_count": 280,
   "metadata": {},
   "outputs": [
    {
     "name": "stdout",
     "output_type": "stream",
     "text": [
      "CPU times: user 64.8 ms, sys: 0 ns, total: 64.8 ms\n",
      "Wall time: 65.2 ms\n"
     ]
    },
    {
     "data": {
      "text/html": [
       "<style>#sk-container-id-25 {color: black;background-color: white;}#sk-container-id-25 pre{padding: 0;}#sk-container-id-25 div.sk-toggleable {background-color: white;}#sk-container-id-25 label.sk-toggleable__label {cursor: pointer;display: block;width: 100%;margin-bottom: 0;padding: 0.3em;box-sizing: border-box;text-align: center;}#sk-container-id-25 label.sk-toggleable__label-arrow:before {content: \"▸\";float: left;margin-right: 0.25em;color: #696969;}#sk-container-id-25 label.sk-toggleable__label-arrow:hover:before {color: black;}#sk-container-id-25 div.sk-estimator:hover label.sk-toggleable__label-arrow:before {color: black;}#sk-container-id-25 div.sk-toggleable__content {max-height: 0;max-width: 0;overflow: hidden;text-align: left;background-color: #f0f8ff;}#sk-container-id-25 div.sk-toggleable__content pre {margin: 0.2em;color: black;border-radius: 0.25em;background-color: #f0f8ff;}#sk-container-id-25 input.sk-toggleable__control:checked~div.sk-toggleable__content {max-height: 200px;max-width: 100%;overflow: auto;}#sk-container-id-25 input.sk-toggleable__control:checked~label.sk-toggleable__label-arrow:before {content: \"▾\";}#sk-container-id-25 div.sk-estimator input.sk-toggleable__control:checked~label.sk-toggleable__label {background-color: #d4ebff;}#sk-container-id-25 div.sk-label input.sk-toggleable__control:checked~label.sk-toggleable__label {background-color: #d4ebff;}#sk-container-id-25 input.sk-hidden--visually {border: 0;clip: rect(1px 1px 1px 1px);clip: rect(1px, 1px, 1px, 1px);height: 1px;margin: -1px;overflow: hidden;padding: 0;position: absolute;width: 1px;}#sk-container-id-25 div.sk-estimator {font-family: monospace;background-color: #f0f8ff;border: 1px dotted black;border-radius: 0.25em;box-sizing: border-box;margin-bottom: 0.5em;}#sk-container-id-25 div.sk-estimator:hover {background-color: #d4ebff;}#sk-container-id-25 div.sk-parallel-item::after {content: \"\";width: 100%;border-bottom: 1px solid gray;flex-grow: 1;}#sk-container-id-25 div.sk-label:hover label.sk-toggleable__label {background-color: #d4ebff;}#sk-container-id-25 div.sk-serial::before {content: \"\";position: absolute;border-left: 1px solid gray;box-sizing: border-box;top: 0;bottom: 0;left: 50%;z-index: 0;}#sk-container-id-25 div.sk-serial {display: flex;flex-direction: column;align-items: center;background-color: white;padding-right: 0.2em;padding-left: 0.2em;position: relative;}#sk-container-id-25 div.sk-item {position: relative;z-index: 1;}#sk-container-id-25 div.sk-parallel {display: flex;align-items: stretch;justify-content: center;background-color: white;position: relative;}#sk-container-id-25 div.sk-item::before, #sk-container-id-25 div.sk-parallel-item::before {content: \"\";position: absolute;border-left: 1px solid gray;box-sizing: border-box;top: 0;bottom: 0;left: 50%;z-index: -1;}#sk-container-id-25 div.sk-parallel-item {display: flex;flex-direction: column;z-index: 1;position: relative;background-color: white;}#sk-container-id-25 div.sk-parallel-item:first-child::after {align-self: flex-end;width: 50%;}#sk-container-id-25 div.sk-parallel-item:last-child::after {align-self: flex-start;width: 50%;}#sk-container-id-25 div.sk-parallel-item:only-child::after {width: 0;}#sk-container-id-25 div.sk-dashed-wrapped {border: 1px dashed gray;margin: 0 0.4em 0.5em 0.4em;box-sizing: border-box;padding-bottom: 0.4em;background-color: white;}#sk-container-id-25 div.sk-label label {font-family: monospace;font-weight: bold;display: inline-block;line-height: 1.2em;}#sk-container-id-25 div.sk-label-container {text-align: center;}#sk-container-id-25 div.sk-container {/* jupyter's `normalize.less` sets `[hidden] { display: none; }` but bootstrap.min.css set `[hidden] { display: none !important; }` so we also need the `!important` here to be able to override the default hidden behavior on the sphinx rendered scikit-learn.org. See: https://github.com/scikit-learn/scikit-learn/issues/21755 */display: inline-block !important;position: relative;}#sk-container-id-25 div.sk-text-repr-fallback {display: none;}</style><div id=\"sk-container-id-25\" class=\"sk-top-container\"><div class=\"sk-text-repr-fallback\"><pre>LogisticRegression(class_weight=&#x27;balanced&#x27;, random_state=7010,\n",
       "                   solver=&#x27;liblinear&#x27;)</pre><b>In a Jupyter environment, please rerun this cell to show the HTML representation or trust the notebook. <br />On GitHub, the HTML representation is unable to render, please try loading this page with nbviewer.org.</b></div><div class=\"sk-container\" hidden><div class=\"sk-item\"><div class=\"sk-estimator sk-toggleable\"><input class=\"sk-toggleable__control sk-hidden--visually\" id=\"sk-estimator-id-25\" type=\"checkbox\" checked><label for=\"sk-estimator-id-25\" class=\"sk-toggleable__label sk-toggleable__label-arrow\">LogisticRegression</label><div class=\"sk-toggleable__content\"><pre>LogisticRegression(class_weight=&#x27;balanced&#x27;, random_state=7010,\n",
       "                   solver=&#x27;liblinear&#x27;)</pre></div></div></div></div></div>"
      ],
      "text/plain": [
       "LogisticRegression(class_weight='balanced', random_state=7010,\n",
       "                   solver='liblinear')"
      ]
     },
     "execution_count": 280,
     "metadata": {},
     "output_type": "execute_result"
    }
   ],
   "source": [
    "%%time\n",
    "\n",
    "LogisticRegression_b_model = LogisticRegression(random_state = RANDOM_STATE, solver='liblinear', \n",
    "                                                class_weight='balanced')\n",
    "LogisticRegression_b_model.fit(features_train, target_train)"
   ]
  },
  {
   "cell_type": "code",
   "execution_count": 282,
   "metadata": {},
   "outputs": [
    {
     "name": "stderr",
     "output_type": "stream",
     "text": [
      "100%|██████████| 100/100 [00:03<00:00, 28.45it/s]"
     ]
    },
    {
     "name": "stdout",
     "output_type": "stream",
     "text": [
      "Гипперпараметр max_depth: 3\n",
      "CPU times: user 3.23 s, sys: 23.9 ms, total: 3.26 s\n",
      "Wall time: 3.52 s\n"
     ]
    },
    {
     "name": "stderr",
     "output_type": "stream",
     "text": [
      "\n"
     ]
    }
   ],
   "source": [
    "%%time\n",
    "\n",
    "DecisionTreeClassifier_b_model = None\n",
    "DecisionTreeClassifier_b_result = 0\n",
    "de = 0\n",
    "for depth in tqdm(range(1, 101)):\n",
    "    model = DecisionTreeClassifier(random_state=RANDOM_STATE, max_depth=depth, \n",
    "                                   class_weight='balanced') \n",
    "    model.fit(features_train, target_train)\n",
    "    result = f1_score(target_valid, model.predict(features_valid))\n",
    "    if result > DecisionTreeClassifier_b_result:\n",
    "        de = depth\n",
    "        DecisionTreeClassifier_b_model = model\n",
    "        DecisionTreeClassifier_b_result = result\n",
    "print(f'Гипперпараметр max_depth: {de}')"
   ]
  },
  {
   "cell_type": "code",
   "execution_count": 284,
   "metadata": {},
   "outputs": [
    {
     "name": "stderr",
     "output_type": "stream",
     "text": [
      "100%|██████████| 20/20 [11:30<00:00, 34.53s/it]"
     ]
    },
    {
     "name": "stdout",
     "output_type": "stream",
     "text": [
      "Гипперпараметры n_estimators: 270; max_depth: 10\n",
      "CPU times: user 11min 25s, sys: 2.37 s, total: 11min 28s\n",
      "Wall time: 11min 30s\n"
     ]
    },
    {
     "name": "stderr",
     "output_type": "stream",
     "text": [
      "\n"
     ]
    }
   ],
   "source": [
    "%%time\n",
    "\n",
    "RandomForestClassifier_b_model = None\n",
    "RandomForestClassifier_b_result = 0\n",
    "es = 0\n",
    "de = 0\n",
    "for est in tqdm(range(100, 300, 10)):\n",
    "    for depth in range(2, 32, 1):\n",
    "        model = RandomForestClassifier(random_state=RANDOM_STATE, n_estimators=est, \n",
    "                                       max_depth=depth, class_weight='balanced')\n",
    "        model.fit(features_train, target_train)\n",
    "        result = f1_score(target_valid, model.predict(features_valid))\n",
    "        if result > RandomForestClassifier_b_result:\n",
    "            es = est\n",
    "            de = depth\n",
    "            RandomForestClassifier_b_model = model\n",
    "            RandomForestClassifier_b_result = result\n",
    "print(f'Гипперпараметры n_estimators: {es}; max_depth: {de}')"
   ]
  },
  {
   "cell_type": "markdown",
   "metadata": {},
   "source": [
    "#### Анализ метрик"
   ]
  },
  {
   "cell_type": "markdown",
   "metadata": {},
   "source": [
    "Аналогичным образом посмотрим на метрики"
   ]
  },
  {
   "cell_type": "markdown",
   "metadata": {},
   "source": [
    "##### LogisticRegression"
   ]
  },
  {
   "cell_type": "code",
   "execution_count": 285,
   "metadata": {},
   "outputs": [
    {
     "name": "stdout",
     "output_type": "stream",
     "text": [
      "Матрица ошибок\n",
      "[[1213  379]\n",
      " [  94  314]]\n",
      "F1-score: 0.5703905540417803\n",
      "AUC-ROC: 0.8355795521726279\n"
     ]
    },
    {
     "data": {
      "image/png": "[encoded data removed]",
      "text/plain": [
       "<Figure size 432x288 with 1 Axes>"
      ]
     },
     "metadata": {
      "needs_background": "light"
     },
     "output_type": "display_data"
    }
   ],
   "source": [
    "metrics(target_valid, LogisticRegression_b_model)"
   ]
  },
  {
   "cell_type": "markdown",
   "metadata": {},
   "source": [
    "##### DecisionTreeClassifier"
   ]
  },
  {
   "cell_type": "code",
   "execution_count": 286,
   "metadata": {},
   "outputs": [
    {
     "name": "stdout",
     "output_type": "stream",
     "text": [
      "Матрица ошибок\n",
      "[[1305  287]\n",
      " [ 127  281]]\n",
      "F1-score: 0.5758196721311475\n",
      "AUC-ROC: 0.8168246255788748\n"
     ]
    },
    {
     "data": {
      "image/png": "[encoded data removed]",
      "text/plain": [
       "<Figure size 432x288 with 1 Axes>"
      ]
     },
     "metadata": {
      "needs_background": "light"
     },
     "output_type": "display_data"
    }
   ],
   "source": [
    "metrics(target_valid, DecisionTreeClassifier_b_model)"
   ]
  },
  {
   "cell_type": "markdown",
   "metadata": {},
   "source": [
    "##### RandomForestClassifier"
   ]
  },
  {
   "cell_type": "code",
   "execution_count": 287,
   "metadata": {
    "scrolled": false
   },
   "outputs": [
    {
     "name": "stdout",
     "output_type": "stream",
     "text": [
      "Матрица ошибок\n",
      "[[1403  189]\n",
      " [ 130  278]]\n",
      "F1-score: 0.6354285714285715\n",
      "AUC-ROC: 0.8649528278648143\n"
     ]
    },
    {
     "data": {
      "image/png": "[encoded data removed]",
      "text/plain": [
       "<Figure size 432x288 with 1 Axes>"
      ]
     },
     "metadata": {
      "needs_background": "light"
     },
     "output_type": "display_data"
    }
   ],
   "source": [
    "metrics(target_valid, RandomForestClassifier_b_model)"
   ]
  },
  {
   "cell_type": "markdown",
   "metadata": {},
   "source": [
    "**Выводы**\n",
    "\n",
    "\n",
    "Балансировка классов привела к увеличению метрики F1 на 0.03 в случае с моедлю `RandomForestClassifier` и более чем на 0.49 для модели `LogisticRegression`. \n",
    "Лидером среди моделей, является `RandomForestClassifier`"
   ]
  },
  {
   "cell_type": "markdown",
   "metadata": {},
   "source": [
    "### Вариации выборки"
   ]
  },
  {
   "cell_type": "markdown",
   "metadata": {},
   "source": [
    "Напишем функцию для увеличения выборок"
   ]
  },
  {
   "cell_type": "code",
   "execution_count": 288,
   "metadata": {},
   "outputs": [],
   "source": [
    "oversample = SMOTE(random_state=RANDOM_STATE, k_neighbors=4)\n",
    "features_train_up, target_train_up = oversample.fit_resample(features_train, target_train)"
   ]
  },
  {
   "cell_type": "markdown",
   "metadata": {},
   "source": [
    "И для уменьшения"
   ]
  },
  {
   "cell_type": "code",
   "execution_count": 289,
   "metadata": {},
   "outputs": [],
   "source": [
    "rus = RandomUnderSampler(random_state=RANDOM_STATE)\n",
    "features_train_d, target_train_d = rus.fit_resample(features_train, target_train)"
   ]
  },
  {
   "cell_type": "markdown",
   "metadata": {},
   "source": [
    "Обучим модели различными вариациями выборок на исходной выборке с балансом классов мы уже обучили (модели с индексом `b`), обучим модели с oversample и undersample"
   ]
  },
  {
   "cell_type": "markdown",
   "metadata": {},
   "source": [
    "**SMOTE**"
   ]
  },
  {
   "cell_type": "code",
   "execution_count": 290,
   "metadata": {},
   "outputs": [
    {
     "name": "stdout",
     "output_type": "stream",
     "text": [
      "CPU times: user 34.1 ms, sys: 11 µs, total: 34.1 ms\n",
      "Wall time: 31.8 ms\n"
     ]
    },
    {
     "data": {
      "text/html": [
       "<style>#sk-container-id-26 {color: black;background-color: white;}#sk-container-id-26 pre{padding: 0;}#sk-container-id-26 div.sk-toggleable {background-color: white;}#sk-container-id-26 label.sk-toggleable__label {cursor: pointer;display: block;width: 100%;margin-bottom: 0;padding: 0.3em;box-sizing: border-box;text-align: center;}#sk-container-id-26 label.sk-toggleable__label-arrow:before {content: \"▸\";float: left;margin-right: 0.25em;color: #696969;}#sk-container-id-26 label.sk-toggleable__label-arrow:hover:before {color: black;}#sk-container-id-26 div.sk-estimator:hover label.sk-toggleable__label-arrow:before {color: black;}#sk-container-id-26 div.sk-toggleable__content {max-height: 0;max-width: 0;overflow: hidden;text-align: left;background-color: #f0f8ff;}#sk-container-id-26 div.sk-toggleable__content pre {margin: 0.2em;color: black;border-radius: 0.25em;background-color: #f0f8ff;}#sk-container-id-26 input.sk-toggleable__control:checked~div.sk-toggleable__content {max-height: 200px;max-width: 100%;overflow: auto;}#sk-container-id-26 input.sk-toggleable__control:checked~label.sk-toggleable__label-arrow:before {content: \"▾\";}#sk-container-id-26 div.sk-estimator input.sk-toggleable__control:checked~label.sk-toggleable__label {background-color: #d4ebff;}#sk-container-id-26 div.sk-label input.sk-toggleable__control:checked~label.sk-toggleable__label {background-color: #d4ebff;}#sk-container-id-26 input.sk-hidden--visually {border: 0;clip: rect(1px 1px 1px 1px);clip: rect(1px, 1px, 1px, 1px);height: 1px;margin: -1px;overflow: hidden;padding: 0;position: absolute;width: 1px;}#sk-container-id-26 div.sk-estimator {font-family: monospace;background-color: #f0f8ff;border: 1px dotted black;border-radius: 0.25em;box-sizing: border-box;margin-bottom: 0.5em;}#sk-container-id-26 div.sk-estimator:hover {background-color: #d4ebff;}#sk-container-id-26 div.sk-parallel-item::after {content: \"\";width: 100%;border-bottom: 1px solid gray;flex-grow: 1;}#sk-container-id-26 div.sk-label:hover label.sk-toggleable__label {background-color: #d4ebff;}#sk-container-id-26 div.sk-serial::before {content: \"\";position: absolute;border-left: 1px solid gray;box-sizing: border-box;top: 0;bottom: 0;left: 50%;z-index: 0;}#sk-container-id-26 div.sk-serial {display: flex;flex-direction: column;align-items: center;background-color: white;padding-right: 0.2em;padding-left: 0.2em;position: relative;}#sk-container-id-26 div.sk-item {position: relative;z-index: 1;}#sk-container-id-26 div.sk-parallel {display: flex;align-items: stretch;justify-content: center;background-color: white;position: relative;}#sk-container-id-26 div.sk-item::before, #sk-container-id-26 div.sk-parallel-item::before {content: \"\";position: absolute;border-left: 1px solid gray;box-sizing: border-box;top: 0;bottom: 0;left: 50%;z-index: -1;}#sk-container-id-26 div.sk-parallel-item {display: flex;flex-direction: column;z-index: 1;position: relative;background-color: white;}#sk-container-id-26 div.sk-parallel-item:first-child::after {align-self: flex-end;width: 50%;}#sk-container-id-26 div.sk-parallel-item:last-child::after {align-self: flex-start;width: 50%;}#sk-container-id-26 div.sk-parallel-item:only-child::after {width: 0;}#sk-container-id-26 div.sk-dashed-wrapped {border: 1px dashed gray;margin: 0 0.4em 0.5em 0.4em;box-sizing: border-box;padding-bottom: 0.4em;background-color: white;}#sk-container-id-26 div.sk-label label {font-family: monospace;font-weight: bold;display: inline-block;line-height: 1.2em;}#sk-container-id-26 div.sk-label-container {text-align: center;}#sk-container-id-26 div.sk-container {/* jupyter's `normalize.less` sets `[hidden] { display: none; }` but bootstrap.min.css set `[hidden] { display: none !important; }` so we also need the `!important` here to be able to override the default hidden behavior on the sphinx rendered scikit-learn.org. See: https://github.com/scikit-learn/scikit-learn/issues/21755 */display: inline-block !important;position: relative;}#sk-container-id-26 div.sk-text-repr-fallback {display: none;}</style><div id=\"sk-container-id-26\" class=\"sk-top-container\"><div class=\"sk-text-repr-fallback\"><pre>LogisticRegression(class_weight=&#x27;balanced&#x27;, random_state=7010,\n",
       "                   solver=&#x27;liblinear&#x27;)</pre><b>In a Jupyter environment, please rerun this cell to show the HTML representation or trust the notebook. <br />On GitHub, the HTML representation is unable to render, please try loading this page with nbviewer.org.</b></div><div class=\"sk-container\" hidden><div class=\"sk-item\"><div class=\"sk-estimator sk-toggleable\"><input class=\"sk-toggleable__control sk-hidden--visually\" id=\"sk-estimator-id-26\" type=\"checkbox\" checked><label for=\"sk-estimator-id-26\" class=\"sk-toggleable__label sk-toggleable__label-arrow\">LogisticRegression</label><div class=\"sk-toggleable__content\"><pre>LogisticRegression(class_weight=&#x27;balanced&#x27;, random_state=7010,\n",
       "                   solver=&#x27;liblinear&#x27;)</pre></div></div></div></div></div>"
      ],
      "text/plain": [
       "LogisticRegression(class_weight='balanced', random_state=7010,\n",
       "                   solver='liblinear')"
      ]
     },
     "execution_count": 290,
     "metadata": {},
     "output_type": "execute_result"
    }
   ],
   "source": [
    "%%time\n",
    "\n",
    "LogisticRegression_u_model = LogisticRegression(random_state = RANDOM_STATE, solver='liblinear', \n",
    "                                                class_weight='balanced')\n",
    "LogisticRegression_u_model.fit(features_train_up, target_train_up)"
   ]
  },
  {
   "cell_type": "code",
   "execution_count": 291,
   "metadata": {},
   "outputs": [
    {
     "name": "stderr",
     "output_type": "stream",
     "text": [
      "100%|██████████| 100/100 [00:05<00:00, 19.44it/s]"
     ]
    },
    {
     "name": "stdout",
     "output_type": "stream",
     "text": [
      "Гипперпараметр max_depth: 5\n",
      "CPU times: user 5.03 s, sys: 19.9 ms, total: 5.05 s\n",
      "Wall time: 5.15 s\n"
     ]
    },
    {
     "name": "stderr",
     "output_type": "stream",
     "text": [
      "\n"
     ]
    }
   ],
   "source": [
    "%%time\n",
    "\n",
    "DecisionTreeClassifier_u_model = None\n",
    "DecisionTreeClassifier_u_result = 0\n",
    "de = 0\n",
    "for depth in tqdm(range(1, 101)):\n",
    "    model = DecisionTreeClassifier(random_state=RANDOM_STATE, max_depth=depth, \n",
    "                                   class_weight='balanced') \n",
    "    model.fit(features_train_up, target_train_up)\n",
    "    result = f1_score(target_valid, model.predict(features_valid))\n",
    "    if result > DecisionTreeClassifier_u_result:\n",
    "        de = depth\n",
    "        DecisionTreeClassifier_u_model = model\n",
    "        DecisionTreeClassifier_u_result = result\n",
    "print(f'Гипперпараметр max_depth: {de}')"
   ]
  },
  {
   "cell_type": "code",
   "execution_count": 292,
   "metadata": {
    "scrolled": true
   },
   "outputs": [
    {
     "name": "stderr",
     "output_type": "stream",
     "text": [
      "100%|██████████| 20/20 [18:31<00:00, 55.57s/it]"
     ]
    },
    {
     "name": "stdout",
     "output_type": "stream",
     "text": [
      "Гипперпараметры n_estimators: 130; max_depth: 27\n",
      "CPU times: user 18min 21s, sys: 4.91 s, total: 18min 26s\n",
      "Wall time: 18min 31s\n"
     ]
    },
    {
     "name": "stderr",
     "output_type": "stream",
     "text": [
      "\n"
     ]
    }
   ],
   "source": [
    "%%time\n",
    "\n",
    "RandomForestClassifier_u_model = None\n",
    "RandomForestClassifier_u_result = 0\n",
    "es = 0\n",
    "de = 0\n",
    "for est in tqdm(range(100, 300, 10)):\n",
    "    for depth in range(1, 32, 1):\n",
    "        model = RandomForestClassifier(random_state=RANDOM_STATE, n_estimators=est, \n",
    "                                       max_depth=depth,class_weight='balanced')\n",
    "        model.fit(features_train_up, target_train_up)\n",
    "        result = f1_score(target_valid, model.predict(features_valid))\n",
    "        if result > RandomForestClassifier_u_result:\n",
    "            es = est\n",
    "            de = depth\n",
    "            RandomForestClassifier_u_model = model\n",
    "            RandomForestClassifier_u_result = result\n",
    "print(f'Гипперпараметры n_estimators: {es}; max_depth: {de}')"
   ]
  },
  {
   "cell_type": "markdown",
   "metadata": {},
   "source": [
    "**RandomUnderSampler**"
   ]
  },
  {
   "cell_type": "code",
   "execution_count": 293,
   "metadata": {},
   "outputs": [
    {
     "name": "stdout",
     "output_type": "stream",
     "text": [
      "CPU times: user 13.3 ms, sys: 4 ms, total: 17.3 ms\n",
      "Wall time: 15.3 ms\n"
     ]
    },
    {
     "data": {
      "text/html": [
       "<style>#sk-container-id-27 {color: black;background-color: white;}#sk-container-id-27 pre{padding: 0;}#sk-container-id-27 div.sk-toggleable {background-color: white;}#sk-container-id-27 label.sk-toggleable__label {cursor: pointer;display: block;width: 100%;margin-bottom: 0;padding: 0.3em;box-sizing: border-box;text-align: center;}#sk-container-id-27 label.sk-toggleable__label-arrow:before {content: \"▸\";float: left;margin-right: 0.25em;color: #696969;}#sk-container-id-27 label.sk-toggleable__label-arrow:hover:before {color: black;}#sk-container-id-27 div.sk-estimator:hover label.sk-toggleable__label-arrow:before {color: black;}#sk-container-id-27 div.sk-toggleable__content {max-height: 0;max-width: 0;overflow: hidden;text-align: left;background-color: #f0f8ff;}#sk-container-id-27 div.sk-toggleable__content pre {margin: 0.2em;color: black;border-radius: 0.25em;background-color: #f0f8ff;}#sk-container-id-27 input.sk-toggleable__control:checked~div.sk-toggleable__content {max-height: 200px;max-width: 100%;overflow: auto;}#sk-container-id-27 input.sk-toggleable__control:checked~label.sk-toggleable__label-arrow:before {content: \"▾\";}#sk-container-id-27 div.sk-estimator input.sk-toggleable__control:checked~label.sk-toggleable__label {background-color: #d4ebff;}#sk-container-id-27 div.sk-label input.sk-toggleable__control:checked~label.sk-toggleable__label {background-color: #d4ebff;}#sk-container-id-27 input.sk-hidden--visually {border: 0;clip: rect(1px 1px 1px 1px);clip: rect(1px, 1px, 1px, 1px);height: 1px;margin: -1px;overflow: hidden;padding: 0;position: absolute;width: 1px;}#sk-container-id-27 div.sk-estimator {font-family: monospace;background-color: #f0f8ff;border: 1px dotted black;border-radius: 0.25em;box-sizing: border-box;margin-bottom: 0.5em;}#sk-container-id-27 div.sk-estimator:hover {background-color: #d4ebff;}#sk-container-id-27 div.sk-parallel-item::after {content: \"\";width: 100%;border-bottom: 1px solid gray;flex-grow: 1;}#sk-container-id-27 div.sk-label:hover label.sk-toggleable__label {background-color: #d4ebff;}#sk-container-id-27 div.sk-serial::before {content: \"\";position: absolute;border-left: 1px solid gray;box-sizing: border-box;top: 0;bottom: 0;left: 50%;z-index: 0;}#sk-container-id-27 div.sk-serial {display: flex;flex-direction: column;align-items: center;background-color: white;padding-right: 0.2em;padding-left: 0.2em;position: relative;}#sk-container-id-27 div.sk-item {position: relative;z-index: 1;}#sk-container-id-27 div.sk-parallel {display: flex;align-items: stretch;justify-content: center;background-color: white;position: relative;}#sk-container-id-27 div.sk-item::before, #sk-container-id-27 div.sk-parallel-item::before {content: \"\";position: absolute;border-left: 1px solid gray;box-sizing: border-box;top: 0;bottom: 0;left: 50%;z-index: -1;}#sk-container-id-27 div.sk-parallel-item {display: flex;flex-direction: column;z-index: 1;position: relative;background-color: white;}#sk-container-id-27 div.sk-parallel-item:first-child::after {align-self: flex-end;width: 50%;}#sk-container-id-27 div.sk-parallel-item:last-child::after {align-self: flex-start;width: 50%;}#sk-container-id-27 div.sk-parallel-item:only-child::after {width: 0;}#sk-container-id-27 div.sk-dashed-wrapped {border: 1px dashed gray;margin: 0 0.4em 0.5em 0.4em;box-sizing: border-box;padding-bottom: 0.4em;background-color: white;}#sk-container-id-27 div.sk-label label {font-family: monospace;font-weight: bold;display: inline-block;line-height: 1.2em;}#sk-container-id-27 div.sk-label-container {text-align: center;}#sk-container-id-27 div.sk-container {/* jupyter's `normalize.less` sets `[hidden] { display: none; }` but bootstrap.min.css set `[hidden] { display: none !important; }` so we also need the `!important` here to be able to override the default hidden behavior on the sphinx rendered scikit-learn.org. See: https://github.com/scikit-learn/scikit-learn/issues/21755 */display: inline-block !important;position: relative;}#sk-container-id-27 div.sk-text-repr-fallback {display: none;}</style><div id=\"sk-container-id-27\" class=\"sk-top-container\"><div class=\"sk-text-repr-fallback\"><pre>LogisticRegression(class_weight=&#x27;balanced&#x27;, random_state=7010,\n",
       "                   solver=&#x27;liblinear&#x27;)</pre><b>In a Jupyter environment, please rerun this cell to show the HTML representation or trust the notebook. <br />On GitHub, the HTML representation is unable to render, please try loading this page with nbviewer.org.</b></div><div class=\"sk-container\" hidden><div class=\"sk-item\"><div class=\"sk-estimator sk-toggleable\"><input class=\"sk-toggleable__control sk-hidden--visually\" id=\"sk-estimator-id-27\" type=\"checkbox\" checked><label for=\"sk-estimator-id-27\" class=\"sk-toggleable__label sk-toggleable__label-arrow\">LogisticRegression</label><div class=\"sk-toggleable__content\"><pre>LogisticRegression(class_weight=&#x27;balanced&#x27;, random_state=7010,\n",
       "                   solver=&#x27;liblinear&#x27;)</pre></div></div></div></div></div>"
      ],
      "text/plain": [
       "LogisticRegression(class_weight='balanced', random_state=7010,\n",
       "                   solver='liblinear')"
      ]
     },
     "execution_count": 293,
     "metadata": {},
     "output_type": "execute_result"
    }
   ],
   "source": [
    "%%time\n",
    "\n",
    "LogisticRegression_d_model = LogisticRegression(random_state = RANDOM_STATE, solver='liblinear', \n",
    "                                                class_weight='balanced')\n",
    "LogisticRegression_d_model.fit(features_train_d, target_train_d)"
   ]
  },
  {
   "cell_type": "code",
   "execution_count": 294,
   "metadata": {},
   "outputs": [
    {
     "name": "stderr",
     "output_type": "stream",
     "text": [
      "100%|██████████| 100/100 [00:01<00:00, 55.62it/s]"
     ]
    },
    {
     "name": "stdout",
     "output_type": "stream",
     "text": [
      "Гипперпараметр max_depth: 7\n",
      "CPU times: user 1.73 s, sys: 7.92 ms, total: 1.74 s\n",
      "Wall time: 1.8 s\n"
     ]
    },
    {
     "name": "stderr",
     "output_type": "stream",
     "text": [
      "\n"
     ]
    }
   ],
   "source": [
    "%%time\n",
    "\n",
    "DecisionTreeClassifier_d_model = None\n",
    "DecisionTreeClassifier_d_result = 0\n",
    "de = 0\n",
    "for depth in tqdm(range(1, 101)):\n",
    "    model = DecisionTreeClassifier(random_state=RANDOM_STATE, max_depth=depth, \n",
    "                                   class_weight='balanced') \n",
    "    model.fit(features_train_d, target_train_d)\n",
    "    result = f1_score(target_valid, model.predict(features_valid))\n",
    "    if result > DecisionTreeClassifier_d_result:\n",
    "        de = depth\n",
    "        DecisionTreeClassifier_d_model = model\n",
    "        DecisionTreeClassifier_d_result = result\n",
    "print(f'Гипперпараметр max_depth: {de}')"
   ]
  },
  {
   "cell_type": "code",
   "execution_count": 295,
   "metadata": {},
   "outputs": [
    {
     "name": "stderr",
     "output_type": "stream",
     "text": [
      "100%|██████████| 20/20 [06:48<00:00, 20.42s/it]"
     ]
    },
    {
     "name": "stdout",
     "output_type": "stream",
     "text": [
      "Гипперпараметры n_estimators: 240; max_depth: 22\n",
      "CPU times: user 6min 43s, sys: 1.9 s, total: 6min 45s\n",
      "Wall time: 6min 48s\n"
     ]
    },
    {
     "name": "stderr",
     "output_type": "stream",
     "text": [
      "\n"
     ]
    }
   ],
   "source": [
    "%%time\n",
    "\n",
    "RandomForestClassifier_d_model = None\n",
    "RandomForestClassifier_d_result = 0\n",
    "es = 0\n",
    "de = 0\n",
    "for est in tqdm(range(100, 300, 10)):\n",
    "    for depth in range(1, 32, 1):\n",
    "        model = RandomForestClassifier(random_state=RANDOM_STATE, n_estimators=est, \n",
    "                                       max_depth=depth,class_weight='balanced')\n",
    "        model.fit(features_train_d, target_train_d)\n",
    "        result = f1_score(target_valid, model.predict(features_valid))\n",
    "        if result > RandomForestClassifier_d_result:\n",
    "            es = est\n",
    "            de = depth\n",
    "            RandomForestClassifier_d_model = model\n",
    "            RandomForestClassifier_d_result = result\n",
    "print(f'Гипперпараметры n_estimators: {es}; max_depth: {de}')"
   ]
  },
  {
   "cell_type": "markdown",
   "metadata": {},
   "source": [
    "#### Анализ метрик"
   ]
  },
  {
   "cell_type": "markdown",
   "metadata": {},
   "source": [
    "##### LogisticRegression"
   ]
  },
  {
   "cell_type": "code",
   "execution_count": 296,
   "metadata": {
    "scrolled": false
   },
   "outputs": [
    {
     "name": "stdout",
     "output_type": "stream",
     "text": [
      "Матрица ошибок\n",
      "[[1053  539]\n",
      " [ 131  277]]\n",
      "F1-score: 0.45261437908496727\n",
      "AUC-ROC: 0.7289865380825697\n"
     ]
    },
    {
     "data": {
      "image/png": "[encoded data removed]",
      "text/plain": [
       "<Figure size 432x288 with 1 Axes>"
      ]
     },
     "metadata": {
      "needs_background": "light"
     },
     "output_type": "display_data"
    }
   ],
   "source": [
    "metrics(target_valid, LogisticRegression_u_model)"
   ]
  },
  {
   "cell_type": "code",
   "execution_count": 297,
   "metadata": {},
   "outputs": [
    {
     "name": "stdout",
     "output_type": "stream",
     "text": [
      "Матрица ошибок\n",
      "[[1069  523]\n",
      " [ 131  277]]\n",
      "F1-score: 0.4586092715231788\n",
      "AUC-ROC: 0.7447470194107794\n"
     ]
    },
    {
     "data": {
      "image/png": "[encoded data removed]",
      "text/plain": [
       "<Figure size 432x288 with 1 Axes>"
      ]
     },
     "metadata": {
      "needs_background": "light"
     },
     "output_type": "display_data"
    }
   ],
   "source": [
    "metrics(target_valid, LogisticRegression_d_model)"
   ]
  },
  {
   "cell_type": "markdown",
   "metadata": {},
   "source": [
    "**Выводы**\n",
    "\n",
    "Заметно сильное снижение метрики F1-score:\n",
    "- исходная выборка 0.57\n",
    "- увеличение выборки 0.452\n",
    "- уменьшение выборки 0.458"
   ]
  },
  {
   "cell_type": "markdown",
   "metadata": {},
   "source": [
    "##### DecisionTreeClassifier"
   ]
  },
  {
   "cell_type": "code",
   "execution_count": 298,
   "metadata": {
    "scrolled": false
   },
   "outputs": [
    {
     "name": "stdout",
     "output_type": "stream",
     "text": [
      "Матрица ошибок\n",
      "[[1356  236]\n",
      " [ 143  265]]\n",
      "F1-score: 0.583058305830583\n",
      "AUC-ROC: 0.8206712176076459\n"
     ]
    },
    {
     "data": {
      "image/png": "[encoded data removed]",
      "text/plain": [
       "<Figure size 432x288 with 1 Axes>"
      ]
     },
     "metadata": {
      "needs_background": "light"
     },
     "output_type": "display_data"
    }
   ],
   "source": [
    "metrics(target_valid, DecisionTreeClassifier_u_model)"
   ]
  },
  {
   "cell_type": "code",
   "execution_count": 299,
   "metadata": {},
   "outputs": [
    {
     "name": "stdout",
     "output_type": "stream",
     "text": [
      "Матрица ошибок\n",
      "[[1223  369]\n",
      " [  95  313]]\n",
      "F1-score: 0.5743119266055047\n",
      "AUC-ROC: 0.8235478864912799\n"
     ]
    },
    {
     "data": {
      "image/png": "[encoded data removed]",
      "text/plain": [
       "<Figure size 432x288 with 1 Axes>"
      ]
     },
     "metadata": {
      "needs_background": "light"
     },
     "output_type": "display_data"
    }
   ],
   "source": [
    "metrics(target_valid, DecisionTreeClassifier_d_model)"
   ]
  },
  {
   "cell_type": "markdown",
   "metadata": {},
   "source": [
    "**Выводы**\n",
    "\n",
    "А тут увеличение выборки в лучшую сторону повлияло на метрику F1-score:\n",
    "- исходная выборка 0.575\n",
    "- увеличение выборки 0.583\n",
    "- уменьшение выборки 0.574"
   ]
  },
  {
   "cell_type": "markdown",
   "metadata": {},
   "source": [
    "##### RandomForestClassifier"
   ]
  },
  {
   "cell_type": "code",
   "execution_count": 300,
   "metadata": {},
   "outputs": [
    {
     "name": "stdout",
     "output_type": "stream",
     "text": [
      "Матрица ошибок\n",
      "[[1412  180]\n",
      " [ 147  261]]\n",
      "F1-score: 0.6148409893992933\n",
      "AUC-ROC: 0.8532760308897428\n"
     ]
    },
    {
     "data": {
      "image/png": "[encoded data removed]",
      "text/plain": [
       "<Figure size 432x288 with 1 Axes>"
      ]
     },
     "metadata": {
      "needs_background": "light"
     },
     "output_type": "display_data"
    }
   ],
   "source": [
    "metrics(target_valid, RandomForestClassifier_u_model)"
   ]
  },
  {
   "cell_type": "code",
   "execution_count": 301,
   "metadata": {},
   "outputs": [
    {
     "name": "stdout",
     "output_type": "stream",
     "text": [
      "Матрица ошибок\n",
      "[[1285  307]\n",
      " [  90  318]]\n",
      "F1-score: 0.6156824782187803\n",
      "AUC-ROC: 0.8714382266725786\n"
     ]
    },
    {
     "data": {
      "image/png": "[encoded data removed]",
      "text/plain": [
       "<Figure size 432x288 with 1 Axes>"
      ]
     },
     "metadata": {
      "needs_background": "light"
     },
     "output_type": "display_data"
    }
   ],
   "source": [
    "metrics(target_valid, RandomForestClassifier_d_model)"
   ]
  },
  {
   "cell_type": "markdown",
   "metadata": {},
   "source": [
    "**Выводы**\n",
    "\n",
    "В случае со случайным лесом также наблюдается снижение метрики F1-score:\n",
    "- исходная выборка 0.635\n",
    "- увеличение выборки 0.614\n",
    "- уменьшение выборки 0.615\n",
    "\n",
    "\n",
    "Для проверки на тестовой выборке, возьмем модель `RandomForestClassifier_b_model`, так как она показала наилучший результат на валидационных данных."
   ]
  },
  {
   "cell_type": "markdown",
   "metadata": {},
   "source": [
    "## Тестирование модели"
   ]
  },
  {
   "cell_type": "markdown",
   "metadata": {},
   "source": [
    "Просемплируем тестовую выборку и протестируем наилучшую модель `RandomForestClassifier`"
   ]
  },
  {
   "cell_type": "code",
   "execution_count": 302,
   "metadata": {
    "scrolled": false
   },
   "outputs": [
    {
     "name": "stdout",
     "output_type": "stream",
     "text": [
      "Матрица ошибок\n",
      "[[1385  208]\n",
      " [ 142  265]]\n",
      "F1-score: 0.6022727272727273\n",
      "AUC-ROC: 0.833986528901783\n"
     ]
    },
    {
     "data": {
      "image/png": "[encoded data removed]",
      "text/plain": [
       "<Figure size 432x288 with 1 Axes>"
      ]
     },
     "metadata": {
      "needs_background": "light"
     },
     "output_type": "display_data"
    }
   ],
   "source": [
    "print(\"Матрица ошибок\")\n",
    "print(confusion_matrix(target_test, RandomForestClassifier_b_model.predict(features_test)))\n",
    "print(\"F1-score:\",f1_score(target_test, RandomForestClassifier_b_model.predict(features_test)))\n",
    "probabilities_valid = RandomForestClassifier_b_model.predict_proba(features_test)\n",
    "probabilities_one_valid = probabilities_valid[:, 1]\n",
    "print(\"AUC-ROC:\", roc_auc_score(target_test, probabilities_one_valid))\n",
    "fpr, tpr, thresholds = roc_curve(target_test, probabilities_one_valid)\n",
    "plt.figure()\n",
    "plt.plot([0, 1], [0, 1], linestyle='--')\n",
    "plt.plot(fpr, tpr)\n",
    "plt.xlim([0.0, 1.0])\n",
    "plt.ylim([0.0, 1.0])\n",
    "plt.xlabel('False Positive Rate')\n",
    "plt.ylabel('True Positive Rate')\n",
    "plt.title('ROC-кривая')\n",
    "plt.show()"
   ]
  },
  {
   "cell_type": "markdown",
   "metadata": {},
   "source": [
    "**Выводы**\n",
    "\n",
    "\n",
    "На тестовой выборке видно что характеристика ROC-кривой снизилась на 0.03. Значение для F1-меры в 0.59 достигнуто и составляет 0.602. "
   ]
  },
  {
   "cell_type": "markdown",
   "metadata": {},
   "source": [
    "## Заключение"
   ]
  },
  {
   "cell_type": "markdown",
   "metadata": {},
   "source": [
    "**Целью** исследования являлось создание модели способной прогнозировать, уйдёт клиент из банка в ближайшее время или нет.\n",
    "\n",
    "\n",
    "**Выполненые задачи:**\n",
    "\n",
    "- предобработка данных ✔️\n",
    "- исследовать баланс классов ✔️\n",
    "- изучить модели без учета дисбаланса ✔️\n",
    "- применить методы балансировки данных ✔️\n",
    "    - взвешивание классов\n",
    "    - увеличение выборки\n",
    "- достичь значения F1-меры 0.59 ✔️\n",
    "\n",
    "**Структура датасета:**\n",
    "\n",
    "- `RowNumber` — индекс строки в данных\n",
    "- `CustomerId` — уникальный идентификатор клиента\n",
    "- `Surname` — фамилия\n",
    "- `CreditScore` — кредитный рейтинг\n",
    "- `Geography` — страна проживания\n",
    "- `Gender` — пол\n",
    "- `Age` — возраст\n",
    "- `Tenure` — сколько лет человек является клиентом банка\n",
    "- `Balance` — баланс на счёте\n",
    "- `NumOfProducts` — количество продуктов банка, используемых клиентом\n",
    "- `HasCrCard` — наличие кредитной карты\n",
    "- `IsActiveMember` — активность клиента\n",
    "- `EstimatedSalary` — предполагаемая зарплата\n",
    "\n",
    "Ключевым признаком являлся парметр `Exited` — факт ухода клиента. При разбиении данных на выборки (тренировачную, валидационную и тестовую) данные были стратифицированны. \n",
    "\n",
    "\n",
    "**Выбор модели**\n",
    "\n",
    "Были рассмотрены три модели `DecisionTreeClassifier`, `RandomForestClassifier` и `LogisticRegression`.\n",
    "\n",
    "\n",
    "**Обучение моделей без учета дисбаланса**\n",
    "\n",
    "Время обучения и показатели метрик для валидационной выборки:\n",
    "- `LogisticRegression` - 26.7 мс\n",
    "    - F1 - 0.08\n",
    "    - AUC-ROC - 0.69\n",
    "- `DecisionTreeClassifier` - 3.45 с\n",
    "    - F1 - 0.57\n",
    "    - AUC-ROC - 0.82\n",
    "- `RandomForestClassifier` - 11 мин 11 с\n",
    "    - F1 - 0.63\n",
    "    - AUC-ROC - 0.86\n",
    "\n",
    "\n",
    "**Обучение моделей с учетом дисбаланса (балансировка веса)**\n",
    "\n",
    "Время обучения и показатели метрик для валидационной выборки:\n",
    "- `LogisticRegression` - 65.2 мс\n",
    "    - F1 - 0.57\n",
    "    - AUC-ROC - 0.83\n",
    "- `DecisionTreeClassifier` - 3.52 с\n",
    "    - F1 - 0.57\n",
    "    - AUC-ROC - 0.81\n",
    "- `RandomForestClassifier` - 11 мин 30 с\n",
    "    - F1 - 0.63\n",
    "    - AUC-ROC - 0.86\n",
    "\n",
    "\n",
    "**Обучение моделей с учетом дисбаланса (балансировка веса + увеличение выборки)**\n",
    "\n",
    "Время обучения и показатели метрик для валидационной выборки:\n",
    "- `LogisticRegression` - 31.8 мс\n",
    "    - F1 - 0.45\n",
    "    - AUC-ROC - 0.72\n",
    "- `DecisionTreeClassifier` - 5.15 с\n",
    "    - F1 - 0.58\n",
    "    - AUC-ROC - 0.82\n",
    "- `RandomForestClassifier` - 18 мин 31 с\n",
    "    - F1 - 0.61\n",
    "    - AUC-ROC - 0.87\n",
    "    \n",
    "\n",
    "**Обучение моделей с учетом дисбаланса (балансировка веса + уменьшение выборки)**\n",
    "\n",
    "Время обучения и показатели метрик для валидационной выборки:\n",
    "- `LogisticRegression` - 15.3 мс\n",
    "    - F1 - 0.45\n",
    "    - AUC-ROC - 0.74\n",
    "- `DecisionTreeClassifier` - 1.8 с\n",
    "    - F1 - 0.57\n",
    "    - AUC-ROC - 0.82\n",
    "- `RandomForestClassifier` - 6 мин 48 с\n",
    "    - F1 - 0.61\n",
    "    - AUC-ROC - 0.87\n",
    "\n",
    "Для тестирования была выбрана модель `RandomForestClassifier_b_model`\n",
    "\n",
    "Результаты тестирования:\n",
    "\n",
    "- `RandomForestClassifier_b_model` \n",
    "    - F1 - 0.60\n",
    "    - AUC-ROC - 0.83\n",
    "\n",
    "Результаты на тестовой выборке показали, что уровень F1 в 0.59 модель`RandomForestClassifier` с балансировкой классов проходит.\n",
    "\n",
    "Предлагается в дальнейшем использовать модель `RandomForestClassifier` с балансировкой классов в силу наиболее точных результатов."
   ]
  },
  {
   "cell_type": "markdown",
   "metadata": {},
   "source": [
    "## Чек-лист готовности проекта"
   ]
  },
  {
   "cell_type": "markdown",
   "metadata": {},
   "source": [
    "Поставьте 'x' в выполненных пунктах. Далее нажмите Shift+Enter."
   ]
  },
  {
   "cell_type": "markdown",
   "metadata": {},
   "source": [
    "- [x]  Jupyter Notebook открыт\n",
    "- [ ]  Весь код выполняется без ошибок\n",
    "- [ ]  Ячейки с кодом расположены в порядке исполнения\n",
    "- [ ]  Выполнен шаг 1: данные подготовлены\n",
    "- [ ]  Выполнен шаг 2: задача исследована\n",
    "    - [ ]  Исследован баланс классов\n",
    "    - [ ]  Изучены модели без учёта дисбаланса\n",
    "    - [ ]  Написаны выводы по результатам исследования\n",
    "- [ ]  Выполнен шаг 3: учтён дисбаланс\n",
    "    - [ ]  Применено несколько способов борьбы с дисбалансом\n",
    "    - [ ]  Написаны выводы по результатам исследования\n",
    "- [ ]  Выполнен шаг 4: проведено тестирование\n",
    "- [ ]  Удалось достичь *F1*-меры не менее 0.59\n",
    "- [ ]  Исследована метрика *AUC-ROC*"
   ]
  },
  {
   "cell_type": "code",
   "execution_count": null,
   "metadata": {},
   "outputs": [],
   "source": []
  }
 ],
 "metadata": {
  "ExecuteTimeLog": [
   {
    "duration": 358,
    "start_time": "2023-06-20T18:40:10.714Z"
   },
   {
    "duration": 366,
    "start_time": "2023-06-20T18:40:39.824Z"
   },
   {
    "duration": 21,
    "start_time": "2023-06-20T18:40:46.122Z"
   },
   {
    "duration": 18,
    "start_time": "2023-06-20T18:40:54.070Z"
   },
   {
    "duration": 78,
    "start_time": "2023-06-20T18:41:24.628Z"
   },
   {
    "duration": 8,
    "start_time": "2023-06-20T18:41:36.595Z"
   },
   {
    "duration": 10,
    "start_time": "2023-06-20T18:41:52.211Z"
   },
   {
    "duration": 9,
    "start_time": "2023-06-20T18:41:59.645Z"
   },
   {
    "duration": 13,
    "start_time": "2023-06-20T18:42:17.739Z"
   },
   {
    "duration": 1591,
    "start_time": "2023-06-20T18:44:32.033Z"
   },
   {
    "duration": 1135,
    "start_time": "2023-06-20T18:44:45.138Z"
   },
   {
    "duration": 1537,
    "start_time": "2023-06-20T18:45:25.085Z"
   },
   {
    "duration": 820,
    "start_time": "2023-06-20T18:53:18.824Z"
   },
   {
    "duration": 132,
    "start_time": "2023-06-20T18:54:39.797Z"
   },
   {
    "duration": 146,
    "start_time": "2023-06-20T18:55:01.571Z"
   },
   {
    "duration": 12,
    "start_time": "2023-06-20T18:55:07.480Z"
   },
   {
    "duration": 10,
    "start_time": "2023-06-20T18:55:43.346Z"
   },
   {
    "duration": 11,
    "start_time": "2023-06-20T18:56:20.458Z"
   },
   {
    "duration": 1432,
    "start_time": "2023-06-28T07:50:05.305Z"
   },
   {
    "duration": 85,
    "start_time": "2023-06-28T07:50:06.739Z"
   },
   {
    "duration": 15,
    "start_time": "2023-06-28T07:50:06.826Z"
   },
   {
    "duration": 21,
    "start_time": "2023-06-28T07:50:06.843Z"
   },
   {
    "duration": 1987,
    "start_time": "2023-06-28T07:50:06.866Z"
   },
   {
    "duration": 8,
    "start_time": "2023-06-28T07:50:08.855Z"
   },
   {
    "duration": 426,
    "start_time": "2023-06-28T07:50:08.864Z"
   },
   {
    "duration": 0,
    "start_time": "2023-06-28T07:50:09.294Z"
   },
   {
    "duration": 12,
    "start_time": "2023-06-28T07:50:13.002Z"
   },
   {
    "duration": 10,
    "start_time": "2023-06-28T07:50:14.449Z"
   },
   {
    "duration": 4,
    "start_time": "2023-06-28T08:10:56.348Z"
   },
   {
    "duration": 83,
    "start_time": "2023-06-28T08:10:56.354Z"
   },
   {
    "duration": 17,
    "start_time": "2023-06-28T08:10:56.439Z"
   },
   {
    "duration": 46,
    "start_time": "2023-06-28T08:10:56.458Z"
   },
   {
    "duration": 1587,
    "start_time": "2023-06-28T08:10:56.513Z"
   },
   {
    "duration": 7,
    "start_time": "2023-06-28T08:10:58.102Z"
   },
   {
    "duration": 33,
    "start_time": "2023-06-28T08:10:58.111Z"
   },
   {
    "duration": 15,
    "start_time": "2023-06-28T08:10:58.145Z"
   },
   {
    "duration": 132,
    "start_time": "2023-06-28T08:28:25.356Z"
   },
   {
    "duration": 41,
    "start_time": "2023-06-28T08:28:53.639Z"
   },
   {
    "duration": 23,
    "start_time": "2023-06-28T08:28:56.325Z"
   },
   {
    "duration": 55,
    "start_time": "2023-06-28T08:29:11.868Z"
   },
   {
    "duration": 21,
    "start_time": "2023-06-28T08:29:15.129Z"
   },
   {
    "duration": 39,
    "start_time": "2023-06-28T08:29:20.672Z"
   },
   {
    "duration": 3,
    "start_time": "2023-06-28T08:29:25.942Z"
   },
   {
    "duration": 3,
    "start_time": "2023-06-28T08:30:06.049Z"
   },
   {
    "duration": 244,
    "start_time": "2023-06-28T08:30:49.793Z"
   },
   {
    "duration": 3,
    "start_time": "2023-06-28T08:30:59.757Z"
   },
   {
    "duration": 91,
    "start_time": "2023-06-28T08:30:59.762Z"
   },
   {
    "duration": 12,
    "start_time": "2023-06-28T08:30:59.854Z"
   },
   {
    "duration": 49,
    "start_time": "2023-06-28T08:30:59.867Z"
   },
   {
    "duration": 1539,
    "start_time": "2023-06-28T08:30:59.917Z"
   },
   {
    "duration": 6,
    "start_time": "2023-06-28T08:31:01.458Z"
   },
   {
    "duration": 77,
    "start_time": "2023-06-28T08:31:01.465Z"
   },
   {
    "duration": 112,
    "start_time": "2023-06-28T08:31:01.543Z"
   },
   {
    "duration": 558,
    "start_time": "2023-06-28T08:31:01.658Z"
   },
   {
    "duration": 8,
    "start_time": "2023-06-28T08:31:17.766Z"
   },
   {
    "duration": 608,
    "start_time": "2023-06-28T08:31:19.406Z"
   },
   {
    "duration": 300,
    "start_time": "2023-06-28T08:33:54.524Z"
   },
   {
    "duration": 128,
    "start_time": "2023-06-28T08:33:56.735Z"
   },
   {
    "duration": 112,
    "start_time": "2023-06-28T08:33:57.556Z"
   },
   {
    "duration": 395,
    "start_time": "2023-06-28T08:33:59.519Z"
   },
   {
    "duration": 18,
    "start_time": "2023-06-28T08:34:22.621Z"
   },
   {
    "duration": 51,
    "start_time": "2023-06-28T08:37:44.207Z"
   },
   {
    "duration": 1176,
    "start_time": "2023-06-28T08:37:49.515Z"
   },
   {
    "duration": 52,
    "start_time": "2023-06-28T08:37:50.693Z"
   },
   {
    "duration": 13,
    "start_time": "2023-06-28T08:37:50.747Z"
   },
   {
    "duration": 23,
    "start_time": "2023-06-28T08:37:50.762Z"
   },
   {
    "duration": 17,
    "start_time": "2023-06-28T08:37:52.750Z"
   },
   {
    "duration": 3,
    "start_time": "2023-06-28T08:38:21.557Z"
   },
   {
    "duration": 104,
    "start_time": "2023-06-28T08:38:21.562Z"
   },
   {
    "duration": 15,
    "start_time": "2023-06-28T08:38:21.668Z"
   },
   {
    "duration": 49,
    "start_time": "2023-06-28T08:38:21.685Z"
   },
   {
    "duration": 12,
    "start_time": "2023-06-28T08:38:21.736Z"
   },
   {
    "duration": 1807,
    "start_time": "2023-06-28T08:38:21.750Z"
   },
   {
    "duration": 308,
    "start_time": "2023-06-28T08:38:23.559Z"
   },
   {
    "duration": 145,
    "start_time": "2023-06-28T08:38:23.869Z"
   },
   {
    "duration": 103,
    "start_time": "2023-06-28T08:38:26.112Z"
   },
   {
    "duration": 21,
    "start_time": "2023-06-28T08:38:39.997Z"
   },
   {
    "duration": 3,
    "start_time": "2023-06-28T08:39:45.619Z"
   },
   {
    "duration": 441,
    "start_time": "2023-06-28T08:41:14.403Z"
   },
   {
    "duration": 3,
    "start_time": "2023-06-28T08:41:28.864Z"
   },
   {
    "duration": 379,
    "start_time": "2023-06-28T08:41:31.594Z"
   },
   {
    "duration": 265,
    "start_time": "2023-06-28T08:42:05.001Z"
   },
   {
    "duration": 449,
    "start_time": "2023-06-28T08:43:18.417Z"
   },
   {
    "duration": 900,
    "start_time": "2023-06-28T08:43:25.341Z"
   },
   {
    "duration": 28,
    "start_time": "2023-06-28T08:44:55.914Z"
   },
   {
    "duration": 3,
    "start_time": "2023-06-28T08:45:08.913Z"
   },
   {
    "duration": 38,
    "start_time": "2023-06-28T08:45:13.060Z"
   },
   {
    "duration": 473,
    "start_time": "2023-06-28T08:45:17.201Z"
   },
   {
    "duration": 1153,
    "start_time": "2023-07-03T11:22:03.558Z"
   },
   {
    "duration": 158,
    "start_time": "2023-07-03T11:22:04.713Z"
   },
   {
    "duration": 20,
    "start_time": "2023-07-03T11:22:04.872Z"
   },
   {
    "duration": 23,
    "start_time": "2023-07-03T11:22:04.895Z"
   },
   {
    "duration": 16,
    "start_time": "2023-07-03T11:22:04.920Z"
   },
   {
    "duration": 1754,
    "start_time": "2023-07-03T11:22:04.938Z"
   },
   {
    "duration": 306,
    "start_time": "2023-07-03T11:22:06.694Z"
   },
   {
    "duration": 130,
    "start_time": "2023-07-03T11:22:07.001Z"
   },
   {
    "duration": 106,
    "start_time": "2023-07-03T11:22:07.133Z"
   },
   {
    "duration": 26,
    "start_time": "2023-07-03T11:22:07.242Z"
   },
   {
    "duration": 31,
    "start_time": "2023-07-03T11:22:07.270Z"
   },
   {
    "duration": 26,
    "start_time": "2023-07-03T11:22:17.892Z"
   },
   {
    "duration": 8,
    "start_time": "2023-07-03T11:23:32.996Z"
   },
   {
    "duration": 37,
    "start_time": "2023-07-03T11:24:44.777Z"
   },
   {
    "duration": 8,
    "start_time": "2023-07-03T11:24:56.194Z"
   },
   {
    "duration": 167,
    "start_time": "2023-07-03T11:27:17.950Z"
   },
   {
    "duration": 119,
    "start_time": "2023-07-03T11:27:21.999Z"
   },
   {
    "duration": 115,
    "start_time": "2023-07-03T11:31:22.423Z"
   },
   {
    "duration": 21,
    "start_time": "2023-07-03T11:32:44.645Z"
   },
   {
    "duration": 18,
    "start_time": "2023-07-03T11:32:53.315Z"
   },
   {
    "duration": 3,
    "start_time": "2023-07-03T11:33:48.947Z"
   },
   {
    "duration": 54,
    "start_time": "2023-07-03T11:33:48.952Z"
   },
   {
    "duration": 14,
    "start_time": "2023-07-03T11:33:49.007Z"
   },
   {
    "duration": 11,
    "start_time": "2023-07-03T11:33:49.022Z"
   },
   {
    "duration": 7,
    "start_time": "2023-07-03T11:33:49.035Z"
   },
   {
    "duration": 151,
    "start_time": "2023-07-03T11:33:49.044Z"
   },
   {
    "duration": 21,
    "start_time": "2023-07-03T11:34:02.557Z"
   },
   {
    "duration": 6,
    "start_time": "2023-07-03T11:37:28.497Z"
   },
   {
    "duration": 7,
    "start_time": "2023-07-03T11:37:38.303Z"
   },
   {
    "duration": 7,
    "start_time": "2023-07-03T11:38:03.359Z"
   },
   {
    "duration": 7,
    "start_time": "2023-07-03T11:38:05.783Z"
   },
   {
    "duration": 5,
    "start_time": "2023-07-03T11:39:31.661Z"
   },
   {
    "duration": 8,
    "start_time": "2023-07-03T11:39:33.604Z"
   },
   {
    "duration": 8,
    "start_time": "2023-07-03T11:39:47.206Z"
   },
   {
    "duration": 15,
    "start_time": "2023-07-03T11:44:38.305Z"
   },
   {
    "duration": 4,
    "start_time": "2023-07-03T11:46:47.127Z"
   },
   {
    "duration": 22,
    "start_time": "2023-07-03T11:47:43.318Z"
   },
   {
    "duration": 15,
    "start_time": "2023-07-03T11:48:04.919Z"
   },
   {
    "duration": 12,
    "start_time": "2023-07-03T11:51:13.762Z"
   },
   {
    "duration": 131,
    "start_time": "2023-07-03T11:51:17.212Z"
   },
   {
    "duration": 8,
    "start_time": "2023-07-03T11:51:20.512Z"
   },
   {
    "duration": 10,
    "start_time": "2023-07-03T11:51:23.362Z"
   },
   {
    "duration": 18,
    "start_time": "2023-07-03T11:51:33.865Z"
   },
   {
    "duration": 19,
    "start_time": "2023-07-03T11:52:14.377Z"
   },
   {
    "duration": 19,
    "start_time": "2023-07-03T11:52:55.743Z"
   },
   {
    "duration": 4,
    "start_time": "2023-07-03T11:53:03.425Z"
   },
   {
    "duration": 83,
    "start_time": "2023-07-03T11:53:03.431Z"
   },
   {
    "duration": 12,
    "start_time": "2023-07-03T11:53:03.515Z"
   },
   {
    "duration": 19,
    "start_time": "2023-07-03T11:53:03.528Z"
   },
   {
    "duration": 13,
    "start_time": "2023-07-03T11:53:03.549Z"
   },
   {
    "duration": 6,
    "start_time": "2023-07-03T11:53:03.564Z"
   },
   {
    "duration": 119,
    "start_time": "2023-07-03T11:53:03.572Z"
   },
   {
    "duration": 17,
    "start_time": "2023-07-03T11:53:03.693Z"
   },
   {
    "duration": 7,
    "start_time": "2023-07-03T11:53:03.712Z"
   },
   {
    "duration": 14,
    "start_time": "2023-07-03T11:53:03.720Z"
   },
   {
    "duration": 1428,
    "start_time": "2023-07-03T11:53:03.735Z"
   },
   {
    "duration": 20,
    "start_time": "2023-07-03T11:53:08.664Z"
   },
   {
    "duration": 271,
    "start_time": "2023-07-03T11:53:36.273Z"
   },
   {
    "duration": 109,
    "start_time": "2023-07-03T11:53:37.874Z"
   },
   {
    "duration": 81,
    "start_time": "2023-07-03T11:53:39.223Z"
   },
   {
    "duration": 18,
    "start_time": "2023-07-03T11:53:40.633Z"
   },
   {
    "duration": 23,
    "start_time": "2023-07-03T11:53:43.804Z"
   },
   {
    "duration": 24,
    "start_time": "2023-07-03T11:53:44.996Z"
   },
   {
    "duration": 136288,
    "start_time": "2023-07-03T11:53:47.335Z"
   },
   {
    "duration": 3,
    "start_time": "2023-07-03T11:57:10.603Z"
   },
   {
    "duration": 44,
    "start_time": "2023-07-03T11:57:10.608Z"
   },
   {
    "duration": 11,
    "start_time": "2023-07-03T11:57:10.654Z"
   },
   {
    "duration": 16,
    "start_time": "2023-07-03T11:57:10.666Z"
   },
   {
    "duration": 14,
    "start_time": "2023-07-03T11:57:10.684Z"
   },
   {
    "duration": 8,
    "start_time": "2023-07-03T11:57:10.699Z"
   },
   {
    "duration": 124,
    "start_time": "2023-07-03T11:57:10.708Z"
   },
   {
    "duration": 22,
    "start_time": "2023-07-03T11:57:10.833Z"
   },
   {
    "duration": 20,
    "start_time": "2023-07-03T11:57:10.856Z"
   },
   {
    "duration": 14,
    "start_time": "2023-07-03T11:57:10.877Z"
   },
   {
    "duration": 1213,
    "start_time": "2023-07-03T11:57:10.893Z"
   },
   {
    "duration": 21,
    "start_time": "2023-07-03T11:57:12.108Z"
   },
   {
    "duration": 264,
    "start_time": "2023-07-03T11:57:12.131Z"
   },
   {
    "duration": 112,
    "start_time": "2023-07-03T11:57:12.398Z"
   },
   {
    "duration": 87,
    "start_time": "2023-07-03T11:57:12.512Z"
   },
   {
    "duration": 19,
    "start_time": "2023-07-03T11:57:12.601Z"
   },
   {
    "duration": 19,
    "start_time": "2023-07-03T11:57:12.622Z"
   },
   {
    "duration": 44,
    "start_time": "2023-07-03T11:57:12.642Z"
   },
   {
    "duration": 140013,
    "start_time": "2023-07-03T11:57:12.688Z"
   },
   {
    "duration": 4,
    "start_time": "2023-07-03T12:04:29.756Z"
   },
   {
    "duration": 39,
    "start_time": "2023-07-03T12:04:29.761Z"
   },
   {
    "duration": 11,
    "start_time": "2023-07-03T12:04:29.802Z"
   },
   {
    "duration": 9,
    "start_time": "2023-07-03T12:04:29.814Z"
   },
   {
    "duration": 14,
    "start_time": "2023-07-03T12:04:29.825Z"
   },
   {
    "duration": 7,
    "start_time": "2023-07-03T12:04:29.840Z"
   },
   {
    "duration": 115,
    "start_time": "2023-07-03T12:04:29.848Z"
   },
   {
    "duration": 18,
    "start_time": "2023-07-03T12:04:29.965Z"
   },
   {
    "duration": 8,
    "start_time": "2023-07-03T12:04:29.984Z"
   },
   {
    "duration": 13,
    "start_time": "2023-07-03T12:04:29.993Z"
   },
   {
    "duration": 1451,
    "start_time": "2023-07-03T12:04:30.007Z"
   },
   {
    "duration": 21,
    "start_time": "2023-07-03T12:04:31.460Z"
   },
   {
    "duration": 16,
    "start_time": "2023-07-03T12:07:20.666Z"
   },
   {
    "duration": 4,
    "start_time": "2023-07-03T12:07:41.563Z"
   },
   {
    "duration": 56,
    "start_time": "2023-07-03T12:07:41.569Z"
   },
   {
    "duration": 13,
    "start_time": "2023-07-03T12:07:41.627Z"
   },
   {
    "duration": 16,
    "start_time": "2023-07-03T12:07:41.641Z"
   },
   {
    "duration": 16,
    "start_time": "2023-07-03T12:07:41.659Z"
   },
   {
    "duration": 7,
    "start_time": "2023-07-03T12:07:41.676Z"
   },
   {
    "duration": 143,
    "start_time": "2023-07-03T12:07:41.685Z"
   },
   {
    "duration": 20,
    "start_time": "2023-07-03T12:07:41.830Z"
   },
   {
    "duration": 18,
    "start_time": "2023-07-03T12:07:41.852Z"
   },
   {
    "duration": 16,
    "start_time": "2023-07-03T12:07:41.872Z"
   },
   {
    "duration": 1498,
    "start_time": "2023-07-03T12:07:41.890Z"
   },
   {
    "duration": 22,
    "start_time": "2023-07-03T12:07:43.390Z"
   },
   {
    "duration": 17,
    "start_time": "2023-07-03T12:07:43.414Z"
   },
   {
    "duration": 0,
    "start_time": "2023-07-03T12:07:43.433Z"
   },
   {
    "duration": 0,
    "start_time": "2023-07-03T12:07:43.434Z"
   },
   {
    "duration": 0,
    "start_time": "2023-07-03T12:07:43.435Z"
   },
   {
    "duration": 0,
    "start_time": "2023-07-03T12:07:43.436Z"
   },
   {
    "duration": 0,
    "start_time": "2023-07-03T12:07:43.438Z"
   },
   {
    "duration": 0,
    "start_time": "2023-07-03T12:07:43.439Z"
   },
   {
    "duration": 13,
    "start_time": "2023-07-03T12:08:38.068Z"
   },
   {
    "duration": 2125,
    "start_time": "2023-07-03T12:08:45.717Z"
   },
   {
    "duration": 4,
    "start_time": "2023-07-03T12:08:57.156Z"
   },
   {
    "duration": 39,
    "start_time": "2023-07-03T12:08:57.162Z"
   },
   {
    "duration": 12,
    "start_time": "2023-07-03T12:08:57.203Z"
   },
   {
    "duration": 20,
    "start_time": "2023-07-03T12:08:57.217Z"
   },
   {
    "duration": 18,
    "start_time": "2023-07-03T12:08:57.238Z"
   },
   {
    "duration": 8,
    "start_time": "2023-07-03T12:08:57.257Z"
   },
   {
    "duration": 124,
    "start_time": "2023-07-03T12:08:57.266Z"
   },
   {
    "duration": 17,
    "start_time": "2023-07-03T12:08:57.391Z"
   },
   {
    "duration": 7,
    "start_time": "2023-07-03T12:08:57.410Z"
   },
   {
    "duration": 12,
    "start_time": "2023-07-03T12:08:57.418Z"
   },
   {
    "duration": 1207,
    "start_time": "2023-07-03T12:08:57.432Z"
   },
   {
    "duration": 28,
    "start_time": "2023-07-03T12:08:58.641Z"
   },
   {
    "duration": 14,
    "start_time": "2023-07-03T12:09:01.817Z"
   },
   {
    "duration": 240,
    "start_time": "2023-07-03T12:13:28.342Z"
   },
   {
    "duration": 98,
    "start_time": "2023-07-03T12:13:31.161Z"
   },
   {
    "duration": 78,
    "start_time": "2023-07-03T12:13:32.171Z"
   },
   {
    "duration": 18,
    "start_time": "2023-07-03T12:13:33.161Z"
   },
   {
    "duration": 23,
    "start_time": "2023-07-03T12:13:43.620Z"
   },
   {
    "duration": 22,
    "start_time": "2023-07-03T12:13:45.512Z"
   },
   {
    "duration": 4,
    "start_time": "2023-07-03T12:15:15.101Z"
   },
   {
    "duration": 527,
    "start_time": "2023-07-03T12:15:31.795Z"
   },
   {
    "duration": 567,
    "start_time": "2023-07-03T12:37:09.474Z"
   },
   {
    "duration": 140782,
    "start_time": "2023-07-03T12:49:27.556Z"
   },
   {
    "duration": 4,
    "start_time": "2023-07-03T12:51:48.341Z"
   },
   {
    "duration": 4,
    "start_time": "2023-07-03T12:55:43.075Z"
   },
   {
    "duration": 40,
    "start_time": "2023-07-03T12:55:43.081Z"
   },
   {
    "duration": 14,
    "start_time": "2023-07-03T12:55:43.122Z"
   },
   {
    "duration": 12,
    "start_time": "2023-07-03T12:55:43.138Z"
   },
   {
    "duration": 30,
    "start_time": "2023-07-03T12:55:43.152Z"
   },
   {
    "duration": 9,
    "start_time": "2023-07-03T12:55:43.184Z"
   },
   {
    "duration": 120,
    "start_time": "2023-07-03T12:55:43.194Z"
   },
   {
    "duration": 16,
    "start_time": "2023-07-03T12:55:43.316Z"
   },
   {
    "duration": 7,
    "start_time": "2023-07-03T12:55:43.334Z"
   },
   {
    "duration": 32,
    "start_time": "2023-07-03T12:55:43.343Z"
   },
   {
    "duration": 1423,
    "start_time": "2023-07-03T12:55:43.376Z"
   },
   {
    "duration": 22,
    "start_time": "2023-07-03T12:55:44.801Z"
   },
   {
    "duration": 62,
    "start_time": "2023-07-03T12:55:54.561Z"
   },
   {
    "duration": 97,
    "start_time": "2023-07-03T12:55:56.613Z"
   },
   {
    "duration": 81,
    "start_time": "2023-07-03T12:55:57.471Z"
   },
   {
    "duration": 124586,
    "start_time": "2023-07-03T12:56:01.842Z"
   },
   {
    "duration": 10,
    "start_time": "2023-07-03T12:59:06.644Z"
   },
   {
    "duration": 13,
    "start_time": "2023-07-03T12:59:20.895Z"
   },
   {
    "duration": 6,
    "start_time": "2023-07-03T12:59:45.098Z"
   },
   {
    "duration": 7,
    "start_time": "2023-07-03T12:59:50.294Z"
   },
   {
    "duration": 8,
    "start_time": "2023-07-03T12:59:51.015Z"
   },
   {
    "duration": 12,
    "start_time": "2023-07-03T12:59:53.247Z"
   },
   {
    "duration": 120,
    "start_time": "2023-07-03T12:59:59.736Z"
   },
   {
    "duration": 4,
    "start_time": "2023-07-03T13:00:27.151Z"
   },
   {
    "duration": 41,
    "start_time": "2023-07-03T13:00:27.157Z"
   },
   {
    "duration": 15,
    "start_time": "2023-07-03T13:00:27.200Z"
   },
   {
    "duration": 12,
    "start_time": "2023-07-03T13:00:27.217Z"
   },
   {
    "duration": 16,
    "start_time": "2023-07-03T13:00:27.231Z"
   },
   {
    "duration": 11,
    "start_time": "2023-07-03T13:00:27.249Z"
   },
   {
    "duration": 128,
    "start_time": "2023-07-03T13:00:27.270Z"
   },
   {
    "duration": 17,
    "start_time": "2023-07-03T13:00:27.399Z"
   },
   {
    "duration": 7,
    "start_time": "2023-07-03T13:00:27.418Z"
   },
   {
    "duration": 12,
    "start_time": "2023-07-03T13:00:27.427Z"
   },
   {
    "duration": 1188,
    "start_time": "2023-07-03T13:00:27.440Z"
   },
   {
    "duration": 19,
    "start_time": "2023-07-03T13:00:28.629Z"
   },
   {
    "duration": 168,
    "start_time": "2023-07-03T13:00:33.615Z"
   },
   {
    "duration": 21,
    "start_time": "2023-07-03T13:01:35.336Z"
   },
   {
    "duration": 3,
    "start_time": "2023-07-03T13:01:43.366Z"
   },
   {
    "duration": 41,
    "start_time": "2023-07-03T13:01:43.371Z"
   },
   {
    "duration": 11,
    "start_time": "2023-07-03T13:01:43.413Z"
   },
   {
    "duration": 10,
    "start_time": "2023-07-03T13:01:43.426Z"
   },
   {
    "duration": 15,
    "start_time": "2023-07-03T13:01:43.437Z"
   },
   {
    "duration": 7,
    "start_time": "2023-07-03T13:01:43.453Z"
   },
   {
    "duration": 240,
    "start_time": "2023-07-03T13:01:43.461Z"
   },
   {
    "duration": 17,
    "start_time": "2023-07-03T13:01:43.702Z"
   },
   {
    "duration": 7,
    "start_time": "2023-07-03T13:01:43.721Z"
   },
   {
    "duration": 14,
    "start_time": "2023-07-03T13:01:43.729Z"
   },
   {
    "duration": 1254,
    "start_time": "2023-07-03T13:01:43.744Z"
   },
   {
    "duration": 21,
    "start_time": "2023-07-03T13:01:44.999Z"
   },
   {
    "duration": 45,
    "start_time": "2023-07-03T13:01:45.021Z"
   },
   {
    "duration": 0,
    "start_time": "2023-07-03T13:01:45.068Z"
   },
   {
    "duration": 0,
    "start_time": "2023-07-03T13:01:45.069Z"
   },
   {
    "duration": 0,
    "start_time": "2023-07-03T13:01:45.071Z"
   },
   {
    "duration": 0,
    "start_time": "2023-07-03T13:01:45.072Z"
   },
   {
    "duration": 0,
    "start_time": "2023-07-03T13:01:45.073Z"
   },
   {
    "duration": 0,
    "start_time": "2023-07-03T13:01:45.074Z"
   },
   {
    "duration": 14,
    "start_time": "2023-07-03T13:02:20.398Z"
   },
   {
    "duration": 13,
    "start_time": "2023-07-03T13:02:29.028Z"
   },
   {
    "duration": 3,
    "start_time": "2023-07-03T13:02:39.192Z"
   },
   {
    "duration": 61,
    "start_time": "2023-07-03T13:02:39.198Z"
   },
   {
    "duration": 12,
    "start_time": "2023-07-03T13:02:39.261Z"
   },
   {
    "duration": 26,
    "start_time": "2023-07-03T13:02:39.274Z"
   },
   {
    "duration": 45,
    "start_time": "2023-07-03T13:02:39.302Z"
   },
   {
    "duration": 10,
    "start_time": "2023-07-03T13:02:39.349Z"
   },
   {
    "duration": 121,
    "start_time": "2023-07-03T13:02:39.361Z"
   },
   {
    "duration": 23,
    "start_time": "2023-07-03T13:02:39.484Z"
   },
   {
    "duration": 8,
    "start_time": "2023-07-03T13:02:39.508Z"
   },
   {
    "duration": 25,
    "start_time": "2023-07-03T13:02:39.517Z"
   },
   {
    "duration": 1349,
    "start_time": "2023-07-03T13:02:39.543Z"
   },
   {
    "duration": 21,
    "start_time": "2023-07-03T13:02:40.893Z"
   },
   {
    "duration": 18,
    "start_time": "2023-07-03T13:02:45.618Z"
   },
   {
    "duration": 12,
    "start_time": "2023-07-03T13:03:06.728Z"
   },
   {
    "duration": 6,
    "start_time": "2023-07-03T13:03:09.459Z"
   },
   {
    "duration": 6,
    "start_time": "2023-07-03T13:03:10.218Z"
   },
   {
    "duration": 12,
    "start_time": "2023-07-03T13:03:11.258Z"
   },
   {
    "duration": 19,
    "start_time": "2023-07-03T13:03:12.088Z"
   },
   {
    "duration": 15,
    "start_time": "2023-07-03T13:03:13.157Z"
   },
   {
    "duration": 21,
    "start_time": "2023-07-03T13:03:14.792Z"
   },
   {
    "duration": 13,
    "start_time": "2023-07-03T13:07:03.543Z"
   },
   {
    "duration": 123,
    "start_time": "2023-07-03T13:07:58.003Z"
   },
   {
    "duration": 4355,
    "start_time": "2023-07-03T13:08:40.773Z"
   },
   {
    "duration": 4354,
    "start_time": "2023-07-03T13:09:01.903Z"
   },
   {
    "duration": 462663,
    "start_time": "2023-07-03T13:11:15.106Z"
   },
   {
    "duration": 138,
    "start_time": "2023-07-03T13:40:54.635Z"
   },
   {
    "duration": 4152,
    "start_time": "2023-07-03T13:41:04.663Z"
   },
   {
    "duration": 4345,
    "start_time": "2023-07-03T13:41:30.214Z"
   },
   {
    "duration": 467456,
    "start_time": "2023-07-03T13:42:08.806Z"
   },
   {
    "duration": 1384,
    "start_time": "2023-07-04T07:33:30.043Z"
   },
   {
    "duration": 166,
    "start_time": "2023-07-04T07:33:31.429Z"
   },
   {
    "duration": 13,
    "start_time": "2023-07-04T07:33:31.597Z"
   },
   {
    "duration": 56,
    "start_time": "2023-07-04T07:33:31.612Z"
   },
   {
    "duration": 17,
    "start_time": "2023-07-04T07:33:31.671Z"
   },
   {
    "duration": 11,
    "start_time": "2023-07-04T07:33:31.690Z"
   },
   {
    "duration": 601,
    "start_time": "2023-07-04T07:33:31.704Z"
   },
   {
    "duration": 26,
    "start_time": "2023-07-04T07:33:32.314Z"
   },
   {
    "duration": 10,
    "start_time": "2023-07-04T07:33:32.342Z"
   },
   {
    "duration": 31,
    "start_time": "2023-07-04T07:33:32.354Z"
   },
   {
    "duration": 1489,
    "start_time": "2023-07-04T07:33:32.387Z"
   },
   {
    "duration": 27,
    "start_time": "2023-07-04T07:33:33.878Z"
   },
   {
    "duration": 9,
    "start_time": "2023-07-04T07:33:33.915Z"
   },
   {
    "duration": 37,
    "start_time": "2023-07-04T07:33:33.927Z"
   },
   {
    "duration": 34,
    "start_time": "2023-07-04T07:33:33.966Z"
   },
   {
    "duration": 24,
    "start_time": "2023-07-04T07:33:34.002Z"
   },
   {
    "duration": 29,
    "start_time": "2023-07-04T07:33:34.027Z"
   },
   {
    "duration": 40,
    "start_time": "2023-07-04T07:33:34.057Z"
   },
   {
    "duration": 17,
    "start_time": "2023-07-04T07:33:34.099Z"
   },
   {
    "duration": 202,
    "start_time": "2023-07-04T07:33:34.118Z"
   },
   {
    "duration": 4681,
    "start_time": "2023-07-04T07:33:34.322Z"
   },
   {
    "duration": 502757,
    "start_time": "2023-07-04T07:33:39.004Z"
   },
   {
    "duration": 4,
    "start_time": "2023-07-04T07:42:01.763Z"
   },
   {
    "duration": 138,
    "start_time": "2023-07-04T07:42:43.936Z"
   },
   {
    "duration": 24,
    "start_time": "2023-07-04T07:43:08.236Z"
   },
   {
    "duration": 27,
    "start_time": "2023-07-04T07:44:54.958Z"
   },
   {
    "duration": 22,
    "start_time": "2023-07-04T07:45:03.819Z"
   },
   {
    "duration": 21,
    "start_time": "2023-07-04T07:45:19.438Z"
   },
   {
    "duration": 46,
    "start_time": "2023-07-04T07:45:59.669Z"
   },
   {
    "duration": 105,
    "start_time": "2023-07-04T07:46:20.111Z"
   },
   {
    "duration": 16,
    "start_time": "2023-07-04T07:46:30.959Z"
   },
   {
    "duration": 16,
    "start_time": "2023-07-04T07:47:43.350Z"
   },
   {
    "duration": 16,
    "start_time": "2023-07-04T07:49:39.982Z"
   },
   {
    "duration": 4,
    "start_time": "2023-07-04T07:50:01.764Z"
   },
   {
    "duration": 15,
    "start_time": "2023-07-04T07:50:08.582Z"
   },
   {
    "duration": 15,
    "start_time": "2023-07-04T07:51:08.865Z"
   },
   {
    "duration": 3,
    "start_time": "2023-07-04T07:51:53.255Z"
   },
   {
    "duration": 19,
    "start_time": "2023-07-04T07:52:09.374Z"
   },
   {
    "duration": 5,
    "start_time": "2023-07-04T07:52:28.205Z"
   },
   {
    "duration": 13,
    "start_time": "2023-07-04T07:54:56.578Z"
   },
   {
    "duration": 16,
    "start_time": "2023-07-04T07:55:01.578Z"
   },
   {
    "duration": 13,
    "start_time": "2023-07-04T07:55:08.837Z"
   },
   {
    "duration": 18,
    "start_time": "2023-07-04T07:55:21.107Z"
   },
   {
    "duration": 275,
    "start_time": "2023-07-04T07:57:05.539Z"
   },
   {
    "duration": 15,
    "start_time": "2023-07-04T07:57:11.209Z"
   },
   {
    "duration": 10,
    "start_time": "2023-07-04T07:57:24.019Z"
   },
   {
    "duration": 18,
    "start_time": "2023-07-04T07:57:34.600Z"
   },
   {
    "duration": 421,
    "start_time": "2023-07-04T08:00:14.612Z"
   },
   {
    "duration": 3,
    "start_time": "2023-07-04T08:01:51.834Z"
   },
   {
    "duration": 289,
    "start_time": "2023-07-04T08:01:56.414Z"
   },
   {
    "duration": 128,
    "start_time": "2023-07-04T08:02:35.265Z"
   },
   {
    "duration": 605,
    "start_time": "2023-07-04T08:05:04.977Z"
   },
   {
    "duration": 278,
    "start_time": "2023-07-04T08:05:13.067Z"
   },
   {
    "duration": 154,
    "start_time": "2023-07-04T08:08:31.391Z"
   },
   {
    "duration": 191,
    "start_time": "2023-07-04T08:08:36.163Z"
   },
   {
    "duration": 19,
    "start_time": "2023-07-04T08:11:56.612Z"
   },
   {
    "duration": 9,
    "start_time": "2023-07-04T08:12:25.443Z"
   },
   {
    "duration": 24,
    "start_time": "2023-07-04T08:12:51.503Z"
   },
   {
    "duration": 17,
    "start_time": "2023-07-04T08:14:05.839Z"
   },
   {
    "duration": 23,
    "start_time": "2023-07-04T08:14:10.134Z"
   },
   {
    "duration": 12,
    "start_time": "2023-07-04T08:14:31.155Z"
   },
   {
    "duration": 7,
    "start_time": "2023-07-04T08:14:34.828Z"
   },
   {
    "duration": 9,
    "start_time": "2023-07-04T08:14:39.205Z"
   },
   {
    "duration": 8,
    "start_time": "2023-07-04T08:14:43.845Z"
   },
   {
    "duration": 8,
    "start_time": "2023-07-04T08:16:13.186Z"
   },
   {
    "duration": 17,
    "start_time": "2023-07-04T08:16:25.527Z"
   },
   {
    "duration": 4,
    "start_time": "2023-07-04T08:57:56.599Z"
   },
   {
    "duration": 4,
    "start_time": "2023-07-04T08:58:03.550Z"
   },
   {
    "duration": 69,
    "start_time": "2023-07-04T08:58:03.556Z"
   },
   {
    "duration": 14,
    "start_time": "2023-07-04T08:58:03.627Z"
   },
   {
    "duration": 19,
    "start_time": "2023-07-04T08:58:03.644Z"
   },
   {
    "duration": 32,
    "start_time": "2023-07-04T08:58:03.664Z"
   },
   {
    "duration": 13,
    "start_time": "2023-07-04T08:58:03.698Z"
   },
   {
    "duration": 144,
    "start_time": "2023-07-04T08:58:03.712Z"
   },
   {
    "duration": 23,
    "start_time": "2023-07-04T08:58:03.859Z"
   },
   {
    "duration": 38,
    "start_time": "2023-07-04T08:58:03.885Z"
   },
   {
    "duration": 25,
    "start_time": "2023-07-04T08:58:03.927Z"
   },
   {
    "duration": 1514,
    "start_time": "2023-07-04T08:58:03.954Z"
   },
   {
    "duration": 21,
    "start_time": "2023-07-04T08:58:05.470Z"
   },
   {
    "duration": 33,
    "start_time": "2023-07-04T08:58:05.493Z"
   },
   {
    "duration": 32,
    "start_time": "2023-07-04T08:58:05.528Z"
   },
   {
    "duration": 25,
    "start_time": "2023-07-04T08:58:05.561Z"
   },
   {
    "duration": 36,
    "start_time": "2023-07-04T08:58:05.588Z"
   },
   {
    "duration": 28,
    "start_time": "2023-07-04T08:58:05.626Z"
   },
   {
    "duration": 54,
    "start_time": "2023-07-04T08:58:05.656Z"
   },
   {
    "duration": 26,
    "start_time": "2023-07-04T08:58:05.711Z"
   },
   {
    "duration": 136,
    "start_time": "2023-07-04T08:58:52.149Z"
   },
   {
    "duration": 139,
    "start_time": "2023-07-04T09:01:21.849Z"
   },
   {
    "duration": 119,
    "start_time": "2023-07-04T09:03:24.750Z"
   },
   {
    "duration": 130,
    "start_time": "2023-07-04T09:04:29.863Z"
   },
   {
    "duration": 7,
    "start_time": "2023-07-04T09:04:46.894Z"
   },
   {
    "duration": 19,
    "start_time": "2023-07-04T09:04:55.351Z"
   },
   {
    "duration": 21,
    "start_time": "2023-07-04T09:05:05.956Z"
   },
   {
    "duration": 5,
    "start_time": "2023-07-04T09:05:24.910Z"
   },
   {
    "duration": 43,
    "start_time": "2023-07-04T09:05:24.917Z"
   },
   {
    "duration": 14,
    "start_time": "2023-07-04T09:05:24.962Z"
   },
   {
    "duration": 12,
    "start_time": "2023-07-04T09:05:24.979Z"
   },
   {
    "duration": 24,
    "start_time": "2023-07-04T09:05:24.992Z"
   },
   {
    "duration": 8,
    "start_time": "2023-07-04T09:05:25.018Z"
   },
   {
    "duration": 150,
    "start_time": "2023-07-04T09:05:25.028Z"
   },
   {
    "duration": 20,
    "start_time": "2023-07-04T09:05:25.179Z"
   },
   {
    "duration": 21,
    "start_time": "2023-07-04T09:05:25.200Z"
   },
   {
    "duration": 18,
    "start_time": "2023-07-04T09:05:25.223Z"
   },
   {
    "duration": 1460,
    "start_time": "2023-07-04T09:05:25.243Z"
   },
   {
    "duration": 29,
    "start_time": "2023-07-04T09:05:26.705Z"
   },
   {
    "duration": 23,
    "start_time": "2023-07-04T09:05:26.736Z"
   },
   {
    "duration": 17,
    "start_time": "2023-07-04T09:05:30.198Z"
   },
   {
    "duration": 15,
    "start_time": "2023-07-04T09:05:32.771Z"
   },
   {
    "duration": 4,
    "start_time": "2023-07-04T09:05:40.148Z"
   },
   {
    "duration": 71,
    "start_time": "2023-07-04T09:05:40.154Z"
   },
   {
    "duration": 13,
    "start_time": "2023-07-04T09:05:40.227Z"
   },
   {
    "duration": 68,
    "start_time": "2023-07-04T09:05:40.241Z"
   },
   {
    "duration": 85,
    "start_time": "2023-07-04T09:05:40.311Z"
   },
   {
    "duration": 13,
    "start_time": "2023-07-04T09:05:40.397Z"
   },
   {
    "duration": 282,
    "start_time": "2023-07-04T09:05:40.411Z"
   },
   {
    "duration": 28,
    "start_time": "2023-07-04T09:05:40.695Z"
   },
   {
    "duration": 8,
    "start_time": "2023-07-04T09:05:40.725Z"
   },
   {
    "duration": 17,
    "start_time": "2023-07-04T09:05:40.734Z"
   },
   {
    "duration": 1348,
    "start_time": "2023-07-04T09:05:40.753Z"
   },
   {
    "duration": 30,
    "start_time": "2023-07-04T09:05:42.103Z"
   },
   {
    "duration": 5,
    "start_time": "2023-07-04T09:05:47.652Z"
   },
   {
    "duration": 14,
    "start_time": "2023-07-04T09:05:50.753Z"
   },
   {
    "duration": 19,
    "start_time": "2023-07-04T09:05:55.712Z"
   },
   {
    "duration": 14,
    "start_time": "2023-07-04T09:06:19.006Z"
   },
   {
    "duration": 18,
    "start_time": "2023-07-04T09:06:20.664Z"
   },
   {
    "duration": 9,
    "start_time": "2023-07-04T09:06:28.002Z"
   },
   {
    "duration": 6,
    "start_time": "2023-07-04T09:06:29.012Z"
   },
   {
    "duration": 16,
    "start_time": "2023-07-04T09:06:29.803Z"
   },
   {
    "duration": 20,
    "start_time": "2023-07-04T09:06:31.088Z"
   },
   {
    "duration": 18,
    "start_time": "2023-07-04T09:06:31.553Z"
   },
   {
    "duration": 19,
    "start_time": "2023-07-04T09:06:34.043Z"
   },
   {
    "duration": 138,
    "start_time": "2023-07-04T09:06:43.122Z"
   },
   {
    "duration": 123,
    "start_time": "2023-07-04T09:06:52.554Z"
   },
   {
    "duration": 13,
    "start_time": "2023-07-04T09:07:47.775Z"
   },
   {
    "duration": 6,
    "start_time": "2023-07-04T09:07:49.207Z"
   },
   {
    "duration": 6,
    "start_time": "2023-07-04T09:07:50.054Z"
   },
   {
    "duration": 13,
    "start_time": "2023-07-04T09:07:50.916Z"
   },
   {
    "duration": 19,
    "start_time": "2023-07-04T09:07:52.015Z"
   },
   {
    "duration": 17,
    "start_time": "2023-07-04T09:07:52.464Z"
   },
   {
    "duration": 22,
    "start_time": "2023-07-04T09:07:55.215Z"
   },
   {
    "duration": 4,
    "start_time": "2023-07-04T09:08:58.119Z"
   },
   {
    "duration": 15,
    "start_time": "2023-07-04T09:09:12.544Z"
   },
   {
    "duration": 22,
    "start_time": "2023-07-04T09:09:58.557Z"
   },
   {
    "duration": 20,
    "start_time": "2023-07-04T09:10:03.356Z"
   },
   {
    "duration": 3201,
    "start_time": "2023-07-04T09:10:49.317Z"
   },
   {
    "duration": 166660,
    "start_time": "2023-07-04T09:11:37.607Z"
   },
   {
    "duration": 52,
    "start_time": "2023-07-04T09:14:24.269Z"
   },
   {
    "duration": 97,
    "start_time": "2023-07-04T09:14:24.323Z"
   },
   {
    "duration": 13,
    "start_time": "2023-07-04T09:14:37.120Z"
   },
   {
    "duration": 4,
    "start_time": "2023-07-04T09:14:59.840Z"
   },
   {
    "duration": 11,
    "start_time": "2023-07-04T09:15:29.410Z"
   },
   {
    "duration": 15,
    "start_time": "2023-07-04T09:17:48.652Z"
   },
   {
    "duration": 4,
    "start_time": "2023-07-04T09:17:55.302Z"
   },
   {
    "duration": 10,
    "start_time": "2023-07-04T09:22:37.406Z"
   },
   {
    "duration": 11,
    "start_time": "2023-07-04T09:22:40.336Z"
   },
   {
    "duration": 9,
    "start_time": "2023-07-04T09:22:51.403Z"
   },
   {
    "duration": 15,
    "start_time": "2023-07-04T09:23:09.393Z"
   },
   {
    "duration": 18,
    "start_time": "2023-07-04T09:29:07.406Z"
   },
   {
    "duration": 3129,
    "start_time": "2023-07-04T09:29:22.032Z"
   },
   {
    "duration": 335,
    "start_time": "2023-07-04T09:29:55.906Z"
   },
   {
    "duration": 9,
    "start_time": "2023-07-04T09:30:00.114Z"
   },
   {
    "duration": 3112,
    "start_time": "2023-07-04T09:30:06.612Z"
   },
   {
    "duration": 343,
    "start_time": "2023-07-04T09:30:18.243Z"
   },
   {
    "duration": 8,
    "start_time": "2023-07-04T09:30:20.343Z"
   },
   {
    "duration": 17374,
    "start_time": "2023-07-04T09:30:29.114Z"
   },
   {
    "duration": 28,
    "start_time": "2023-07-04T09:30:46.490Z"
   },
   {
    "duration": 21,
    "start_time": "2023-07-04T09:30:51.314Z"
   },
   {
    "duration": 12,
    "start_time": "2023-07-04T09:30:53.116Z"
   },
   {
    "duration": 15,
    "start_time": "2023-07-04T09:30:57.063Z"
   },
   {
    "duration": 10,
    "start_time": "2023-07-04T09:30:59.023Z"
   },
   {
    "duration": 11,
    "start_time": "2023-07-04T09:30:59.823Z"
   },
   {
    "duration": 14,
    "start_time": "2023-07-04T09:31:00.712Z"
   },
   {
    "duration": 20,
    "start_time": "2023-07-04T09:31:18.255Z"
   },
   {
    "duration": 338,
    "start_time": "2023-07-04T09:31:45.645Z"
   },
   {
    "duration": 17697,
    "start_time": "2023-07-04T09:32:09.615Z"
   },
   {
    "duration": 18112,
    "start_time": "2023-07-04T09:32:31.802Z"
   },
   {
    "duration": 9,
    "start_time": "2023-07-04T09:35:31.298Z"
   },
   {
    "duration": 84,
    "start_time": "2023-07-04T09:38:02.131Z"
   },
   {
    "duration": 4,
    "start_time": "2023-07-04T09:39:07.225Z"
   },
   {
    "duration": 11,
    "start_time": "2023-07-04T09:39:51.202Z"
   },
   {
    "duration": 3,
    "start_time": "2023-07-04T09:40:42.254Z"
   },
   {
    "duration": 9,
    "start_time": "2023-07-04T09:41:25.433Z"
   },
   {
    "duration": 9,
    "start_time": "2023-07-04T09:41:42.795Z"
   },
   {
    "duration": 14,
    "start_time": "2023-07-04T09:42:18.491Z"
   },
   {
    "duration": 18,
    "start_time": "2023-07-04T09:42:29.574Z"
   },
   {
    "duration": 158,
    "start_time": "2023-07-04T09:42:38.745Z"
   },
   {
    "duration": 14,
    "start_time": "2023-07-04T09:42:52.365Z"
   },
   {
    "duration": 12,
    "start_time": "2023-07-04T10:21:12.060Z"
   },
   {
    "duration": 3,
    "start_time": "2023-07-04T10:21:16.074Z"
   },
   {
    "duration": 4,
    "start_time": "2023-07-04T10:23:43.842Z"
   },
   {
    "duration": 16,
    "start_time": "2023-07-04T10:24:17.683Z"
   },
   {
    "duration": 5,
    "start_time": "2023-07-04T10:24:33.913Z"
   },
   {
    "duration": 312,
    "start_time": "2023-07-04T10:24:40.703Z"
   },
   {
    "duration": 130,
    "start_time": "2023-07-04T10:24:55.623Z"
   },
   {
    "duration": 128,
    "start_time": "2023-07-04T10:25:00.794Z"
   },
   {
    "duration": 6,
    "start_time": "2023-07-04T10:31:08.239Z"
   },
   {
    "duration": 7,
    "start_time": "2023-07-04T10:31:45.479Z"
   },
   {
    "duration": 5,
    "start_time": "2023-07-04T10:32:17.970Z"
   },
   {
    "duration": 359,
    "start_time": "2023-07-04T10:32:25.370Z"
   },
   {
    "duration": 5,
    "start_time": "2023-07-04T10:32:48.150Z"
   },
   {
    "duration": 367,
    "start_time": "2023-07-04T10:32:49.491Z"
   },
   {
    "duration": 5,
    "start_time": "2023-07-04T10:32:55.500Z"
   },
   {
    "duration": 301,
    "start_time": "2023-07-04T10:32:56.629Z"
   },
   {
    "duration": 6,
    "start_time": "2023-07-04T10:33:25.171Z"
   },
   {
    "duration": 305,
    "start_time": "2023-07-04T10:33:26.525Z"
   },
   {
    "duration": 4,
    "start_time": "2023-07-04T10:33:43.651Z"
   },
   {
    "duration": 334,
    "start_time": "2023-07-04T10:33:44.821Z"
   },
   {
    "duration": 5,
    "start_time": "2023-07-04T10:33:50.371Z"
   },
   {
    "duration": 373,
    "start_time": "2023-07-04T10:33:52.260Z"
   },
   {
    "duration": 5,
    "start_time": "2023-07-04T10:34:24.671Z"
   },
   {
    "duration": 410,
    "start_time": "2023-07-04T10:34:25.511Z"
   },
   {
    "duration": 111,
    "start_time": "2023-07-04T10:34:29.992Z"
   },
   {
    "duration": 264,
    "start_time": "2023-07-04T10:34:31.262Z"
   },
   {
    "duration": 5,
    "start_time": "2023-07-04T10:34:43.322Z"
   },
   {
    "duration": 310,
    "start_time": "2023-07-04T10:34:44.212Z"
   },
   {
    "duration": 121,
    "start_time": "2023-07-04T10:34:49.012Z"
   },
   {
    "duration": 306,
    "start_time": "2023-07-04T10:34:50.391Z"
   },
   {
    "duration": 112,
    "start_time": "2023-07-04T10:34:57.712Z"
   },
   {
    "duration": 327,
    "start_time": "2023-07-04T10:34:58.572Z"
   },
   {
    "duration": 5,
    "start_time": "2023-07-04T10:35:50.573Z"
   },
   {
    "duration": 392,
    "start_time": "2023-07-04T10:35:51.532Z"
   },
   {
    "duration": 5,
    "start_time": "2023-07-04T10:36:18.464Z"
   },
   {
    "duration": 291,
    "start_time": "2023-07-04T10:36:18.973Z"
   },
   {
    "duration": 135,
    "start_time": "2023-07-04T10:36:56.804Z"
   },
   {
    "duration": 180,
    "start_time": "2023-07-04T10:37:13.815Z"
   },
   {
    "duration": 409,
    "start_time": "2023-07-04T10:38:50.606Z"
   },
   {
    "duration": 137,
    "start_time": "2023-07-04T10:39:15.337Z"
   },
   {
    "duration": 169,
    "start_time": "2023-07-04T10:39:43.809Z"
   },
   {
    "duration": 5,
    "start_time": "2023-07-04T10:57:41.977Z"
   },
   {
    "duration": 286,
    "start_time": "2023-07-04T10:57:43.137Z"
   },
   {
    "duration": 134,
    "start_time": "2023-07-04T10:57:45.117Z"
   },
   {
    "duration": 156,
    "start_time": "2023-07-04T10:57:46.357Z"
   },
   {
    "duration": 303,
    "start_time": "2023-07-04T10:57:49.998Z"
   },
   {
    "duration": 145,
    "start_time": "2023-07-04T10:57:51.907Z"
   },
   {
    "duration": 148,
    "start_time": "2023-07-04T10:57:54.547Z"
   },
   {
    "duration": 4,
    "start_time": "2023-07-04T11:01:01.970Z"
   },
   {
    "duration": 20,
    "start_time": "2023-07-04T11:01:10.581Z"
   },
   {
    "duration": 5,
    "start_time": "2023-07-04T11:01:27.790Z"
   },
   {
    "duration": 14,
    "start_time": "2023-07-04T11:01:35.330Z"
   },
   {
    "duration": 46,
    "start_time": "2023-07-04T11:02:08.262Z"
   },
   {
    "duration": 625,
    "start_time": "2023-07-04T11:03:27.593Z"
   },
   {
    "duration": 23,
    "start_time": "2023-07-04T11:03:58.014Z"
   },
   {
    "duration": 624,
    "start_time": "2023-07-04T11:04:05.543Z"
   },
   {
    "duration": 637,
    "start_time": "2023-07-04T11:04:21.005Z"
   },
   {
    "duration": 37635,
    "start_time": "2023-07-04T11:05:06.494Z"
   },
   {
    "duration": 282,
    "start_time": "2023-07-04T11:05:46.145Z"
   },
   {
    "duration": 45,
    "start_time": "2023-07-04T11:06:15.995Z"
   },
   {
    "duration": 280,
    "start_time": "2023-07-04T11:06:19.155Z"
   },
   {
    "duration": 145,
    "start_time": "2023-07-04T11:11:03.922Z"
   },
   {
    "duration": 41,
    "start_time": "2023-07-04T11:11:23.550Z"
   },
   {
    "duration": 262,
    "start_time": "2023-07-04T11:11:25.960Z"
   },
   {
    "duration": 151,
    "start_time": "2023-07-04T11:11:47.731Z"
   },
   {
    "duration": 12,
    "start_time": "2023-07-04T11:13:18.603Z"
   },
   {
    "duration": 36477,
    "start_time": "2023-07-04T11:13:41.343Z"
   },
   {
    "duration": 36877,
    "start_time": "2023-07-04T11:14:17.822Z"
   },
   {
    "duration": 26,
    "start_time": "2023-07-04T11:14:58.714Z"
   },
   {
    "duration": 186,
    "start_time": "2023-07-04T11:17:00.297Z"
   },
   {
    "duration": 187,
    "start_time": "2023-07-04T11:17:32.087Z"
   },
   {
    "duration": 2149,
    "start_time": "2023-07-05T10:03:29.801Z"
   },
   {
    "duration": 111,
    "start_time": "2023-07-05T10:03:33.597Z"
   },
   {
    "duration": 15,
    "start_time": "2023-07-05T10:03:34.520Z"
   },
   {
    "duration": 13,
    "start_time": "2023-07-05T10:03:35.700Z"
   },
   {
    "duration": 16,
    "start_time": "2023-07-05T10:03:40.970Z"
   },
   {
    "duration": 8,
    "start_time": "2023-07-05T10:03:42.129Z"
   },
   {
    "duration": 140,
    "start_time": "2023-07-05T10:04:03.671Z"
   },
   {
    "duration": 21,
    "start_time": "2023-07-05T10:04:35.776Z"
   },
   {
    "duration": 9,
    "start_time": "2023-07-05T10:04:41.100Z"
   },
   {
    "duration": 23,
    "start_time": "2023-07-05T10:04:45.041Z"
   },
   {
    "duration": 1494,
    "start_time": "2023-07-05T10:04:45.720Z"
   },
   {
    "duration": 22,
    "start_time": "2023-07-05T10:05:16.404Z"
   },
   {
    "duration": 5,
    "start_time": "2023-07-05T10:05:34.531Z"
   },
   {
    "duration": 22,
    "start_time": "2023-07-05T10:05:37.141Z"
   },
   {
    "duration": 8,
    "start_time": "2023-07-05T10:05:38.752Z"
   },
   {
    "duration": 6,
    "start_time": "2023-07-05T10:05:40.031Z"
   },
   {
    "duration": 12,
    "start_time": "2023-07-05T10:05:42.666Z"
   },
   {
    "duration": 20,
    "start_time": "2023-07-05T10:05:48.701Z"
   },
   {
    "duration": 19,
    "start_time": "2023-07-05T10:05:49.471Z"
   },
   {
    "duration": 13,
    "start_time": "2023-07-05T10:05:56.302Z"
   },
   {
    "duration": 22,
    "start_time": "2023-07-05T10:06:03.793Z"
   },
   {
    "duration": 353,
    "start_time": "2023-07-05T10:06:50.332Z"
   },
   {
    "duration": 17971,
    "start_time": "2023-07-05T10:06:52.642Z"
   },
   {
    "duration": 6,
    "start_time": "2023-07-05T10:07:28.733Z"
   },
   {
    "duration": 401,
    "start_time": "2023-07-05T10:07:30.575Z"
   },
   {
    "duration": 154,
    "start_time": "2023-07-05T10:07:51.033Z"
   },
   {
    "duration": 139,
    "start_time": "2023-07-05T10:07:54.603Z"
   },
   {
    "duration": 21,
    "start_time": "2023-07-05T10:16:23.712Z"
   },
   {
    "duration": 441,
    "start_time": "2023-07-05T10:16:27.491Z"
   },
   {
    "duration": 17977,
    "start_time": "2023-07-05T10:16:29.346Z"
   },
   {
    "duration": 351,
    "start_time": "2023-07-05T10:17:16.002Z"
   },
   {
    "duration": 152,
    "start_time": "2023-07-05T10:17:44.922Z"
   },
   {
    "duration": 177,
    "start_time": "2023-07-05T10:18:01.233Z"
   },
   {
    "duration": 5,
    "start_time": "2023-07-05T10:18:47.403Z"
   },
   {
    "duration": 117,
    "start_time": "2023-07-05T10:18:48.084Z"
   },
   {
    "duration": 4,
    "start_time": "2023-07-05T10:20:16.089Z"
   },
   {
    "duration": 19,
    "start_time": "2023-07-05T10:20:21.475Z"
   },
   {
    "duration": 66,
    "start_time": "2023-07-05T10:20:28.314Z"
   },
   {
    "duration": 40,
    "start_time": "2023-07-05T10:20:46.695Z"
   },
   {
    "duration": 590,
    "start_time": "2023-07-05T10:21:03.735Z"
   },
   {
    "duration": 35637,
    "start_time": "2023-07-05T10:21:17.095Z"
   },
   {
    "duration": 256,
    "start_time": "2023-07-05T10:26:07.509Z"
   },
   {
    "duration": 126,
    "start_time": "2023-07-05T10:26:10.910Z"
   },
   {
    "duration": 162,
    "start_time": "2023-07-05T10:26:14.710Z"
   },
   {
    "duration": 12,
    "start_time": "2023-07-05T10:27:24.221Z"
   },
   {
    "duration": 198,
    "start_time": "2023-07-05T10:27:24.968Z"
   },
   {
    "duration": 169,
    "start_time": "2023-07-05T10:27:45.406Z"
   },
   {
    "duration": 164,
    "start_time": "2023-07-05T10:28:59.276Z"
   },
   {
    "duration": 308,
    "start_time": "2023-07-05T10:29:55.367Z"
   },
   {
    "duration": 175,
    "start_time": "2023-07-05T10:30:15.274Z"
   },
   {
    "duration": 173,
    "start_time": "2023-07-05T10:30:31.558Z"
   },
   {
    "duration": 6,
    "start_time": "2023-07-05T10:30:44.610Z"
   },
   {
    "duration": 292,
    "start_time": "2023-07-05T10:30:46.274Z"
   },
   {
    "duration": 142,
    "start_time": "2023-07-05T10:30:49.035Z"
   },
   {
    "duration": 164,
    "start_time": "2023-07-05T10:30:50.439Z"
   },
   {
    "duration": 303,
    "start_time": "2023-07-05T10:30:52.967Z"
   },
   {
    "duration": 128,
    "start_time": "2023-07-05T10:30:54.527Z"
   },
   {
    "duration": 144,
    "start_time": "2023-07-05T10:30:56.175Z"
   },
   {
    "duration": 288,
    "start_time": "2023-07-05T10:31:00.824Z"
   },
   {
    "duration": 132,
    "start_time": "2023-07-05T10:31:02.916Z"
   },
   {
    "duration": 144,
    "start_time": "2023-07-05T10:31:04.967Z"
   },
   {
    "duration": 5,
    "start_time": "2023-07-05T10:56:59.013Z"
   },
   {
    "duration": 56,
    "start_time": "2023-07-05T10:56:59.022Z"
   },
   {
    "duration": 17,
    "start_time": "2023-07-05T10:56:59.080Z"
   },
   {
    "duration": 20,
    "start_time": "2023-07-05T10:56:59.099Z"
   },
   {
    "duration": 40,
    "start_time": "2023-07-05T10:56:59.122Z"
   },
   {
    "duration": 9,
    "start_time": "2023-07-05T10:56:59.169Z"
   },
   {
    "duration": 156,
    "start_time": "2023-07-05T10:56:59.180Z"
   },
   {
    "duration": 34,
    "start_time": "2023-07-05T10:56:59.338Z"
   },
   {
    "duration": 9,
    "start_time": "2023-07-05T10:56:59.374Z"
   },
   {
    "duration": 36,
    "start_time": "2023-07-05T10:56:59.385Z"
   },
   {
    "duration": 1839,
    "start_time": "2023-07-05T10:56:59.423Z"
   },
   {
    "duration": 29,
    "start_time": "2023-07-05T10:57:01.265Z"
   },
   {
    "duration": 216,
    "start_time": "2023-07-05T10:57:01.296Z"
   },
   {
    "duration": 268,
    "start_time": "2023-07-05T10:57:01.517Z"
   },
   {
    "duration": 172,
    "start_time": "2023-07-05T10:57:01.788Z"
   },
   {
    "duration": 193,
    "start_time": "2023-07-05T10:57:01.966Z"
   },
   {
    "duration": 181,
    "start_time": "2023-07-05T10:57:02.166Z"
   },
   {
    "duration": 128,
    "start_time": "2023-07-05T10:57:02.350Z"
   },
   {
    "duration": 68,
    "start_time": "2023-07-05T10:57:02.481Z"
   },
   {
    "duration": 89,
    "start_time": "2023-07-05T10:57:02.551Z"
   },
   {
    "duration": 390,
    "start_time": "2023-07-05T10:57:02.642Z"
   },
   {
    "duration": 18548,
    "start_time": "2023-07-05T10:57:03.034Z"
   },
   {
    "duration": 5,
    "start_time": "2023-07-05T10:57:21.584Z"
   },
   {
    "duration": 480,
    "start_time": "2023-07-05T10:57:21.591Z"
   },
   {
    "duration": 148,
    "start_time": "2023-07-05T10:57:22.073Z"
   },
   {
    "duration": 176,
    "start_time": "2023-07-05T10:57:22.224Z"
   },
   {
    "duration": 21,
    "start_time": "2023-07-05T10:57:22.402Z"
   },
   {
    "duration": 381,
    "start_time": "2023-07-05T10:57:22.424Z"
   },
   {
    "duration": 18466,
    "start_time": "2023-07-05T10:57:22.807Z"
   },
   {
    "duration": 284,
    "start_time": "2023-07-05T10:57:41.275Z"
   },
   {
    "duration": 136,
    "start_time": "2023-07-05T10:57:41.567Z"
   },
   {
    "duration": 191,
    "start_time": "2023-07-05T10:57:41.705Z"
   },
   {
    "duration": 4,
    "start_time": "2023-07-05T10:57:41.897Z"
   },
   {
    "duration": 22,
    "start_time": "2023-07-05T10:57:41.903Z"
   },
   {
    "duration": 53,
    "start_time": "2023-07-05T10:57:41.927Z"
   },
   {
    "duration": 597,
    "start_time": "2023-07-05T10:57:41.982Z"
   },
   {
    "duration": 34979,
    "start_time": "2023-07-05T10:57:42.580Z"
   },
   {
    "duration": 297,
    "start_time": "2023-07-05T10:58:17.560Z"
   },
   {
    "duration": 129,
    "start_time": "2023-07-05T10:58:17.862Z"
   },
   {
    "duration": 172,
    "start_time": "2023-07-05T10:58:17.993Z"
   },
   {
    "duration": 11,
    "start_time": "2023-07-05T10:58:18.170Z"
   },
   {
    "duration": 212,
    "start_time": "2023-07-05T10:58:18.183Z"
   },
   {
    "duration": 297,
    "start_time": "2023-07-05T11:16:09.065Z"
   },
   {
    "duration": 175,
    "start_time": "2023-07-05T11:16:17.736Z"
   },
   {
    "duration": 173,
    "start_time": "2023-07-05T11:16:36.526Z"
   },
   {
    "duration": 201,
    "start_time": "2023-07-05T11:16:44.735Z"
   },
   {
    "duration": 7,
    "start_time": "2023-07-05T11:17:25.087Z"
   },
   {
    "duration": 294,
    "start_time": "2023-07-05T11:17:26.018Z"
   },
   {
    "duration": 133,
    "start_time": "2023-07-05T11:17:29.206Z"
   },
   {
    "duration": 275,
    "start_time": "2023-07-05T11:17:30.286Z"
   },
   {
    "duration": 261,
    "start_time": "2023-07-05T11:17:34.207Z"
   },
   {
    "duration": 121,
    "start_time": "2023-07-05T11:17:36.057Z"
   },
   {
    "duration": 146,
    "start_time": "2023-07-05T11:17:38.026Z"
   },
   {
    "duration": 328,
    "start_time": "2023-07-05T11:17:41.907Z"
   },
   {
    "duration": 128,
    "start_time": "2023-07-05T11:17:43.487Z"
   },
   {
    "duration": 180,
    "start_time": "2023-07-05T11:17:45.307Z"
   },
   {
    "duration": 2547,
    "start_time": "2023-07-05T11:41:42.172Z"
   },
   {
    "duration": 168,
    "start_time": "2023-07-05T11:41:44.721Z"
   },
   {
    "duration": 14,
    "start_time": "2023-07-05T11:41:44.890Z"
   },
   {
    "duration": 12,
    "start_time": "2023-07-05T11:41:44.906Z"
   },
   {
    "duration": 27,
    "start_time": "2023-07-05T11:41:44.920Z"
   },
   {
    "duration": 8,
    "start_time": "2023-07-05T11:41:44.949Z"
   },
   {
    "duration": 150,
    "start_time": "2023-07-05T11:41:44.958Z"
   },
   {
    "duration": 21,
    "start_time": "2023-07-05T11:41:45.110Z"
   },
   {
    "duration": 29,
    "start_time": "2023-07-05T11:41:45.133Z"
   },
   {
    "duration": 16,
    "start_time": "2023-07-05T11:41:45.165Z"
   },
   {
    "duration": 1522,
    "start_time": "2023-07-05T11:41:45.183Z"
   },
   {
    "duration": 22,
    "start_time": "2023-07-05T11:41:46.706Z"
   },
   {
    "duration": 19,
    "start_time": "2023-07-05T11:41:46.730Z"
   },
   {
    "duration": 25,
    "start_time": "2023-07-05T11:41:46.751Z"
   },
   {
    "duration": 9,
    "start_time": "2023-07-05T11:41:46.778Z"
   },
   {
    "duration": 20,
    "start_time": "2023-07-05T11:41:46.789Z"
   },
   {
    "duration": 19,
    "start_time": "2023-07-05T11:41:46.811Z"
   },
   {
    "duration": 24,
    "start_time": "2023-07-05T11:41:46.832Z"
   },
   {
    "duration": 13,
    "start_time": "2023-07-05T11:41:46.858Z"
   },
   {
    "duration": 32,
    "start_time": "2023-07-05T11:41:46.873Z"
   },
   {
    "duration": 338,
    "start_time": "2023-07-05T11:41:46.907Z"
   },
   {
    "duration": 18169,
    "start_time": "2023-07-05T11:41:47.247Z"
   },
   {
    "duration": 5,
    "start_time": "2023-07-05T11:42:05.418Z"
   },
   {
    "duration": 450,
    "start_time": "2023-07-05T11:42:05.425Z"
   },
   {
    "duration": 137,
    "start_time": "2023-07-05T11:42:05.876Z"
   },
   {
    "duration": 160,
    "start_time": "2023-07-05T11:42:06.015Z"
   },
   {
    "duration": 20,
    "start_time": "2023-07-05T11:42:06.177Z"
   },
   {
    "duration": 347,
    "start_time": "2023-07-05T11:42:06.200Z"
   },
   {
    "duration": 17865,
    "start_time": "2023-07-05T11:42:06.549Z"
   },
   {
    "duration": 343,
    "start_time": "2023-07-05T11:42:24.416Z"
   },
   {
    "duration": 127,
    "start_time": "2023-07-05T11:42:24.761Z"
   },
   {
    "duration": 159,
    "start_time": "2023-07-05T11:42:24.891Z"
   },
   {
    "duration": 4,
    "start_time": "2023-07-05T11:42:25.058Z"
   },
   {
    "duration": 61,
    "start_time": "2023-07-05T11:42:25.064Z"
   },
   {
    "duration": 44,
    "start_time": "2023-07-05T11:42:25.127Z"
   },
   {
    "duration": 620,
    "start_time": "2023-07-05T11:42:25.173Z"
   },
   {
    "duration": 35122,
    "start_time": "2023-07-05T11:42:25.795Z"
   },
   {
    "duration": 360,
    "start_time": "2023-07-05T11:43:00.919Z"
   },
   {
    "duration": 150,
    "start_time": "2023-07-05T11:43:01.281Z"
   },
   {
    "duration": 175,
    "start_time": "2023-07-05T11:43:01.433Z"
   },
   {
    "duration": 12,
    "start_time": "2023-07-05T11:43:01.611Z"
   },
   {
    "duration": 219,
    "start_time": "2023-07-05T11:43:01.625Z"
   },
   {
    "duration": 5,
    "start_time": "2023-07-07T11:18:20.114Z"
   },
   {
    "duration": 79,
    "start_time": "2023-07-07T11:18:20.121Z"
   },
   {
    "duration": 14,
    "start_time": "2023-07-07T11:18:20.203Z"
   },
   {
    "duration": 31,
    "start_time": "2023-07-07T11:18:20.219Z"
   },
   {
    "duration": 31,
    "start_time": "2023-07-07T11:18:20.252Z"
   },
   {
    "duration": 26,
    "start_time": "2023-07-07T11:18:20.285Z"
   },
   {
    "duration": 167,
    "start_time": "2023-07-07T11:18:20.313Z"
   },
   {
    "duration": 20,
    "start_time": "2023-07-07T11:18:20.482Z"
   },
   {
    "duration": 9,
    "start_time": "2023-07-07T11:18:23.287Z"
   },
   {
    "duration": 7029,
    "start_time": "2023-07-07T11:28:07.889Z"
   },
   {
    "duration": 5,
    "start_time": "2023-07-07T11:28:48.723Z"
   },
   {
    "duration": 2137,
    "start_time": "2023-07-07T11:51:29.608Z"
   },
   {
    "duration": 5,
    "start_time": "2023-07-07T11:51:31.747Z"
   },
   {
    "duration": 71,
    "start_time": "2023-07-07T11:51:31.754Z"
   },
   {
    "duration": 15,
    "start_time": "2023-07-07T11:51:31.828Z"
   },
   {
    "duration": 44,
    "start_time": "2023-07-07T11:51:31.844Z"
   },
   {
    "duration": 26,
    "start_time": "2023-07-07T11:51:31.890Z"
   },
   {
    "duration": 29,
    "start_time": "2023-07-07T11:51:31.918Z"
   },
   {
    "duration": 161,
    "start_time": "2023-07-07T11:51:31.949Z"
   },
   {
    "duration": 21,
    "start_time": "2023-07-07T11:51:32.112Z"
   },
   {
    "duration": 30,
    "start_time": "2023-07-07T11:51:32.136Z"
   },
   {
    "duration": 54,
    "start_time": "2023-07-07T11:51:32.168Z"
   },
   {
    "duration": 1581,
    "start_time": "2023-07-07T11:51:32.225Z"
   },
   {
    "duration": 23,
    "start_time": "2023-07-07T11:51:33.808Z"
   },
   {
    "duration": 12,
    "start_time": "2023-07-07T11:51:33.835Z"
   },
   {
    "duration": 5,
    "start_time": "2023-07-07T11:52:03.056Z"
   },
   {
    "duration": 11,
    "start_time": "2023-07-07T11:52:10.112Z"
   },
   {
    "duration": 9,
    "start_time": "2023-07-07T11:52:19.190Z"
   },
   {
    "duration": 118,
    "start_time": "2023-07-07T12:03:22.549Z"
   },
   {
    "duration": 5,
    "start_time": "2023-07-07T12:03:45.741Z"
   },
   {
    "duration": 6,
    "start_time": "2023-07-07T12:03:51.308Z"
   },
   {
    "duration": 2045,
    "start_time": "2023-07-07T12:04:09.252Z"
   },
   {
    "duration": 5,
    "start_time": "2023-07-07T12:04:11.300Z"
   },
   {
    "duration": 45,
    "start_time": "2023-07-07T12:04:11.307Z"
   },
   {
    "duration": 14,
    "start_time": "2023-07-07T12:04:11.354Z"
   },
   {
    "duration": 12,
    "start_time": "2023-07-07T12:04:11.370Z"
   },
   {
    "duration": 21,
    "start_time": "2023-07-07T12:04:11.384Z"
   },
   {
    "duration": 8,
    "start_time": "2023-07-07T12:04:11.407Z"
   },
   {
    "duration": 156,
    "start_time": "2023-07-07T12:04:11.417Z"
   },
   {
    "duration": 22,
    "start_time": "2023-07-07T12:04:11.574Z"
   },
   {
    "duration": 10,
    "start_time": "2023-07-07T12:04:11.598Z"
   },
   {
    "duration": 30,
    "start_time": "2023-07-07T12:04:11.609Z"
   },
   {
    "duration": 1387,
    "start_time": "2023-07-07T12:04:11.641Z"
   },
   {
    "duration": 21,
    "start_time": "2023-07-07T12:04:13.029Z"
   },
   {
    "duration": 17,
    "start_time": "2023-07-07T12:04:13.051Z"
   },
   {
    "duration": 14,
    "start_time": "2023-07-07T12:04:13.070Z"
   },
   {
    "duration": 17,
    "start_time": "2023-07-07T12:04:13.086Z"
   },
   {
    "duration": 7,
    "start_time": "2023-07-07T12:04:13.105Z"
   },
   {
    "duration": 9,
    "start_time": "2023-07-07T12:04:15.452Z"
   },
   {
    "duration": 7,
    "start_time": "2023-07-07T12:04:17.251Z"
   },
   {
    "duration": 7,
    "start_time": "2023-07-07T12:07:12.937Z"
   },
   {
    "duration": 20,
    "start_time": "2023-07-07T12:17:51.705Z"
   },
   {
    "duration": 2229,
    "start_time": "2023-07-07T12:21:33.478Z"
   },
   {
    "duration": 6,
    "start_time": "2023-07-07T12:21:35.709Z"
   },
   {
    "duration": 48,
    "start_time": "2023-07-07T12:21:35.717Z"
   },
   {
    "duration": 14,
    "start_time": "2023-07-07T12:21:35.767Z"
   },
   {
    "duration": 13,
    "start_time": "2023-07-07T12:21:35.783Z"
   },
   {
    "duration": 26,
    "start_time": "2023-07-07T12:21:35.797Z"
   },
   {
    "duration": 22,
    "start_time": "2023-07-07T12:21:35.824Z"
   },
   {
    "duration": 303,
    "start_time": "2023-07-07T12:21:35.848Z"
   },
   {
    "duration": 30,
    "start_time": "2023-07-07T12:21:36.153Z"
   },
   {
    "duration": 9,
    "start_time": "2023-07-07T12:21:36.186Z"
   },
   {
    "duration": 33,
    "start_time": "2023-07-07T12:21:36.196Z"
   },
   {
    "duration": 1385,
    "start_time": "2023-07-07T12:21:36.231Z"
   },
   {
    "duration": 23,
    "start_time": "2023-07-07T12:21:37.619Z"
   },
   {
    "duration": 16,
    "start_time": "2023-07-07T12:21:37.644Z"
   },
   {
    "duration": 9,
    "start_time": "2023-07-07T12:21:37.667Z"
   },
   {
    "duration": 33,
    "start_time": "2023-07-07T12:21:37.678Z"
   },
   {
    "duration": 23,
    "start_time": "2023-07-07T12:21:37.712Z"
   },
   {
    "duration": 18,
    "start_time": "2023-07-07T12:21:37.737Z"
   },
   {
    "duration": 7,
    "start_time": "2023-07-07T12:21:42.569Z"
   },
   {
    "duration": 2152,
    "start_time": "2023-07-07T12:22:17.887Z"
   },
   {
    "duration": 22,
    "start_time": "2023-07-07T12:22:25.755Z"
   },
   {
    "duration": 2256,
    "start_time": "2023-07-07T12:23:02.639Z"
   },
   {
    "duration": 1301,
    "start_time": "2023-07-07T12:23:04.898Z"
   },
   {
    "duration": 42,
    "start_time": "2023-07-07T12:23:06.201Z"
   },
   {
    "duration": 14,
    "start_time": "2023-07-07T12:23:06.245Z"
   },
   {
    "duration": 13,
    "start_time": "2023-07-07T12:23:06.261Z"
   },
   {
    "duration": 24,
    "start_time": "2023-07-07T12:23:06.276Z"
   },
   {
    "duration": 8,
    "start_time": "2023-07-07T12:23:06.302Z"
   },
   {
    "duration": 158,
    "start_time": "2023-07-07T12:23:06.311Z"
   },
   {
    "duration": 22,
    "start_time": "2023-07-07T12:23:06.471Z"
   },
   {
    "duration": 16,
    "start_time": "2023-07-07T12:23:06.495Z"
   },
   {
    "duration": 36,
    "start_time": "2023-07-07T12:23:06.513Z"
   },
   {
    "duration": 1490,
    "start_time": "2023-07-07T12:23:06.551Z"
   },
   {
    "duration": 35,
    "start_time": "2023-07-07T12:23:08.043Z"
   },
   {
    "duration": 22,
    "start_time": "2023-07-07T12:23:08.081Z"
   },
   {
    "duration": 46,
    "start_time": "2023-07-07T12:23:08.105Z"
   },
   {
    "duration": 42,
    "start_time": "2023-07-07T12:23:08.152Z"
   },
   {
    "duration": 23,
    "start_time": "2023-07-07T12:23:08.195Z"
   },
   {
    "duration": 9,
    "start_time": "2023-07-07T12:23:08.220Z"
   },
   {
    "duration": 30,
    "start_time": "2023-07-07T12:23:08.231Z"
   },
   {
    "duration": 15,
    "start_time": "2023-07-07T12:23:08.263Z"
   },
   {
    "duration": 28,
    "start_time": "2023-07-07T12:23:08.281Z"
   },
   {
    "duration": 15,
    "start_time": "2023-07-07T12:23:08.311Z"
   },
   {
    "duration": 38,
    "start_time": "2023-07-07T12:23:08.328Z"
   },
   {
    "duration": 232,
    "start_time": "2023-07-07T12:23:08.367Z"
   },
   {
    "duration": 133,
    "start_time": "2023-07-07T12:23:08.601Z"
   },
   {
    "duration": 5,
    "start_time": "2023-07-07T12:23:08.736Z"
   },
   {
    "duration": 26,
    "start_time": "2023-07-07T12:23:08.743Z"
   },
   {
    "duration": 0,
    "start_time": "2023-07-07T12:23:08.771Z"
   },
   {
    "duration": 0,
    "start_time": "2023-07-07T12:23:08.772Z"
   },
   {
    "duration": 0,
    "start_time": "2023-07-07T12:23:08.773Z"
   },
   {
    "duration": 0,
    "start_time": "2023-07-07T12:23:08.774Z"
   },
   {
    "duration": 0,
    "start_time": "2023-07-07T12:23:08.775Z"
   },
   {
    "duration": 0,
    "start_time": "2023-07-07T12:23:08.776Z"
   },
   {
    "duration": 0,
    "start_time": "2023-07-07T12:23:08.777Z"
   },
   {
    "duration": 0,
    "start_time": "2023-07-07T12:23:08.778Z"
   },
   {
    "duration": 0,
    "start_time": "2023-07-07T12:23:08.779Z"
   },
   {
    "duration": 0,
    "start_time": "2023-07-07T12:23:08.781Z"
   },
   {
    "duration": 0,
    "start_time": "2023-07-07T12:23:08.782Z"
   },
   {
    "duration": 0,
    "start_time": "2023-07-07T12:23:08.783Z"
   },
   {
    "duration": 0,
    "start_time": "2023-07-07T12:23:08.784Z"
   },
   {
    "duration": 0,
    "start_time": "2023-07-07T12:23:08.786Z"
   },
   {
    "duration": 0,
    "start_time": "2023-07-07T12:23:08.787Z"
   },
   {
    "duration": 0,
    "start_time": "2023-07-07T12:23:08.788Z"
   },
   {
    "duration": 0,
    "start_time": "2023-07-07T12:23:08.789Z"
   },
   {
    "duration": 0,
    "start_time": "2023-07-07T12:23:08.791Z"
   },
   {
    "duration": 7281,
    "start_time": "2023-07-08T07:02:58.023Z"
   },
   {
    "duration": 1436,
    "start_time": "2023-07-08T07:03:05.307Z"
   },
   {
    "duration": 81,
    "start_time": "2023-07-08T07:03:06.745Z"
   },
   {
    "duration": 14,
    "start_time": "2023-07-08T07:03:06.829Z"
   },
   {
    "duration": 13,
    "start_time": "2023-07-08T07:03:06.845Z"
   },
   {
    "duration": 16,
    "start_time": "2023-07-08T07:03:06.860Z"
   },
   {
    "duration": 8,
    "start_time": "2023-07-08T07:03:06.877Z"
   },
   {
    "duration": 160,
    "start_time": "2023-07-08T07:03:06.887Z"
   },
   {
    "duration": 22,
    "start_time": "2023-07-08T07:03:07.052Z"
   },
   {
    "duration": 10,
    "start_time": "2023-07-08T07:03:07.076Z"
   },
   {
    "duration": 15,
    "start_time": "2023-07-08T07:03:07.088Z"
   },
   {
    "duration": 1538,
    "start_time": "2023-07-08T07:03:07.105Z"
   },
   {
    "duration": 23,
    "start_time": "2023-07-08T07:03:08.644Z"
   },
   {
    "duration": 10,
    "start_time": "2023-07-08T07:03:08.668Z"
   },
   {
    "duration": 10,
    "start_time": "2023-07-08T07:03:08.680Z"
   },
   {
    "duration": 17,
    "start_time": "2023-07-08T07:03:08.691Z"
   },
   {
    "duration": 9,
    "start_time": "2023-07-08T07:03:08.710Z"
   },
   {
    "duration": 32,
    "start_time": "2023-07-08T07:03:08.721Z"
   },
   {
    "duration": 6,
    "start_time": "2023-07-08T07:03:14.380Z"
   },
   {
    "duration": 15,
    "start_time": "2023-07-08T07:03:16.420Z"
   },
   {
    "duration": 15,
    "start_time": "2023-07-08T07:03:20.379Z"
   },
   {
    "duration": 11,
    "start_time": "2023-07-08T07:15:42.745Z"
   },
   {
    "duration": 2242,
    "start_time": "2023-07-08T07:15:47.784Z"
   },
   {
    "duration": 6,
    "start_time": "2023-07-08T07:15:50.030Z"
   },
   {
    "duration": 64,
    "start_time": "2023-07-08T07:15:50.038Z"
   },
   {
    "duration": 20,
    "start_time": "2023-07-08T07:15:50.104Z"
   },
   {
    "duration": 41,
    "start_time": "2023-07-08T07:15:50.127Z"
   },
   {
    "duration": 52,
    "start_time": "2023-07-08T07:15:50.171Z"
   },
   {
    "duration": 55,
    "start_time": "2023-07-08T07:15:50.225Z"
   },
   {
    "duration": 197,
    "start_time": "2023-07-08T07:15:50.282Z"
   },
   {
    "duration": 24,
    "start_time": "2023-07-08T07:15:50.481Z"
   },
   {
    "duration": 32,
    "start_time": "2023-07-08T07:15:50.508Z"
   },
   {
    "duration": 21,
    "start_time": "2023-07-08T07:15:50.542Z"
   },
   {
    "duration": 1526,
    "start_time": "2023-07-08T07:15:50.565Z"
   },
   {
    "duration": 32,
    "start_time": "2023-07-08T07:15:52.093Z"
   },
   {
    "duration": 10,
    "start_time": "2023-07-08T07:15:52.128Z"
   },
   {
    "duration": 6,
    "start_time": "2023-07-08T07:15:52.152Z"
   },
   {
    "duration": 129,
    "start_time": "2023-07-08T07:15:52.160Z"
   },
   {
    "duration": 452,
    "start_time": "2023-07-08T07:15:52.291Z"
   },
   {
    "duration": 13,
    "start_time": "2023-07-08T07:15:55.162Z"
   },
   {
    "duration": 20,
    "start_time": "2023-07-08T07:15:58.784Z"
   },
   {
    "duration": 26,
    "start_time": "2023-07-08T07:16:03.221Z"
   },
   {
    "duration": 35,
    "start_time": "2023-07-08T07:17:22.402Z"
   },
   {
    "duration": 21,
    "start_time": "2023-07-08T07:18:44.733Z"
   },
   {
    "duration": 18,
    "start_time": "2023-07-08T07:19:07.497Z"
   },
   {
    "duration": 21,
    "start_time": "2023-07-08T07:19:13.954Z"
   },
   {
    "duration": 260,
    "start_time": "2023-07-08T07:19:16.233Z"
   },
   {
    "duration": 6,
    "start_time": "2023-07-08T07:20:30.615Z"
   },
   {
    "duration": 116,
    "start_time": "2023-07-08T07:22:19.576Z"
   },
   {
    "duration": 9,
    "start_time": "2023-07-08T07:24:06.268Z"
   },
   {
    "duration": 10,
    "start_time": "2023-07-08T07:24:25.279Z"
   },
   {
    "duration": 17,
    "start_time": "2023-07-08T07:24:32.184Z"
   },
   {
    "duration": 20,
    "start_time": "2023-07-08T07:24:32.919Z"
   },
   {
    "duration": 18,
    "start_time": "2023-07-08T07:24:33.459Z"
   },
   {
    "duration": 16,
    "start_time": "2023-07-08T07:24:36.457Z"
   },
   {
    "duration": 25,
    "start_time": "2023-07-08T07:24:38.339Z"
   },
   {
    "duration": 319,
    "start_time": "2023-07-08T07:24:40.280Z"
   },
   {
    "duration": 17662,
    "start_time": "2023-07-08T07:27:51.502Z"
   },
   {
    "duration": 6,
    "start_time": "2023-07-08T07:28:17.714Z"
   },
   {
    "duration": 264,
    "start_time": "2023-07-08T07:28:22.712Z"
   },
   {
    "duration": 132,
    "start_time": "2023-07-08T07:28:29.063Z"
   },
   {
    "duration": 350,
    "start_time": "2023-07-08T07:28:31.502Z"
   },
   {
    "duration": 18,
    "start_time": "2023-07-08T07:28:59.512Z"
   },
   {
    "duration": 319,
    "start_time": "2023-07-08T07:29:46.001Z"
   },
   {
    "duration": 17820,
    "start_time": "2023-07-08T07:29:52.694Z"
   },
   {
    "duration": 310,
    "start_time": "2023-07-08T07:30:38.254Z"
   },
   {
    "duration": 125,
    "start_time": "2023-07-08T07:30:40.713Z"
   },
   {
    "duration": 131,
    "start_time": "2023-07-08T07:30:42.224Z"
   },
   {
    "duration": 326,
    "start_time": "2023-07-08T07:31:14.494Z"
   },
   {
    "duration": 128,
    "start_time": "2023-07-08T07:31:19.594Z"
   },
   {
    "duration": 21348,
    "start_time": "2023-07-08T07:31:34.218Z"
   },
   {
    "duration": 372,
    "start_time": "2023-07-08T07:32:22.836Z"
   },
   {
    "duration": 450,
    "start_time": "2023-07-08T07:34:54.569Z"
   },
   {
    "duration": 20672,
    "start_time": "2023-07-08T07:35:15.865Z"
   },
   {
    "duration": 547,
    "start_time": "2023-07-08T07:35:42.379Z"
   },
   {
    "duration": 28,
    "start_time": "2023-07-08T07:35:46.321Z"
   },
   {
    "duration": 22,
    "start_time": "2023-07-08T07:35:48.660Z"
   },
   {
    "duration": 28,
    "start_time": "2023-07-08T07:35:50.390Z"
   },
   {
    "duration": 3237,
    "start_time": "2023-07-08T07:36:17.019Z"
   },
   {
    "duration": 135617,
    "start_time": "2023-07-08T07:41:37.084Z"
   },
   {
    "duration": 357,
    "start_time": "2023-07-08T07:43:52.703Z"
   },
   {
    "duration": 127,
    "start_time": "2023-07-08T07:44:01.369Z"
   },
   {
    "duration": 17523,
    "start_time": "2023-07-08T07:44:43.948Z"
   },
   {
    "duration": 2908,
    "start_time": "2023-07-08T07:45:01.474Z"
   },
   {
    "duration": 15,
    "start_time": "2023-07-08T07:45:07.669Z"
   },
   {
    "duration": 3092,
    "start_time": "2023-07-08T07:45:25.191Z"
   },
   {
    "duration": 15,
    "start_time": "2023-07-08T07:45:30.828Z"
   },
   {
    "duration": 361,
    "start_time": "2023-07-08T07:56:37.840Z"
   },
   {
    "duration": 148,
    "start_time": "2023-07-08T07:56:41.848Z"
   },
   {
    "duration": 3345,
    "start_time": "2023-07-08T07:56:56.428Z"
   },
   {
    "duration": 15,
    "start_time": "2023-07-08T07:57:03.296Z"
   },
   {
    "duration": 3216,
    "start_time": "2023-07-08T07:57:10.108Z"
   },
   {
    "duration": 164,
    "start_time": "2023-07-08T07:57:16.186Z"
   },
   {
    "duration": 16776,
    "start_time": "2023-07-08T07:57:40.685Z"
   },
   {
    "duration": 27,
    "start_time": "2023-07-08T07:58:01.866Z"
   },
   {
    "duration": 16783,
    "start_time": "2023-07-08T07:58:07.062Z"
   },
   {
    "duration": 164,
    "start_time": "2023-07-08T07:58:27.510Z"
   },
   {
    "duration": 22,
    "start_time": "2023-07-08T07:58:57.299Z"
   },
   {
    "duration": 3159,
    "start_time": "2023-07-08T07:59:12.691Z"
   },
   {
    "duration": 141,
    "start_time": "2023-07-08T07:59:21.998Z"
   },
   {
    "duration": 3551,
    "start_time": "2023-07-08T07:59:27.530Z"
   },
   {
    "duration": 16531,
    "start_time": "2023-07-08T07:59:50.887Z"
   },
   {
    "duration": 399,
    "start_time": "2023-07-08T08:00:10.001Z"
   },
   {
    "duration": 149,
    "start_time": "2023-07-08T08:00:13.241Z"
   },
   {
    "duration": 201,
    "start_time": "2023-07-08T08:00:15.680Z"
   },
   {
    "duration": 9,
    "start_time": "2023-07-08T08:00:56.794Z"
   },
   {
    "duration": 21,
    "start_time": "2023-07-08T08:00:57.752Z"
   },
   {
    "duration": 34,
    "start_time": "2023-07-08T08:00:59.731Z"
   },
   {
    "duration": 4358,
    "start_time": "2023-07-08T08:01:12.677Z"
   },
   {
    "duration": 4871,
    "start_time": "2023-07-08T08:01:27.381Z"
   },
   {
    "duration": 4430,
    "start_time": "2023-07-08T08:02:29.467Z"
   },
   {
    "duration": 23602,
    "start_time": "2023-07-08T08:02:42.895Z"
   },
   {
    "duration": 434,
    "start_time": "2023-07-08T08:03:08.174Z"
   },
   {
    "duration": 133,
    "start_time": "2023-07-08T08:03:10.793Z"
   },
   {
    "duration": 187,
    "start_time": "2023-07-08T08:03:12.454Z"
   },
   {
    "duration": 2912,
    "start_time": "2023-07-08T08:15:47.675Z"
   },
   {
    "duration": 8,
    "start_time": "2023-07-08T08:15:50.592Z"
   },
   {
    "duration": 56,
    "start_time": "2023-07-08T08:15:50.603Z"
   },
   {
    "duration": 33,
    "start_time": "2023-07-08T08:15:50.662Z"
   },
   {
    "duration": 22,
    "start_time": "2023-07-08T08:15:50.702Z"
   },
   {
    "duration": 22,
    "start_time": "2023-07-08T08:15:50.727Z"
   },
   {
    "duration": 13,
    "start_time": "2023-07-08T08:15:50.754Z"
   },
   {
    "duration": 190,
    "start_time": "2023-07-08T08:15:50.769Z"
   },
   {
    "duration": 33,
    "start_time": "2023-07-08T08:15:50.962Z"
   },
   {
    "duration": 46,
    "start_time": "2023-07-08T08:15:51.000Z"
   },
   {
    "duration": 97,
    "start_time": "2023-07-08T08:15:51.048Z"
   },
   {
    "duration": 1914,
    "start_time": "2023-07-08T08:15:51.147Z"
   },
   {
    "duration": 38,
    "start_time": "2023-07-08T08:15:53.063Z"
   },
   {
    "duration": 32,
    "start_time": "2023-07-08T08:15:53.105Z"
   },
   {
    "duration": 128,
    "start_time": "2023-07-08T08:15:53.140Z"
   },
   {
    "duration": 49,
    "start_time": "2023-07-08T08:15:53.271Z"
   },
   {
    "duration": 54,
    "start_time": "2023-07-08T08:15:53.322Z"
   },
   {
    "duration": 61,
    "start_time": "2023-07-08T08:15:53.385Z"
   },
   {
    "duration": 80,
    "start_time": "2023-07-08T08:15:53.448Z"
   },
   {
    "duration": 34,
    "start_time": "2023-07-08T08:15:53.531Z"
   },
   {
    "duration": 62,
    "start_time": "2023-07-08T08:15:53.575Z"
   },
   {
    "duration": 28,
    "start_time": "2023-07-08T08:15:56.703Z"
   },
   {
    "duration": 35,
    "start_time": "2023-07-08T08:16:01.320Z"
   },
   {
    "duration": 39,
    "start_time": "2023-07-08T08:16:02.445Z"
   },
   {
    "duration": 30,
    "start_time": "2023-07-08T08:16:04.245Z"
   },
   {
    "duration": 10,
    "start_time": "2023-07-08T08:17:44.973Z"
   },
   {
    "duration": 20,
    "start_time": "2023-07-08T08:17:57.474Z"
   },
   {
    "duration": 2735,
    "start_time": "2023-07-08T08:18:01.372Z"
   },
   {
    "duration": 8,
    "start_time": "2023-07-08T08:18:04.110Z"
   },
   {
    "duration": 80,
    "start_time": "2023-07-08T08:18:04.120Z"
   },
   {
    "duration": 19,
    "start_time": "2023-07-08T08:18:04.202Z"
   },
   {
    "duration": 14,
    "start_time": "2023-07-08T08:18:04.223Z"
   },
   {
    "duration": 30,
    "start_time": "2023-07-08T08:18:04.240Z"
   },
   {
    "duration": 37,
    "start_time": "2023-07-08T08:18:04.271Z"
   },
   {
    "duration": 170,
    "start_time": "2023-07-08T08:18:04.311Z"
   },
   {
    "duration": 31,
    "start_time": "2023-07-08T08:18:04.483Z"
   },
   {
    "duration": 16,
    "start_time": "2023-07-08T08:18:04.516Z"
   },
   {
    "duration": 58,
    "start_time": "2023-07-08T08:18:04.555Z"
   },
   {
    "duration": 1966,
    "start_time": "2023-07-08T08:18:04.615Z"
   },
   {
    "duration": 25,
    "start_time": "2023-07-08T08:18:06.583Z"
   },
   {
    "duration": 6,
    "start_time": "2023-07-08T08:18:06.611Z"
   },
   {
    "duration": 14,
    "start_time": "2023-07-08T08:18:06.619Z"
   },
   {
    "duration": 34,
    "start_time": "2023-07-08T08:18:06.635Z"
   },
   {
    "duration": 34,
    "start_time": "2023-07-08T08:18:06.672Z"
   },
   {
    "duration": 33,
    "start_time": "2023-07-08T08:18:08.836Z"
   },
   {
    "duration": 207,
    "start_time": "2023-07-08T08:18:15.351Z"
   },
   {
    "duration": 16,
    "start_time": "2023-07-08T08:18:25.560Z"
   },
   {
    "duration": 25,
    "start_time": "2023-07-08T08:21:51.711Z"
   },
   {
    "duration": 25,
    "start_time": "2023-07-08T08:22:04.618Z"
   },
   {
    "duration": 21,
    "start_time": "2023-07-08T08:22:39.912Z"
   },
   {
    "duration": 39,
    "start_time": "2023-07-08T08:23:06.344Z"
   },
   {
    "duration": 20,
    "start_time": "2023-07-08T08:23:19.832Z"
   },
   {
    "duration": 22,
    "start_time": "2023-07-08T08:23:45.803Z"
   },
   {
    "duration": 3161,
    "start_time": "2023-07-08T08:23:53.341Z"
   },
   {
    "duration": 7,
    "start_time": "2023-07-08T08:23:56.507Z"
   },
   {
    "duration": 60,
    "start_time": "2023-07-08T08:23:56.516Z"
   },
   {
    "duration": 211,
    "start_time": "2023-07-08T08:23:56.579Z"
   },
   {
    "duration": 17,
    "start_time": "2023-07-08T08:23:56.793Z"
   },
   {
    "duration": 48,
    "start_time": "2023-07-08T08:23:56.812Z"
   },
   {
    "duration": 21,
    "start_time": "2023-07-08T08:23:56.864Z"
   },
   {
    "duration": 210,
    "start_time": "2023-07-08T08:23:56.887Z"
   },
   {
    "duration": 31,
    "start_time": "2023-07-08T08:23:57.101Z"
   },
   {
    "duration": 31,
    "start_time": "2023-07-08T08:23:57.136Z"
   },
   {
    "duration": 42,
    "start_time": "2023-07-08T08:23:57.170Z"
   },
   {
    "duration": 1989,
    "start_time": "2023-07-08T08:23:57.214Z"
   },
   {
    "duration": 23,
    "start_time": "2023-07-08T08:23:59.206Z"
   },
   {
    "duration": 4791,
    "start_time": "2023-07-08T08:24:04.723Z"
   },
   {
    "duration": 22,
    "start_time": "2023-07-08T08:24:25.895Z"
   },
   {
    "duration": 32,
    "start_time": "2023-07-08T08:24:34.333Z"
   },
   {
    "duration": 20,
    "start_time": "2023-07-08T08:27:29.918Z"
   },
   {
    "duration": 21,
    "start_time": "2023-07-08T08:27:34.788Z"
   },
   {
    "duration": 25,
    "start_time": "2023-07-08T08:27:58.737Z"
   },
   {
    "duration": 3710,
    "start_time": "2023-07-08T08:28:26.051Z"
   },
   {
    "duration": 13,
    "start_time": "2023-07-08T08:28:29.764Z"
   },
   {
    "duration": 167,
    "start_time": "2023-07-08T08:28:29.778Z"
   },
   {
    "duration": 27,
    "start_time": "2023-07-08T08:28:29.951Z"
   },
   {
    "duration": 152,
    "start_time": "2023-07-08T08:28:29.985Z"
   },
   {
    "duration": 127,
    "start_time": "2023-07-08T08:28:30.141Z"
   },
   {
    "duration": 115,
    "start_time": "2023-07-08T08:28:30.271Z"
   },
   {
    "duration": 495,
    "start_time": "2023-07-08T08:28:30.398Z"
   },
   {
    "duration": 43,
    "start_time": "2023-07-08T08:28:30.900Z"
   },
   {
    "duration": 113,
    "start_time": "2023-07-08T08:28:30.954Z"
   },
   {
    "duration": 140,
    "start_time": "2023-07-08T08:28:31.073Z"
   },
   {
    "duration": 2667,
    "start_time": "2023-07-08T08:28:31.223Z"
   },
   {
    "duration": 36,
    "start_time": "2023-07-08T08:28:33.897Z"
   },
   {
    "duration": 8,
    "start_time": "2023-07-08T08:28:39.828Z"
   },
   {
    "duration": 19,
    "start_time": "2023-07-08T08:28:45.288Z"
   },
   {
    "duration": 40,
    "start_time": "2023-07-08T08:28:49.080Z"
   },
   {
    "duration": 10,
    "start_time": "2023-07-08T08:28:51.590Z"
   },
   {
    "duration": 20,
    "start_time": "2023-07-08T08:28:53.881Z"
   },
   {
    "duration": 19,
    "start_time": "2023-07-08T08:28:54.546Z"
   },
   {
    "duration": 12,
    "start_time": "2023-07-08T08:28:55.928Z"
   },
   {
    "duration": 57,
    "start_time": "2023-07-08T08:29:00.313Z"
   },
   {
    "duration": 24,
    "start_time": "2023-07-08T08:29:01.498Z"
   },
   {
    "duration": 25,
    "start_time": "2023-07-08T08:29:02.495Z"
   },
   {
    "duration": 29,
    "start_time": "2023-07-08T08:29:03.907Z"
   },
   {
    "duration": 25,
    "start_time": "2023-07-08T08:29:07.005Z"
   },
   {
    "duration": 59,
    "start_time": "2023-07-08T08:29:08.146Z"
   },
   {
    "duration": 57,
    "start_time": "2023-07-08T08:29:09.827Z"
   },
   {
    "duration": 41,
    "start_time": "2023-07-08T08:29:11.882Z"
   },
   {
    "duration": 3936,
    "start_time": "2023-07-08T08:29:12.847Z"
   },
   {
    "duration": 18545,
    "start_time": "2023-07-08T08:29:18.287Z"
   },
   {
    "duration": 8,
    "start_time": "2023-07-08T08:29:39.738Z"
   },
   {
    "duration": 475,
    "start_time": "2023-07-08T08:29:41.467Z"
   },
   {
    "duration": 197,
    "start_time": "2023-07-08T08:29:43.783Z"
   },
   {
    "duration": 229,
    "start_time": "2023-07-08T08:29:45.548Z"
   },
   {
    "duration": 49,
    "start_time": "2023-07-08T08:29:58.915Z"
   },
   {
    "duration": 4191,
    "start_time": "2023-07-08T08:30:01.688Z"
   },
   {
    "duration": 20266,
    "start_time": "2023-07-08T08:30:13.089Z"
   },
   {
    "duration": 450,
    "start_time": "2023-07-08T08:30:38.185Z"
   },
   {
    "duration": 209,
    "start_time": "2023-07-08T08:30:41.786Z"
   },
   {
    "duration": 159,
    "start_time": "2023-07-08T08:30:44.040Z"
   },
   {
    "duration": 9,
    "start_time": "2023-07-08T08:31:04.495Z"
   },
   {
    "duration": 21,
    "start_time": "2023-07-08T08:31:05.312Z"
   },
   {
    "duration": 75,
    "start_time": "2023-07-08T08:31:08.949Z"
   },
   {
    "duration": 4776,
    "start_time": "2023-07-08T08:31:10.627Z"
   },
   {
    "duration": 24179,
    "start_time": "2023-07-08T08:31:17.426Z"
   },
   {
    "duration": 322,
    "start_time": "2023-07-08T08:31:43.415Z"
   },
   {
    "duration": 216,
    "start_time": "2023-07-08T08:31:46.905Z"
   },
   {
    "duration": 401,
    "start_time": "2023-07-08T08:31:50.263Z"
   },
   {
    "duration": 21,
    "start_time": "2023-07-08T08:32:23.676Z"
   },
   {
    "duration": 252,
    "start_time": "2023-07-08T08:32:26.075Z"
   },
   {
    "duration": 20779,
    "start_time": "2023-07-08T08:34:06.525Z"
   },
   {
    "duration": 254,
    "start_time": "2023-07-08T08:34:42.943Z"
   },
   {
    "duration": 24868,
    "start_time": "2023-07-08T08:34:58.827Z"
   },
   {
    "duration": 296,
    "start_time": "2023-07-08T08:35:28.411Z"
   },
   {
    "duration": 26879,
    "start_time": "2023-07-08T08:35:48.500Z"
   },
   {
    "duration": 250,
    "start_time": "2023-07-08T08:36:20.644Z"
   },
   {
    "duration": 43317,
    "start_time": "2023-07-08T08:37:02.483Z"
   },
   {
    "duration": 37828,
    "start_time": "2023-07-08T08:37:57.126Z"
   },
   {
    "duration": 241,
    "start_time": "2023-07-08T08:38:40.842Z"
   },
   {
    "duration": 25192,
    "start_time": "2023-07-08T08:40:24.848Z"
   },
   {
    "duration": 253,
    "start_time": "2023-07-08T08:40:58.296Z"
   },
   {
    "duration": 207,
    "start_time": "2023-07-08T08:41:05.539Z"
   },
   {
    "duration": 4,
    "start_time": "2023-07-08T08:41:19.341Z"
   },
   {
    "duration": 27,
    "start_time": "2023-07-08T08:41:20.158Z"
   },
   {
    "duration": 55,
    "start_time": "2023-07-08T08:41:30.130Z"
   },
   {
    "duration": 4550,
    "start_time": "2023-07-08T08:41:31.482Z"
   },
   {
    "duration": 36725,
    "start_time": "2023-07-08T08:41:51.619Z"
   },
   {
    "duration": 544,
    "start_time": "2023-07-08T08:42:30.794Z"
   },
   {
    "duration": 199,
    "start_time": "2023-07-08T08:42:33.349Z"
   },
   {
    "duration": 272,
    "start_time": "2023-07-08T08:42:34.919Z"
   },
   {
    "duration": 175,
    "start_time": "2023-07-08T08:42:41.094Z"
   },
   {
    "duration": 343,
    "start_time": "2023-07-08T08:42:45.288Z"
   },
   {
    "duration": 509,
    "start_time": "2023-07-08T08:42:57.098Z"
   },
   {
    "duration": 15,
    "start_time": "2023-07-08T08:47:29.424Z"
   },
   {
    "duration": 2871,
    "start_time": "2023-07-08T08:47:34.896Z"
   },
   {
    "duration": 8,
    "start_time": "2023-07-08T08:47:37.770Z"
   },
   {
    "duration": 85,
    "start_time": "2023-07-08T08:47:37.781Z"
   },
   {
    "duration": 18,
    "start_time": "2023-07-08T08:47:37.868Z"
   },
   {
    "duration": 41,
    "start_time": "2023-07-08T08:47:37.889Z"
   },
   {
    "duration": 23,
    "start_time": "2023-07-08T08:47:37.932Z"
   },
   {
    "duration": 30,
    "start_time": "2023-07-08T08:47:37.959Z"
   },
   {
    "duration": 226,
    "start_time": "2023-07-08T08:47:37.993Z"
   },
   {
    "duration": 28,
    "start_time": "2023-07-08T08:47:38.223Z"
   },
   {
    "duration": 13,
    "start_time": "2023-07-08T08:47:38.253Z"
   },
   {
    "duration": 65,
    "start_time": "2023-07-08T08:47:38.268Z"
   },
   {
    "duration": 1735,
    "start_time": "2023-07-08T08:47:38.335Z"
   },
   {
    "duration": 33,
    "start_time": "2023-07-08T08:47:40.072Z"
   },
   {
    "duration": 14,
    "start_time": "2023-07-08T08:47:40.109Z"
   },
   {
    "duration": 49,
    "start_time": "2023-07-08T08:47:44.170Z"
   },
   {
    "duration": 13,
    "start_time": "2023-07-08T08:47:45.880Z"
   },
   {
    "duration": 19,
    "start_time": "2023-07-08T08:47:47.570Z"
   },
   {
    "duration": 13,
    "start_time": "2023-07-08T08:47:48.378Z"
   },
   {
    "duration": 22,
    "start_time": "2023-07-08T08:47:49.780Z"
   },
   {
    "duration": 88,
    "start_time": "2023-07-08T08:47:53.502Z"
   },
   {
    "duration": 29,
    "start_time": "2023-07-08T08:47:54.379Z"
   },
   {
    "duration": 38,
    "start_time": "2023-07-08T08:47:54.934Z"
   },
   {
    "duration": 49,
    "start_time": "2023-07-08T08:47:56.696Z"
   },
   {
    "duration": 20,
    "start_time": "2023-07-08T08:48:04.211Z"
   },
   {
    "duration": 25,
    "start_time": "2023-07-08T08:48:05.788Z"
   },
   {
    "duration": 65,
    "start_time": "2023-07-08T08:48:08.027Z"
   },
   {
    "duration": 50,
    "start_time": "2023-07-08T08:48:10.566Z"
   },
   {
    "duration": 3873,
    "start_time": "2023-07-08T08:48:11.870Z"
   },
   {
    "duration": 23547,
    "start_time": "2023-07-08T08:48:16.905Z"
   },
   {
    "duration": 11,
    "start_time": "2023-07-08T08:48:42.446Z"
   },
   {
    "duration": 444,
    "start_time": "2023-07-08T08:48:44.087Z"
   },
   {
    "duration": 202,
    "start_time": "2023-07-08T08:48:47.325Z"
   },
   {
    "duration": 533,
    "start_time": "2023-07-08T08:48:50.975Z"
   },
   {
    "duration": 43,
    "start_time": "2023-07-08T08:48:57.625Z"
   },
   {
    "duration": 4141,
    "start_time": "2023-07-08T08:48:59.208Z"
   },
   {
    "duration": 25313,
    "start_time": "2023-07-08T08:49:07.119Z"
   },
   {
    "duration": 436,
    "start_time": "2023-07-08T08:49:34.710Z"
   },
   {
    "duration": 207,
    "start_time": "2023-07-08T08:49:37.670Z"
   },
   {
    "duration": 272,
    "start_time": "2023-07-08T08:49:40.770Z"
   },
   {
    "duration": 5,
    "start_time": "2023-07-08T08:49:50.636Z"
   },
   {
    "duration": 24,
    "start_time": "2023-07-08T08:49:51.747Z"
   },
   {
    "duration": 71,
    "start_time": "2023-07-08T08:49:55.071Z"
   },
   {
    "duration": 5700,
    "start_time": "2023-07-08T08:49:55.910Z"
   },
   {
    "duration": 34732,
    "start_time": "2023-07-08T08:50:02.612Z"
   },
   {
    "duration": 428,
    "start_time": "2023-07-08T08:50:39.302Z"
   },
   {
    "duration": 217,
    "start_time": "2023-07-08T08:50:42.000Z"
   },
   {
    "duration": 219,
    "start_time": "2023-07-08T08:50:44.924Z"
   },
   {
    "duration": 30,
    "start_time": "2023-07-08T08:50:50.049Z"
   },
   {
    "duration": 21,
    "start_time": "2023-07-08T08:50:56.934Z"
   },
   {
    "duration": 248,
    "start_time": "2023-07-08T08:50:58.898Z"
   },
   {
    "duration": 258,
    "start_time": "2023-07-08T08:52:52.662Z"
   },
   {
    "duration": 6027,
    "start_time": "2023-07-08T09:03:34.215Z"
   },
   {
    "duration": 33148,
    "start_time": "2023-07-08T09:03:48.680Z"
   },
   {
    "duration": 355,
    "start_time": "2023-07-08T09:04:23.094Z"
   },
   {
    "duration": 166,
    "start_time": "2023-07-08T09:04:24.882Z"
   },
   {
    "duration": 188,
    "start_time": "2023-07-08T09:04:27.509Z"
   },
   {
    "duration": 199,
    "start_time": "2023-07-08T09:04:55.394Z"
   },
   {
    "duration": 6907,
    "start_time": "2023-07-08T09:08:52.843Z"
   },
   {
    "duration": 173,
    "start_time": "2023-07-08T09:09:39.504Z"
   },
   {
    "duration": 304,
    "start_time": "2023-07-08T09:10:53.178Z"
   },
   {
    "duration": 61,
    "start_time": "2023-07-08T09:10:56.436Z"
   },
   {
    "duration": 4641,
    "start_time": "2023-07-08T09:10:58.494Z"
   },
   {
    "duration": 41,
    "start_time": "2023-07-08T09:11:14.080Z"
   },
   {
    "duration": 6617,
    "start_time": "2023-07-08T09:11:29.446Z"
   },
   {
    "duration": 33110,
    "start_time": "2023-07-08T09:11:38.045Z"
   },
   {
    "duration": 416,
    "start_time": "2023-07-08T09:12:12.450Z"
   },
   {
    "duration": 149,
    "start_time": "2023-07-08T09:12:14.578Z"
   },
   {
    "duration": 209,
    "start_time": "2023-07-08T09:12:18.036Z"
   },
   {
    "duration": 270,
    "start_time": "2023-07-08T09:12:36.673Z"
   },
   {
    "duration": 4689,
    "start_time": "2023-07-08T09:17:28.623Z"
   },
   {
    "duration": 7,
    "start_time": "2023-07-08T09:17:33.315Z"
   },
   {
    "duration": 66,
    "start_time": "2023-07-08T09:17:33.324Z"
   },
   {
    "duration": 15,
    "start_time": "2023-07-08T09:17:33.392Z"
   },
   {
    "duration": 12,
    "start_time": "2023-07-08T09:17:33.409Z"
   },
   {
    "duration": 26,
    "start_time": "2023-07-08T09:17:33.422Z"
   },
   {
    "duration": 19,
    "start_time": "2023-07-08T09:17:33.450Z"
   },
   {
    "duration": 149,
    "start_time": "2023-07-08T09:17:33.470Z"
   },
   {
    "duration": 21,
    "start_time": "2023-07-08T09:17:33.620Z"
   },
   {
    "duration": 15,
    "start_time": "2023-07-08T09:17:33.653Z"
   },
   {
    "duration": 24,
    "start_time": "2023-07-08T09:17:33.670Z"
   },
   {
    "duration": 1551,
    "start_time": "2023-07-08T09:17:33.696Z"
   },
   {
    "duration": 29,
    "start_time": "2023-07-08T09:17:35.249Z"
   },
   {
    "duration": 5,
    "start_time": "2023-07-08T09:17:35.280Z"
   },
   {
    "duration": 44,
    "start_time": "2023-07-08T09:17:35.286Z"
   },
   {
    "duration": 37,
    "start_time": "2023-07-08T09:17:35.332Z"
   },
   {
    "duration": 28,
    "start_time": "2023-07-08T09:17:35.371Z"
   },
   {
    "duration": 12,
    "start_time": "2023-07-08T09:17:35.402Z"
   },
   {
    "duration": 15,
    "start_time": "2023-07-08T09:17:35.416Z"
   },
   {
    "duration": 65,
    "start_time": "2023-07-08T09:17:35.433Z"
   },
   {
    "duration": 31,
    "start_time": "2023-07-08T09:17:35.500Z"
   },
   {
    "duration": 40,
    "start_time": "2023-07-08T09:17:35.533Z"
   },
   {
    "duration": 34,
    "start_time": "2023-07-08T09:17:35.575Z"
   },
   {
    "duration": 21,
    "start_time": "2023-07-08T09:17:35.611Z"
   },
   {
    "duration": 40,
    "start_time": "2023-07-08T09:17:35.633Z"
   },
   {
    "duration": 36,
    "start_time": "2023-07-08T09:17:35.675Z"
   },
   {
    "duration": 55,
    "start_time": "2023-07-08T09:17:35.712Z"
   },
   {
    "duration": 26,
    "start_time": "2023-07-08T09:17:38.173Z"
   },
   {
    "duration": 6806,
    "start_time": "2023-07-08T09:17:46.673Z"
   },
   {
    "duration": 73207,
    "start_time": "2023-07-08T09:17:59.572Z"
   },
   {
    "duration": 6,
    "start_time": "2023-07-08T09:19:16.804Z"
   },
   {
    "duration": 315,
    "start_time": "2023-07-08T09:19:19.089Z"
   },
   {
    "duration": 143,
    "start_time": "2023-07-08T09:19:21.474Z"
   },
   {
    "duration": 287,
    "start_time": "2023-07-08T09:19:24.796Z"
   },
   {
    "duration": 28,
    "start_time": "2023-07-08T09:19:33.473Z"
   },
   {
    "duration": 3525,
    "start_time": "2023-07-08T09:19:36.174Z"
   },
   {
    "duration": 7426,
    "start_time": "2023-07-08T09:19:44.105Z"
   },
   {
    "duration": 7365,
    "start_time": "2023-07-08T09:19:57.969Z"
   },
   {
    "duration": 79266,
    "start_time": "2023-07-08T09:20:06.643Z"
   },
   {
    "duration": 410,
    "start_time": "2023-07-08T09:21:29.716Z"
   },
   {
    "duration": 150,
    "start_time": "2023-07-08T09:21:32.424Z"
   },
   {
    "duration": 193,
    "start_time": "2023-07-08T09:21:37.087Z"
   },
   {
    "duration": 128,
    "start_time": "2023-07-08T09:21:45.037Z"
   },
   {
    "duration": 45,
    "start_time": "2023-07-08T09:21:51.268Z"
   },
   {
    "duration": 13025,
    "start_time": "2023-07-08T09:21:57.707Z"
   },
   {
    "duration": 124326,
    "start_time": "2023-07-08T09:22:12.386Z"
   },
   {
    "duration": 297,
    "start_time": "2023-07-08T09:24:19.695Z"
   },
   {
    "duration": 138,
    "start_time": "2023-07-08T09:24:22.847Z"
   },
   {
    "duration": 195,
    "start_time": "2023-07-08T09:24:25.919Z"
   },
   {
    "duration": 323,
    "start_time": "2023-07-08T09:24:30.593Z"
   },
   {
    "duration": 33,
    "start_time": "2023-07-08T09:25:19.411Z"
   },
   {
    "duration": 44,
    "start_time": "2023-07-08T09:25:21.394Z"
   },
   {
    "duration": 13533,
    "start_time": "2023-07-08T09:25:23.400Z"
   },
   {
    "duration": 126768,
    "start_time": "2023-07-08T09:25:39.108Z"
   },
   {
    "duration": 469,
    "start_time": "2023-07-08T09:27:50.167Z"
   },
   {
    "duration": 157,
    "start_time": "2023-07-08T09:27:52.643Z"
   },
   {
    "duration": 244,
    "start_time": "2023-07-08T09:27:55.531Z"
   },
   {
    "duration": 38549,
    "start_time": "2023-07-08T09:28:05.941Z"
   },
   {
    "duration": 213,
    "start_time": "2023-07-08T09:28:47.925Z"
   },
   {
    "duration": 6,
    "start_time": "2023-07-08T09:30:03.595Z"
   },
   {
    "duration": 25,
    "start_time": "2023-07-08T09:36:26.824Z"
   },
   {
    "duration": 55,
    "start_time": "2023-07-08T09:36:50.875Z"
   },
   {
    "duration": 13877,
    "start_time": "2023-07-08T09:36:51.739Z"
   },
   {
    "duration": 124770,
    "start_time": "2023-07-08T09:37:07.749Z"
   },
   {
    "duration": 287,
    "start_time": "2023-07-08T09:39:14.932Z"
   },
   {
    "duration": 168,
    "start_time": "2023-07-08T09:39:16.782Z"
   },
   {
    "duration": 189,
    "start_time": "2023-07-08T09:39:19.321Z"
   },
   {
    "duration": 214,
    "start_time": "2023-07-08T09:39:53.997Z"
   },
   {
    "duration": 116,
    "start_time": "2023-07-08T09:40:48.234Z"
   },
   {
    "duration": 168,
    "start_time": "2023-07-08T09:41:20.074Z"
   },
   {
    "duration": 18,
    "start_time": "2023-07-08T09:41:30.405Z"
   },
   {
    "duration": 13,
    "start_time": "2023-07-08T09:41:57.334Z"
   },
   {
    "duration": 39,
    "start_time": "2023-07-08T09:42:10.704Z"
   },
   {
    "duration": 24,
    "start_time": "2023-07-08T09:42:13.614Z"
   },
   {
    "duration": 130828,
    "start_time": "2023-07-08T09:42:44.935Z"
   },
   {
    "duration": 14977,
    "start_time": "2023-07-08T10:27:54.643Z"
   },
   {
    "duration": 6,
    "start_time": "2023-07-08T10:28:09.623Z"
   },
   {
    "duration": 135,
    "start_time": "2023-07-08T10:28:09.631Z"
   },
   {
    "duration": 36,
    "start_time": "2023-07-08T10:28:09.781Z"
   },
   {
    "duration": 17,
    "start_time": "2023-07-08T10:28:09.820Z"
   },
   {
    "duration": 27,
    "start_time": "2023-07-08T10:28:09.839Z"
   },
   {
    "duration": 54,
    "start_time": "2023-07-08T10:28:09.868Z"
   },
   {
    "duration": 212,
    "start_time": "2023-07-08T10:28:09.925Z"
   },
   {
    "duration": 50,
    "start_time": "2023-07-08T10:28:10.139Z"
   },
   {
    "duration": 26,
    "start_time": "2023-07-08T10:28:10.202Z"
   },
   {
    "duration": 17,
    "start_time": "2023-07-08T10:28:10.230Z"
   },
   {
    "duration": 2319,
    "start_time": "2023-07-08T10:28:10.248Z"
   },
   {
    "duration": 53,
    "start_time": "2023-07-08T10:28:12.569Z"
   },
   {
    "duration": 7,
    "start_time": "2023-07-08T10:28:12.626Z"
   },
   {
    "duration": 57,
    "start_time": "2023-07-08T10:28:12.635Z"
   },
   {
    "duration": 42,
    "start_time": "2023-07-08T10:28:12.694Z"
   },
   {
    "duration": 18,
    "start_time": "2023-07-08T10:28:12.738Z"
   },
   {
    "duration": 54,
    "start_time": "2023-07-08T10:28:12.757Z"
   },
   {
    "duration": 25,
    "start_time": "2023-07-08T10:28:12.814Z"
   },
   {
    "duration": 81,
    "start_time": "2023-07-08T10:28:12.841Z"
   },
   {
    "duration": 38,
    "start_time": "2023-07-08T10:28:12.925Z"
   },
   {
    "duration": 30,
    "start_time": "2023-07-08T10:28:12.970Z"
   },
   {
    "duration": 32,
    "start_time": "2023-07-08T10:28:13.001Z"
   },
   {
    "duration": 35,
    "start_time": "2023-07-08T10:28:13.035Z"
   },
   {
    "duration": 34,
    "start_time": "2023-07-08T10:28:13.073Z"
   },
   {
    "duration": 29,
    "start_time": "2023-07-08T10:28:13.110Z"
   },
   {
    "duration": 97,
    "start_time": "2023-07-08T10:28:13.141Z"
   },
   {
    "duration": 6732,
    "start_time": "2023-07-08T10:28:13.239Z"
   },
   {
    "duration": 91255,
    "start_time": "2023-07-08T10:28:19.980Z"
   },
   {
    "duration": 28,
    "start_time": "2023-07-08T10:29:51.237Z"
   },
   {
    "duration": 473,
    "start_time": "2023-07-08T10:29:51.274Z"
   },
   {
    "duration": 170,
    "start_time": "2023-07-08T10:29:51.749Z"
   },
   {
    "duration": 312,
    "start_time": "2023-07-08T10:29:51.924Z"
   },
   {
    "duration": 51,
    "start_time": "2023-07-08T10:29:52.238Z"
   },
   {
    "duration": 7277,
    "start_time": "2023-07-08T10:29:52.294Z"
   },
   {
    "duration": 89588,
    "start_time": "2023-07-08T10:29:59.582Z"
   },
   {
    "duration": 520,
    "start_time": "2023-07-08T10:31:29.171Z"
   },
   {
    "duration": 172,
    "start_time": "2023-07-08T10:31:29.693Z"
   },
   {
    "duration": 345,
    "start_time": "2023-07-08T10:31:29.875Z"
   },
   {
    "duration": 163,
    "start_time": "2023-07-08T10:31:30.222Z"
   },
   {
    "duration": 74,
    "start_time": "2023-07-08T10:31:30.390Z"
   },
   {
    "duration": 97,
    "start_time": "2023-07-08T10:31:30.467Z"
   },
   {
    "duration": 13172,
    "start_time": "2023-07-08T10:31:30.566Z"
   },
   {
    "duration": 149608,
    "start_time": "2023-07-08T10:31:43.740Z"
   },
   {
    "duration": 327,
    "start_time": "2023-07-08T10:34:13.354Z"
   },
   {
    "duration": 151,
    "start_time": "2023-07-08T10:34:13.684Z"
   },
   {
    "duration": 91,
    "start_time": "2023-07-08T10:34:13.837Z"
   },
   {
    "duration": 0,
    "start_time": "2023-07-08T10:34:13.930Z"
   },
   {
    "duration": 347,
    "start_time": "2023-07-08T10:34:20.245Z"
   },
   {
    "duration": 387,
    "start_time": "2023-07-08T10:34:25.343Z"
   },
   {
    "duration": 4859,
    "start_time": "2023-07-08T11:11:23.474Z"
   },
   {
    "duration": 8,
    "start_time": "2023-07-08T11:11:28.336Z"
   },
   {
    "duration": 87,
    "start_time": "2023-07-08T11:11:28.346Z"
   },
   {
    "duration": 27,
    "start_time": "2023-07-08T11:11:28.436Z"
   },
   {
    "duration": 21,
    "start_time": "2023-07-08T11:11:28.471Z"
   },
   {
    "duration": 38,
    "start_time": "2023-07-08T11:11:28.503Z"
   },
   {
    "duration": 74,
    "start_time": "2023-07-08T11:11:28.543Z"
   },
   {
    "duration": 277,
    "start_time": "2023-07-08T11:11:28.619Z"
   },
   {
    "duration": 24,
    "start_time": "2023-07-08T11:11:28.898Z"
   },
   {
    "duration": 10,
    "start_time": "2023-07-08T11:11:28.924Z"
   },
   {
    "duration": 37,
    "start_time": "2023-07-08T11:11:28.935Z"
   },
   {
    "duration": 1947,
    "start_time": "2023-07-08T11:11:28.975Z"
   },
   {
    "duration": 43,
    "start_time": "2023-07-08T11:11:30.925Z"
   },
   {
    "duration": 55,
    "start_time": "2023-07-08T11:11:30.979Z"
   },
   {
    "duration": 134,
    "start_time": "2023-07-08T11:11:31.036Z"
   },
   {
    "duration": 89,
    "start_time": "2023-07-08T11:11:31.172Z"
   },
   {
    "duration": 66,
    "start_time": "2023-07-08T11:11:31.263Z"
   },
   {
    "duration": 30,
    "start_time": "2023-07-08T11:11:31.332Z"
   },
   {
    "duration": 17,
    "start_time": "2023-07-08T11:11:35.682Z"
   },
   {
    "duration": 5007,
    "start_time": "2023-07-08T11:12:57.190Z"
   },
   {
    "duration": 7,
    "start_time": "2023-07-08T11:13:02.200Z"
   },
   {
    "duration": 87,
    "start_time": "2023-07-08T11:13:02.209Z"
   },
   {
    "duration": 24,
    "start_time": "2023-07-08T11:13:02.301Z"
   },
   {
    "duration": 18,
    "start_time": "2023-07-08T11:13:02.327Z"
   },
   {
    "duration": 71,
    "start_time": "2023-07-08T11:13:02.347Z"
   },
   {
    "duration": 20,
    "start_time": "2023-07-08T11:13:02.421Z"
   },
   {
    "duration": 238,
    "start_time": "2023-07-08T11:13:02.443Z"
   },
   {
    "duration": 26,
    "start_time": "2023-07-08T11:13:02.682Z"
   },
   {
    "duration": 18,
    "start_time": "2023-07-08T11:13:02.710Z"
   },
   {
    "duration": 67,
    "start_time": "2023-07-08T11:13:02.730Z"
   },
   {
    "duration": 1536,
    "start_time": "2023-07-08T11:13:02.799Z"
   },
   {
    "duration": 44,
    "start_time": "2023-07-08T11:13:04.337Z"
   },
   {
    "duration": 19,
    "start_time": "2023-07-08T11:13:04.383Z"
   },
   {
    "duration": 18,
    "start_time": "2023-07-08T11:13:06.997Z"
   },
   {
    "duration": 8,
    "start_time": "2023-07-08T11:13:08.307Z"
   },
   {
    "duration": 22,
    "start_time": "2023-07-08T11:13:10.507Z"
   },
   {
    "duration": 16,
    "start_time": "2023-07-08T11:13:11.362Z"
   },
   {
    "duration": 12,
    "start_time": "2023-07-08T11:13:12.309Z"
   },
   {
    "duration": 28,
    "start_time": "2023-07-08T11:13:16.036Z"
   },
   {
    "duration": 15,
    "start_time": "2023-07-08T11:13:16.620Z"
   },
   {
    "duration": 24,
    "start_time": "2023-07-08T11:13:17.979Z"
   },
   {
    "duration": 24,
    "start_time": "2023-07-08T11:13:21.681Z"
   },
   {
    "duration": 30,
    "start_time": "2023-07-08T11:13:25.870Z"
   },
   {
    "duration": 37,
    "start_time": "2023-07-08T11:13:26.740Z"
   },
   {
    "duration": 31,
    "start_time": "2023-07-08T11:13:29.839Z"
   },
   {
    "duration": 22,
    "start_time": "2023-07-08T11:13:39.114Z"
   },
   {
    "duration": 6421,
    "start_time": "2023-07-08T11:13:40.076Z"
   },
   {
    "duration": 3272,
    "start_time": "2023-07-08T11:13:52.099Z"
   },
   {
    "duration": 24473,
    "start_time": "2023-07-08T11:13:57.873Z"
   },
   {
    "duration": 6,
    "start_time": "2023-07-08T11:14:30.308Z"
   },
   {
    "duration": 343,
    "start_time": "2023-07-08T11:14:32.788Z"
   },
   {
    "duration": 333,
    "start_time": "2023-07-08T11:14:35.804Z"
   },
   {
    "duration": 182,
    "start_time": "2023-07-08T11:14:38.124Z"
   },
   {
    "duration": 4918,
    "start_time": "2023-07-08T11:15:32.003Z"
   },
   {
    "duration": 7,
    "start_time": "2023-07-08T11:15:36.924Z"
   },
   {
    "duration": 83,
    "start_time": "2023-07-08T11:15:36.933Z"
   },
   {
    "duration": 17,
    "start_time": "2023-07-08T11:15:37.019Z"
   },
   {
    "duration": 70,
    "start_time": "2023-07-08T11:15:37.039Z"
   },
   {
    "duration": 22,
    "start_time": "2023-07-08T11:15:37.111Z"
   },
   {
    "duration": 9,
    "start_time": "2023-07-08T11:15:37.135Z"
   },
   {
    "duration": 221,
    "start_time": "2023-07-08T11:15:37.146Z"
   },
   {
    "duration": 34,
    "start_time": "2023-07-08T11:15:37.371Z"
   },
   {
    "duration": 22,
    "start_time": "2023-07-08T11:15:37.408Z"
   },
   {
    "duration": 18,
    "start_time": "2023-07-08T11:15:37.432Z"
   },
   {
    "duration": 1737,
    "start_time": "2023-07-08T11:15:37.451Z"
   },
   {
    "duration": 25,
    "start_time": "2023-07-08T11:15:39.196Z"
   },
   {
    "duration": 9,
    "start_time": "2023-07-08T11:15:39.223Z"
   },
   {
    "duration": 54,
    "start_time": "2023-07-08T11:15:44.338Z"
   },
   {
    "duration": 7,
    "start_time": "2023-07-08T11:15:45.615Z"
   },
   {
    "duration": 13,
    "start_time": "2023-07-08T11:15:47.210Z"
   },
   {
    "duration": 27,
    "start_time": "2023-07-08T11:15:48.070Z"
   },
   {
    "duration": 23,
    "start_time": "2023-07-08T11:15:48.874Z"
   },
   {
    "duration": 88,
    "start_time": "2023-07-08T11:15:49.594Z"
   },
   {
    "duration": 38,
    "start_time": "2023-07-08T11:15:50.182Z"
   },
   {
    "duration": 24,
    "start_time": "2023-07-08T11:15:50.312Z"
   },
   {
    "duration": 47,
    "start_time": "2023-07-08T11:15:52.195Z"
   },
   {
    "duration": 38,
    "start_time": "2023-07-08T11:15:59.238Z"
   },
   {
    "duration": 17,
    "start_time": "2023-07-08T11:16:00.730Z"
   },
   {
    "duration": 58,
    "start_time": "2023-07-08T11:16:02.429Z"
   },
   {
    "duration": 30,
    "start_time": "2023-07-08T11:16:27.725Z"
   },
   {
    "duration": 3636,
    "start_time": "2023-07-08T11:16:29.679Z"
   },
   {
    "duration": 21765,
    "start_time": "2023-07-08T11:16:35.220Z"
   },
   {
    "duration": 6,
    "start_time": "2023-07-08T11:17:01.727Z"
   },
   {
    "duration": 434,
    "start_time": "2023-07-08T11:17:03.312Z"
   },
   {
    "duration": 311,
    "start_time": "2023-07-08T11:17:06.743Z"
   },
   {
    "duration": 335,
    "start_time": "2023-07-08T11:17:09.806Z"
   },
   {
    "duration": 53,
    "start_time": "2023-07-08T11:17:53.033Z"
   },
   {
    "duration": 3708,
    "start_time": "2023-07-08T11:17:57.780Z"
   },
   {
    "duration": 22014,
    "start_time": "2023-07-08T11:18:03.825Z"
   },
   {
    "duration": 353,
    "start_time": "2023-07-08T11:18:28.810Z"
   },
   {
    "duration": 163,
    "start_time": "2023-07-08T11:18:33.412Z"
   },
   {
    "duration": 205,
    "start_time": "2023-07-08T11:18:37.122Z"
   },
   {
    "duration": 136,
    "start_time": "2023-07-08T11:18:42.116Z"
   },
   {
    "duration": 33,
    "start_time": "2023-07-08T11:18:43.282Z"
   },
   {
    "duration": 69,
    "start_time": "2023-07-08T11:18:47.101Z"
   },
   {
    "duration": 6691,
    "start_time": "2023-07-08T11:18:54.889Z"
   },
   {
    "duration": 33231,
    "start_time": "2023-07-08T11:19:02.550Z"
   },
   {
    "duration": 482,
    "start_time": "2023-07-08T11:19:39.406Z"
   },
   {
    "duration": 158,
    "start_time": "2023-07-08T11:19:42.986Z"
   },
   {
    "duration": 202,
    "start_time": "2023-07-08T11:19:46.014Z"
   },
   {
    "duration": 209,
    "start_time": "2023-07-08T11:20:00.929Z"
   },
   {
    "duration": 68,
    "start_time": "2023-07-08T11:20:21.469Z"
   },
   {
    "duration": 7474,
    "start_time": "2023-07-08T11:20:32.964Z"
   },
   {
    "duration": 39666,
    "start_time": "2023-07-08T11:20:46.695Z"
   },
   {
    "duration": 30,
    "start_time": "2023-07-08T11:22:18.467Z"
   },
   {
    "duration": 458,
    "start_time": "2023-07-08T11:22:25.972Z"
   },
   {
    "duration": 189,
    "start_time": "2023-07-08T11:22:36.910Z"
   },
   {
    "duration": 365,
    "start_time": "2023-07-08T11:22:41.116Z"
   },
   {
    "duration": 396,
    "start_time": "2023-07-08T11:22:54.380Z"
   },
   {
    "duration": 253,
    "start_time": "2023-07-08T11:22:58.182Z"
   },
   {
    "duration": 388,
    "start_time": "2023-07-08T11:23:01.686Z"
   },
   {
    "duration": 451,
    "start_time": "2023-07-08T11:23:35.129Z"
   },
   {
    "duration": 168,
    "start_time": "2023-07-08T11:23:41.343Z"
   },
   {
    "duration": 257,
    "start_time": "2023-07-08T11:23:45.888Z"
   },
   {
    "duration": 235,
    "start_time": "2023-07-08T11:23:53.978Z"
   },
   {
    "duration": 23,
    "start_time": "2023-07-08T11:34:34.382Z"
   },
   {
    "duration": 5,
    "start_time": "2023-07-08T11:36:12.407Z"
   },
   {
    "duration": 304,
    "start_time": "2023-07-08T11:37:11.146Z"
   },
   {
    "duration": 117,
    "start_time": "2023-07-08T11:37:15.880Z"
   },
   {
    "duration": 9849,
    "start_time": "2023-07-08T11:37:19.162Z"
   },
   {
    "duration": 45663,
    "start_time": "2023-07-08T11:37:34.639Z"
   },
   {
    "duration": 451,
    "start_time": "2023-07-08T11:38:26.827Z"
   },
   {
    "duration": 155,
    "start_time": "2023-07-08T11:38:34.121Z"
   },
   {
    "duration": 7,
    "start_time": "2023-07-08T11:39:03.742Z"
   },
   {
    "duration": 15,
    "start_time": "2023-07-08T11:39:21.582Z"
   },
   {
    "duration": 286,
    "start_time": "2023-07-08T11:39:36.521Z"
   },
   {
    "duration": 182,
    "start_time": "2023-07-08T11:39:44.306Z"
   },
   {
    "duration": 178,
    "start_time": "2023-07-08T11:39:50.945Z"
   },
   {
    "duration": 194,
    "start_time": "2023-07-08T11:40:11.394Z"
   },
   {
    "duration": 14,
    "start_time": "2023-07-08T11:42:06.023Z"
   },
   {
    "duration": 67,
    "start_time": "2023-07-08T11:42:08.096Z"
   },
   {
    "duration": 5089,
    "start_time": "2023-07-08T11:42:10.641Z"
   },
   {
    "duration": 30243,
    "start_time": "2023-07-08T11:42:17.301Z"
   },
   {
    "duration": 403,
    "start_time": "2023-07-08T11:42:59.272Z"
   },
   {
    "duration": 136,
    "start_time": "2023-07-08T11:43:17.513Z"
   },
   {
    "duration": 187,
    "start_time": "2023-07-08T11:43:20.448Z"
   },
   {
    "duration": 171,
    "start_time": "2023-07-08T11:43:27.828Z"
   },
   {
    "duration": 33,
    "start_time": "2023-07-08T11:44:26.493Z"
   },
   {
    "duration": 61,
    "start_time": "2023-07-08T11:44:43.556Z"
   },
   {
    "duration": 6821,
    "start_time": "2023-07-08T11:44:45.099Z"
   },
   {
    "duration": 35159,
    "start_time": "2023-07-08T11:44:53.642Z"
   },
   {
    "duration": 312,
    "start_time": "2023-07-08T11:45:28.803Z"
   },
   {
    "duration": 193,
    "start_time": "2023-07-08T11:45:35.545Z"
   },
   {
    "duration": 190,
    "start_time": "2023-07-08T11:45:39.312Z"
   },
   {
    "duration": 182,
    "start_time": "2023-07-08T11:45:55.426Z"
   },
   {
    "duration": 6,
    "start_time": "2023-07-08T11:47:21.498Z"
   },
   {
    "duration": 323,
    "start_time": "2023-07-08T11:47:33.936Z"
   },
   {
    "duration": 172,
    "start_time": "2023-07-08T11:47:43.903Z"
   },
   {
    "duration": 247,
    "start_time": "2023-07-08T11:47:49.178Z"
   },
   {
    "duration": 352,
    "start_time": "2023-07-08T11:47:59.244Z"
   },
   {
    "duration": 143,
    "start_time": "2023-07-08T11:48:04.025Z"
   },
   {
    "duration": 178,
    "start_time": "2023-07-08T11:48:08.729Z"
   },
   {
    "duration": 47,
    "start_time": "2023-07-08T11:48:24.868Z"
   },
   {
    "duration": 55,
    "start_time": "2023-07-08T11:48:28.488Z"
   },
   {
    "duration": 6699,
    "start_time": "2023-07-08T11:48:29.501Z"
   },
   {
    "duration": 33002,
    "start_time": "2023-07-08T11:48:43.149Z"
   },
   {
    "duration": 417,
    "start_time": "2023-07-08T11:49:36.762Z"
   },
   {
    "duration": 139,
    "start_time": "2023-07-08T11:49:44.977Z"
   },
   {
    "duration": 252,
    "start_time": "2023-07-08T11:49:51.360Z"
   },
   {
    "duration": 268,
    "start_time": "2023-07-08T11:50:06.128Z"
   },
   {
    "duration": 33,
    "start_time": "2023-07-08T11:50:19.984Z"
   },
   {
    "duration": 44,
    "start_time": "2023-07-08T11:50:21.821Z"
   },
   {
    "duration": 6566,
    "start_time": "2023-07-08T11:50:22.607Z"
   },
   {
    "duration": 31827,
    "start_time": "2023-07-08T11:50:30.001Z"
   },
   {
    "duration": 282,
    "start_time": "2023-07-08T11:51:03.836Z"
   },
   {
    "duration": 139,
    "start_time": "2023-07-08T11:51:06.996Z"
   },
   {
    "duration": 229,
    "start_time": "2023-07-08T11:51:10.437Z"
   },
   {
    "duration": 203,
    "start_time": "2023-07-08T11:51:14.202Z"
   },
   {
    "duration": 5,
    "start_time": "2023-07-08T11:54:13.200Z"
   },
   {
    "duration": 4,
    "start_time": "2023-07-08T11:54:17.165Z"
   },
   {
    "duration": 9,
    "start_time": "2023-07-08T11:54:40.806Z"
   },
   {
    "duration": 8,
    "start_time": "2023-07-08T11:54:54.610Z"
   },
   {
    "duration": 10,
    "start_time": "2023-07-08T11:54:59.102Z"
   },
   {
    "duration": 8,
    "start_time": "2023-07-08T11:55:20.740Z"
   },
   {
    "duration": 10,
    "start_time": "2023-07-08T11:55:24.144Z"
   },
   {
    "duration": 5,
    "start_time": "2023-07-08T11:55:43.727Z"
   },
   {
    "duration": 11,
    "start_time": "2023-07-08T11:56:18.481Z"
   },
   {
    "duration": 4912,
    "start_time": "2023-07-08T11:56:22.310Z"
   },
   {
    "duration": 6,
    "start_time": "2023-07-08T11:56:27.226Z"
   },
   {
    "duration": 80,
    "start_time": "2023-07-08T11:56:27.234Z"
   },
   {
    "duration": 18,
    "start_time": "2023-07-08T11:56:27.316Z"
   },
   {
    "duration": 37,
    "start_time": "2023-07-08T11:56:27.338Z"
   },
   {
    "duration": 33,
    "start_time": "2023-07-08T11:56:27.379Z"
   },
   {
    "duration": 9,
    "start_time": "2023-07-08T11:56:27.414Z"
   },
   {
    "duration": 176,
    "start_time": "2023-07-08T11:56:27.425Z"
   },
   {
    "duration": 32,
    "start_time": "2023-07-08T11:56:27.603Z"
   },
   {
    "duration": 38,
    "start_time": "2023-07-08T11:56:27.637Z"
   },
   {
    "duration": 32,
    "start_time": "2023-07-08T11:56:27.683Z"
   },
   {
    "duration": 1843,
    "start_time": "2023-07-08T11:56:27.718Z"
   },
   {
    "duration": 31,
    "start_time": "2023-07-08T11:56:29.564Z"
   },
   {
    "duration": 5,
    "start_time": "2023-07-08T11:56:29.599Z"
   },
   {
    "duration": 69,
    "start_time": "2023-07-08T11:56:29.607Z"
   },
   {
    "duration": 50,
    "start_time": "2023-07-08T11:56:29.679Z"
   },
   {
    "duration": 34,
    "start_time": "2023-07-08T11:56:29.731Z"
   },
   {
    "duration": 340,
    "start_time": "2023-07-08T11:56:29.767Z"
   },
   {
    "duration": 143,
    "start_time": "2023-07-08T11:56:30.110Z"
   },
   {
    "duration": 108,
    "start_time": "2023-07-08T11:56:30.260Z"
   },
   {
    "duration": 47,
    "start_time": "2023-07-08T11:56:30.371Z"
   },
   {
    "duration": 91,
    "start_time": "2023-07-08T11:56:30.421Z"
   },
   {
    "duration": 53,
    "start_time": "2023-07-08T11:56:30.516Z"
   },
   {
    "duration": 105,
    "start_time": "2023-07-08T11:56:30.571Z"
   },
   {
    "duration": 91,
    "start_time": "2023-07-08T11:56:30.680Z"
   },
   {
    "duration": 159,
    "start_time": "2023-07-08T11:56:30.775Z"
   },
   {
    "duration": 104,
    "start_time": "2023-07-08T11:56:30.937Z"
   },
   {
    "duration": 3429,
    "start_time": "2023-07-08T11:56:31.043Z"
   },
   {
    "duration": 23923,
    "start_time": "2023-07-08T11:56:34.475Z"
   },
   {
    "duration": 8,
    "start_time": "2023-07-08T11:56:58.401Z"
   },
   {
    "duration": 415,
    "start_time": "2023-07-08T11:56:58.411Z"
   },
   {
    "duration": 187,
    "start_time": "2023-07-08T11:56:58.829Z"
   },
   {
    "duration": 195,
    "start_time": "2023-07-08T11:56:59.018Z"
   },
   {
    "duration": 45,
    "start_time": "2023-07-08T11:56:59.215Z"
   },
   {
    "duration": 3529,
    "start_time": "2023-07-08T11:56:59.263Z"
   },
   {
    "duration": 22312,
    "start_time": "2023-07-08T11:57:02.794Z"
   },
   {
    "duration": 400,
    "start_time": "2023-07-08T11:57:25.109Z"
   },
   {
    "duration": 173,
    "start_time": "2023-07-08T11:57:25.511Z"
   },
   {
    "duration": 272,
    "start_time": "2023-07-08T11:57:25.686Z"
   },
   {
    "duration": 65,
    "start_time": "2023-07-08T11:57:25.967Z"
   },
   {
    "duration": 53,
    "start_time": "2023-07-08T11:57:26.038Z"
   },
   {
    "duration": 6447,
    "start_time": "2023-07-08T11:57:26.094Z"
   },
   {
    "duration": 38813,
    "start_time": "2023-07-08T11:57:32.554Z"
   },
   {
    "duration": 400,
    "start_time": "2023-07-08T11:58:11.369Z"
   },
   {
    "duration": 175,
    "start_time": "2023-07-08T11:58:11.773Z"
   },
   {
    "duration": 277,
    "start_time": "2023-07-08T11:58:11.950Z"
   },
   {
    "duration": 247,
    "start_time": "2023-07-08T11:58:12.229Z"
   },
   {
    "duration": 25,
    "start_time": "2023-07-08T12:01:55.842Z"
   },
   {
    "duration": 10,
    "start_time": "2023-07-08T12:02:15.372Z"
   },
   {
    "duration": 5,
    "start_time": "2023-07-08T12:02:49.222Z"
   },
   {
    "duration": 4833,
    "start_time": "2023-07-08T12:02:55.448Z"
   },
   {
    "duration": 8,
    "start_time": "2023-07-08T12:03:00.287Z"
   },
   {
    "duration": 88,
    "start_time": "2023-07-08T12:03:00.297Z"
   },
   {
    "duration": 23,
    "start_time": "2023-07-08T12:03:00.387Z"
   },
   {
    "duration": 44,
    "start_time": "2023-07-08T12:03:00.412Z"
   },
   {
    "duration": 69,
    "start_time": "2023-07-08T12:03:00.460Z"
   },
   {
    "duration": 19,
    "start_time": "2023-07-08T12:03:00.532Z"
   },
   {
    "duration": 216,
    "start_time": "2023-07-08T12:03:00.562Z"
   },
   {
    "duration": 19,
    "start_time": "2023-07-08T12:03:00.781Z"
   },
   {
    "duration": 26,
    "start_time": "2023-07-08T12:03:00.804Z"
   },
   {
    "duration": 66,
    "start_time": "2023-07-08T12:03:00.832Z"
   },
   {
    "duration": 1870,
    "start_time": "2023-07-08T12:03:00.900Z"
   },
   {
    "duration": 24,
    "start_time": "2023-07-08T12:03:02.773Z"
   },
   {
    "duration": 96,
    "start_time": "2023-07-08T12:03:02.800Z"
   },
   {
    "duration": 66,
    "start_time": "2023-07-08T12:03:02.898Z"
   },
   {
    "duration": 60,
    "start_time": "2023-07-08T12:03:02.974Z"
   },
   {
    "duration": 46,
    "start_time": "2023-07-08T12:03:03.036Z"
   },
   {
    "duration": 27,
    "start_time": "2023-07-08T12:03:03.084Z"
   },
   {
    "duration": 24,
    "start_time": "2023-07-08T12:03:04.505Z"
   },
   {
    "duration": 12,
    "start_time": "2023-07-08T12:03:05.395Z"
   },
   {
    "duration": 16,
    "start_time": "2023-07-08T12:03:09.653Z"
   },
   {
    "duration": 5,
    "start_time": "2023-07-08T12:03:10.303Z"
   },
   {
    "duration": 15,
    "start_time": "2023-07-08T12:03:13.487Z"
   },
   {
    "duration": 5,
    "start_time": "2023-07-08T12:03:14.072Z"
   },
   {
    "duration": 79,
    "start_time": "2023-07-08T12:08:55.427Z"
   },
   {
    "duration": 4973,
    "start_time": "2023-07-08T12:09:01.043Z"
   },
   {
    "duration": 7,
    "start_time": "2023-07-08T12:09:06.020Z"
   },
   {
    "duration": 50,
    "start_time": "2023-07-08T12:09:06.029Z"
   },
   {
    "duration": 17,
    "start_time": "2023-07-08T12:09:06.081Z"
   },
   {
    "duration": 21,
    "start_time": "2023-07-08T12:09:06.102Z"
   },
   {
    "duration": 45,
    "start_time": "2023-07-08T12:09:06.126Z"
   },
   {
    "duration": 12,
    "start_time": "2023-07-08T12:09:06.173Z"
   },
   {
    "duration": 192,
    "start_time": "2023-07-08T12:09:06.187Z"
   },
   {
    "duration": 26,
    "start_time": "2023-07-08T12:09:06.382Z"
   },
   {
    "duration": 14,
    "start_time": "2023-07-08T12:09:06.412Z"
   },
   {
    "duration": 44,
    "start_time": "2023-07-08T12:09:06.428Z"
   },
   {
    "duration": 1866,
    "start_time": "2023-07-08T12:09:06.475Z"
   },
   {
    "duration": 43,
    "start_time": "2023-07-08T12:09:08.343Z"
   },
   {
    "duration": 21,
    "start_time": "2023-07-08T12:09:08.396Z"
   },
   {
    "duration": 83,
    "start_time": "2023-07-08T12:09:08.419Z"
   },
   {
    "duration": 29,
    "start_time": "2023-07-08T12:09:08.505Z"
   },
   {
    "duration": 68,
    "start_time": "2023-07-08T12:09:08.538Z"
   },
   {
    "duration": 59,
    "start_time": "2023-07-08T12:09:08.608Z"
   },
   {
    "duration": 46,
    "start_time": "2023-07-08T12:09:08.669Z"
   },
   {
    "duration": 50,
    "start_time": "2023-07-08T12:09:08.717Z"
   },
   {
    "duration": 19,
    "start_time": "2023-07-08T12:09:08.770Z"
   },
   {
    "duration": 22,
    "start_time": "2023-07-08T12:09:08.792Z"
   },
   {
    "duration": 26,
    "start_time": "2023-07-08T12:09:08.816Z"
   },
   {
    "duration": 32,
    "start_time": "2023-07-08T12:09:08.844Z"
   },
   {
    "duration": 20,
    "start_time": "2023-07-08T12:09:08.878Z"
   },
   {
    "duration": 33,
    "start_time": "2023-07-08T12:09:08.900Z"
   },
   {
    "duration": 43,
    "start_time": "2023-07-08T12:09:08.936Z"
   },
   {
    "duration": 3394,
    "start_time": "2023-07-08T12:09:08.982Z"
   },
   {
    "duration": 22842,
    "start_time": "2023-07-08T12:09:12.379Z"
   },
   {
    "duration": 6,
    "start_time": "2023-07-08T12:09:35.223Z"
   },
   {
    "duration": 386,
    "start_time": "2023-07-08T12:09:35.230Z"
   },
   {
    "duration": 168,
    "start_time": "2023-07-08T12:09:35.619Z"
   },
   {
    "duration": 195,
    "start_time": "2023-07-08T12:09:35.789Z"
   },
   {
    "duration": 42,
    "start_time": "2023-07-08T12:09:35.986Z"
   },
   {
    "duration": 3369,
    "start_time": "2023-07-08T12:09:36.031Z"
   },
   {
    "duration": 22386,
    "start_time": "2023-07-08T12:09:39.402Z"
   },
   {
    "duration": 385,
    "start_time": "2023-07-08T12:10:01.791Z"
   },
   {
    "duration": 177,
    "start_time": "2023-07-08T12:10:02.179Z"
   },
   {
    "duration": 255,
    "start_time": "2023-07-08T12:10:02.358Z"
   },
   {
    "duration": 75,
    "start_time": "2023-07-08T12:10:02.615Z"
   },
   {
    "duration": 57,
    "start_time": "2023-07-08T12:10:02.696Z"
   },
   {
    "duration": 5923,
    "start_time": "2023-07-08T12:10:02.755Z"
   },
   {
    "duration": 35523,
    "start_time": "2023-07-08T12:10:08.681Z"
   },
   {
    "duration": 375,
    "start_time": "2023-07-08T12:10:44.206Z"
   },
   {
    "duration": 156,
    "start_time": "2023-07-08T12:10:44.583Z"
   },
   {
    "duration": 284,
    "start_time": "2023-07-08T12:10:44.741Z"
   },
   {
    "duration": 266,
    "start_time": "2023-07-08T12:10:45.027Z"
   },
   {
    "duration": 64,
    "start_time": "2023-07-08T12:12:10.715Z"
   },
   {
    "duration": 41,
    "start_time": "2023-07-08T12:12:12.089Z"
   },
   {
    "duration": 5819,
    "start_time": "2023-07-08T12:12:12.850Z"
   },
   {
    "duration": 37545,
    "start_time": "2023-07-08T12:12:19.326Z"
   },
   {
    "duration": 490,
    "start_time": "2023-07-08T12:12:59.006Z"
   },
   {
    "duration": 206,
    "start_time": "2023-07-08T12:13:01.734Z"
   },
   {
    "duration": 307,
    "start_time": "2023-07-08T12:13:03.810Z"
   },
   {
    "duration": 351,
    "start_time": "2023-07-08T12:13:07.230Z"
   },
   {
    "duration": 85,
    "start_time": "2023-07-08T12:13:24.218Z"
   },
   {
    "duration": 49,
    "start_time": "2023-07-08T12:13:26.782Z"
   },
   {
    "duration": 6681,
    "start_time": "2023-07-08T12:13:27.279Z"
   },
   {
    "duration": 37652,
    "start_time": "2023-07-08T12:13:44.476Z"
   },
   {
    "duration": 426,
    "start_time": "2023-07-08T12:14:25.560Z"
   },
   {
    "duration": 159,
    "start_time": "2023-07-08T12:14:27.289Z"
   },
   {
    "duration": 254,
    "start_time": "2023-07-08T12:14:29.285Z"
   },
   {
    "duration": 229,
    "start_time": "2023-07-08T12:14:33.433Z"
   },
   {
    "duration": 70,
    "start_time": "2023-07-08T12:14:47.819Z"
   },
   {
    "duration": 42,
    "start_time": "2023-07-08T12:14:49.100Z"
   },
   {
    "duration": 5782,
    "start_time": "2023-07-08T12:14:49.512Z"
   },
   {
    "duration": 35864,
    "start_time": "2023-07-08T12:14:55.297Z"
   },
   {
    "duration": 371,
    "start_time": "2023-07-08T12:15:31.162Z"
   },
   {
    "duration": 159,
    "start_time": "2023-07-08T12:15:31.535Z"
   },
   {
    "duration": 297,
    "start_time": "2023-07-08T12:15:31.696Z"
   },
   {
    "duration": 238,
    "start_time": "2023-07-08T12:15:31.995Z"
   },
   {
    "duration": 285,
    "start_time": "2023-07-08T12:20:46.701Z"
   },
   {
    "duration": 36324,
    "start_time": "2023-07-08T12:21:35.486Z"
   },
   {
    "duration": 253,
    "start_time": "2023-07-08T12:22:27.164Z"
   },
   {
    "duration": 5,
    "start_time": "2023-07-08T12:22:44.322Z"
   },
   {
    "duration": 456,
    "start_time": "2023-07-08T12:22:51.220Z"
   },
   {
    "duration": 169,
    "start_time": "2023-07-08T12:22:57.406Z"
   },
   {
    "duration": 160,
    "start_time": "2023-07-08T12:23:01.594Z"
   },
   {
    "duration": 30,
    "start_time": "2023-07-08T12:23:05.172Z"
   },
   {
    "duration": 422,
    "start_time": "2023-07-08T12:23:25.984Z"
   },
   {
    "duration": 182,
    "start_time": "2023-07-08T12:23:26.409Z"
   },
   {
    "duration": 233,
    "start_time": "2023-07-08T12:23:26.593Z"
   },
   {
    "duration": 58,
    "start_time": "2023-07-08T12:23:37.529Z"
   },
   {
    "duration": 39,
    "start_time": "2023-07-08T12:23:46.515Z"
   },
   {
    "duration": 59,
    "start_time": "2023-07-08T12:23:50.017Z"
   },
   {
    "duration": 5834,
    "start_time": "2023-07-08T12:24:03.038Z"
   },
   {
    "duration": 321,
    "start_time": "2023-07-08T12:24:15.203Z"
   },
   {
    "duration": 154,
    "start_time": "2023-07-08T12:24:20.343Z"
   },
   {
    "duration": 292,
    "start_time": "2023-07-08T12:24:25.042Z"
   },
   {
    "duration": 249,
    "start_time": "2023-07-08T12:24:37.525Z"
   },
   {
    "duration": 21,
    "start_time": "2023-07-08T12:25:23.759Z"
   },
   {
    "duration": 4530,
    "start_time": "2023-07-08T12:33:42.362Z"
   },
   {
    "duration": 6,
    "start_time": "2023-07-08T12:33:46.895Z"
   },
   {
    "duration": 65,
    "start_time": "2023-07-08T12:33:46.903Z"
   },
   {
    "duration": 17,
    "start_time": "2023-07-08T12:33:46.970Z"
   },
   {
    "duration": 12,
    "start_time": "2023-07-08T12:33:46.990Z"
   },
   {
    "duration": 24,
    "start_time": "2023-07-08T12:33:47.004Z"
   },
   {
    "duration": 31,
    "start_time": "2023-07-08T12:33:47.029Z"
   },
   {
    "duration": 159,
    "start_time": "2023-07-08T12:33:47.063Z"
   },
   {
    "duration": 34,
    "start_time": "2023-07-08T12:33:47.224Z"
   },
   {
    "duration": 11,
    "start_time": "2023-07-08T12:33:47.261Z"
   },
   {
    "duration": 19,
    "start_time": "2023-07-08T12:33:47.274Z"
   },
   {
    "duration": 1968,
    "start_time": "2023-07-08T12:33:47.295Z"
   },
   {
    "duration": 23,
    "start_time": "2023-07-08T12:33:49.265Z"
   },
   {
    "duration": 15,
    "start_time": "2023-07-08T12:33:49.290Z"
   },
   {
    "duration": 33,
    "start_time": "2023-07-08T12:33:49.307Z"
   },
   {
    "duration": 12,
    "start_time": "2023-07-08T12:33:49.351Z"
   },
   {
    "duration": 17,
    "start_time": "2023-07-08T12:33:49.365Z"
   },
   {
    "duration": 16,
    "start_time": "2023-07-08T12:33:49.384Z"
   },
   {
    "duration": 19,
    "start_time": "2023-07-08T12:33:49.403Z"
   },
   {
    "duration": 39,
    "start_time": "2023-07-08T12:33:49.424Z"
   },
   {
    "duration": 17,
    "start_time": "2023-07-08T12:33:49.466Z"
   },
   {
    "duration": 14,
    "start_time": "2023-07-08T12:33:49.485Z"
   },
   {
    "duration": 16,
    "start_time": "2023-07-08T12:33:49.502Z"
   },
   {
    "duration": 47,
    "start_time": "2023-07-08T12:33:49.521Z"
   },
   {
    "duration": 19,
    "start_time": "2023-07-08T12:33:49.570Z"
   },
   {
    "duration": 18,
    "start_time": "2023-07-08T12:33:49.591Z"
   },
   {
    "duration": 46,
    "start_time": "2023-07-08T12:33:49.611Z"
   },
   {
    "duration": 3000,
    "start_time": "2023-07-08T12:33:49.662Z"
   },
   {
    "duration": 24519,
    "start_time": "2023-07-08T12:33:52.664Z"
   },
   {
    "duration": 7,
    "start_time": "2023-07-08T12:34:17.186Z"
   },
   {
    "duration": 513,
    "start_time": "2023-07-08T12:34:17.195Z"
   },
   {
    "duration": 172,
    "start_time": "2023-07-08T12:34:17.710Z"
   },
   {
    "duration": 178,
    "start_time": "2023-07-08T12:34:17.885Z"
   },
   {
    "duration": 30,
    "start_time": "2023-07-08T12:34:18.066Z"
   },
   {
    "duration": 3430,
    "start_time": "2023-07-08T12:34:18.098Z"
   },
   {
    "duration": 24391,
    "start_time": "2023-07-08T12:34:21.530Z"
   },
   {
    "duration": 440,
    "start_time": "2023-07-08T12:34:45.923Z"
   },
   {
    "duration": 168,
    "start_time": "2023-07-08T12:34:46.366Z"
   },
   {
    "duration": 227,
    "start_time": "2023-07-08T12:34:46.536Z"
   },
   {
    "duration": 33,
    "start_time": "2023-07-08T12:34:46.765Z"
   },
   {
    "duration": 53,
    "start_time": "2023-07-08T12:34:46.800Z"
   },
   {
    "duration": 5670,
    "start_time": "2023-07-08T12:34:46.855Z"
   },
   {
    "duration": 36953,
    "start_time": "2023-07-08T12:34:52.527Z"
   },
   {
    "duration": 378,
    "start_time": "2023-07-08T12:35:29.482Z"
   },
   {
    "duration": 143,
    "start_time": "2023-07-08T12:35:29.862Z"
   },
   {
    "duration": 337,
    "start_time": "2023-07-08T12:35:30.007Z"
   },
   {
    "duration": 233,
    "start_time": "2023-07-08T12:35:30.351Z"
   },
   {
    "duration": 9973,
    "start_time": "2023-07-08T12:37:22.461Z"
   },
   {
    "duration": 6,
    "start_time": "2023-07-08T12:37:32.438Z"
   },
   {
    "duration": 147,
    "start_time": "2023-07-08T12:37:32.446Z"
   },
   {
    "duration": 18,
    "start_time": "2023-07-08T12:37:32.596Z"
   },
   {
    "duration": 23,
    "start_time": "2023-07-08T12:37:32.617Z"
   },
   {
    "duration": 37,
    "start_time": "2023-07-08T12:37:32.642Z"
   },
   {
    "duration": 10,
    "start_time": "2023-07-08T12:37:32.682Z"
   },
   {
    "duration": 198,
    "start_time": "2023-07-08T12:37:32.695Z"
   },
   {
    "duration": 22,
    "start_time": "2023-07-08T12:37:32.894Z"
   },
   {
    "duration": 29,
    "start_time": "2023-07-08T12:37:32.919Z"
   },
   {
    "duration": 39,
    "start_time": "2023-07-08T12:37:32.952Z"
   },
   {
    "duration": 1698,
    "start_time": "2023-07-08T12:37:32.994Z"
   },
   {
    "duration": 22,
    "start_time": "2023-07-08T12:37:34.700Z"
   },
   {
    "duration": 11,
    "start_time": "2023-07-08T12:37:34.726Z"
   },
   {
    "duration": 46,
    "start_time": "2023-07-08T12:37:34.738Z"
   },
   {
    "duration": 19,
    "start_time": "2023-07-08T12:37:34.786Z"
   },
   {
    "duration": 17,
    "start_time": "2023-07-08T12:37:34.807Z"
   },
   {
    "duration": 13,
    "start_time": "2023-07-08T12:37:34.826Z"
   },
   {
    "duration": 41,
    "start_time": "2023-07-08T12:37:34.841Z"
   },
   {
    "duration": 41,
    "start_time": "2023-07-08T12:37:34.884Z"
   },
   {
    "duration": 15,
    "start_time": "2023-07-08T12:37:34.927Z"
   },
   {
    "duration": 20,
    "start_time": "2023-07-08T12:37:34.944Z"
   },
   {
    "duration": 56,
    "start_time": "2023-07-08T12:37:34.969Z"
   },
   {
    "duration": 45,
    "start_time": "2023-07-08T12:37:35.027Z"
   },
   {
    "duration": 23,
    "start_time": "2023-07-08T12:37:35.076Z"
   },
   {
    "duration": 34,
    "start_time": "2023-07-08T12:37:35.101Z"
   },
   {
    "duration": 82,
    "start_time": "2023-07-08T12:37:35.137Z"
   },
   {
    "duration": 3341,
    "start_time": "2023-07-08T12:37:35.222Z"
   },
   {
    "duration": 23403,
    "start_time": "2023-07-08T12:37:38.566Z"
   },
   {
    "duration": 7,
    "start_time": "2023-07-08T12:38:01.977Z"
   },
   {
    "duration": 391,
    "start_time": "2023-07-08T12:38:01.986Z"
   },
   {
    "duration": 311,
    "start_time": "2023-07-08T12:38:02.380Z"
   },
   {
    "duration": 166,
    "start_time": "2023-07-08T12:38:02.693Z"
   },
   {
    "duration": 32,
    "start_time": "2023-07-08T12:38:02.868Z"
   },
   {
    "duration": 3335,
    "start_time": "2023-07-08T12:38:02.902Z"
   },
   {
    "duration": 23135,
    "start_time": "2023-07-08T12:38:06.240Z"
   },
   {
    "duration": 359,
    "start_time": "2023-07-08T12:38:29.377Z"
   },
   {
    "duration": 208,
    "start_time": "2023-07-08T12:38:29.739Z"
   },
   {
    "duration": 276,
    "start_time": "2023-07-08T12:38:29.957Z"
   },
   {
    "duration": 85,
    "start_time": "2023-07-08T12:38:30.235Z"
   },
   {
    "duration": 75,
    "start_time": "2023-07-08T12:38:30.327Z"
   },
   {
    "duration": 6518,
    "start_time": "2023-07-08T12:38:30.405Z"
   },
   {
    "duration": 5580,
    "start_time": "2023-07-08T13:13:54.538Z"
   },
   {
    "duration": 9,
    "start_time": "2023-07-08T13:14:00.121Z"
   },
   {
    "duration": 62,
    "start_time": "2023-07-08T13:14:00.132Z"
   },
   {
    "duration": 20,
    "start_time": "2023-07-08T13:14:00.196Z"
   },
   {
    "duration": 43,
    "start_time": "2023-07-08T13:14:00.219Z"
   },
   {
    "duration": 40,
    "start_time": "2023-07-08T13:14:00.264Z"
   },
   {
    "duration": 24,
    "start_time": "2023-07-08T13:14:00.306Z"
   },
   {
    "duration": 302,
    "start_time": "2023-07-08T13:14:00.334Z"
   },
   {
    "duration": 35,
    "start_time": "2023-07-08T13:14:00.638Z"
   },
   {
    "duration": 25,
    "start_time": "2023-07-08T13:14:00.675Z"
   },
   {
    "duration": 38,
    "start_time": "2023-07-08T13:14:00.704Z"
   },
   {
    "duration": 1881,
    "start_time": "2023-07-08T13:14:00.744Z"
   },
   {
    "duration": 51,
    "start_time": "2023-07-08T13:14:02.627Z"
   },
   {
    "duration": 9,
    "start_time": "2023-07-08T13:14:02.682Z"
   },
   {
    "duration": 45,
    "start_time": "2023-07-08T13:14:02.693Z"
   },
   {
    "duration": 23,
    "start_time": "2023-07-08T13:14:02.740Z"
   },
   {
    "duration": 38,
    "start_time": "2023-07-08T13:14:02.765Z"
   },
   {
    "duration": 13,
    "start_time": "2023-07-08T13:14:02.805Z"
   },
   {
    "duration": 20,
    "start_time": "2023-07-08T13:14:02.820Z"
   },
   {
    "duration": 263,
    "start_time": "2023-07-08T13:14:02.842Z"
   },
   {
    "duration": 80,
    "start_time": "2023-07-08T13:14:03.107Z"
   },
   {
    "duration": 85,
    "start_time": "2023-07-08T13:14:03.189Z"
   },
   {
    "duration": 47,
    "start_time": "2023-07-08T13:14:03.277Z"
   },
   {
    "duration": 60,
    "start_time": "2023-07-08T13:14:03.326Z"
   },
   {
    "duration": 35,
    "start_time": "2023-07-08T13:14:03.391Z"
   },
   {
    "duration": 67,
    "start_time": "2023-07-08T13:14:03.428Z"
   },
   {
    "duration": 70,
    "start_time": "2023-07-08T13:14:03.497Z"
   },
   {
    "duration": 7355,
    "start_time": "2023-07-08T13:14:03.571Z"
   },
   {
    "duration": 23488,
    "start_time": "2023-07-08T13:14:10.928Z"
   },
   {
    "duration": 6,
    "start_time": "2023-07-08T13:14:34.420Z"
   },
   {
    "duration": 467,
    "start_time": "2023-07-08T13:14:34.429Z"
   },
   {
    "duration": 183,
    "start_time": "2023-07-08T13:14:34.899Z"
   },
   {
    "duration": 246,
    "start_time": "2023-07-08T13:14:35.084Z"
   },
   {
    "duration": 67,
    "start_time": "2023-07-08T13:14:35.333Z"
   },
   {
    "duration": 7259,
    "start_time": "2023-07-08T13:14:35.403Z"
   },
   {
    "duration": 24245,
    "start_time": "2023-07-08T13:14:42.664Z"
   },
   {
    "duration": 430,
    "start_time": "2023-07-08T13:15:06.911Z"
   },
   {
    "duration": 210,
    "start_time": "2023-07-08T13:15:07.348Z"
   },
   {
    "duration": 272,
    "start_time": "2023-07-08T13:15:07.560Z"
   },
   {
    "duration": 245,
    "start_time": "2023-07-08T13:15:07.834Z"
   },
   {
    "duration": 81,
    "start_time": "2023-07-08T13:15:08.086Z"
   },
   {
    "duration": 13320,
    "start_time": "2023-07-08T13:15:08.170Z"
   },
   {
    "duration": 31486,
    "start_time": "2023-07-08T13:15:21.492Z"
   },
   {
    "duration": 372,
    "start_time": "2023-07-08T13:15:52.980Z"
   },
   {
    "duration": 166,
    "start_time": "2023-07-08T13:15:53.355Z"
   },
   {
    "duration": 251,
    "start_time": "2023-07-08T13:15:53.523Z"
   },
   {
    "duration": 243,
    "start_time": "2023-07-08T13:15:53.776Z"
   },
   {
    "duration": 4356,
    "start_time": "2023-07-08T13:18:00.078Z"
   },
   {
    "duration": 8,
    "start_time": "2023-07-08T13:18:04.437Z"
   },
   {
    "duration": 76,
    "start_time": "2023-07-08T13:18:04.447Z"
   },
   {
    "duration": 17,
    "start_time": "2023-07-08T13:18:04.526Z"
   },
   {
    "duration": 15,
    "start_time": "2023-07-08T13:18:04.545Z"
   },
   {
    "duration": 25,
    "start_time": "2023-07-08T13:18:04.562Z"
   },
   {
    "duration": 9,
    "start_time": "2023-07-08T13:18:04.589Z"
   },
   {
    "duration": 151,
    "start_time": "2023-07-08T13:18:04.600Z"
   },
   {
    "duration": 30,
    "start_time": "2023-07-08T13:18:04.757Z"
   },
   {
    "duration": 62,
    "start_time": "2023-07-08T13:18:04.790Z"
   },
   {
    "duration": 38,
    "start_time": "2023-07-08T13:18:04.857Z"
   },
   {
    "duration": 1598,
    "start_time": "2023-07-08T13:18:04.897Z"
   },
   {
    "duration": 22,
    "start_time": "2023-07-08T13:18:06.497Z"
   },
   {
    "duration": 17,
    "start_time": "2023-07-08T13:18:06.521Z"
   },
   {
    "duration": 42,
    "start_time": "2023-07-08T13:18:06.540Z"
   },
   {
    "duration": 19,
    "start_time": "2023-07-08T13:18:06.584Z"
   },
   {
    "duration": 13,
    "start_time": "2023-07-08T13:18:06.605Z"
   },
   {
    "duration": 12,
    "start_time": "2023-07-08T13:18:06.621Z"
   },
   {
    "duration": 29,
    "start_time": "2023-07-08T13:18:06.636Z"
   },
   {
    "duration": 271,
    "start_time": "2023-07-08T13:18:06.668Z"
   },
   {
    "duration": 63,
    "start_time": "2023-07-08T13:18:06.941Z"
   },
   {
    "duration": 123,
    "start_time": "2023-07-08T13:18:07.006Z"
   },
   {
    "duration": 40,
    "start_time": "2023-07-08T13:18:07.131Z"
   },
   {
    "duration": 24,
    "start_time": "2023-07-08T13:18:07.172Z"
   },
   {
    "duration": 16,
    "start_time": "2023-07-08T13:18:07.198Z"
   },
   {
    "duration": 27,
    "start_time": "2023-07-08T13:18:07.216Z"
   },
   {
    "duration": 53,
    "start_time": "2023-07-08T13:18:07.245Z"
   },
   {
    "duration": 6849,
    "start_time": "2023-07-08T13:18:07.304Z"
   },
   {
    "duration": 18553,
    "start_time": "2023-07-08T13:18:14.155Z"
   },
   {
    "duration": 5,
    "start_time": "2023-07-08T13:18:32.710Z"
   },
   {
    "duration": 351,
    "start_time": "2023-07-08T13:18:32.717Z"
   },
   {
    "duration": 159,
    "start_time": "2023-07-08T13:18:33.070Z"
   },
   {
    "duration": 263,
    "start_time": "2023-07-08T13:18:33.231Z"
   },
   {
    "duration": 36,
    "start_time": "2023-07-08T13:18:33.496Z"
   },
   {
    "duration": 5662,
    "start_time": "2023-07-08T13:18:33.534Z"
   },
   {
    "duration": 18148,
    "start_time": "2023-07-08T13:18:39.198Z"
   },
   {
    "duration": 604,
    "start_time": "2023-07-08T13:18:57.348Z"
   },
   {
    "duration": 166,
    "start_time": "2023-07-08T13:18:57.957Z"
   },
   {
    "duration": 201,
    "start_time": "2023-07-08T13:18:58.125Z"
   },
   {
    "duration": 153,
    "start_time": "2023-07-08T13:18:58.328Z"
   },
   {
    "duration": 71,
    "start_time": "2023-07-08T13:18:58.556Z"
   },
   {
    "duration": 12064,
    "start_time": "2023-07-08T13:18:58.629Z"
   },
   {
    "duration": 27265,
    "start_time": "2023-07-08T13:19:10.695Z"
   },
   {
    "duration": 337,
    "start_time": "2023-07-08T13:19:37.969Z"
   },
   {
    "duration": 198,
    "start_time": "2023-07-08T13:19:38.308Z"
   },
   {
    "duration": 273,
    "start_time": "2023-07-08T13:19:38.509Z"
   },
   {
    "duration": 248,
    "start_time": "2023-07-08T13:19:38.784Z"
   },
   {
    "duration": 4922,
    "start_time": "2023-07-08T13:20:27.949Z"
   },
   {
    "duration": 6,
    "start_time": "2023-07-08T13:20:32.874Z"
   },
   {
    "duration": 83,
    "start_time": "2023-07-08T13:20:32.883Z"
   },
   {
    "duration": 17,
    "start_time": "2023-07-08T13:20:32.969Z"
   },
   {
    "duration": 21,
    "start_time": "2023-07-08T13:20:32.988Z"
   },
   {
    "duration": 21,
    "start_time": "2023-07-08T13:20:33.011Z"
   },
   {
    "duration": 35,
    "start_time": "2023-07-08T13:20:33.034Z"
   },
   {
    "duration": 146,
    "start_time": "2023-07-08T13:20:33.071Z"
   },
   {
    "duration": 51,
    "start_time": "2023-07-08T13:20:33.219Z"
   },
   {
    "duration": 13,
    "start_time": "2023-07-08T13:20:33.275Z"
   },
   {
    "duration": 22,
    "start_time": "2023-07-08T13:20:33.291Z"
   },
   {
    "duration": 1625,
    "start_time": "2023-07-08T13:20:33.315Z"
   },
   {
    "duration": 37,
    "start_time": "2023-07-08T13:20:34.941Z"
   },
   {
    "duration": 19,
    "start_time": "2023-07-08T13:20:34.981Z"
   },
   {
    "duration": 42,
    "start_time": "2023-07-08T13:20:35.002Z"
   },
   {
    "duration": 23,
    "start_time": "2023-07-08T13:20:35.046Z"
   },
   {
    "duration": 23,
    "start_time": "2023-07-08T13:20:35.071Z"
   },
   {
    "duration": 17,
    "start_time": "2023-07-08T13:20:35.097Z"
   },
   {
    "duration": 19,
    "start_time": "2023-07-08T13:20:35.116Z"
   },
   {
    "duration": 253,
    "start_time": "2023-07-08T13:20:35.136Z"
   },
   {
    "duration": 94,
    "start_time": "2023-07-08T13:20:35.391Z"
   },
   {
    "duration": 103,
    "start_time": "2023-07-08T13:20:35.488Z"
   },
   {
    "duration": 35,
    "start_time": "2023-07-08T13:20:35.593Z"
   },
   {
    "duration": 42,
    "start_time": "2023-07-08T13:20:35.630Z"
   },
   {
    "duration": 31,
    "start_time": "2023-07-08T13:20:35.674Z"
   },
   {
    "duration": 66,
    "start_time": "2023-07-08T13:20:35.708Z"
   },
   {
    "duration": 37,
    "start_time": "2023-07-08T13:20:35.777Z"
   },
   {
    "duration": 6938,
    "start_time": "2023-07-08T13:20:35.818Z"
   },
   {
    "duration": 20904,
    "start_time": "2023-07-08T13:20:42.766Z"
   },
   {
    "duration": 7,
    "start_time": "2023-07-08T13:21:03.672Z"
   },
   {
    "duration": 403,
    "start_time": "2023-07-08T13:21:03.684Z"
   },
   {
    "duration": 151,
    "start_time": "2023-07-08T13:21:04.090Z"
   },
   {
    "duration": 191,
    "start_time": "2023-07-08T13:21:04.252Z"
   },
   {
    "duration": 57,
    "start_time": "2023-07-08T13:21:04.454Z"
   },
   {
    "duration": 6799,
    "start_time": "2023-07-08T13:21:04.513Z"
   },
   {
    "duration": 19293,
    "start_time": "2023-07-08T13:21:11.314Z"
   },
   {
    "duration": 358,
    "start_time": "2023-07-08T13:21:30.609Z"
   },
   {
    "duration": 144,
    "start_time": "2023-07-08T13:21:30.969Z"
   },
   {
    "duration": 199,
    "start_time": "2023-07-08T13:21:31.115Z"
   },
   {
    "duration": 167,
    "start_time": "2023-07-08T13:21:31.316Z"
   },
   {
    "duration": 68,
    "start_time": "2023-07-08T13:21:31.556Z"
   },
   {
    "duration": 12747,
    "start_time": "2023-07-08T13:21:31.626Z"
   },
   {
    "duration": 29449,
    "start_time": "2023-07-08T13:21:44.377Z"
   },
   {
    "duration": 311,
    "start_time": "2023-07-08T13:22:13.828Z"
   },
   {
    "duration": 156,
    "start_time": "2023-07-08T13:22:14.141Z"
   },
   {
    "duration": 354,
    "start_time": "2023-07-08T13:22:14.299Z"
   },
   {
    "duration": 220,
    "start_time": "2023-07-08T13:22:14.664Z"
   },
   {
    "duration": 4920,
    "start_time": "2023-07-08T13:23:54.218Z"
   },
   {
    "duration": 6,
    "start_time": "2023-07-08T13:23:59.141Z"
   },
   {
    "duration": 66,
    "start_time": "2023-07-08T13:23:59.149Z"
   },
   {
    "duration": 15,
    "start_time": "2023-07-08T13:23:59.218Z"
   },
   {
    "duration": 14,
    "start_time": "2023-07-08T13:23:59.236Z"
   },
   {
    "duration": 24,
    "start_time": "2023-07-08T13:23:59.254Z"
   },
   {
    "duration": 11,
    "start_time": "2023-07-08T13:23:59.281Z"
   },
   {
    "duration": 195,
    "start_time": "2023-07-08T13:23:59.295Z"
   },
   {
    "duration": 23,
    "start_time": "2023-07-08T13:23:59.492Z"
   },
   {
    "duration": 35,
    "start_time": "2023-07-08T13:23:59.518Z"
   },
   {
    "duration": 26,
    "start_time": "2023-07-08T13:23:59.559Z"
   },
   {
    "duration": 1626,
    "start_time": "2023-07-08T13:23:59.587Z"
   },
   {
    "duration": 25,
    "start_time": "2023-07-08T13:24:01.215Z"
   },
   {
    "duration": 243,
    "start_time": "2023-07-08T13:24:01.252Z"
   },
   {
    "duration": 96,
    "start_time": "2023-07-08T13:24:01.497Z"
   },
   {
    "duration": 146,
    "start_time": "2023-07-08T13:24:01.595Z"
   },
   {
    "duration": 46,
    "start_time": "2023-07-08T13:24:01.743Z"
   },
   {
    "duration": 48,
    "start_time": "2023-07-08T13:24:01.790Z"
   },
   {
    "duration": 48,
    "start_time": "2023-07-08T13:24:01.840Z"
   },
   {
    "duration": 2049,
    "start_time": "2023-07-08T13:24:01.890Z"
   },
   {
    "duration": 628,
    "start_time": "2023-07-08T13:24:03.941Z"
   },
   {
    "duration": 642,
    "start_time": "2023-07-08T13:24:04.571Z"
   },
   {
    "duration": 53,
    "start_time": "2023-07-08T13:24:05.215Z"
   },
   {
    "duration": 46,
    "start_time": "2023-07-08T13:24:05.272Z"
   },
   {
    "duration": 21,
    "start_time": "2023-07-08T13:24:05.322Z"
   },
   {
    "duration": 96,
    "start_time": "2023-07-08T13:24:05.345Z"
   },
   {
    "duration": 93,
    "start_time": "2023-07-08T13:24:05.444Z"
   },
   {
    "duration": 32699,
    "start_time": "2023-07-08T13:24:05.543Z"
   },
   {
    "duration": 28758,
    "start_time": "2023-07-08T13:24:38.255Z"
   },
   {
    "duration": 6,
    "start_time": "2023-07-08T13:25:07.014Z"
   },
   {
    "duration": 450,
    "start_time": "2023-07-08T13:25:07.021Z"
   },
   {
    "duration": 300,
    "start_time": "2023-07-08T13:25:07.473Z"
   },
   {
    "duration": 180,
    "start_time": "2023-07-08T13:25:07.775Z"
   },
   {
    "duration": 79,
    "start_time": "2023-07-08T13:25:07.963Z"
   },
   {
    "duration": 24521,
    "start_time": "2023-07-08T13:25:08.043Z"
   },
   {
    "duration": 28264,
    "start_time": "2023-07-08T13:25:32.566Z"
   },
   {
    "duration": 356,
    "start_time": "2023-07-08T13:26:00.832Z"
   },
   {
    "duration": 199,
    "start_time": "2023-07-08T13:26:01.191Z"
   },
   {
    "duration": 228,
    "start_time": "2023-07-08T13:26:01.393Z"
   },
   {
    "duration": 466,
    "start_time": "2023-07-08T13:26:01.623Z"
   },
   {
    "duration": 130,
    "start_time": "2023-07-08T13:26:02.091Z"
   },
   {
    "duration": 65346,
    "start_time": "2023-07-08T13:26:02.224Z"
   },
   {
    "duration": 51160,
    "start_time": "2023-07-08T13:27:07.574Z"
   },
   {
    "duration": 575,
    "start_time": "2023-07-08T13:27:58.736Z"
   },
   {
    "duration": 215,
    "start_time": "2023-07-08T13:27:59.314Z"
   },
   {
    "duration": 271,
    "start_time": "2023-07-08T13:27:59.531Z"
   },
   {
    "duration": 280,
    "start_time": "2023-07-08T13:27:59.804Z"
   },
   {
    "duration": 4720,
    "start_time": "2023-07-08T13:28:51.395Z"
   },
   {
    "duration": 6,
    "start_time": "2023-07-08T13:28:56.119Z"
   },
   {
    "duration": 310,
    "start_time": "2023-07-08T13:28:56.128Z"
   },
   {
    "duration": 53,
    "start_time": "2023-07-08T13:28:56.441Z"
   },
   {
    "duration": 71,
    "start_time": "2023-07-08T13:28:56.496Z"
   },
   {
    "duration": 129,
    "start_time": "2023-07-08T13:28:56.569Z"
   },
   {
    "duration": 39,
    "start_time": "2023-07-08T13:28:56.700Z"
   },
   {
    "duration": 211,
    "start_time": "2023-07-08T13:28:56.741Z"
   },
   {
    "duration": 23,
    "start_time": "2023-07-08T13:28:56.955Z"
   },
   {
    "duration": 82,
    "start_time": "2023-07-08T13:28:56.982Z"
   },
   {
    "duration": 160,
    "start_time": "2023-07-08T13:28:57.066Z"
   },
   {
    "duration": 1944,
    "start_time": "2023-07-08T13:28:57.228Z"
   },
   {
    "duration": 37,
    "start_time": "2023-07-08T13:28:59.175Z"
   },
   {
    "duration": 46,
    "start_time": "2023-07-08T13:28:59.214Z"
   },
   {
    "duration": 78,
    "start_time": "2023-07-08T13:28:59.262Z"
   },
   {
    "duration": 61,
    "start_time": "2023-07-08T13:28:59.343Z"
   },
   {
    "duration": 38,
    "start_time": "2023-07-08T13:28:59.407Z"
   },
   {
    "duration": 26,
    "start_time": "2023-07-08T13:28:59.447Z"
   },
   {
    "duration": 26,
    "start_time": "2023-07-08T13:28:59.475Z"
   },
   {
    "duration": 281,
    "start_time": "2023-07-08T13:28:59.504Z"
   },
   {
    "duration": 87,
    "start_time": "2023-07-08T13:28:59.787Z"
   },
   {
    "duration": 85,
    "start_time": "2023-07-08T13:28:59.876Z"
   },
   {
    "duration": 37,
    "start_time": "2023-07-08T13:28:59.963Z"
   },
   {
    "duration": 108,
    "start_time": "2023-07-08T13:29:00.002Z"
   },
   {
    "duration": 155,
    "start_time": "2023-07-08T13:29:00.112Z"
   },
   {
    "duration": 163,
    "start_time": "2023-07-08T13:29:00.269Z"
   },
   {
    "duration": 127,
    "start_time": "2023-07-08T13:29:00.435Z"
   },
   {
    "duration": 7220,
    "start_time": "2023-07-08T13:29:00.566Z"
   },
   {
    "duration": 22233,
    "start_time": "2023-07-08T13:29:07.788Z"
   },
   {
    "duration": 6,
    "start_time": "2023-07-08T13:29:30.024Z"
   },
   {
    "duration": 321,
    "start_time": "2023-07-08T13:29:30.033Z"
   },
   {
    "duration": 204,
    "start_time": "2023-07-08T13:29:30.357Z"
   },
   {
    "duration": 178,
    "start_time": "2023-07-08T13:29:30.563Z"
   },
   {
    "duration": 64,
    "start_time": "2023-07-08T13:29:30.746Z"
   },
   {
    "duration": 6378,
    "start_time": "2023-07-08T13:29:30.813Z"
   },
   {
    "duration": 19509,
    "start_time": "2023-07-08T13:29:37.193Z"
   },
   {
    "duration": 624,
    "start_time": "2023-07-08T13:29:56.705Z"
   },
   {
    "duration": 379,
    "start_time": "2023-07-08T13:29:57.332Z"
   },
   {
    "duration": 349,
    "start_time": "2023-07-08T13:29:57.717Z"
   },
   {
    "duration": 118,
    "start_time": "2023-07-08T13:29:58.069Z"
   },
   {
    "duration": 77,
    "start_time": "2023-07-08T13:29:58.259Z"
   },
   {
    "duration": 14046,
    "start_time": "2023-07-08T13:29:58.339Z"
   },
   {
    "duration": 33916,
    "start_time": "2023-07-08T13:30:12.387Z"
   },
   {
    "duration": 627,
    "start_time": "2023-07-08T13:30:46.305Z"
   },
   {
    "duration": 229,
    "start_time": "2023-07-08T13:30:46.935Z"
   },
   {
    "duration": 271,
    "start_time": "2023-07-08T13:30:47.167Z"
   },
   {
    "duration": 244,
    "start_time": "2023-07-08T13:30:47.440Z"
   },
   {
    "duration": 4971,
    "start_time": "2023-07-08T13:31:38.150Z"
   },
   {
    "duration": 7,
    "start_time": "2023-07-08T13:31:43.124Z"
   },
   {
    "duration": 82,
    "start_time": "2023-07-08T13:31:43.136Z"
   },
   {
    "duration": 19,
    "start_time": "2023-07-08T13:31:43.221Z"
   },
   {
    "duration": 18,
    "start_time": "2023-07-08T13:31:43.242Z"
   },
   {
    "duration": 22,
    "start_time": "2023-07-08T13:31:43.262Z"
   },
   {
    "duration": 15,
    "start_time": "2023-07-08T13:31:43.286Z"
   },
   {
    "duration": 239,
    "start_time": "2023-07-08T13:31:43.304Z"
   },
   {
    "duration": 28,
    "start_time": "2023-07-08T13:31:43.545Z"
   },
   {
    "duration": 11,
    "start_time": "2023-07-08T13:31:43.577Z"
   },
   {
    "duration": 23,
    "start_time": "2023-07-08T13:31:43.591Z"
   },
   {
    "duration": 2376,
    "start_time": "2023-07-08T13:31:43.617Z"
   },
   {
    "duration": 56,
    "start_time": "2023-07-08T13:31:45.996Z"
   },
   {
    "duration": 10,
    "start_time": "2023-07-08T13:31:46.055Z"
   },
   {
    "duration": 76,
    "start_time": "2023-07-08T13:31:46.068Z"
   },
   {
    "duration": 30,
    "start_time": "2023-07-08T13:31:46.147Z"
   },
   {
    "duration": 22,
    "start_time": "2023-07-08T13:31:46.180Z"
   },
   {
    "duration": 16,
    "start_time": "2023-07-08T13:31:46.205Z"
   },
   {
    "duration": 24,
    "start_time": "2023-07-08T13:31:46.224Z"
   },
   {
    "duration": 291,
    "start_time": "2023-07-08T13:31:46.253Z"
   },
   {
    "duration": 105,
    "start_time": "2023-07-08T13:31:46.547Z"
   },
   {
    "duration": 117,
    "start_time": "2023-07-08T13:31:46.654Z"
   },
   {
    "duration": 62,
    "start_time": "2023-07-08T13:31:46.774Z"
   },
   {
    "duration": 38,
    "start_time": "2023-07-08T13:31:46.838Z"
   },
   {
    "duration": 32,
    "start_time": "2023-07-08T13:31:46.878Z"
   },
   {
    "duration": 57,
    "start_time": "2023-07-08T13:31:46.912Z"
   },
   {
    "duration": 96,
    "start_time": "2023-07-08T13:31:46.970Z"
   },
   {
    "duration": 9049,
    "start_time": "2023-07-08T13:31:47.071Z"
   },
   {
    "duration": 20581,
    "start_time": "2023-07-08T13:31:56.123Z"
   },
   {
    "duration": 6,
    "start_time": "2023-07-08T13:32:16.706Z"
   },
   {
    "duration": 386,
    "start_time": "2023-07-08T13:32:16.714Z"
   },
   {
    "duration": 214,
    "start_time": "2023-07-08T13:32:17.104Z"
   },
   {
    "duration": 266,
    "start_time": "2023-07-08T13:32:17.321Z"
   },
   {
    "duration": 67,
    "start_time": "2023-07-08T13:32:17.591Z"
   },
   {
    "duration": 7968,
    "start_time": "2023-07-08T13:32:17.661Z"
   },
   {
    "duration": 23673,
    "start_time": "2023-07-08T13:32:25.631Z"
   },
   {
    "duration": 517,
    "start_time": "2023-07-08T13:32:49.306Z"
   },
   {
    "duration": 214,
    "start_time": "2023-07-08T13:32:49.826Z"
   },
   {
    "duration": 324,
    "start_time": "2023-07-08T13:32:50.053Z"
   },
   {
    "duration": 192,
    "start_time": "2023-07-08T13:32:50.380Z"
   },
   {
    "duration": 96,
    "start_time": "2023-07-08T13:32:50.575Z"
   },
   {
    "duration": 15779,
    "start_time": "2023-07-08T13:32:50.674Z"
   },
   {
    "duration": 35761,
    "start_time": "2023-07-08T13:33:06.456Z"
   },
   {
    "duration": 353,
    "start_time": "2023-07-08T13:33:42.219Z"
   },
   {
    "duration": 153,
    "start_time": "2023-07-08T13:33:42.574Z"
   },
   {
    "duration": 483,
    "start_time": "2023-07-08T13:33:42.728Z"
   },
   {
    "duration": 393,
    "start_time": "2023-07-08T13:33:43.214Z"
   },
   {
    "duration": 69,
    "start_time": "2023-07-08T13:35:33.700Z"
   },
   {
    "duration": 7058,
    "start_time": "2023-07-08T13:35:46.949Z"
   },
   {
    "duration": 10,
    "start_time": "2023-07-08T13:35:54.012Z"
   },
   {
    "duration": 69,
    "start_time": "2023-07-08T13:35:54.026Z"
   },
   {
    "duration": 26,
    "start_time": "2023-07-08T13:35:54.098Z"
   },
   {
    "duration": 17,
    "start_time": "2023-07-08T13:35:54.128Z"
   },
   {
    "duration": 29,
    "start_time": "2023-07-08T13:35:54.153Z"
   },
   {
    "duration": 11,
    "start_time": "2023-07-08T13:35:54.184Z"
   },
   {
    "duration": 245,
    "start_time": "2023-07-08T13:35:54.198Z"
   },
   {
    "duration": 36,
    "start_time": "2023-07-08T13:35:54.446Z"
   },
   {
    "duration": 16,
    "start_time": "2023-07-08T13:35:54.484Z"
   },
   {
    "duration": 52,
    "start_time": "2023-07-08T13:35:54.502Z"
   },
   {
    "duration": 2262,
    "start_time": "2023-07-08T13:35:54.555Z"
   },
   {
    "duration": 55,
    "start_time": "2023-07-08T13:35:56.821Z"
   },
   {
    "duration": 25,
    "start_time": "2023-07-08T13:35:56.883Z"
   },
   {
    "duration": 78,
    "start_time": "2023-07-08T13:35:56.912Z"
   },
   {
    "duration": 9,
    "start_time": "2023-07-08T13:35:56.994Z"
   },
   {
    "duration": 121,
    "start_time": "2023-07-08T13:35:57.005Z"
   },
   {
    "duration": 19,
    "start_time": "2023-07-08T13:35:57.129Z"
   },
   {
    "duration": 35,
    "start_time": "2023-07-08T13:35:57.151Z"
   },
   {
    "duration": 367,
    "start_time": "2023-07-08T13:35:57.189Z"
   },
   {
    "duration": 133,
    "start_time": "2023-07-08T13:35:57.559Z"
   },
   {
    "duration": 136,
    "start_time": "2023-07-08T13:35:57.696Z"
   },
   {
    "duration": 56,
    "start_time": "2023-07-08T13:35:57.835Z"
   },
   {
    "duration": 34,
    "start_time": "2023-07-08T13:35:57.893Z"
   },
   {
    "duration": 52,
    "start_time": "2023-07-08T13:35:57.929Z"
   },
   {
    "duration": 58,
    "start_time": "2023-07-08T13:35:57.984Z"
   },
   {
    "duration": 55,
    "start_time": "2023-07-08T13:35:58.051Z"
   },
   {
    "duration": 9365,
    "start_time": "2023-07-08T13:35:58.109Z"
   },
   {
    "duration": 26232,
    "start_time": "2023-07-08T13:36:07.477Z"
   },
   {
    "duration": 6,
    "start_time": "2023-07-08T13:36:33.711Z"
   },
   {
    "duration": 401,
    "start_time": "2023-07-08T13:36:33.719Z"
   },
   {
    "duration": 425,
    "start_time": "2023-07-08T13:36:34.123Z"
   },
   {
    "duration": 232,
    "start_time": "2023-07-08T13:36:34.551Z"
   },
   {
    "duration": 68,
    "start_time": "2023-07-08T13:36:34.786Z"
   },
   {
    "duration": 8095,
    "start_time": "2023-07-08T13:36:34.856Z"
   },
   {
    "duration": 27097,
    "start_time": "2023-07-08T13:36:42.954Z"
   },
   {
    "duration": 556,
    "start_time": "2023-07-08T13:37:10.056Z"
   },
   {
    "duration": 197,
    "start_time": "2023-07-08T13:37:10.615Z"
   },
   {
    "duration": 333,
    "start_time": "2023-07-08T13:37:10.815Z"
   },
   {
    "duration": 203,
    "start_time": "2023-07-08T13:37:11.155Z"
   },
   {
    "duration": 96,
    "start_time": "2023-07-08T13:37:11.366Z"
   },
   {
    "duration": 18789,
    "start_time": "2023-07-08T13:37:11.465Z"
   },
   {
    "duration": 40471,
    "start_time": "2023-07-08T13:37:30.257Z"
   },
   {
    "duration": 597,
    "start_time": "2023-07-08T13:38:10.732Z"
   },
   {
    "duration": 256,
    "start_time": "2023-07-08T13:38:11.332Z"
   },
   {
    "duration": 369,
    "start_time": "2023-07-08T13:38:11.591Z"
   },
   {
    "duration": 445,
    "start_time": "2023-07-08T13:38:11.963Z"
   },
   {
    "duration": 6858,
    "start_time": "2023-07-08T13:38:36.726Z"
   },
   {
    "duration": 10,
    "start_time": "2023-07-08T13:38:43.588Z"
   },
   {
    "duration": 58,
    "start_time": "2023-07-08T13:38:43.600Z"
   },
   {
    "duration": 22,
    "start_time": "2023-07-08T13:38:43.662Z"
   },
   {
    "duration": 19,
    "start_time": "2023-07-08T13:38:43.687Z"
   },
   {
    "duration": 47,
    "start_time": "2023-07-08T13:38:43.708Z"
   },
   {
    "duration": 13,
    "start_time": "2023-07-08T13:38:43.758Z"
   },
   {
    "duration": 237,
    "start_time": "2023-07-08T13:38:43.774Z"
   },
   {
    "duration": 42,
    "start_time": "2023-07-08T13:38:44.014Z"
   },
   {
    "duration": 14,
    "start_time": "2023-07-08T13:38:44.061Z"
   },
   {
    "duration": 41,
    "start_time": "2023-07-08T13:38:44.078Z"
   },
   {
    "duration": 2979,
    "start_time": "2023-07-08T13:38:44.122Z"
   },
   {
    "duration": 37,
    "start_time": "2023-07-08T13:38:47.104Z"
   },
   {
    "duration": 12,
    "start_time": "2023-07-08T13:38:47.152Z"
   },
   {
    "duration": 55,
    "start_time": "2023-07-08T13:38:47.167Z"
   },
   {
    "duration": 29,
    "start_time": "2023-07-08T13:38:47.225Z"
   },
   {
    "duration": 29,
    "start_time": "2023-07-08T13:38:47.257Z"
   },
   {
    "duration": 13,
    "start_time": "2023-07-08T13:38:47.289Z"
   },
   {
    "duration": 13,
    "start_time": "2023-07-08T13:38:47.304Z"
   },
   {
    "duration": 351,
    "start_time": "2023-07-08T13:38:47.320Z"
   },
   {
    "duration": 131,
    "start_time": "2023-07-08T13:38:47.674Z"
   },
   {
    "duration": 137,
    "start_time": "2023-07-08T13:38:47.808Z"
   },
   {
    "duration": 59,
    "start_time": "2023-07-08T13:38:47.948Z"
   },
   {
    "duration": 46,
    "start_time": "2023-07-08T13:38:48.010Z"
   },
   {
    "duration": 26,
    "start_time": "2023-07-08T13:38:48.059Z"
   },
   {
    "duration": 79,
    "start_time": "2023-07-08T13:38:48.088Z"
   },
   {
    "duration": 55,
    "start_time": "2023-07-08T13:38:48.170Z"
   },
   {
    "duration": 8756,
    "start_time": "2023-07-08T13:38:48.235Z"
   },
   {
    "duration": 23387,
    "start_time": "2023-07-08T13:38:56.994Z"
   },
   {
    "duration": 13,
    "start_time": "2023-07-08T13:39:20.387Z"
   },
   {
    "duration": 412,
    "start_time": "2023-07-08T13:39:20.403Z"
   },
   {
    "duration": 156,
    "start_time": "2023-07-08T13:39:20.818Z"
   },
   {
    "duration": 177,
    "start_time": "2023-07-08T13:39:20.976Z"
   },
   {
    "duration": 57,
    "start_time": "2023-07-08T13:39:21.156Z"
   },
   {
    "duration": 7791,
    "start_time": "2023-07-08T13:39:21.215Z"
   },
   {
    "duration": 30125,
    "start_time": "2023-07-08T13:39:29.009Z"
   },
   {
    "duration": 692,
    "start_time": "2023-07-08T13:39:59.137Z"
   },
   {
    "duration": 234,
    "start_time": "2023-07-08T13:39:59.832Z"
   },
   {
    "duration": 373,
    "start_time": "2023-07-08T13:40:00.068Z"
   },
   {
    "duration": 218,
    "start_time": "2023-07-08T13:40:00.443Z"
   },
   {
    "duration": 89,
    "start_time": "2023-07-08T13:40:00.664Z"
   },
   {
    "duration": 12305,
    "start_time": "2023-07-08T13:40:00.755Z"
   },
   {
    "duration": 33034,
    "start_time": "2023-07-08T13:40:13.062Z"
   },
   {
    "duration": 567,
    "start_time": "2023-07-08T13:40:46.099Z"
   },
   {
    "duration": 223,
    "start_time": "2023-07-08T13:40:46.669Z"
   },
   {
    "duration": 395,
    "start_time": "2023-07-08T13:40:46.895Z"
   },
   {
    "duration": 300,
    "start_time": "2023-07-08T13:40:47.293Z"
   },
   {
    "duration": 120478,
    "start_time": "2023-07-08T13:42:04.512Z"
   },
   {
    "duration": 305,
    "start_time": "2023-07-08T13:44:11.701Z"
   },
   {
    "duration": 317,
    "start_time": "2023-07-08T13:44:16.719Z"
   },
   {
    "duration": 646574,
    "start_time": "2023-07-08T13:44:30.500Z"
   },
   {
    "duration": 315,
    "start_time": "2023-07-08T13:56:49.479Z"
   },
   {
    "duration": 342,
    "start_time": "2023-07-08T13:56:54.449Z"
   },
   {
    "duration": 2932247,
    "start_time": "2023-07-08T13:57:08.346Z"
   },
   {
    "duration": 491,
    "start_time": "2023-07-08T14:47:12.428Z"
   },
   {
    "duration": 440,
    "start_time": "2023-07-08T14:47:19.740Z"
   },
   {
    "duration": 615130,
    "start_time": "2023-07-08T14:47:43.317Z"
   },
   {
    "duration": 1139,
    "start_time": "2023-07-08T14:58:05.806Z"
   },
   {
    "duration": 992,
    "start_time": "2023-07-08T14:58:12.709Z"
   },
   {
    "duration": 194,
    "start_time": "2023-07-09T10:52:05.617Z"
   },
   {
    "duration": 15489,
    "start_time": "2023-07-09T10:52:10.050Z"
   },
   {
    "duration": 1484,
    "start_time": "2023-07-09T10:52:25.541Z"
   },
   {
    "duration": 109,
    "start_time": "2023-07-09T10:52:27.027Z"
   },
   {
    "duration": 12,
    "start_time": "2023-07-09T10:52:27.138Z"
   },
   {
    "duration": 37,
    "start_time": "2023-07-09T10:52:27.152Z"
   },
   {
    "duration": 35,
    "start_time": "2023-07-09T10:52:27.192Z"
   },
   {
    "duration": 13,
    "start_time": "2023-07-09T10:52:27.229Z"
   },
   {
    "duration": 189,
    "start_time": "2023-07-09T10:52:27.248Z"
   },
   {
    "duration": 19,
    "start_time": "2023-07-09T10:52:27.439Z"
   },
   {
    "duration": 35,
    "start_time": "2023-07-09T10:52:27.479Z"
   },
   {
    "duration": 22,
    "start_time": "2023-07-09T10:52:27.516Z"
   },
   {
    "duration": 1412,
    "start_time": "2023-07-09T10:52:27.539Z"
   },
   {
    "duration": 25,
    "start_time": "2023-07-09T10:52:28.953Z"
   },
   {
    "duration": 20,
    "start_time": "2023-07-09T10:52:28.983Z"
   },
   {
    "duration": 33,
    "start_time": "2023-07-09T10:52:29.004Z"
   },
   {
    "duration": 13,
    "start_time": "2023-07-09T10:52:29.039Z"
   },
   {
    "duration": 22,
    "start_time": "2023-07-09T10:52:29.054Z"
   },
   {
    "duration": 22,
    "start_time": "2023-07-09T10:52:29.085Z"
   },
   {
    "duration": 12,
    "start_time": "2023-07-09T10:52:29.109Z"
   },
   {
    "duration": 200,
    "start_time": "2023-07-09T10:52:29.122Z"
   },
   {
    "duration": 73,
    "start_time": "2023-07-09T10:52:29.324Z"
   },
   {
    "duration": 53,
    "start_time": "2023-07-09T10:52:29.399Z"
   },
   {
    "duration": 49,
    "start_time": "2023-07-09T10:52:29.453Z"
   },
   {
    "duration": 22,
    "start_time": "2023-07-09T10:52:29.505Z"
   },
   {
    "duration": 14,
    "start_time": "2023-07-09T10:52:29.529Z"
   },
   {
    "duration": 54,
    "start_time": "2023-07-09T10:52:29.544Z"
   },
   {
    "duration": 30,
    "start_time": "2023-07-09T10:52:29.599Z"
   },
   {
    "duration": 7023,
    "start_time": "2023-07-09T10:52:29.632Z"
   },
   {
    "duration": 4473,
    "start_time": "2023-07-09T11:42:54.190Z"
   },
   {
    "duration": 7,
    "start_time": "2023-07-09T11:42:59.088Z"
   },
   {
    "duration": 44,
    "start_time": "2023-07-09T11:42:59.236Z"
   },
   {
    "duration": 11,
    "start_time": "2023-07-09T11:42:59.515Z"
   },
   {
    "duration": 14845,
    "start_time": "2023-07-10T10:10:50.298Z"
   },
   {
    "duration": 2923,
    "start_time": "2023-07-10T10:11:05.146Z"
   },
   {
    "duration": 206,
    "start_time": "2023-07-10T10:11:08.072Z"
   },
   {
    "duration": 18,
    "start_time": "2023-07-10T10:11:08.282Z"
   },
   {
    "duration": 30,
    "start_time": "2023-07-10T10:11:08.302Z"
   },
   {
    "duration": 25,
    "start_time": "2023-07-10T10:11:08.334Z"
   },
   {
    "duration": 10,
    "start_time": "2023-07-10T10:11:08.361Z"
   },
   {
    "duration": 210,
    "start_time": "2023-07-10T10:11:08.373Z"
   },
   {
    "duration": 24,
    "start_time": "2023-07-10T10:11:08.584Z"
   },
   {
    "duration": 19,
    "start_time": "2023-07-10T10:11:08.612Z"
   },
   {
    "duration": 40,
    "start_time": "2023-07-10T10:11:08.633Z"
   },
   {
    "duration": 1627,
    "start_time": "2023-07-10T10:11:08.675Z"
   },
   {
    "duration": 31,
    "start_time": "2023-07-10T10:11:10.304Z"
   },
   {
    "duration": 26,
    "start_time": "2023-07-10T10:11:10.337Z"
   },
   {
    "duration": 44,
    "start_time": "2023-07-10T10:11:10.366Z"
   },
   {
    "duration": 24,
    "start_time": "2023-07-10T10:11:10.412Z"
   },
   {
    "duration": 10,
    "start_time": "2023-07-10T10:11:10.438Z"
   },
   {
    "duration": 12,
    "start_time": "2023-07-10T10:11:10.450Z"
   },
   {
    "duration": 12,
    "start_time": "2023-07-10T10:11:10.464Z"
   },
   {
    "duration": 203,
    "start_time": "2023-07-10T10:11:10.478Z"
   },
   {
    "duration": 81,
    "start_time": "2023-07-10T10:11:10.683Z"
   },
   {
    "duration": 63,
    "start_time": "2023-07-10T10:11:10.766Z"
   },
   {
    "duration": 51,
    "start_time": "2023-07-10T10:11:10.831Z"
   },
   {
    "duration": 20,
    "start_time": "2023-07-10T10:11:10.884Z"
   },
   {
    "duration": 16,
    "start_time": "2023-07-10T10:11:10.906Z"
   },
   {
    "duration": 61,
    "start_time": "2023-07-10T10:11:10.923Z"
   },
   {
    "duration": 51,
    "start_time": "2023-07-10T10:11:10.985Z"
   },
   {
    "duration": 6959,
    "start_time": "2023-07-10T10:11:11.041Z"
   },
   {
    "duration": 64375,
    "start_time": "2023-07-10T10:11:18.003Z"
   },
   {
    "duration": 5,
    "start_time": "2023-07-10T10:12:22.379Z"
   },
   {
    "duration": 494,
    "start_time": "2023-07-10T10:12:22.385Z"
   },
   {
    "duration": 149,
    "start_time": "2023-07-10T10:12:22.881Z"
   },
   {
    "duration": 414,
    "start_time": "2023-07-10T10:12:23.032Z"
   },
   {
    "duration": 46,
    "start_time": "2023-07-10T10:12:23.448Z"
   },
   {
    "duration": 6089,
    "start_time": "2023-07-10T10:12:23.496Z"
   },
   {
    "duration": 64251,
    "start_time": "2023-07-10T10:12:29.587Z"
   },
   {
    "duration": 398,
    "start_time": "2023-07-10T10:13:33.840Z"
   },
   {
    "duration": 194,
    "start_time": "2023-07-10T10:13:34.240Z"
   },
   {
    "duration": 336,
    "start_time": "2023-07-10T10:13:34.438Z"
   },
   {
    "duration": 530,
    "start_time": "2023-07-10T10:13:34.776Z"
   },
   {
    "duration": 86,
    "start_time": "2023-07-10T10:13:35.308Z"
   },
   {
    "duration": 12216,
    "start_time": "2023-07-10T10:13:35.396Z"
   },
   {
    "duration": 95763,
    "start_time": "2023-07-10T10:13:47.613Z"
   },
   {
    "duration": 486,
    "start_time": "2023-07-10T10:15:23.377Z"
   },
   {
    "duration": 144,
    "start_time": "2023-07-10T10:15:23.865Z"
   },
   {
    "duration": 461,
    "start_time": "2023-07-10T10:15:24.011Z"
   },
   {
    "duration": 538,
    "start_time": "2023-07-10T10:15:24.474Z"
   },
   {
    "duration": 23,
    "start_time": "2023-07-10T10:21:15.902Z"
   },
   {
    "duration": 126,
    "start_time": "2023-07-10T10:21:37.687Z"
   },
   {
    "duration": 472,
    "start_time": "2023-07-10T10:21:41.589Z"
   },
   {
    "duration": 900,
    "start_time": "2023-07-10T10:21:55.556Z"
   },
   {
    "duration": 108162,
    "start_time": "2023-07-10T10:23:25.006Z"
   },
   {
    "duration": 394,
    "start_time": "2023-07-10T10:32:44.593Z"
   },
   {
    "duration": 509,
    "start_time": "2023-07-10T10:32:50.468Z"
   },
   {
    "duration": 902313,
    "start_time": "2023-07-10T10:33:15.969Z"
   },
   {
    "duration": 394,
    "start_time": "2023-07-10T10:49:28.611Z"
   },
   {
    "duration": 441,
    "start_time": "2023-07-10T10:49:31.981Z"
   },
   {
    "duration": 15321,
    "start_time": "2023-07-10T15:52:52.797Z"
   },
   {
    "duration": 1746,
    "start_time": "2023-07-10T15:53:08.122Z"
   },
   {
    "duration": 85,
    "start_time": "2023-07-10T15:53:09.871Z"
   },
   {
    "duration": 21,
    "start_time": "2023-07-10T15:53:09.959Z"
   },
   {
    "duration": 79,
    "start_time": "2023-07-10T15:53:09.982Z"
   },
   {
    "duration": 113,
    "start_time": "2023-07-10T15:53:10.063Z"
   },
   {
    "duration": 20,
    "start_time": "2023-07-10T15:53:10.179Z"
   },
   {
    "duration": 310,
    "start_time": "2023-07-10T15:53:10.201Z"
   },
   {
    "duration": 24,
    "start_time": "2023-07-10T15:53:10.513Z"
   },
   {
    "duration": 78,
    "start_time": "2023-07-10T15:53:10.551Z"
   },
   {
    "duration": 102,
    "start_time": "2023-07-10T15:53:10.631Z"
   },
   {
    "duration": 1879,
    "start_time": "2023-07-10T15:53:10.736Z"
   },
   {
    "duration": 36,
    "start_time": "2023-07-10T15:53:12.617Z"
   },
   {
    "duration": 28,
    "start_time": "2023-07-10T15:53:12.655Z"
   },
   {
    "duration": 66,
    "start_time": "2023-07-10T15:53:12.686Z"
   },
   {
    "duration": 30,
    "start_time": "2023-07-10T15:53:12.755Z"
   },
   {
    "duration": 26,
    "start_time": "2023-07-10T15:53:12.787Z"
   },
   {
    "duration": 16,
    "start_time": "2023-07-10T15:53:12.816Z"
   },
   {
    "duration": 12,
    "start_time": "2023-07-10T15:53:12.834Z"
   },
   {
    "duration": 110,
    "start_time": "2023-07-10T15:53:12.848Z"
   },
   {
    "duration": 110,
    "start_time": "2023-07-10T15:53:12.960Z"
   },
   {
    "duration": 39,
    "start_time": "2023-07-10T15:53:13.072Z"
   },
   {
    "duration": 21,
    "start_time": "2023-07-10T15:53:13.113Z"
   },
   {
    "duration": 74,
    "start_time": "2023-07-10T15:53:13.136Z"
   },
   {
    "duration": 98,
    "start_time": "2023-07-10T15:53:13.213Z"
   },
   {
    "duration": 51,
    "start_time": "2023-07-10T15:53:13.313Z"
   },
   {
    "duration": 57,
    "start_time": "2023-07-10T15:53:13.366Z"
   },
   {
    "duration": 3134,
    "start_time": "2023-07-10T15:53:13.427Z"
   },
   {
    "duration": 72438,
    "start_time": "2023-07-10T15:53:16.563Z"
   },
   {
    "duration": 6,
    "start_time": "2023-07-10T15:54:29.003Z"
   },
   {
    "duration": 372,
    "start_time": "2023-07-10T15:54:29.010Z"
   },
   {
    "duration": 146,
    "start_time": "2023-07-10T15:54:29.384Z"
   },
   {
    "duration": 249,
    "start_time": "2023-07-10T15:54:29.531Z"
   },
   {
    "duration": 30,
    "start_time": "2023-07-10T15:54:29.782Z"
   },
   {
    "duration": 3189,
    "start_time": "2023-07-10T15:54:29.814Z"
   },
   {
    "duration": 70648,
    "start_time": "2023-07-10T15:54:33.005Z"
   },
   {
    "duration": 404,
    "start_time": "2023-07-10T15:55:43.654Z"
   },
   {
    "duration": 136,
    "start_time": "2023-07-10T15:55:44.060Z"
   },
   {
    "duration": 296,
    "start_time": "2023-07-10T15:55:44.197Z"
   },
   {
    "duration": 39,
    "start_time": "2023-07-10T15:55:44.495Z"
   },
   {
    "duration": 51,
    "start_time": "2023-07-10T15:55:44.535Z"
   },
   {
    "duration": 5868,
    "start_time": "2023-07-10T15:55:44.588Z"
   },
   {
    "duration": 904766,
    "start_time": "2023-07-10T15:55:50.458Z"
   },
   {
    "duration": 346,
    "start_time": "2023-07-10T16:10:55.225Z"
   },
   {
    "duration": 144,
    "start_time": "2023-07-10T16:10:55.573Z"
   },
   {
    "duration": 372,
    "start_time": "2023-07-10T16:10:55.719Z"
   },
   {
    "duration": 216,
    "start_time": "2023-07-10T16:10:56.093Z"
   },
   {
    "duration": 13568,
    "start_time": "2023-07-10T18:59:40.587Z"
   },
   {
    "duration": 1501,
    "start_time": "2023-07-10T18:59:54.157Z"
   },
   {
    "duration": 118,
    "start_time": "2023-07-10T18:59:55.660Z"
   },
   {
    "duration": 13,
    "start_time": "2023-07-10T18:59:55.780Z"
   },
   {
    "duration": 42,
    "start_time": "2023-07-10T18:59:55.794Z"
   },
   {
    "duration": 17,
    "start_time": "2023-07-10T18:59:55.838Z"
   },
   {
    "duration": 6,
    "start_time": "2023-07-10T18:59:55.857Z"
   },
   {
    "duration": 182,
    "start_time": "2023-07-10T18:59:55.864Z"
   },
   {
    "duration": 30,
    "start_time": "2023-07-10T18:59:56.049Z"
   },
   {
    "duration": 9,
    "start_time": "2023-07-10T18:59:56.081Z"
   },
   {
    "duration": 33,
    "start_time": "2023-07-10T18:59:56.092Z"
   },
   {
    "duration": 1376,
    "start_time": "2023-07-10T18:59:56.127Z"
   },
   {
    "duration": 23,
    "start_time": "2023-07-10T18:59:57.505Z"
   },
   {
    "duration": 29,
    "start_time": "2023-07-10T18:59:57.529Z"
   },
   {
    "duration": 29,
    "start_time": "2023-07-10T18:59:57.559Z"
   },
   {
    "duration": 28,
    "start_time": "2023-07-10T18:59:57.589Z"
   },
   {
    "duration": 29,
    "start_time": "2023-07-10T18:59:57.626Z"
   },
   {
    "duration": 8,
    "start_time": "2023-07-10T18:59:57.657Z"
   },
   {
    "duration": 9,
    "start_time": "2023-07-10T18:59:57.667Z"
   },
   {
    "duration": 43,
    "start_time": "2023-07-10T18:59:57.678Z"
   },
   {
    "duration": 24,
    "start_time": "2023-07-10T18:59:57.724Z"
   },
   {
    "duration": 12,
    "start_time": "2023-07-10T18:59:57.750Z"
   },
   {
    "duration": 14,
    "start_time": "2023-07-10T18:59:57.764Z"
   },
   {
    "duration": 15,
    "start_time": "2023-07-10T18:59:57.779Z"
   },
   {
    "duration": 28,
    "start_time": "2023-07-10T18:59:57.795Z"
   },
   {
    "duration": 37,
    "start_time": "2023-07-10T18:59:57.824Z"
   },
   {
    "duration": 21,
    "start_time": "2023-07-10T18:59:57.863Z"
   },
   {
    "duration": 2756,
    "start_time": "2023-07-10T18:59:57.889Z"
   },
   {
    "duration": 64607,
    "start_time": "2023-07-10T19:00:00.647Z"
   },
   {
    "duration": 6,
    "start_time": "2023-07-10T19:01:05.255Z"
   },
   {
    "duration": 398,
    "start_time": "2023-07-10T19:01:05.262Z"
   },
   {
    "duration": 126,
    "start_time": "2023-07-10T19:01:05.662Z"
   },
   {
    "duration": 256,
    "start_time": "2023-07-10T19:01:05.790Z"
   },
   {
    "duration": 33,
    "start_time": "2023-07-10T19:01:06.050Z"
   },
   {
    "duration": 3083,
    "start_time": "2023-07-10T19:01:06.085Z"
   },
   {
    "duration": 67476,
    "start_time": "2023-07-10T19:01:09.169Z"
   },
   {
    "duration": 302,
    "start_time": "2023-07-10T19:02:16.646Z"
   },
   {
    "duration": 121,
    "start_time": "2023-07-10T19:02:16.949Z"
   },
   {
    "duration": 195,
    "start_time": "2023-07-10T19:02:17.071Z"
   },
   {
    "duration": 57,
    "start_time": "2023-07-10T19:02:17.268Z"
   },
   {
    "duration": 39,
    "start_time": "2023-07-10T19:02:17.339Z"
   },
   {
    "duration": 5504,
    "start_time": "2023-07-10T19:02:17.380Z"
   },
   {
    "duration": 810851,
    "start_time": "2023-07-10T19:02:22.886Z"
   },
   {
    "duration": 338,
    "start_time": "2023-07-10T19:15:53.739Z"
   },
   {
    "duration": 151,
    "start_time": "2023-07-10T19:15:54.078Z"
   },
   {
    "duration": 202,
    "start_time": "2023-07-10T19:15:54.231Z"
   },
   {
    "duration": 224,
    "start_time": "2023-07-10T19:15:54.434Z"
   },
   {
    "duration": 1857,
    "start_time": "2023-07-10T19:18:40.839Z"
   },
   {
    "duration": 1781,
    "start_time": "2023-07-10T19:19:16.154Z"
   },
   {
    "duration": 4295,
    "start_time": "2023-07-10T19:19:24.973Z"
   },
   {
    "duration": 5,
    "start_time": "2023-07-10T19:19:29.271Z"
   },
   {
    "duration": 62,
    "start_time": "2023-07-10T19:19:29.278Z"
   },
   {
    "duration": 12,
    "start_time": "2023-07-10T19:19:29.342Z"
   },
   {
    "duration": 23,
    "start_time": "2023-07-10T19:19:29.355Z"
   },
   {
    "duration": 86,
    "start_time": "2023-07-10T19:19:29.380Z"
   },
   {
    "duration": 72,
    "start_time": "2023-07-10T19:19:29.468Z"
   },
   {
    "duration": 199,
    "start_time": "2023-07-10T19:19:29.541Z"
   },
   {
    "duration": 17,
    "start_time": "2023-07-10T19:19:29.741Z"
   },
   {
    "duration": 8,
    "start_time": "2023-07-10T19:19:29.762Z"
   },
   {
    "duration": 41,
    "start_time": "2023-07-10T19:19:29.772Z"
   },
   {
    "duration": 1333,
    "start_time": "2023-07-10T19:19:29.814Z"
   },
   {
    "duration": 21,
    "start_time": "2023-07-10T19:19:31.149Z"
   },
   {
    "duration": 59,
    "start_time": "2023-07-10T19:19:31.171Z"
   },
   {
    "duration": 12,
    "start_time": "2023-07-10T19:19:37.658Z"
   },
   {
    "duration": 36,
    "start_time": "2023-07-10T19:19:56.393Z"
   },
   {
    "duration": 4,
    "start_time": "2023-07-10T19:20:09.775Z"
   },
   {
    "duration": 13,
    "start_time": "2023-07-10T19:20:25.179Z"
   },
   {
    "duration": 6,
    "start_time": "2023-07-10T19:20:43.155Z"
   },
   {
    "duration": 4255,
    "start_time": "2023-07-10T19:21:01.026Z"
   },
   {
    "duration": 5,
    "start_time": "2023-07-10T19:21:05.283Z"
   },
   {
    "duration": 62,
    "start_time": "2023-07-10T19:21:05.289Z"
   },
   {
    "duration": 16,
    "start_time": "2023-07-10T19:21:05.353Z"
   },
   {
    "duration": 54,
    "start_time": "2023-07-10T19:21:05.370Z"
   },
   {
    "duration": 27,
    "start_time": "2023-07-10T19:21:05.427Z"
   },
   {
    "duration": 7,
    "start_time": "2023-07-10T19:21:05.455Z"
   },
   {
    "duration": 130,
    "start_time": "2023-07-10T19:21:05.464Z"
   },
   {
    "duration": 34,
    "start_time": "2023-07-10T19:21:05.595Z"
   },
   {
    "duration": 24,
    "start_time": "2023-07-10T19:21:05.632Z"
   },
   {
    "duration": 13,
    "start_time": "2023-07-10T19:21:05.658Z"
   },
   {
    "duration": 1370,
    "start_time": "2023-07-10T19:21:05.673Z"
   },
   {
    "duration": 18,
    "start_time": "2023-07-10T19:21:07.044Z"
   },
   {
    "duration": 7,
    "start_time": "2023-07-10T19:21:07.064Z"
   },
   {
    "duration": 15,
    "start_time": "2023-07-10T19:21:11.473Z"
   },
   {
    "duration": 25,
    "start_time": "2023-07-10T19:21:21.096Z"
   },
   {
    "duration": 12,
    "start_time": "2023-07-10T19:21:35.876Z"
   },
   {
    "duration": 1496,
    "start_time": "2023-07-10T19:23:32.822Z"
   },
   {
    "duration": 1809,
    "start_time": "2023-07-10T19:24:04.955Z"
   },
   {
    "duration": 8,
    "start_time": "2023-07-10T19:24:27.234Z"
   },
   {
    "duration": 12,
    "start_time": "2023-07-10T19:24:29.651Z"
   },
   {
    "duration": 4174,
    "start_time": "2023-07-10T19:24:38.666Z"
   },
   {
    "duration": 5,
    "start_time": "2023-07-10T19:24:42.842Z"
   },
   {
    "duration": 44,
    "start_time": "2023-07-10T19:24:42.848Z"
   },
   {
    "duration": 15,
    "start_time": "2023-07-10T19:24:42.893Z"
   },
   {
    "duration": 28,
    "start_time": "2023-07-10T19:24:42.910Z"
   },
   {
    "duration": 13,
    "start_time": "2023-07-10T19:24:42.940Z"
   },
   {
    "duration": 8,
    "start_time": "2023-07-10T19:24:42.955Z"
   },
   {
    "duration": 126,
    "start_time": "2023-07-10T19:24:42.964Z"
   },
   {
    "duration": 32,
    "start_time": "2023-07-10T19:24:43.091Z"
   },
   {
    "duration": 23,
    "start_time": "2023-07-10T19:24:43.126Z"
   },
   {
    "duration": 19,
    "start_time": "2023-07-10T19:24:43.150Z"
   },
   {
    "duration": 1257,
    "start_time": "2023-07-10T19:24:43.171Z"
   },
   {
    "duration": 25,
    "start_time": "2023-07-10T19:24:44.429Z"
   },
   {
    "duration": 4,
    "start_time": "2023-07-10T19:24:44.456Z"
   },
   {
    "duration": 11,
    "start_time": "2023-07-10T19:24:44.461Z"
   },
   {
    "duration": 49,
    "start_time": "2023-07-10T19:24:44.473Z"
   },
   {
    "duration": 25,
    "start_time": "2023-07-10T19:24:44.530Z"
   },
   {
    "duration": 6,
    "start_time": "2023-07-10T19:24:44.557Z"
   },
   {
    "duration": 13,
    "start_time": "2023-07-10T19:24:44.565Z"
   },
   {
    "duration": 7,
    "start_time": "2023-07-10T19:24:44.579Z"
   },
   {
    "duration": 7,
    "start_time": "2023-07-10T19:24:44.588Z"
   },
   {
    "duration": 52,
    "start_time": "2023-07-10T19:24:44.597Z"
   },
   {
    "duration": 0,
    "start_time": "2023-07-10T19:24:44.651Z"
   },
   {
    "duration": 0,
    "start_time": "2023-07-10T19:24:44.652Z"
   },
   {
    "duration": 0,
    "start_time": "2023-07-10T19:24:44.653Z"
   },
   {
    "duration": 0,
    "start_time": "2023-07-10T19:24:44.654Z"
   },
   {
    "duration": 0,
    "start_time": "2023-07-10T19:24:44.655Z"
   },
   {
    "duration": 0,
    "start_time": "2023-07-10T19:24:44.657Z"
   },
   {
    "duration": 0,
    "start_time": "2023-07-10T19:24:44.658Z"
   },
   {
    "duration": 0,
    "start_time": "2023-07-10T19:24:44.659Z"
   },
   {
    "duration": 0,
    "start_time": "2023-07-10T19:24:44.660Z"
   },
   {
    "duration": 0,
    "start_time": "2023-07-10T19:24:44.661Z"
   },
   {
    "duration": 0,
    "start_time": "2023-07-10T19:24:44.662Z"
   },
   {
    "duration": 0,
    "start_time": "2023-07-10T19:24:44.663Z"
   },
   {
    "duration": 0,
    "start_time": "2023-07-10T19:24:44.664Z"
   },
   {
    "duration": 0,
    "start_time": "2023-07-10T19:24:44.665Z"
   },
   {
    "duration": 0,
    "start_time": "2023-07-10T19:24:44.666Z"
   },
   {
    "duration": 0,
    "start_time": "2023-07-10T19:24:44.667Z"
   },
   {
    "duration": 0,
    "start_time": "2023-07-10T19:24:44.668Z"
   },
   {
    "duration": 0,
    "start_time": "2023-07-10T19:24:44.669Z"
   },
   {
    "duration": 0,
    "start_time": "2023-07-10T19:24:44.670Z"
   },
   {
    "duration": 0,
    "start_time": "2023-07-10T19:24:44.671Z"
   },
   {
    "duration": 0,
    "start_time": "2023-07-10T19:24:44.672Z"
   },
   {
    "duration": 0,
    "start_time": "2023-07-10T19:24:44.673Z"
   },
   {
    "duration": 0,
    "start_time": "2023-07-10T19:24:44.674Z"
   },
   {
    "duration": 0,
    "start_time": "2023-07-10T19:24:44.675Z"
   },
   {
    "duration": 0,
    "start_time": "2023-07-10T19:24:44.676Z"
   },
   {
    "duration": 0,
    "start_time": "2023-07-10T19:24:44.678Z"
   },
   {
    "duration": 0,
    "start_time": "2023-07-10T19:24:44.699Z"
   },
   {
    "duration": 4191,
    "start_time": "2023-07-10T19:24:51.751Z"
   },
   {
    "duration": 6,
    "start_time": "2023-07-10T19:24:55.952Z"
   },
   {
    "duration": 87,
    "start_time": "2023-07-10T19:24:55.960Z"
   },
   {
    "duration": 16,
    "start_time": "2023-07-10T19:24:56.049Z"
   },
   {
    "duration": 24,
    "start_time": "2023-07-10T19:24:56.068Z"
   },
   {
    "duration": 35,
    "start_time": "2023-07-10T19:24:56.094Z"
   },
   {
    "duration": 25,
    "start_time": "2023-07-10T19:24:56.130Z"
   },
   {
    "duration": 164,
    "start_time": "2023-07-10T19:24:56.157Z"
   },
   {
    "duration": 20,
    "start_time": "2023-07-10T19:24:56.323Z"
   },
   {
    "duration": 11,
    "start_time": "2023-07-10T19:24:56.345Z"
   },
   {
    "duration": 34,
    "start_time": "2023-07-10T19:24:56.359Z"
   },
   {
    "duration": 1335,
    "start_time": "2023-07-10T19:24:56.413Z"
   },
   {
    "duration": 21,
    "start_time": "2023-07-10T19:24:57.750Z"
   },
   {
    "duration": 32,
    "start_time": "2023-07-10T19:24:57.775Z"
   },
   {
    "duration": 37,
    "start_time": "2023-07-10T19:24:57.808Z"
   },
   {
    "duration": 12,
    "start_time": "2023-07-10T19:24:57.847Z"
   },
   {
    "duration": 19,
    "start_time": "2023-07-10T19:24:57.860Z"
   },
   {
    "duration": 5,
    "start_time": "2023-07-10T19:24:57.880Z"
   },
   {
    "duration": 9,
    "start_time": "2023-07-10T19:24:57.886Z"
   },
   {
    "duration": 45,
    "start_time": "2023-07-10T19:24:57.896Z"
   },
   {
    "duration": 16,
    "start_time": "2023-07-10T19:24:57.942Z"
   },
   {
    "duration": 14,
    "start_time": "2023-07-10T19:24:57.960Z"
   },
   {
    "duration": 0,
    "start_time": "2023-07-10T19:24:57.976Z"
   },
   {
    "duration": 0,
    "start_time": "2023-07-10T19:24:57.977Z"
   },
   {
    "duration": 0,
    "start_time": "2023-07-10T19:24:57.978Z"
   },
   {
    "duration": 0,
    "start_time": "2023-07-10T19:24:57.979Z"
   },
   {
    "duration": 0,
    "start_time": "2023-07-10T19:24:57.980Z"
   },
   {
    "duration": 0,
    "start_time": "2023-07-10T19:24:57.981Z"
   },
   {
    "duration": 0,
    "start_time": "2023-07-10T19:24:57.982Z"
   },
   {
    "duration": 0,
    "start_time": "2023-07-10T19:24:57.984Z"
   },
   {
    "duration": 0,
    "start_time": "2023-07-10T19:24:57.985Z"
   },
   {
    "duration": 0,
    "start_time": "2023-07-10T19:24:57.986Z"
   },
   {
    "duration": 0,
    "start_time": "2023-07-10T19:24:57.987Z"
   },
   {
    "duration": 0,
    "start_time": "2023-07-10T19:24:57.987Z"
   },
   {
    "duration": 0,
    "start_time": "2023-07-10T19:24:57.988Z"
   },
   {
    "duration": 0,
    "start_time": "2023-07-10T19:24:57.989Z"
   },
   {
    "duration": 0,
    "start_time": "2023-07-10T19:24:57.990Z"
   },
   {
    "duration": 0,
    "start_time": "2023-07-10T19:24:57.991Z"
   },
   {
    "duration": 0,
    "start_time": "2023-07-10T19:24:57.992Z"
   },
   {
    "duration": 0,
    "start_time": "2023-07-10T19:24:57.993Z"
   },
   {
    "duration": 0,
    "start_time": "2023-07-10T19:24:58.005Z"
   },
   {
    "duration": 0,
    "start_time": "2023-07-10T19:24:58.008Z"
   },
   {
    "duration": 0,
    "start_time": "2023-07-10T19:24:58.008Z"
   },
   {
    "duration": 0,
    "start_time": "2023-07-10T19:24:58.015Z"
   },
   {
    "duration": 0,
    "start_time": "2023-07-10T19:24:58.016Z"
   },
   {
    "duration": 0,
    "start_time": "2023-07-10T19:24:58.016Z"
   },
   {
    "duration": 0,
    "start_time": "2023-07-10T19:24:58.017Z"
   },
   {
    "duration": 0,
    "start_time": "2023-07-10T19:24:58.019Z"
   },
   {
    "duration": 0,
    "start_time": "2023-07-10T19:24:58.020Z"
   },
   {
    "duration": 11709,
    "start_time": "2023-07-11T11:49:49.675Z"
   },
   {
    "duration": 1591,
    "start_time": "2023-07-11T11:50:01.387Z"
   },
   {
    "duration": 153,
    "start_time": "2023-07-11T11:50:02.982Z"
   },
   {
    "duration": 14,
    "start_time": "2023-07-11T11:50:03.137Z"
   },
   {
    "duration": 22,
    "start_time": "2023-07-11T11:50:03.152Z"
   },
   {
    "duration": 22,
    "start_time": "2023-07-11T11:50:03.177Z"
   },
   {
    "duration": 8,
    "start_time": "2023-07-11T11:50:03.201Z"
   },
   {
    "duration": 198,
    "start_time": "2023-07-11T11:50:03.211Z"
   },
   {
    "duration": 19,
    "start_time": "2023-07-11T11:50:03.411Z"
   },
   {
    "duration": 17,
    "start_time": "2023-07-11T11:50:03.432Z"
   },
   {
    "duration": 45,
    "start_time": "2023-07-11T11:50:03.451Z"
   },
   {
    "duration": 1587,
    "start_time": "2023-07-11T11:50:03.498Z"
   },
   {
    "duration": 25,
    "start_time": "2023-07-11T11:50:05.087Z"
   },
   {
    "duration": 10,
    "start_time": "2023-07-11T11:50:05.114Z"
   },
   {
    "duration": 26,
    "start_time": "2023-07-11T11:50:05.126Z"
   },
   {
    "duration": 15,
    "start_time": "2023-07-11T11:50:07.505Z"
   },
   {
    "duration": 7,
    "start_time": "2023-07-11T11:50:09.816Z"
   },
   {
    "duration": 6,
    "start_time": "2023-07-11T11:50:10.946Z"
   },
   {
    "duration": 7,
    "start_time": "2023-07-11T11:50:12.013Z"
   },
   {
    "duration": 7,
    "start_time": "2023-07-11T11:50:27.620Z"
   },
   {
    "duration": 5,
    "start_time": "2023-07-11T11:50:34.737Z"
   },
   {
    "duration": 6,
    "start_time": "2023-07-11T11:50:35.401Z"
   },
   {
    "duration": 12,
    "start_time": "2023-07-11T11:50:38.236Z"
   },
   {
    "duration": 40,
    "start_time": "2023-07-11T11:50:39.956Z"
   },
   {
    "duration": 35,
    "start_time": "2023-07-11T11:50:40.864Z"
   },
   {
    "duration": 15,
    "start_time": "2023-07-11T11:50:43.620Z"
   },
   {
    "duration": 28,
    "start_time": "2023-07-11T11:50:49.054Z"
   },
   {
    "duration": 2854,
    "start_time": "2023-07-11T11:50:49.968Z"
   },
   {
    "duration": 66344,
    "start_time": "2023-07-11T11:50:54.516Z"
   },
   {
    "duration": 5,
    "start_time": "2023-07-11T11:52:16.359Z"
   },
   {
    "duration": 360,
    "start_time": "2023-07-11T11:52:17.935Z"
   },
   {
    "duration": 124,
    "start_time": "2023-07-11T11:52:20.638Z"
   },
   {
    "duration": 131,
    "start_time": "2023-07-11T11:52:22.588Z"
   },
   {
    "duration": 4907,
    "start_time": "2023-07-11T11:52:59.948Z"
   },
   {
    "duration": 5,
    "start_time": "2023-07-11T11:53:04.857Z"
   },
   {
    "duration": 51,
    "start_time": "2023-07-11T11:53:04.863Z"
   },
   {
    "duration": 12,
    "start_time": "2023-07-11T11:53:04.916Z"
   },
   {
    "duration": 12,
    "start_time": "2023-07-11T11:53:04.929Z"
   },
   {
    "duration": 14,
    "start_time": "2023-07-11T11:53:04.942Z"
   },
   {
    "duration": 7,
    "start_time": "2023-07-11T11:53:04.957Z"
   },
   {
    "duration": 153,
    "start_time": "2023-07-11T11:53:04.965Z"
   },
   {
    "duration": 28,
    "start_time": "2023-07-11T11:53:05.120Z"
   },
   {
    "duration": 24,
    "start_time": "2023-07-11T11:53:05.151Z"
   },
   {
    "duration": 22,
    "start_time": "2023-07-11T11:53:05.178Z"
   },
   {
    "duration": 1380,
    "start_time": "2023-07-11T11:53:05.201Z"
   },
   {
    "duration": 26,
    "start_time": "2023-07-11T11:53:06.584Z"
   },
   {
    "duration": 21,
    "start_time": "2023-07-11T11:53:06.612Z"
   },
   {
    "duration": 37,
    "start_time": "2023-07-11T11:53:06.635Z"
   },
   {
    "duration": 29,
    "start_time": "2023-07-11T11:53:06.675Z"
   },
   {
    "duration": 12,
    "start_time": "2023-07-11T11:53:06.705Z"
   },
   {
    "duration": 7,
    "start_time": "2023-07-11T11:53:09.092Z"
   },
   {
    "duration": 19,
    "start_time": "2023-07-11T11:53:15.068Z"
   },
   {
    "duration": 25,
    "start_time": "2023-07-11T11:53:19.222Z"
   },
   {
    "duration": 22,
    "start_time": "2023-07-11T11:53:19.914Z"
   },
   {
    "duration": 15,
    "start_time": "2023-07-11T11:53:23.345Z"
   },
   {
    "duration": 22,
    "start_time": "2023-07-11T11:53:31.208Z"
   },
   {
    "duration": 3151,
    "start_time": "2023-07-11T11:53:32.210Z"
   },
   {
    "duration": 35323,
    "start_time": "2023-07-11T11:53:43.593Z"
   },
   {
    "duration": 5,
    "start_time": "2023-07-11T11:54:26.106Z"
   },
   {
    "duration": 305,
    "start_time": "2023-07-11T11:54:27.567Z"
   },
   {
    "duration": 139,
    "start_time": "2023-07-11T11:54:31.262Z"
   },
   {
    "duration": 17,
    "start_time": "2023-07-11T11:54:33.036Z"
   },
   {
    "duration": 4498,
    "start_time": "2023-07-11T11:56:42.610Z"
   },
   {
    "duration": 1234,
    "start_time": "2023-07-11T11:56:47.111Z"
   },
   {
    "duration": 46,
    "start_time": "2023-07-11T11:56:48.347Z"
   },
   {
    "duration": 12,
    "start_time": "2023-07-11T11:56:48.395Z"
   },
   {
    "duration": 11,
    "start_time": "2023-07-11T11:56:48.408Z"
   },
   {
    "duration": 18,
    "start_time": "2023-07-11T11:56:48.420Z"
   },
   {
    "duration": 28,
    "start_time": "2023-07-11T11:56:48.439Z"
   },
   {
    "duration": 146,
    "start_time": "2023-07-11T11:56:48.469Z"
   },
   {
    "duration": 18,
    "start_time": "2023-07-11T11:56:48.617Z"
   },
   {
    "duration": 23,
    "start_time": "2023-07-11T11:56:48.638Z"
   },
   {
    "duration": 34,
    "start_time": "2023-07-11T11:56:48.663Z"
   },
   {
    "duration": 1400,
    "start_time": "2023-07-11T11:56:48.699Z"
   },
   {
    "duration": 20,
    "start_time": "2023-07-11T11:56:50.101Z"
   },
   {
    "duration": 25,
    "start_time": "2023-07-11T11:56:50.122Z"
   },
   {
    "duration": 35,
    "start_time": "2023-07-11T11:56:50.149Z"
   },
   {
    "duration": 19,
    "start_time": "2023-07-11T11:56:50.185Z"
   },
   {
    "duration": 27,
    "start_time": "2023-07-11T11:56:50.205Z"
   },
   {
    "duration": 8,
    "start_time": "2023-07-11T11:57:23.795Z"
   },
   {
    "duration": 16,
    "start_time": "2023-07-11T11:57:28.266Z"
   },
   {
    "duration": 8,
    "start_time": "2023-07-11T12:00:39.650Z"
   },
   {
    "duration": 14,
    "start_time": "2023-07-11T12:01:35.360Z"
   },
   {
    "duration": 15,
    "start_time": "2023-07-11T12:01:59.327Z"
   },
   {
    "duration": 3,
    "start_time": "2023-07-11T12:02:50.992Z"
   },
   {
    "duration": 145,
    "start_time": "2023-07-11T12:03:00.282Z"
   },
   {
    "duration": 3,
    "start_time": "2023-07-11T12:03:11.122Z"
   },
   {
    "duration": 30,
    "start_time": "2023-07-11T12:03:13.054Z"
   },
   {
    "duration": 23,
    "start_time": "2023-07-11T12:03:17.596Z"
   },
   {
    "duration": 18,
    "start_time": "2023-07-11T12:03:20.584Z"
   },
   {
    "duration": 26,
    "start_time": "2023-07-11T12:03:24.526Z"
   },
   {
    "duration": 2985,
    "start_time": "2023-07-11T12:03:25.903Z"
   },
   {
    "duration": 66709,
    "start_time": "2023-07-11T12:03:31.486Z"
   },
   {
    "duration": 5,
    "start_time": "2023-07-11T12:05:17.666Z"
   },
   {
    "duration": 334,
    "start_time": "2023-07-11T12:05:18.818Z"
   },
   {
    "duration": 138,
    "start_time": "2023-07-11T12:05:21.099Z"
   },
   {
    "duration": 230,
    "start_time": "2023-07-11T12:05:23.185Z"
   },
   {
    "duration": 33,
    "start_time": "2023-07-11T12:05:46.549Z"
   },
   {
    "duration": 3115,
    "start_time": "2023-07-11T12:05:46.585Z"
   },
   {
    "duration": 67502,
    "start_time": "2023-07-11T12:05:49.701Z"
   },
   {
    "duration": 368,
    "start_time": "2023-07-11T12:06:57.205Z"
   },
   {
    "duration": 146,
    "start_time": "2023-07-11T12:06:57.575Z"
   },
   {
    "duration": 270,
    "start_time": "2023-07-11T12:06:57.722Z"
   },
   {
    "duration": 35,
    "start_time": "2023-07-11T12:06:57.995Z"
   },
   {
    "duration": 47,
    "start_time": "2023-07-11T12:06:58.031Z"
   },
   {
    "duration": 5602,
    "start_time": "2023-07-11T12:06:58.081Z"
   },
   {
    "duration": 826450,
    "start_time": "2023-07-11T12:07:03.685Z"
   },
   {
    "duration": 446,
    "start_time": "2023-07-11T12:20:50.137Z"
   },
   {
    "duration": 146,
    "start_time": "2023-07-11T12:20:50.585Z"
   },
   {
    "duration": 423,
    "start_time": "2023-07-11T12:20:50.733Z"
   },
   {
    "duration": 384,
    "start_time": "2023-07-11T12:20:51.167Z"
   },
   {
    "duration": 4684,
    "start_time": "2023-07-11T12:23:45.446Z"
   },
   {
    "duration": 4,
    "start_time": "2023-07-11T12:23:50.133Z"
   },
   {
    "duration": 84,
    "start_time": "2023-07-11T12:23:50.139Z"
   },
   {
    "duration": 12,
    "start_time": "2023-07-11T12:23:50.225Z"
   },
   {
    "duration": 18,
    "start_time": "2023-07-11T12:23:50.239Z"
   },
   {
    "duration": 17,
    "start_time": "2023-07-11T12:23:50.258Z"
   },
   {
    "duration": 19,
    "start_time": "2023-07-11T12:23:50.277Z"
   },
   {
    "duration": 262,
    "start_time": "2023-07-11T12:23:50.297Z"
   },
   {
    "duration": 34,
    "start_time": "2023-07-11T12:23:50.561Z"
   },
   {
    "duration": 9,
    "start_time": "2023-07-11T12:23:50.598Z"
   },
   {
    "duration": 13,
    "start_time": "2023-07-11T12:23:50.608Z"
   },
   {
    "duration": 1436,
    "start_time": "2023-07-11T12:23:50.623Z"
   },
   {
    "duration": 32,
    "start_time": "2023-07-11T12:23:52.061Z"
   },
   {
    "duration": 14,
    "start_time": "2023-07-11T12:23:52.094Z"
   },
   {
    "duration": 5,
    "start_time": "2023-07-11T12:23:52.109Z"
   },
   {
    "duration": 17,
    "start_time": "2023-07-11T12:23:52.115Z"
   },
   {
    "duration": 10,
    "start_time": "2023-07-11T12:23:52.134Z"
   },
   {
    "duration": 30,
    "start_time": "2023-07-11T12:23:52.146Z"
   },
   {
    "duration": 46,
    "start_time": "2023-07-11T12:23:52.178Z"
   },
   {
    "duration": 21,
    "start_time": "2023-07-11T12:23:52.226Z"
   },
   {
    "duration": 20,
    "start_time": "2023-07-11T12:23:52.249Z"
   },
   {
    "duration": 7,
    "start_time": "2023-07-11T12:23:52.271Z"
   },
   {
    "duration": 8,
    "start_time": "2023-07-11T12:23:52.280Z"
   },
   {
    "duration": 19,
    "start_time": "2023-07-11T12:23:52.289Z"
   },
   {
    "duration": 3,
    "start_time": "2023-07-11T12:23:52.310Z"
   },
   {
    "duration": 18,
    "start_time": "2023-07-11T12:23:52.315Z"
   },
   {
    "duration": 39,
    "start_time": "2023-07-11T12:23:52.336Z"
   },
   {
    "duration": 13,
    "start_time": "2023-07-11T12:23:52.380Z"
   },
   {
    "duration": 19,
    "start_time": "2023-07-11T12:23:52.395Z"
   },
   {
    "duration": 3053,
    "start_time": "2023-07-11T12:23:52.416Z"
   },
   {
    "duration": 75610,
    "start_time": "2023-07-11T12:23:55.472Z"
   },
   {
    "duration": 6,
    "start_time": "2023-07-11T12:25:11.084Z"
   },
   {
    "duration": 412,
    "start_time": "2023-07-11T12:25:11.092Z"
   },
   {
    "duration": 133,
    "start_time": "2023-07-11T12:25:11.506Z"
   },
   {
    "duration": 247,
    "start_time": "2023-07-11T12:25:11.640Z"
   },
   {
    "duration": 22,
    "start_time": "2023-07-11T12:25:11.889Z"
   },
   {
    "duration": 3218,
    "start_time": "2023-07-11T12:25:11.913Z"
   },
   {
    "duration": 74646,
    "start_time": "2023-07-11T12:25:15.133Z"
   },
   {
    "duration": 390,
    "start_time": "2023-07-11T12:26:29.782Z"
   },
   {
    "duration": 140,
    "start_time": "2023-07-11T12:26:30.174Z"
   },
   {
    "duration": 222,
    "start_time": "2023-07-11T12:26:30.316Z"
   },
   {
    "duration": 50,
    "start_time": "2023-07-11T12:26:30.540Z"
   },
   {
    "duration": 25,
    "start_time": "2023-07-11T12:26:30.592Z"
   },
   {
    "duration": 5245,
    "start_time": "2023-07-11T12:26:30.619Z"
   },
   {
    "duration": 4803,
    "start_time": "2023-07-11T12:49:34.191Z"
   },
   {
    "duration": 7,
    "start_time": "2023-07-11T12:49:38.996Z"
   },
   {
    "duration": 53,
    "start_time": "2023-07-11T12:49:39.004Z"
   },
   {
    "duration": 14,
    "start_time": "2023-07-11T12:49:39.059Z"
   },
   {
    "duration": 15,
    "start_time": "2023-07-11T12:49:39.076Z"
   },
   {
    "duration": 14,
    "start_time": "2023-07-11T12:49:39.093Z"
   },
   {
    "duration": 7,
    "start_time": "2023-07-11T12:49:39.109Z"
   },
   {
    "duration": 158,
    "start_time": "2023-07-11T12:49:39.117Z"
   },
   {
    "duration": 18,
    "start_time": "2023-07-11T12:49:39.277Z"
   },
   {
    "duration": 11,
    "start_time": "2023-07-11T12:49:39.296Z"
   },
   {
    "duration": 13,
    "start_time": "2023-07-11T12:49:39.309Z"
   },
   {
    "duration": 1478,
    "start_time": "2023-07-11T12:49:39.323Z"
   },
   {
    "duration": 21,
    "start_time": "2023-07-11T12:49:40.803Z"
   },
   {
    "duration": 18,
    "start_time": "2023-07-11T12:49:40.826Z"
   },
   {
    "duration": 14,
    "start_time": "2023-07-11T12:49:44.790Z"
   },
   {
    "duration": 6,
    "start_time": "2023-07-11T12:50:18.297Z"
   },
   {
    "duration": 14,
    "start_time": "2023-07-11T12:50:47.617Z"
   },
   {
    "duration": 4753,
    "start_time": "2023-07-11T12:50:58.356Z"
   },
   {
    "duration": 7,
    "start_time": "2023-07-11T12:51:03.113Z"
   },
   {
    "duration": 65,
    "start_time": "2023-07-11T12:51:03.122Z"
   },
   {
    "duration": 20,
    "start_time": "2023-07-11T12:51:03.190Z"
   },
   {
    "duration": 16,
    "start_time": "2023-07-11T12:51:03.213Z"
   },
   {
    "duration": 23,
    "start_time": "2023-07-11T12:51:03.231Z"
   },
   {
    "duration": 15,
    "start_time": "2023-07-11T12:51:03.269Z"
   },
   {
    "duration": 132,
    "start_time": "2023-07-11T12:51:03.286Z"
   },
   {
    "duration": 20,
    "start_time": "2023-07-11T12:51:03.419Z"
   },
   {
    "duration": 31,
    "start_time": "2023-07-11T12:51:03.442Z"
   },
   {
    "duration": 15,
    "start_time": "2023-07-11T12:51:03.475Z"
   },
   {
    "duration": 1475,
    "start_time": "2023-07-11T12:51:03.492Z"
   },
   {
    "duration": 20,
    "start_time": "2023-07-11T12:51:04.969Z"
   },
   {
    "duration": 6,
    "start_time": "2023-07-11T12:51:04.991Z"
   },
   {
    "duration": 9,
    "start_time": "2023-07-11T12:51:04.999Z"
   },
   {
    "duration": 5,
    "start_time": "2023-07-11T12:51:13.945Z"
   },
   {
    "duration": 8,
    "start_time": "2023-07-11T12:51:21.248Z"
   },
   {
    "duration": 10,
    "start_time": "2023-07-11T12:51:22.419Z"
   },
   {
    "duration": 10,
    "start_time": "2023-07-11T12:51:23.486Z"
   },
   {
    "duration": 8,
    "start_time": "2023-07-11T12:51:39.787Z"
   },
   {
    "duration": 4322,
    "start_time": "2023-07-11T12:51:49.556Z"
   },
   {
    "duration": 6,
    "start_time": "2023-07-11T12:51:53.881Z"
   },
   {
    "duration": 72,
    "start_time": "2023-07-11T12:51:53.888Z"
   },
   {
    "duration": 17,
    "start_time": "2023-07-11T12:51:53.963Z"
   },
   {
    "duration": 16,
    "start_time": "2023-07-11T12:51:53.983Z"
   },
   {
    "duration": 25,
    "start_time": "2023-07-11T12:51:54.001Z"
   },
   {
    "duration": 11,
    "start_time": "2023-07-11T12:51:54.028Z"
   },
   {
    "duration": 200,
    "start_time": "2023-07-11T12:51:54.073Z"
   },
   {
    "duration": 28,
    "start_time": "2023-07-11T12:51:54.275Z"
   },
   {
    "duration": 10,
    "start_time": "2023-07-11T12:51:54.306Z"
   },
   {
    "duration": 13,
    "start_time": "2023-07-11T12:51:54.318Z"
   },
   {
    "duration": 1324,
    "start_time": "2023-07-11T12:51:54.333Z"
   },
   {
    "duration": 26,
    "start_time": "2023-07-11T12:51:55.659Z"
   },
   {
    "duration": 5,
    "start_time": "2023-07-11T12:51:55.686Z"
   },
   {
    "duration": 9,
    "start_time": "2023-07-11T12:51:55.692Z"
   },
   {
    "duration": 6,
    "start_time": "2023-07-11T12:51:55.703Z"
   },
   {
    "duration": 10,
    "start_time": "2023-07-11T12:51:55.710Z"
   },
   {
    "duration": 7,
    "start_time": "2023-07-11T12:51:55.722Z"
   },
   {
    "duration": 9,
    "start_time": "2023-07-11T12:51:55.730Z"
   },
   {
    "duration": 4395,
    "start_time": "2023-07-11T12:52:17.956Z"
   },
   {
    "duration": 7,
    "start_time": "2023-07-11T12:52:22.354Z"
   },
   {
    "duration": 61,
    "start_time": "2023-07-11T12:52:22.363Z"
   },
   {
    "duration": 13,
    "start_time": "2023-07-11T12:52:22.427Z"
   },
   {
    "duration": 17,
    "start_time": "2023-07-11T12:52:22.442Z"
   },
   {
    "duration": 45,
    "start_time": "2023-07-11T12:52:22.460Z"
   },
   {
    "duration": 14,
    "start_time": "2023-07-11T12:52:22.506Z"
   },
   {
    "duration": 159,
    "start_time": "2023-07-11T12:52:22.521Z"
   },
   {
    "duration": 18,
    "start_time": "2023-07-11T12:52:22.683Z"
   },
   {
    "duration": 12,
    "start_time": "2023-07-11T12:52:22.704Z"
   },
   {
    "duration": 32,
    "start_time": "2023-07-11T12:52:22.718Z"
   },
   {
    "duration": 1605,
    "start_time": "2023-07-11T12:52:22.752Z"
   },
   {
    "duration": 40,
    "start_time": "2023-07-11T12:52:24.359Z"
   },
   {
    "duration": 7,
    "start_time": "2023-07-11T12:52:24.402Z"
   },
   {
    "duration": 7,
    "start_time": "2023-07-11T12:52:24.411Z"
   },
   {
    "duration": 9,
    "start_time": "2023-07-11T12:52:24.421Z"
   },
   {
    "duration": 10,
    "start_time": "2023-07-11T12:52:24.432Z"
   },
   {
    "duration": 32,
    "start_time": "2023-07-11T12:52:24.444Z"
   },
   {
    "duration": 19,
    "start_time": "2023-07-11T12:52:24.477Z"
   },
   {
    "duration": 13,
    "start_time": "2023-07-11T12:52:26.330Z"
   },
   {
    "duration": 8,
    "start_time": "2023-07-11T12:52:29.518Z"
   },
   {
    "duration": 10,
    "start_time": "2023-07-11T12:53:40.001Z"
   },
   {
    "duration": 4684,
    "start_time": "2023-07-11T12:54:16.493Z"
   },
   {
    "duration": 1311,
    "start_time": "2023-07-11T12:54:21.181Z"
   },
   {
    "duration": 38,
    "start_time": "2023-07-11T12:54:22.495Z"
   },
   {
    "duration": 12,
    "start_time": "2023-07-11T12:54:22.535Z"
   },
   {
    "duration": 22,
    "start_time": "2023-07-11T12:54:22.549Z"
   },
   {
    "duration": 25,
    "start_time": "2023-07-11T12:54:22.572Z"
   },
   {
    "duration": 8,
    "start_time": "2023-07-11T12:54:22.598Z"
   },
   {
    "duration": 201,
    "start_time": "2023-07-11T12:54:22.608Z"
   },
   {
    "duration": 19,
    "start_time": "2023-07-11T12:54:22.811Z"
   },
   {
    "duration": 15,
    "start_time": "2023-07-11T12:54:22.832Z"
   },
   {
    "duration": 38,
    "start_time": "2023-07-11T12:54:22.849Z"
   },
   {
    "duration": 1698,
    "start_time": "2023-07-11T12:54:22.889Z"
   },
   {
    "duration": 22,
    "start_time": "2023-07-11T12:54:24.589Z"
   },
   {
    "duration": 5,
    "start_time": "2023-07-11T12:54:24.613Z"
   },
   {
    "duration": 7,
    "start_time": "2023-07-11T12:54:24.619Z"
   },
   {
    "duration": 5,
    "start_time": "2023-07-11T12:54:24.627Z"
   },
   {
    "duration": 34,
    "start_time": "2023-07-11T12:54:24.634Z"
   },
   {
    "duration": 9,
    "start_time": "2023-07-11T12:54:24.670Z"
   },
   {
    "duration": 9,
    "start_time": "2023-07-11T12:54:34.752Z"
   },
   {
    "duration": 17,
    "start_time": "2023-07-11T12:54:36.389Z"
   },
   {
    "duration": 129,
    "start_time": "2023-07-11T12:54:41.842Z"
   },
   {
    "duration": 13,
    "start_time": "2023-07-11T12:55:15.384Z"
   },
   {
    "duration": 15,
    "start_time": "2023-07-11T12:55:19.633Z"
   },
   {
    "duration": 9,
    "start_time": "2023-07-11T12:55:22.504Z"
   },
   {
    "duration": 10,
    "start_time": "2023-07-11T12:55:23.762Z"
   },
   {
    "duration": 12,
    "start_time": "2023-07-11T12:55:37.008Z"
   },
   {
    "duration": 21,
    "start_time": "2023-07-11T12:55:48.722Z"
   },
   {
    "duration": 19,
    "start_time": "2023-07-11T12:55:50.332Z"
   },
   {
    "duration": 19,
    "start_time": "2023-07-11T12:55:52.596Z"
   },
   {
    "duration": 28,
    "start_time": "2023-07-11T12:55:57.162Z"
   },
   {
    "duration": 3101,
    "start_time": "2023-07-11T12:55:58.697Z"
   },
   {
    "duration": 73221,
    "start_time": "2023-07-11T12:56:07.053Z"
   },
   {
    "duration": 5,
    "start_time": "2023-07-11T12:57:24.614Z"
   },
   {
    "duration": 296,
    "start_time": "2023-07-11T12:57:27.499Z"
   },
   {
    "duration": 122,
    "start_time": "2023-07-11T12:57:32.092Z"
   },
   {
    "duration": 297,
    "start_time": "2023-07-11T12:57:35.193Z"
   },
   {
    "duration": 18,
    "start_time": "2023-07-11T12:57:44.287Z"
   },
   {
    "duration": 3061,
    "start_time": "2023-07-11T12:57:45.215Z"
   },
   {
    "duration": 72934,
    "start_time": "2023-07-11T12:57:50.191Z"
   },
   {
    "duration": 366,
    "start_time": "2023-07-11T12:59:05.505Z"
   },
   {
    "duration": 145,
    "start_time": "2023-07-11T12:59:08.315Z"
   },
   {
    "duration": 192,
    "start_time": "2023-07-11T12:59:10.355Z"
   },
   {
    "duration": 31,
    "start_time": "2023-07-11T12:59:14.616Z"
   },
   {
    "duration": 33,
    "start_time": "2023-07-11T12:59:16.165Z"
   },
   {
    "duration": 5588,
    "start_time": "2023-07-11T12:59:17.326Z"
   },
   {
    "duration": 424,
    "start_time": "2023-07-11T12:59:24.492Z"
   },
   {
    "duration": 162,
    "start_time": "2023-07-11T12:59:27.237Z"
   },
   {
    "duration": 299304,
    "start_time": "2023-07-11T12:59:34.211Z"
   },
   {
    "duration": 270,
    "start_time": "2023-07-11T13:04:37.771Z"
   },
   {
    "duration": 279,
    "start_time": "2023-07-11T13:04:40.872Z"
   },
   {
    "duration": 3,
    "start_time": "2023-07-11T13:06:03.417Z"
   },
   {
    "duration": 16,
    "start_time": "2023-07-11T13:06:04.095Z"
   },
   {
    "duration": 5160,
    "start_time": "2023-07-11T13:07:26.685Z"
   },
   {
    "duration": 6,
    "start_time": "2023-07-11T13:07:31.848Z"
   },
   {
    "duration": 62,
    "start_time": "2023-07-11T13:07:31.856Z"
   },
   {
    "duration": 16,
    "start_time": "2023-07-11T13:07:31.920Z"
   },
   {
    "duration": 34,
    "start_time": "2023-07-11T13:07:31.937Z"
   },
   {
    "duration": 26,
    "start_time": "2023-07-11T13:07:31.974Z"
   },
   {
    "duration": 46,
    "start_time": "2023-07-11T13:07:32.002Z"
   },
   {
    "duration": 196,
    "start_time": "2023-07-11T13:07:32.050Z"
   },
   {
    "duration": 52,
    "start_time": "2023-07-11T13:07:32.248Z"
   },
   {
    "duration": 10,
    "start_time": "2023-07-11T13:07:32.303Z"
   },
   {
    "duration": 18,
    "start_time": "2023-07-11T13:07:32.314Z"
   },
   {
    "duration": 1715,
    "start_time": "2023-07-11T13:07:32.334Z"
   },
   {
    "duration": 42,
    "start_time": "2023-07-11T13:07:34.052Z"
   },
   {
    "duration": 6,
    "start_time": "2023-07-11T13:07:34.097Z"
   },
   {
    "duration": 26,
    "start_time": "2023-07-11T13:07:34.105Z"
   },
   {
    "duration": 44,
    "start_time": "2023-07-11T13:07:34.133Z"
   },
   {
    "duration": 27,
    "start_time": "2023-07-11T13:07:34.179Z"
   },
   {
    "duration": 10,
    "start_time": "2023-07-11T13:07:34.210Z"
   },
   {
    "duration": 14,
    "start_time": "2023-07-11T13:07:34.222Z"
   },
   {
    "duration": 16,
    "start_time": "2023-07-11T13:07:34.238Z"
   },
   {
    "duration": 3,
    "start_time": "2023-07-11T13:07:34.271Z"
   },
   {
    "duration": 4,
    "start_time": "2023-07-11T13:07:34.276Z"
   },
   {
    "duration": 14,
    "start_time": "2023-07-11T13:07:34.282Z"
   },
   {
    "duration": 7,
    "start_time": "2023-07-11T13:07:34.299Z"
   },
   {
    "duration": 26,
    "start_time": "2023-07-11T13:07:34.308Z"
   },
   {
    "duration": 7,
    "start_time": "2023-07-11T13:07:34.336Z"
   },
   {
    "duration": 41,
    "start_time": "2023-07-11T13:07:34.346Z"
   },
   {
    "duration": 33,
    "start_time": "2023-07-11T13:07:34.392Z"
   },
   {
    "duration": 43,
    "start_time": "2023-07-11T13:07:34.428Z"
   },
   {
    "duration": 38,
    "start_time": "2023-07-11T13:07:34.473Z"
   },
   {
    "duration": 3096,
    "start_time": "2023-07-11T13:07:34.513Z"
   },
   {
    "duration": 188762,
    "start_time": "2023-07-11T13:07:37.610Z"
   },
   {
    "duration": 7,
    "start_time": "2023-07-11T13:10:46.374Z"
   },
   {
    "duration": 372,
    "start_time": "2023-07-11T13:10:46.384Z"
   },
   {
    "duration": 133,
    "start_time": "2023-07-11T13:10:46.758Z"
   },
   {
    "duration": 236,
    "start_time": "2023-07-11T13:10:46.892Z"
   },
   {
    "duration": 19,
    "start_time": "2023-07-11T13:10:47.129Z"
   },
   {
    "duration": 3201,
    "start_time": "2023-07-11T13:10:47.150Z"
   },
   {
    "duration": 45963,
    "start_time": "2023-07-11T13:10:50.353Z"
   },
   {
    "duration": 296,
    "start_time": "2023-07-11T13:11:36.317Z"
   },
   {
    "duration": 127,
    "start_time": "2023-07-11T13:11:36.615Z"
   },
   {
    "duration": 194,
    "start_time": "2023-07-11T13:11:36.743Z"
   },
   {
    "duration": 39,
    "start_time": "2023-07-11T13:11:36.939Z"
   },
   {
    "duration": 31,
    "start_time": "2023-07-11T13:11:36.981Z"
   },
   {
    "duration": 5101,
    "start_time": "2023-07-11T13:11:37.014Z"
   },
   {
    "duration": 4703,
    "start_time": "2023-07-11T13:11:42.117Z"
   },
   {
    "duration": 254,
    "start_time": "2023-07-11T13:11:46.821Z"
   },
   {
    "duration": 131,
    "start_time": "2023-07-11T13:11:47.077Z"
   },
   {
    "duration": 192,
    "start_time": "2023-07-11T13:11:47.210Z"
   },
   {
    "duration": 193,
    "start_time": "2023-07-11T13:11:47.404Z"
   },
   {
    "duration": 3,
    "start_time": "2023-07-11T13:11:47.601Z"
   },
   {
    "duration": 60,
    "start_time": "2023-07-11T13:13:00.275Z"
   },
   {
    "duration": 58,
    "start_time": "2023-07-11T13:13:07.483Z"
   },
   {
    "duration": 251,
    "start_time": "2023-07-11T13:13:12.794Z"
   },
   {
    "duration": 212,
    "start_time": "2023-07-11T13:13:17.120Z"
   },
   {
    "duration": 30,
    "start_time": "2023-07-11T13:13:21.638Z"
   },
   {
    "duration": 24,
    "start_time": "2023-07-11T13:13:23.133Z"
   },
   {
    "duration": 5316,
    "start_time": "2023-07-11T13:15:59.440Z"
   },
   {
    "duration": 5,
    "start_time": "2023-07-11T13:16:04.758Z"
   },
   {
    "duration": 46,
    "start_time": "2023-07-11T13:16:04.765Z"
   },
   {
    "duration": 14,
    "start_time": "2023-07-11T13:16:04.813Z"
   },
   {
    "duration": 11,
    "start_time": "2023-07-11T13:16:04.829Z"
   },
   {
    "duration": 14,
    "start_time": "2023-07-11T13:16:04.842Z"
   },
   {
    "duration": 15,
    "start_time": "2023-07-11T13:16:04.858Z"
   },
   {
    "duration": 143,
    "start_time": "2023-07-11T13:16:04.877Z"
   },
   {
    "duration": 18,
    "start_time": "2023-07-11T13:16:05.022Z"
   },
   {
    "duration": 34,
    "start_time": "2023-07-11T13:16:05.043Z"
   },
   {
    "duration": 22,
    "start_time": "2023-07-11T13:16:05.079Z"
   },
   {
    "duration": 1630,
    "start_time": "2023-07-11T13:16:05.103Z"
   },
   {
    "duration": 23,
    "start_time": "2023-07-11T13:16:06.735Z"
   },
   {
    "duration": 18,
    "start_time": "2023-07-11T13:16:06.759Z"
   },
   {
    "duration": 9,
    "start_time": "2023-07-11T13:16:06.779Z"
   },
   {
    "duration": 21,
    "start_time": "2023-07-11T13:16:08.801Z"
   },
   {
    "duration": 8,
    "start_time": "2023-07-11T13:16:20.633Z"
   },
   {
    "duration": 7,
    "start_time": "2023-07-11T13:16:21.802Z"
   },
   {
    "duration": 9,
    "start_time": "2023-07-11T13:16:22.694Z"
   },
   {
    "duration": 12,
    "start_time": "2023-07-11T13:16:26.412Z"
   },
   {
    "duration": 9,
    "start_time": "2023-07-11T13:19:58.015Z"
   },
   {
    "duration": 4,
    "start_time": "2023-07-11T13:20:32.504Z"
   },
   {
    "duration": 10,
    "start_time": "2023-07-11T13:21:34.181Z"
   },
   {
    "duration": 28,
    "start_time": "2023-07-11T13:21:45.627Z"
   },
   {
    "duration": 13,
    "start_time": "2023-07-11T13:21:48.597Z"
   },
   {
    "duration": 27,
    "start_time": "2023-07-11T13:21:53.130Z"
   },
   {
    "duration": 2960,
    "start_time": "2023-07-11T13:21:55.387Z"
   },
   {
    "duration": 6,
    "start_time": "2023-07-11T13:22:01.657Z"
   },
   {
    "duration": 502,
    "start_time": "2023-07-11T13:22:03.719Z"
   },
   {
    "duration": 146,
    "start_time": "2023-07-11T13:22:07.309Z"
   },
   {
    "duration": 132949,
    "start_time": "2023-07-11T13:22:14.478Z"
   },
   {
    "duration": 3,
    "start_time": "2023-07-11T13:24:31.351Z"
   },
   {
    "duration": 188,
    "start_time": "2023-07-11T13:24:35.962Z"
   },
   {
    "duration": 25,
    "start_time": "2023-07-11T13:24:45.283Z"
   },
   {
    "duration": 3162,
    "start_time": "2023-07-11T13:24:46.921Z"
   },
   {
    "duration": 176,
    "start_time": "2023-07-11T13:25:02.252Z"
   },
   {
    "duration": 367,
    "start_time": "2023-07-11T13:25:04.604Z"
   },
   {
    "duration": 129,
    "start_time": "2023-07-11T13:25:06.931Z"
   },
   {
    "duration": 278,
    "start_time": "2023-07-11T13:25:09.310Z"
   },
   {
    "duration": 53,
    "start_time": "2023-07-11T13:25:14.183Z"
   },
   {
    "duration": 32,
    "start_time": "2023-07-11T13:25:16.442Z"
   },
   {
    "duration": 5493,
    "start_time": "2023-07-11T13:25:17.931Z"
   },
   {
    "duration": 139,
    "start_time": "2023-07-11T13:25:26.833Z"
   },
   {
    "duration": 334,
    "start_time": "2023-07-11T13:25:28.651Z"
   },
   {
    "duration": 150,
    "start_time": "2023-07-11T13:25:30.784Z"
   },
   {
    "duration": 182,
    "start_time": "2023-07-11T13:25:32.891Z"
   },
   {
    "duration": 183,
    "start_time": "2023-07-11T13:25:37.862Z"
   },
   {
    "duration": 156,
    "start_time": "2023-07-11T13:25:53.084Z"
   },
   {
    "duration": 160,
    "start_time": "2023-07-11T13:26:05.306Z"
   },
   {
    "duration": 191009,
    "start_time": "2023-07-11T13:26:55.752Z"
   },
   {
    "duration": 413,
    "start_time": "2023-07-11T13:30:12.759Z"
   },
   {
    "duration": 416,
    "start_time": "2023-07-11T13:30:28.631Z"
   },
   {
    "duration": 4750,
    "start_time": "2023-07-11T13:32:05.604Z"
   },
   {
    "duration": 6,
    "start_time": "2023-07-11T13:32:10.357Z"
   },
   {
    "duration": 50,
    "start_time": "2023-07-11T13:32:10.365Z"
   },
   {
    "duration": 15,
    "start_time": "2023-07-11T13:32:10.417Z"
   },
   {
    "duration": 11,
    "start_time": "2023-07-11T13:32:10.434Z"
   },
   {
    "duration": 15,
    "start_time": "2023-07-11T13:32:10.447Z"
   },
   {
    "duration": 10,
    "start_time": "2023-07-11T13:32:10.464Z"
   },
   {
    "duration": 149,
    "start_time": "2023-07-11T13:32:10.476Z"
   },
   {
    "duration": 20,
    "start_time": "2023-07-11T13:32:10.626Z"
   },
   {
    "duration": 27,
    "start_time": "2023-07-11T13:32:10.648Z"
   },
   {
    "duration": 20,
    "start_time": "2023-07-11T13:32:10.677Z"
   },
   {
    "duration": 1551,
    "start_time": "2023-07-11T13:32:10.699Z"
   },
   {
    "duration": 35,
    "start_time": "2023-07-11T13:32:12.252Z"
   },
   {
    "duration": 4,
    "start_time": "2023-07-11T13:32:12.289Z"
   },
   {
    "duration": 8,
    "start_time": "2023-07-11T13:32:12.295Z"
   },
   {
    "duration": 17,
    "start_time": "2023-07-11T13:32:12.305Z"
   },
   {
    "duration": 9,
    "start_time": "2023-07-11T13:32:12.324Z"
   },
   {
    "duration": 8,
    "start_time": "2023-07-11T13:32:12.335Z"
   },
   {
    "duration": 12,
    "start_time": "2023-07-11T13:32:12.369Z"
   },
   {
    "duration": 13,
    "start_time": "2023-07-11T13:32:12.383Z"
   },
   {
    "duration": 2,
    "start_time": "2023-07-11T13:32:12.398Z"
   },
   {
    "duration": 12,
    "start_time": "2023-07-11T13:32:12.402Z"
   },
   {
    "duration": 4,
    "start_time": "2023-07-11T13:32:12.416Z"
   },
   {
    "duration": 10,
    "start_time": "2023-07-11T13:32:12.423Z"
   },
   {
    "duration": 12,
    "start_time": "2023-07-11T13:32:12.434Z"
   },
   {
    "duration": 22,
    "start_time": "2023-07-11T13:32:12.448Z"
   },
   {
    "duration": 13,
    "start_time": "2023-07-11T13:32:12.473Z"
   },
   {
    "duration": 28,
    "start_time": "2023-07-11T13:32:12.491Z"
   },
   {
    "duration": 13,
    "start_time": "2023-07-11T13:32:12.521Z"
   },
   {
    "duration": 58,
    "start_time": "2023-07-11T13:32:12.536Z"
   },
   {
    "duration": 3135,
    "start_time": "2023-07-11T13:32:12.597Z"
   },
   {
    "duration": 719577,
    "start_time": "2023-07-11T13:32:15.736Z"
   },
   {
    "duration": 4,
    "start_time": "2023-07-11T13:44:15.315Z"
   },
   {
    "duration": 29,
    "start_time": "2023-07-11T13:44:15.320Z"
   },
   {
    "duration": 425,
    "start_time": "2023-07-11T13:44:15.351Z"
   },
   {
    "duration": 258,
    "start_time": "2023-07-11T13:44:15.779Z"
   },
   {
    "duration": 470,
    "start_time": "2023-07-11T13:44:16.039Z"
   },
   {
    "duration": 18,
    "start_time": "2023-07-11T13:44:16.510Z"
   },
   {
    "duration": 3179,
    "start_time": "2023-07-11T13:44:16.529Z"
   },
   {
    "duration": 803092,
    "start_time": "2023-07-11T13:44:19.710Z"
   },
   {
    "duration": 307,
    "start_time": "2023-07-11T13:57:42.806Z"
   },
   {
    "duration": 135,
    "start_time": "2023-07-11T13:57:43.115Z"
   },
   {
    "duration": 431,
    "start_time": "2023-07-11T13:57:43.252Z"
   },
   {
    "duration": 38,
    "start_time": "2023-07-11T13:57:43.690Z"
   },
   {
    "duration": 23,
    "start_time": "2023-07-11T13:57:43.730Z"
   },
   {
    "duration": 5654,
    "start_time": "2023-07-11T13:57:43.754Z"
   },
   {
    "duration": 1296905,
    "start_time": "2023-07-11T13:57:49.409Z"
   },
   {
    "duration": 367,
    "start_time": "2023-07-11T14:19:26.316Z"
   },
   {
    "duration": 142,
    "start_time": "2023-07-11T14:19:26.685Z"
   },
   {
    "duration": 459,
    "start_time": "2023-07-11T14:19:26.829Z"
   },
   {
    "duration": 461,
    "start_time": "2023-07-11T14:19:27.291Z"
   },
   {
    "duration": 533,
    "start_time": "2023-07-11T14:19:35.524Z"
   },
   {
    "duration": 492,
    "start_time": "2023-07-11T14:19:41.133Z"
   },
   {
    "duration": 612,
    "start_time": "2023-07-11T14:20:12.004Z"
   },
   {
    "duration": 515,
    "start_time": "2023-07-11T14:20:19.236Z"
   },
   {
    "duration": 444,
    "start_time": "2023-07-11T14:20:50.946Z"
   },
   {
    "duration": 441,
    "start_time": "2023-07-11T14:21:14.496Z"
   },
   {
    "duration": 4,
    "start_time": "2023-07-11T14:21:29.658Z"
   },
   {
    "duration": 4441,
    "start_time": "2023-07-11T15:20:51.586Z"
   },
   {
    "duration": 6,
    "start_time": "2023-07-11T15:20:56.029Z"
   },
   {
    "duration": 59,
    "start_time": "2023-07-11T15:20:56.036Z"
   },
   {
    "duration": 13,
    "start_time": "2023-07-11T15:20:56.098Z"
   },
   {
    "duration": 11,
    "start_time": "2023-07-11T15:20:56.112Z"
   },
   {
    "duration": 16,
    "start_time": "2023-07-11T15:20:56.124Z"
   },
   {
    "duration": 8,
    "start_time": "2023-07-11T15:20:56.141Z"
   },
   {
    "duration": 127,
    "start_time": "2023-07-11T15:20:56.167Z"
   },
   {
    "duration": 19,
    "start_time": "2023-07-11T15:20:56.295Z"
   },
   {
    "duration": 9,
    "start_time": "2023-07-11T15:20:56.317Z"
   },
   {
    "duration": 13,
    "start_time": "2023-07-11T15:20:56.327Z"
   },
   {
    "duration": 1351,
    "start_time": "2023-07-11T15:20:56.342Z"
   },
   {
    "duration": 21,
    "start_time": "2023-07-11T15:20:57.694Z"
   },
   {
    "duration": 32,
    "start_time": "2023-07-11T15:20:57.716Z"
   },
   {
    "duration": 52,
    "start_time": "2023-07-11T15:20:57.749Z"
   },
   {
    "duration": 46,
    "start_time": "2023-07-11T15:20:57.802Z"
   },
   {
    "duration": 17,
    "start_time": "2023-07-11T15:20:57.850Z"
   },
   {
    "duration": 10,
    "start_time": "2023-07-11T15:20:57.877Z"
   },
   {
    "duration": 11,
    "start_time": "2023-07-11T15:20:57.888Z"
   },
   {
    "duration": 9,
    "start_time": "2023-07-11T15:21:01.523Z"
   },
   {
    "duration": 2,
    "start_time": "2023-07-11T15:21:07.898Z"
   },
   {
    "duration": 3,
    "start_time": "2023-07-11T15:21:18.884Z"
   },
   {
    "duration": 8,
    "start_time": "2023-07-11T15:21:27.314Z"
   },
   {
    "duration": 34,
    "start_time": "2023-07-11T15:21:29.063Z"
   },
   {
    "duration": 14,
    "start_time": "2023-07-11T15:21:33.592Z"
   },
   {
    "duration": 4409,
    "start_time": "2023-07-11T15:21:39.718Z"
   },
   {
    "duration": 5,
    "start_time": "2023-07-11T15:21:44.131Z"
   },
   {
    "duration": 51,
    "start_time": "2023-07-11T15:21:44.139Z"
   },
   {
    "duration": 20,
    "start_time": "2023-07-11T15:21:44.193Z"
   },
   {
    "duration": 14,
    "start_time": "2023-07-11T15:21:44.215Z"
   },
   {
    "duration": 37,
    "start_time": "2023-07-11T15:21:44.231Z"
   },
   {
    "duration": 16,
    "start_time": "2023-07-11T15:21:44.270Z"
   },
   {
    "duration": 260,
    "start_time": "2023-07-11T15:21:44.292Z"
   },
   {
    "duration": 32,
    "start_time": "2023-07-11T15:21:44.554Z"
   },
   {
    "duration": 25,
    "start_time": "2023-07-11T15:21:44.589Z"
   },
   {
    "duration": 15,
    "start_time": "2023-07-11T15:21:44.616Z"
   },
   {
    "duration": 1326,
    "start_time": "2023-07-11T15:21:44.632Z"
   },
   {
    "duration": 33,
    "start_time": "2023-07-11T15:21:45.960Z"
   },
   {
    "duration": 4,
    "start_time": "2023-07-11T15:21:45.995Z"
   },
   {
    "duration": 23,
    "start_time": "2023-07-11T15:21:46.000Z"
   },
   {
    "duration": 21,
    "start_time": "2023-07-11T15:21:46.025Z"
   },
   {
    "duration": 33,
    "start_time": "2023-07-11T15:21:46.048Z"
   },
   {
    "duration": 8,
    "start_time": "2023-07-11T15:21:46.082Z"
   },
   {
    "duration": 17,
    "start_time": "2023-07-11T15:21:46.091Z"
   },
   {
    "duration": 8,
    "start_time": "2023-07-11T15:21:46.109Z"
   },
   {
    "duration": 3,
    "start_time": "2023-07-11T15:21:46.119Z"
   },
   {
    "duration": 7,
    "start_time": "2023-07-11T15:21:46.123Z"
   },
   {
    "duration": 4,
    "start_time": "2023-07-11T15:21:46.132Z"
   },
   {
    "duration": 14,
    "start_time": "2023-07-11T15:21:46.137Z"
   },
   {
    "duration": 3,
    "start_time": "2023-07-11T15:21:46.153Z"
   },
   {
    "duration": 19,
    "start_time": "2023-07-11T15:21:46.168Z"
   },
   {
    "duration": 18,
    "start_time": "2023-07-11T15:22:06.304Z"
   },
   {
    "duration": 34,
    "start_time": "2023-07-11T15:22:11.601Z"
   },
   {
    "duration": 2986,
    "start_time": "2023-07-11T15:22:17.554Z"
   },
   {
    "duration": 671663,
    "start_time": "2023-07-11T15:23:34.727Z"
   },
   {
    "duration": 5,
    "start_time": "2023-07-11T15:34:46.392Z"
   },
   {
    "duration": 5,
    "start_time": "2023-07-11T15:35:00.128Z"
   },
   {
    "duration": 454,
    "start_time": "2023-07-11T15:35:02.948Z"
   },
   {
    "duration": 126,
    "start_time": "2023-07-11T15:35:09.636Z"
   },
   {
    "duration": 421,
    "start_time": "2023-07-11T15:35:12.405Z"
   },
   {
    "duration": 74,
    "start_time": "2023-07-11T15:37:18.711Z"
   },
   {
    "duration": 3503,
    "start_time": "2023-07-11T15:37:23.696Z"
   },
   {
    "duration": 3522,
    "start_time": "2023-07-11T15:38:01.320Z"
   },
   {
    "duration": 3451,
    "start_time": "2023-07-11T15:38:29.989Z"
   },
   {
    "duration": 690623,
    "start_time": "2023-07-11T15:38:59.032Z"
   },
   {
    "duration": 406,
    "start_time": "2023-07-11T15:55:39.284Z"
   },
   {
    "duration": 134,
    "start_time": "2023-07-11T15:55:42.188Z"
   },
   {
    "duration": 396,
    "start_time": "2023-07-11T15:55:45.057Z"
   },
   {
    "duration": 24,
    "start_time": "2023-07-11T15:56:58.599Z"
   },
   {
    "duration": 11,
    "start_time": "2023-07-11T15:57:00.639Z"
   },
   {
    "duration": 39,
    "start_time": "2023-07-11T15:58:34.700Z"
   },
   {
    "duration": 5152,
    "start_time": "2023-07-11T15:59:10.931Z"
   },
   {
    "duration": 1111438,
    "start_time": "2023-07-11T15:59:21.842Z"
   },
   {
    "duration": 23,
    "start_time": "2023-07-11T16:19:22.698Z"
   },
   {
    "duration": 1811,
    "start_time": "2023-07-11T16:19:25.799Z"
   },
   {
    "duration": 408392,
    "start_time": "2023-07-11T16:19:35.284Z"
   },
   {
    "duration": 398,
    "start_time": "2023-07-11T16:37:30.592Z"
   },
   {
    "duration": 262,
    "start_time": "2023-07-11T16:37:31.133Z"
   },
   {
    "duration": 243,
    "start_time": "2023-07-11T16:37:35.942Z"
   },
   {
    "duration": 137,
    "start_time": "2023-07-11T16:37:37.251Z"
   },
   {
    "duration": 303,
    "start_time": "2023-07-11T16:37:46.602Z"
   },
   {
    "duration": 414,
    "start_time": "2023-07-11T16:38:17.332Z"
   },
   {
    "duration": 365,
    "start_time": "2023-07-11T16:48:10.344Z"
   }
  ],
  "kernelspec": {
   "display_name": "Python 3 (ipykernel)",
   "language": "python",
   "name": "python3"
  },
  "language_info": {
   "codemirror_mode": {
    "name": "ipython",
    "version": 3
   },
   "file_extension": ".py",
   "mimetype": "text/x-python",
   "name": "python",
   "nbconvert_exporter": "python",
   "pygments_lexer": "ipython3",
   "version": "3.9.5"
  },
  "toc": {
   "base_numbering": 1,
   "nav_menu": {},
   "number_sections": true,
   "sideBar": true,
   "skip_h1_title": true,
   "title_cell": "Содержание",
   "title_sidebar": "Contents",
   "toc_cell": true,
   "toc_position": {},
   "toc_section_display": true,
   "toc_window_display": false
  }
 },
 "nbformat": 4,
 "nbformat_minor": 2
}
